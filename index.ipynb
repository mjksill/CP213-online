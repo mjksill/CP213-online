{
 "cells": [
  {
   "cell_type": "markdown",
   "metadata": {},
   "source": [
    "# Welcome to CP213: Applied Mathematics and Problem Solving\n",
    "\n",
    "This is the repository for on-line Jupyter notebooks for CP213.\n",
    "\n",
    "\n",
    "- [symbolic algebra and calculus](./symbolicalgebra.ipynb)\n",
    "- [plotting](./plotting.ipynb)\n",
    "- [solving algebraic equations](./solver.ipynb)\n",
    "- [solving ordinary differential equations](./odeint.ipynb)\n",
    "- introduction to linear algebra\n",
    "- complex numbers\n"
   ]
  }
 ],
 "metadata": {
  "kernelspec": {
   "display_name": "Python 3",
   "language": "python",
   "name": "python3"
  },
  "language_info": {
   "codemirror_mode": {
    "name": "ipython",
    "version": 3
   },
   "file_extension": ".py",
   "mimetype": "text/x-python",
   "name": "python",
   "nbconvert_exporter": "python",
   "pygments_lexer": "ipython3",
   "version": "3.7.8"
  }
 },
 "nbformat": 4,
 "nbformat_minor": 2
}
