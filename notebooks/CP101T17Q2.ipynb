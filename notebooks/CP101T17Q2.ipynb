{
 "cells": [
  {
   "cell_type": "markdown",
   "metadata": {},
   "source": [
    "# CP101: Tutorial 17 Q2\n",
    "\n",
    "\n",
    "Formaldehyde (CH$_2$O) is produced by the catalytic oxidation of\n",
    "methanol (CH$_3$OH) using an excess of air.  Water is also produced in\n",
    "the reaction.  Under certain conditions, a secondary reaction occurs\n",
    "in which some formaldehyde is further oxidised to formic acid\n",
    "(HCOOH). In a test run on a pilot plant, the product gases are found\n",
    "to have the following composition by volume:\n",
    "\n",
    "\n",
    "| CH$_3$ OH | CH$_2$ O | HCOOH | H$_2$ O | O$_2$ | N$_2$ |\n",
    "| ---: | ---: | ---: | ---: | ---: | ---: |\n",
    "|      9.9% |     9.9% |  4.9% |   14.8% |  4.9% | 55.6% |\n",
    "\n",
    "\n",
    "Calculate: \n",
    "  (a) The molar ratio of feed air to feed methanol.\n",
    "  (b) The percentage of formaldehyde lost in the secondary reaction.\n"
   ]
  },
  {
   "cell_type": "markdown",
   "metadata": {},
   "source": [
    "## Atom balances\n",
    "\n",
    "To begin solving the problem, we draw a process flow diagram for the furnace, labeling each of the streams and giving their overall flow rates and compositions.\n",
    "\n",
    "![control volume](./CP101T17Q2.png)\n",
    "\n",
    "We take $A$ to be the molar flow rate of methanol, $B$ to be the flow rate of air supplied, and $C$ to be molar flow rate of the product gas.  In the calculations, we take a basis where the total product gas flow rate is $100\\,{\\rm mol\\,h^{-1}}$.  We take the convention that a positive flow implies that material is entering the system, while a negative flow implies that material is exiting the system; therefore, we have $C=-100\\,{\\rm mol\\,h^{-1}}$.  \n"
   ]
  },
  {
   "cell_type": "markdown",
   "metadata": {},
   "source": [
    "In principle we can write the equations for the four atom balances, however, we note that two of the balances are redundant, since we have four equations and only two unknowns $A$ and $B$.\n",
    "\n",
    "Nitrogen balance:\n",
    "\\begin{align*}\n",
    "0.79 B + 2(0.556) C &= 0\n",
    "\\end{align*}\n",
    "\n",
    "Carbon balance:\n",
    "\\begin{align*}\n",
    "A + 0.099C + 0.099C + 0.049C &= 0\n",
    "\\end{align*}\n",
    "\n",
    "Oxygen balance:\n",
    "\\begin{align*}\n",
    "A + 2(0.21B) + 0.099C + 0.099C + 2(0.049)C + 0.148C + 2(0.049)C &= 0\n",
    "\\end{align*}\n",
    "\n",
    "Hydrogen balance:\n",
    "\\begin{align*}\n",
    "4A - 4(0.099C) + 2(0.099C) + 2(0.049C) + 2(0.148)C &= 0\n",
    "\\end{align*}"
   ]
  },
  {
   "cell_type": "code",
   "execution_count": 7,
   "metadata": {},
   "outputs": [
    {
     "name": "stdout",
     "output_type": "stream",
     "text": [
      "N balance:\n",
      "0.0\n",
      "N2 N 2\n",
      "0.0\n",
      "N2 N 2\n",
      "-170.0\n",
      "C balance:\n",
      "CH3OH C 1\n",
      "0.0\n",
      "0.0\n",
      "CH3OH C 1\n",
      "CH2O C 1\n",
      "-19.8\n"
     ]
    }
   ],
   "source": [
    "data = {}\n",
    "data['CH3OH'] = {'C':1, 'H':4, 'O':1}\n",
    "data['CH2O'] = {'C':1, 'H':2, 'O':1}\n",
    "data['HCOOH'] = {'C':1, 'H':2, 'O':2}                \n",
    "data['CH4'] = {'C':1, 'H':4}\n",
    "data['N2'] = {'N':2}\n",
    "data['C2H6'] = {'C':2, 'H':6}\n",
    "data['CO2'] = {'C':1, 'O':2}\n",
    "data['CO'] = {'C':1, 'O':1}\n",
    "data['O2'] = {'O':2}\n",
    "data['H2O'] = {'H':2, 'O':1}\n",
    "\n",
    "\n",
    "streamA = {}\n",
    "streamA['dotN'] = 0.0\n",
    "streamA['species'] = {'CH3OH':1.0}\n",
    "\n",
    "streamB = {}\n",
    "streamB['dotN'] = 0.0\n",
    "streamB['species'] = {'N2':0.79, 'O2':0.21}\n",
    "\n",
    "\n",
    "streamC = {}\n",
    "streamC['dotN'] = -100.0\n",
    "streamC['species'] = {'CH3OH':0.099, \n",
    "                      'CH2O':0.099, 'H2O':0.148, \n",
    "                      'O2':0.07,'N2':0.85}\n",
    "\n",
    "stream_list = [streamA, streamB, streamC]\n",
    "\n",
    "\n",
    "A = 0.0\n",
    "B = 0.0\n",
    "\n",
    "streamA['dotN'] = A\n",
    "streamB['dotN'] = B\n",
    "\n",
    "res = []\n",
    "for atom in ['N', 'C']:\n",
    "    accumulation = 0.0\n",
    "    print(atom + ' balance:')\n",
    "    for stream in stream_list:\n",
    "        flowrate = stream['dotN']\n",
    "        for molecule, x in stream['species'].items():\n",
    "            if (atom in data[molecule]):\n",
    "                natoms = data[molecule][atom]\n",
    "                print(molecule, atom, natoms)\n",
    "                accumulation += natoms*x*flowrate\n",
    "        print(accumulation)\n",
    "        res.append(accumulation)\n",
    "\n"
   ]
  },
  {
   "cell_type": "markdown",
   "metadata": {},
   "source": [
    "## Python code\n",
    "\n",
    "The element balances given above provide four equations which can be solved to determine the four unknowns: $A$, $B$, $C$, and $F_{\\rm H_2O}$.  However, performing the algebra by hand is rather tedious.  Instead, we can use Python to solve these equations.\n"
   ]
  },
  {
   "cell_type": "code",
   "execution_count": 8,
   "metadata": {},
   "outputs": [
    {
     "name": "stdout",
     "output_type": "stream",
     "text": [
      "[ 19.8        107.59493671]\n"
     ]
    }
   ],
   "source": [
    "from scipy.optimize import fsolve\n",
    "\n",
    "\n",
    "def acc(x):\n",
    "\n",
    "    A, B = x\n",
    "    \n",
    "    streamA['dotN'] = A\n",
    "    streamB['dotN'] = B\n",
    "\n",
    "    res = []\n",
    "    for atom in ['N', 'C']:\n",
    "        accumulation = 0.0\n",
    "        for stream in stream_list:\n",
    "            flowrate = stream['dotN']\n",
    "            for molecule, x in stream['species'].items():\n",
    "                if (atom in data[molecule]):\n",
    "                    natoms = data[molecule][atom]\n",
    "                    accumulation += natoms*x*flowrate\n",
    "        res.append(accumulation)\n",
    "    \n",
    "    return res\n",
    "\n",
    "\n",
    "\n",
    "# make initial guess\n",
    "A = 100.0\n",
    "B = 0.0\n",
    "x0 = [A, B]\n",
    "\n",
    "# solve the equations\n",
    "solution = fsolve(acc, x0)\n",
    "\n",
    "print(solution)\n"
   ]
  },
  {
   "cell_type": "code",
   "execution_count": null,
   "metadata": {},
   "outputs": [],
   "source": []
  }
 ],
 "metadata": {
  "kernelspec": {
   "display_name": "Python 3",
   "language": "python",
   "name": "python3"
  },
  "language_info": {
   "codemirror_mode": {
    "name": "ipython",
    "version": 3
   },
   "file_extension": ".py",
   "mimetype": "text/x-python",
   "name": "python",
   "nbconvert_exporter": "python",
   "pygments_lexer": "ipython3",
   "version": "3.8.5"
  }
 },
 "nbformat": 4,
 "nbformat_minor": 4
}
