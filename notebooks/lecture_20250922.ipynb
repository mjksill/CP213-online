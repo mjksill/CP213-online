{
  "cells": [
    {
      "cell_type": "markdown",
      "metadata": {
        "id": "fZetmBRi3uR7"
      },
      "source": [
        "# Examples of using Python\n",
        "\n",
        "## Introduction\n",
        "\n",
        "In this lecture, we will look at how Python can help us in performing calculating in a way that makes it easier to actually do the work, allow us to document it so we can understand and possibly reuse it at a later date, and simplify its application to other problems."
      ]
    },
    {
      "cell_type": "markdown",
      "source": [
        "To provide a concrete example, we consider a system that undergoes the following combustion reaction:\n",
        "\n",
        "$$\n",
        "{\\rm CH}_4 + 2 {\\rm O}_2 \\rightleftharpoons {\\rm CO}_2 + 2{\\rm H_2O}\n",
        "$$\n",
        "\n",
        "We assume that an inlet stream that contains 1 mol of methane and 2 mol of oxygen enter the system at $25^\\circ$C, and an outlet stream that contains 1 mol of carbon dioxide and 2 mol of water exit the system at $25^\\circ$C.  We want to know the total amount of heat $Q$ that is released.\n",
        "\n",
        "From the energy balance, we know that the heat released from the system is given by\n",
        "$$\n",
        "Q\n",
        "=\n",
        "N_{CH4}^{\\rm in} H_{CH4}\n",
        "+ N_{O2}^{\\rm in} H_{O2}\n",
        "- N_{CO2}^{\\rm out} H_{CO2}\n",
        "- N_{H2O}^{\\rm out} H_{H2O}\n",
        "$$\n",
        "where $N_{CH4}^{\\rm in}$ is the moles of methane in the inlet stream, $H_{CH4}$ is the molar enthalpy of methane at $25^\\circ$C, etc.\n",
        "\n",
        "We can get the required thermophysical properties from the NIST webbook for [methane](https://webbook.nist.gov/cgi/cbook.cgi?ID=C74828&Mask=1#Thermo-Gas), [oxygen](https://webbook.nist.gov/cgi/cbook.cgi?ID=C7782447&Mask=1#Thermo-Gas), [carbon dioxide](https://webbook.nist.gov/cgi/cbook.cgi?ID=C124389&Mask=1), and [water](https://webbook.nist.gov/cgi/cbook.cgi?ID=C7732185&Mask=1).  These values are summarized in the table below.\n",
        "\n",
        "\n",
        "|component | $H_f$ / kJ/mol |\n",
        "| --- | --- |\n",
        "| CH4 | $-74.87$ |\n",
        "| O2 | $0$ |\n",
        "| CO2 | $-393.51$ |\n",
        "| H2O | $-241.826$ |\n",
        "\n"
      ],
      "metadata": {
        "id": "uE8aZM6H4gqv"
      }
    },
    {
      "cell_type": "markdown",
      "source": [],
      "metadata": {
        "id": "lYSX3OwjCfS1"
      }
    },
    {
      "cell_type": "markdown",
      "source": [
        "## Python as a calculator\n",
        "\n",
        "First, we use Python as a calculator.  \n",
        "\n"
      ],
      "metadata": {
        "id": "auJcx9Cce3VH"
      }
    },
    {
      "cell_type": "code",
      "execution_count": null,
      "metadata": {
        "id": "8jiVslVJ3uR7"
      },
      "outputs": [],
      "source": [
        "1*(-74.87) + 2*(0) - 1*(-393.51) - 2*(-241.826)"
      ]
    },
    {
      "cell_type": "markdown",
      "source": [],
      "metadata": {
        "id": "3KFHE6xXCYQR"
      }
    },
    {
      "cell_type": "markdown",
      "source": [
        "## Using Python with variables\n",
        "\n",
        "The previous method is perfectly acceptible, but it is difficult to understand exactly what is going on from a physical perspective from only the numbers in the expression.  If we use variable with meaningful names, then this will make the various expressions we write more comprehensible."
      ],
      "metadata": {
        "id": "PG8qQfF7f5dy"
      }
    },
    {
      "cell_type": "code",
      "source": [
        "Nin_CH4 = 1\n",
        "Nin_O2 = 2\n",
        "Nout_CO2 = 1\n",
        "Nout_H2O = 2\n",
        "\n",
        "H_CH4 = -74.87\n",
        "H_O2 = 0\n",
        "H_CO2 = -393.51\n",
        "H_H2O = -241.826\n",
        "\n",
        "Q = Nin_CH4*H_CH4 + Nin_O2*H_O2 - Nout_CO2*H_CO2 - Nout_H2O*H_H2O\n",
        "print(Q)"
      ],
      "metadata": {
        "id": "db2wyXFq3_-M"
      },
      "execution_count": null,
      "outputs": []
    },
    {
      "cell_type": "markdown",
      "source": [],
      "metadata": {
        "id": "EpIWjyX5FYNm"
      }
    },
    {
      "cell_type": "markdown",
      "source": [
        "We can slightly generalize the problem by including the possibility of carbon dioxide or water in the inlet stream and the possibility of methane or water in the outlet stream."
      ],
      "metadata": {
        "id": "kRzhKuYybCs0"
      }
    },
    {
      "cell_type": "code",
      "source": [
        "Nin_CH4 = 1\n",
        "Nin_O2 = 2\n",
        "Nin_CO2 = 0\n",
        "Nin_H2O = 0\n",
        "\n",
        "Nout_CH4 = 0\n",
        "Nout_O2 = 0\n",
        "Nout_CO2 = 1\n",
        "Nout_H2O = 2\n",
        "\n",
        "H_CH4 = -74.87\n",
        "H_O2 = 0\n",
        "H_CO2 = -393.51\n",
        "H_H2O = -241.826\n",
        "\n",
        "Hin = Nin_CH4*H_CH4 + Nin_O2*H_O2 + Nin_CO2*H_CO2 + Nin_H2O*H_H2O\n",
        "Hout = Nout_CH4*H_CH4 + Nout_O2*H_O2 + Nout_CO2*H_CO2 + Nout_H2O*H_H2O\n",
        "Q = Hin - Hout\n",
        "print(Q)"
      ],
      "metadata": {
        "id": "FWzbDM5M7wp0"
      },
      "execution_count": null,
      "outputs": []
    },
    {
      "cell_type": "markdown",
      "source": [
        "Note that we can use essentially the same code to perform calculations with other species.  For example, let's replace methane with ethane.  In this case, the chemical reaction is\n",
        "$$\n",
        "{\\rm C_2H_6} + \\frac{7}{2} {\\rm O}_2\n",
        "\\rightleftharpoons\n",
        "2{\\rm CO_2} + 3{\\rm H_2O}\n",
        "$$\n",
        "\n",
        "The enthalpy of formation of ethane can be obtained from the [NIST Chemistry WebBook](https://webbook.nist.gov/cgi/cbook.cgi?ID=C74840&Mask=1)."
      ],
      "metadata": {
        "id": "E7-WswsY9NgF"
      }
    },
    {
      "cell_type": "code",
      "source": [
        "Nin_C2H6 = 1\n",
        "Nin_O2 = 7/2\n",
        "Nin_CO2 = 0\n",
        "Nin_H2O = 0\n",
        "\n",
        "Nout_C2H6 = 0\n",
        "Nout_O2 = 0\n",
        "Nout_CO2 = 2\n",
        "Nout_H2O = 3\n",
        "\n",
        "H_C2H6 = -84\n",
        "H_O2 = 0\n",
        "H_CO2 = -393.51\n",
        "H_H2O = -241.826\n",
        "\n",
        "Hin = Nin_C2H6*H_C2H6 + Nin_O2*H_O2 + Nin_CO2*H_CO2 + Nin_H2O*H_H2O\n",
        "Hout = Nout_C2H6*H_C2H6 + Nout_O2*H_O2 + Nout_CO2*H_CO2 + Nout_H2O*H_H2O\n",
        "Q = Hin - Hout\n",
        "print(Q)"
      ],
      "metadata": {
        "id": "M_ZONP5d83g6"
      },
      "execution_count": null,
      "outputs": []
    },
    {
      "cell_type": "markdown",
      "source": [
        "## Using lists\n",
        "\n",
        "Using well named variables increased the readability of the calculations and makes them flexible enough to be modified with relative ease; however, the expressions are fairly tedious to type and extend.  By using lists, we can simplify the calculations and make them easier to extend.\n",
        "\n",
        "We create a list for the number of moles of each species in the inlet stream `Nin`, the number of moles of each species in the outlet stream `Nout`, and the enthalpy of formation of each species in the system `H`.\n",
        "In each of the lists, we index each component as in the table below.\n",
        "\n",
        "|index | component |\n",
        "| --- | --- |\n",
        "| 0 | CH4 |\n",
        "| 1 | O2 |\n",
        "| 2 | CO2 |\n",
        "|3 | H2O |\n",
        "\n"
      ],
      "metadata": {
        "id": "5mpEfs3A6g7o"
      }
    },
    {
      "cell_type": "code",
      "source": [
        "Nin = []\n",
        "Nin.append(1)\n",
        "Nin.append(2)\n",
        "Nin.append(0)\n",
        "Nin.append(0)\n",
        "\n",
        "Nout = [0, 0, 1, 2]\n",
        "\n",
        "H = [-74.87, 0, -393.51, -241.826]\n"
      ],
      "metadata": {
        "id": "uieJbtt94hji"
      },
      "execution_count": null,
      "outputs": []
    },
    {
      "cell_type": "markdown",
      "source": [
        "By using lists, we can the `for` loop construction to easily sum over each of the species in both streams to calculate their enthalpies."
      ],
      "metadata": {
        "id": "UP_-SqQsHshf"
      }
    },
    {
      "cell_type": "code",
      "source": [
        "Hin = 0\n",
        "for i in range(4):\n",
        "  Hin = Hin + Nin[i]*H[i]\n",
        "\n",
        "Hout = 0\n",
        "for i in range(4):\n",
        "  Hout = Hout + Nout[i]*H[i]\n",
        "\n",
        "Q = Hin - Hout\n",
        "print(Q)\n",
        "\n",
        "\n"
      ],
      "metadata": {
        "id": "bci9HcDr4xQN"
      },
      "execution_count": null,
      "outputs": []
    },
    {
      "cell_type": "markdown",
      "source": [
        "We can augment this to include a mixture of methane and ethane in the inlet feed.  In this case, we take index 4 to be ethane.\n",
        "\n",
        "Let's consider an inlet stream of that consists of 1 mol of methane, 1 mol of ethane, and a stoichiometric amount of oxygen to fully combust them."
      ],
      "metadata": {
        "id": "vXwAWLIc4_dM"
      }
    },
    {
      "cell_type": "code",
      "source": [
        "Nin = [1, 2+7/2, 0, 0, 1]\n",
        "Nout = [0, 0, 1+2, 2+3, 0]\n",
        "H = [-74.87, 0, -393.51, -241.826, -84.]\n",
        "\n",
        "Hin = 0\n",
        "Hout = 0\n",
        "for i in range(4):\n",
        "  Hin = Hin + Nin[i]*H[i]\n",
        "  Hout = Hout + Nout[i]*H[i]\n",
        "\n",
        "Q = Hin - Hout\n",
        "print(Q)"
      ],
      "metadata": {
        "id": "vDjZNGJK464-"
      },
      "execution_count": null,
      "outputs": []
    },
    {
      "cell_type": "markdown",
      "source": [
        "## Using dictionaries\n",
        "\n",
        "Finally, we look at using dictionaries rather than lists.  This will improve the readability of the code by allowing us to use more meaningful indices, rather than just numbers."
      ],
      "metadata": {
        "id": "gABzsiVxI_Da"
      }
    },
    {
      "cell_type": "code",
      "source": [
        "Nin = {'CH4': 1, 'O2': 7/2, 'CO2': 0, 'H2O': 0}\n",
        "Nout = {'CH4': 0, 'O2': 0, 'CO2': 1, 'H2O': 2}\n",
        "\n",
        "H = {'CH4': -74.87, 'O2': 0, 'CO2': -393.51, 'H2O': -241.826, 'C2H6': -84.0}\n",
        "\n",
        "Htotal_in = 0.0\n",
        "Htotal_out = 0.0\n",
        "for mol in Nin.keys():\n",
        "  Htotal_in = Htotal_in + Nin[mol]*H[mol]\n",
        "  Htotal_out = Htotal_out + Nout[mol]*H[mol]\n",
        "  print(mol, Htotal_in, Htotal_out)\n",
        "\n",
        "Q = Htotal_in - Htotal_out\n",
        "print(Q)\n"
      ],
      "metadata": {
        "id": "FbPvKYeC9UcH"
      },
      "execution_count": null,
      "outputs": []
    }
  ],
  "metadata": {
    "kernelspec": {
      "display_name": "Python 3",
      "language": "python",
      "name": "python3"
    },
    "language_info": {
      "codemirror_mode": {
        "name": "ipython",
        "version": 3
      },
      "file_extension": ".py",
      "mimetype": "text/x-python",
      "name": "python",
      "nbconvert_exporter": "python",
      "pygments_lexer": "ipython3",
      "version": "3.8.5"
    },
    "colab": {
      "provenance": []
    }
  },
  "nbformat": 4,
  "nbformat_minor": 0
}