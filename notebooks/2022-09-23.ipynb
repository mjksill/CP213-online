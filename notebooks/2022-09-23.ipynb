{
  "nbformat": 4,
  "nbformat_minor": 0,
  "metadata": {
    "colab": {
      "provenance": []
    },
    "kernelspec": {
      "name": "python3",
      "display_name": "Python 3"
    },
    "language_info": {
      "name": "python"
    }
  },
  "cells": [
    {
      "cell_type": "code",
      "execution_count": null,
      "metadata": {
        "id": "yqorsl22hT7R",
        "colab": {
          "base_uri": "https://localhost:8080/"
        },
        "outputId": "385fd050-d73f-48d7-fce7-9b6da806e7b1"
      },
      "outputs": [
        {
          "output_type": "stream",
          "name": "stdout",
          "text": [
            "0.24875000000000017\n"
          ]
        }
      ],
      "source": [
        "import numpy as np\n",
        "\n",
        "a = 0.0\n",
        "b = 1.0\n",
        "N = 10 # number of intervals\n",
        "dx = (b-a) / N\n",
        "\n",
        "x_list = np.arange(a+0.5*dx, b, dx)\n",
        "f_list = [x**3 for x in x_list]\n",
        "I = sum(f_list) * dx\n",
        "print(I)"
      ]
    },
    {
      "cell_type": "code",
      "source": [
        "def midpoint(a, b, N):\n",
        "  dx = (b-a) / N\n",
        "\n",
        "  x_list = np.arange(a+0.5*dx, b, dx)\n",
        "  f_list = [x**3 for x in x_list]\n",
        "  I = sum(f_list) * dx\n",
        "  return I\n",
        "\n",
        "I = midpoint(0.0, 1.0, 100)  \n",
        "print(I)"
      ],
      "metadata": {
        "colab": {
          "base_uri": "https://localhost:8080/"
        },
        "id": "qAAnVHPwCqy4",
        "outputId": "5722e906-7f93-4dcc-dbfc-ba0d3a183d6e"
      },
      "execution_count": null,
      "outputs": [
        {
          "output_type": "stream",
          "name": "stdout",
          "text": [
            "0.24998749999999995\n"
          ]
        }
      ]
    },
    {
      "cell_type": "code",
      "source": [
        "\n",
        "err_list = []\n",
        "N_list = range(1,100)\n",
        "for N in N_list:\n",
        "  I = midpoint(0.0, 1.0, N)\n",
        "  err = I - 0.25\n",
        "  err_list.append(abs( err )*100 )\n",
        "\n",
        "import pylab as plt\n",
        "plt.plot(N_list, err_list)\n",
        "plt.show()\n",
        "  "
      ],
      "metadata": {
        "colab": {
          "base_uri": "https://localhost:8080/",
          "height": 265
        },
        "id": "_jdP4cHtFbZV",
        "outputId": "e40c603d-8373-440c-8d51-e949a8ec2e01"
      },
      "execution_count": null,
      "outputs": [
        {
          "output_type": "display_data",
          "data": {
            "text/plain": [
              "<Figure size 432x288 with 1 Axes>"
            ],
            "image/png": "[encoded data removed]"
          },
          "metadata": {
            "needs_background": "light"
          }
        }
      ]
    },
    {
      "cell_type": "code",
      "source": [
        "def get_Cp(T):\n",
        "  Cp_data = [ 28.98641, 1.853978, -9.647459, 16.63537, 0.000117]\n",
        "  A, B, C, D, E = Cp_data\n",
        "  t = T/1000.0\n",
        "  Cp = A + B*t + C*t**2 + D*t**3 + E/t**2\n",
        "  return Cp\n",
        "\n",
        "def midpoint(a, b, N, f):\n",
        "  dx = (b-a) / N\n",
        "\n",
        "  x_list = np.arange(a+0.5*dx, b, dx)\n",
        "  f_list = [f(x) for x in x_list]\n",
        "  I = sum(f_list) * dx\n",
        "  return I\n",
        "\n",
        "I = midpoint(298.15, 500.0, 100, get_Cp)  \n",
        "print(I)\n"
      ],
      "metadata": {
        "colab": {
          "base_uri": "https://localhost:8080/"
        },
        "id": "N6i6hAsdC9oZ",
        "outputId": "50e3de36-912c-402e-9f6d-feb8c34ffd54"
      },
      "execution_count": null,
      "outputs": [
        {
          "output_type": "stream",
          "name": "stdout",
          "text": [
            "5910.726168677298\n"
          ]
        }
      ]
    },
    {
      "cell_type": "code",
      "source": [
        "a_vec = [1, 2, 3]\n",
        "b_vec = [2, 4, 8]\n",
        "\n",
        "dot = 0.0\n",
        "for a, b in zip(a_vec, b_vec):\n",
        "  dot += a*b\n",
        "print(dot)\n",
        "\n",
        "\n",
        "def get_dot_product(vec1, vec2):\n",
        "  dot = 0.0\n",
        "  for x, y in zip(vec1, vec2):\n",
        "    dot += x*y\n",
        "  return dot\n",
        "\n",
        "ans = get_dot_product(a_vec, b_vec)\n",
        "print(ans)  "
      ],
      "metadata": {
        "colab": {
          "base_uri": "https://localhost:8080/"
        },
        "id": "qoZeIY9GCKyQ",
        "outputId": "955a7f64-44e8-4917-acca-24fe48a5a11a"
      },
      "execution_count": null,
      "outputs": [
        {
          "output_type": "stream",
          "name": "stdout",
          "text": [
            "34.0\n",
            "34.0\n"
          ]
        }
      ]
    }
  ]
}