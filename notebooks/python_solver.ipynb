{
 "cells": [
  {
   "cell_type": "markdown",
   "metadata": {},
   "source": [
    "# Numerically solving algebraic equations in Python\n",
    "\n",
    "In this notebook, we demonstrate how to use Python to solve sets of equations.  Note that these equations can be non-linear, and as a result, there is the possibility that they can can no solutions or multiple solutions."
   ]
  },
  {
   "cell_type": "markdown",
   "metadata": {},
   "source": [
    "Let's try to solve the equation\n",
    "\\begin{align*}\n",
    "x = e^{-x}\n",
    "\\end{align*}\n",
    "The first thing we need to do is to transform this equation into a form $f(x)=0$.\n",
    "\\begin{align*}\n",
    "x - e^{-x} = 0\n",
    "\\end{align*}\n",
    "If we define the function $f(x)=x - e^{-x}$, we see that for a general value of $x$, the function is not equal to zero.  Let's see what this looks like on a plot.\n"
   ]
  },
  {
   "cell_type": "code",
   "execution_count": null,
   "metadata": {},
   "outputs": [],
   "source": [
    "import pylab as plt\n",
    "import numpy as np\n",
    "\n",
    "def f(x):\n",
    "    return x - np.exp(-x)\n",
    "\n",
    "\n",
    "x_data = np.arange(0.0, 2.0, 0.01)\n",
    "y_data= [f(x) for x in x_data]\n",
    "plt.plot(x_data, y_data)\n",
    "\n",
    "plt.xlabel(r'$x$')\n",
    "plt.ylabel(r'$f(x)$')\n",
    "\n",
    "plt.show()"
   ]
  },
  {
   "cell_type": "code",
   "execution_count": null,
   "metadata": {},
   "outputs": [],
   "source": [
    "import numpy as np\n",
    "from scipy.optimize import fsolve\n",
    "\n",
    "def residual(x):\n",
    "    return x - np.exp(-x)\n",
    "\n",
    "x0 = 1.0\n",
    "solution = fsolve(residual, x0)\n",
    "\n",
    "print(solution)"
   ]
  },
  {
   "cell_type": "markdown",
   "metadata": {},
   "source": [
    "Now let's explore the solution of systems of equations.  Consider the following:\n",
    "\\begin{align*}\n",
    "y &= x\n",
    "\\\\\n",
    "x^2 + y^2 &= 1\n",
    "\\end{align*}\n",
    "Graphically, this corresponds to an intersection between a line with a slope of $1$ and a unit circle."
   ]
  },
  {
   "cell_type": "code",
   "execution_count": null,
   "metadata": {},
   "outputs": [],
   "source": [
    "from scipy.optimize import fsolve\n",
    "\n",
    "def residual(x):\n",
    "    \n",
    "    f = []\n",
    "    f.append( x[0] - x[1] )\n",
    "    f.append( x[0]**2 + x[1]**2 - 1.0)\n",
    "    \n",
    "    return f\n",
    "\n",
    "x0 = [1.0, 0.0]\n",
    "solution = fsolve(residual, x0)\n",
    "print(solution)\n"
   ]
  },
  {
   "cell_type": "code",
   "execution_count": null,
   "metadata": {},
   "outputs": [],
   "source": [
    "from pylab import *\n",
    "from numpy import *\n",
    "\n",
    "\n",
    "x_data = arange(-2.0, 2.0, 0.01)\n",
    "y_data = [x for x in x_data]\n",
    "plot(x_data, y_data, color='red')\n",
    "\n",
    "x_data = arange(-1.0, 1.0, 0.001)\n",
    "y_data = [np.sqrt(1.0-x**2) for x in x_data]\n",
    "plot(x_data, y_data, color='green')\n",
    "y_data = [-np.sqrt(1.0-x**2) for x in x_data]\n",
    "plot(x_data, y_data, color='green')\n",
    "\n",
    "ax = gca() #you first need to get the axis handle\n",
    "ax.set_aspect(1) #sets the height to width ratio to 1.5.\n",
    "show()\n",
    "\n",
    "\n"
   ]
  },
  {
   "cell_type": "markdown",
   "metadata": {},
   "source": [
    "## CP101 Example 7.5\n",
    "\n",
    "Consider the gaseous phase reaction:\n",
    "\\begin{align*}\n",
    "{\\rm  N_2 (g) + 3 H_2 (g) \\leftrightarrows 2 NH_3 (g) }\n",
    "\\end{align*}\n",
    "\n",
    "1.00 mol of nitrogen and 3.00 mol of hydrogen are fed to a reactor. The overall pressure is 1\n",
    "atm. Calculate the equilibrium yield of ammonia at 298 K and 400 K.\n",
    "Assume that enthalpy of reaction does not vary significantly within the temperature range under\n",
    "consideration.\n",
    "\n",
    "Thermochemical properties\n",
    "\n",
    "|            |  $\\Delta H_f$ |  $\\Delta G_f$ |\n",
    "|:---| ---:| ---:| \n",
    "|            | kJ mol$^{-1}$ | kJ mol$^{-1}$ |\n",
    "| N$_2$ (g)  |          $0.00$ |          $0.00$ |\n",
    "| H$_2$ (g)  |          $0.00$ |          $0.00$ |\n",
    "| NH$_3$ (g) |        $-46.11$ |        $-16.63$ |\n"
   ]
  },
  {
   "cell_type": "markdown",
   "metadata": {},
   "source": [
    "### Input data\n",
    "\n",
    "First we input the necessary data for the problem.  Dictionaries will be used to hold the data."
   ]
  },
  {
   "cell_type": "code",
   "execution_count": null,
   "metadata": {},
   "outputs": [],
   "source": [
    "rxn = {'N2':-1.0, 'H2':-3.0, 'NH3':2.0}\n",
    "\n",
    "molecule = {}\n",
    "molecule['N2'] = {'Hf':0.0, 'Gf':0.0, 'N0':1.0}\n",
    "molecule['H2'] = {'Hf':0.0, 'Gf':0.0, 'N0':3.0}\n",
    "molecule['NH3'] = {'Hf':-46.11, 'Gf':-16.63, 'N0':0.0}\n",
    "\n",
    "R = 8.314e-3  # kJ mol^{-1} K^{-1}\n",
    "T = 298.15    # K\n",
    "T0 = 298.15\n",
    "p = 1.0"
   ]
  },
  {
   "cell_type": "code",
   "execution_count": null,
   "metadata": {},
   "outputs": [],
   "source": [
    "import numpy as np\n",
    "from scipy.optimize import fsolve"
   ]
  },
  {
   "cell_type": "markdown",
   "metadata": {},
   "source": [
    "### Equilibrium constant\n",
    "\n",
    "First we calculate the equilibrium constant.  This is related to the Gibbs free energy of reaction by\n",
    "\\begin{align*}\n",
    "\\ln K_p(T) &= \\frac{\\Delta G_{\\rm rxn}(T)}{RT}\n",
    "\\end{align*}\n",
    "\n",
    "The temperature dependence of the Gibbs free energy of reaction is given approximately by\n",
    "\\begin{align*}\n",
    "\\frac{\\Delta G_{\\rm rxn}(T)}{RT}\n",
    "\\approx \\frac{\\Delta G_{\\rm rxn}(T_0)}{RT_0}\n",
    "+ \\frac{\\Delta H_{\\rm rxn}(T_0)}{RT_0} \n",
    "  \\left(\\frac{T_0}{T}-1\\right)\n",
    "\\end{align*}\n"
   ]
  },
  {
   "cell_type": "code",
   "execution_count": null,
   "metadata": {},
   "outputs": [],
   "source": [
    "H_rxn = 0.0\n",
    "G_rxn = 0.0\n",
    "for m, nu in rxn.items():\n",
    "    H = molecule[m]['Hf']\n",
    "    G = molecule[m]['Gf']\n",
    "    H_rxn += nu*H\n",
    "    G_rxn += nu*G\n",
    "\n",
    "print(H_rxn)\n",
    "print(G_rxn)\n",
    "    \n",
    "Kp = np.exp(-G_rxn/(R*T0) - (T0/T-1.0)*H_rxn/(R*T0))\n",
    "\n",
    "def get_Kp(T):\n",
    "    Kp = np.exp(-G_rxn/(R*T0) - H_rxn*(1.0/T-1.0/T0))\n",
    "    return Kp\n",
    "\n",
    "print(Kp)"
   ]
  },
  {
   "cell_type": "code",
   "execution_count": null,
   "metadata": {},
   "outputs": [],
   "source": [
    "def residual(x, params):\n",
    "    \n",
    "    alpha = x\n",
    "    Kp = params\n",
    "    \n",
    "    N = 0.0\n",
    "    nu_sum = 0.0\n",
    "    for m, nu in rxn.items():\n",
    "        N0 = molecule[m]['N0']\n",
    "        Nm = N0 + nu*alpha\n",
    "        molecule[m]['moles'] = Nm\n",
    "        N += Nm\n",
    "        nu_sum += nu\n",
    "    \n",
    "    prod = 1.0\n",
    "    for m, nu in rxn.items():\n",
    "        y = molecule[m]['moles'] / N\n",
    "        #print(m, y)\n",
    "        prod *= y**nu\n",
    "    prod *= p**nu_sum\n",
    "        \n",
    "    return prod - Kp"
   ]
  },
  {
   "cell_type": "code",
   "execution_count": null,
   "metadata": {},
   "outputs": [],
   "source": [
    "alpha0 = 0.96\n",
    "params = Kp\n",
    "\n",
    "solution = fsolve(residual, alpha0, params)\n",
    "\n",
    "print(solution)"
   ]
  },
  {
   "cell_type": "code",
   "execution_count": null,
   "metadata": {},
   "outputs": [],
   "source": [
    "from scipy.optimize import bisect\n",
    "\n",
    "slop= 1.0e-6\n",
    "solution = bisect(residual, slop, 1.0-slop, args=(params,))\n",
    "\n",
    "print(solution)"
   ]
  },
  {
   "cell_type": "markdown",
   "metadata": {},
   "source": [
    "https://docs.scipy.org/doc/scipy/reference/generated/scipy.optimize.bisect.html"
   ]
  },
  {
   "cell_type": "code",
   "execution_count": null,
   "metadata": {},
   "outputs": [],
   "source": [
    "alpha0 = 0.96\n",
    "\n",
    "T_data =  np.arange(300, 800, 10)\n",
    "\n",
    "alpha_data = []\n",
    "for T in T_data:\n",
    "    params = get_Kp(T)\n",
    "    solution = fsolve(residual, alpha0, params)\n",
    "    \n",
    "    alpha0 = solution[0]\n",
    "    alpha_data.append(alpha0)\n",
    "    \n",
    "    \n",
    "import pylab as plt\n",
    "\n",
    "plt.plot(T_data, alpha_data)\n",
    "\n",
    "\n",
    "plt.show()"
   ]
  },
  {
   "cell_type": "code",
   "execution_count": null,
   "metadata": {},
   "outputs": [],
   "source": []
  },
  {
   "cell_type": "code",
   "execution_count": null,
   "metadata": {},
   "outputs": [],
   "source": []
  }
 ],
 "metadata": {
  "kernelspec": {
   "display_name": "Python 3",
   "language": "python",
   "name": "python3"
  },
  "language_info": {
   "codemirror_mode": {
    "name": "ipython",
    "version": 3
   },
   "file_extension": ".py",
   "mimetype": "text/x-python",
   "name": "python",
   "nbconvert_exporter": "python",
   "pygments_lexer": "ipython3",
   "version": "3.8.5"
  }
 },
 "nbformat": 4,
 "nbformat_minor": 2
}
