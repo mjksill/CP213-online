{
  "nbformat": 4,
  "nbformat_minor": 0,
  "metadata": {
    "colab": {
      "provenance": [],
      "collapsed_sections": []
    },
    "kernelspec": {
      "name": "python3",
      "display_name": "Python 3"
    },
    "language_info": {
      "name": "python"
    }
  },
  "cells": [
    {
      "cell_type": "markdown",
      "source": [
        "# Adiabatic flame temperature\n",
        "\n",
        "The heat capacity of the gases can be described by the equation\n",
        "\\begin{align*}\n",
        "\\frac{C_p}{R}\n",
        "&= a_0 + a_1 T + a_2 T^2 + a_3 T^3 + a_4 T^4\n",
        "\\end{align*}\n",
        "where $T$ is the absolute temperature in kelvin,\n",
        "$R=8.314\\,{\\rm J^{-1}\\,mol\\,K^{-1}}$ is the ideal gas constant, and the\n",
        "coefficients $a_k$ are given in the data below."
      ],
      "metadata": {
        "id": "yFT5Ta7KrDKt"
      }
    },
    {
      "cell_type": "code",
      "source": [
        "R = 8.314e-3  # ideal gas constant / kJ mol^{-1} K^{-1}\n",
        "T0 = 298.15   # reference temperature / K\n",
        "p0 = 1.0e5    # reference pressure / Pa\n",
        "\n",
        "\n",
        "# Data about the gases: \n",
        "#  Mw - molecular weight g/mol\n",
        "#  Hf - heat of formation kJ/mol\n",
        "#  Gf - Gibbs free energy kJ/mol\n",
        "data = {}\n",
        "data['CO']  = {'Mw':28.01 , 'Hf':-110.5 , 'Gf':-137.2 }\n",
        "data['CO2'] = {'Mw':44.01 , 'Hf':-393.3 , 'Gf':-394.6 }\n",
        "data['H2']  = {'Mw': 2.02 , 'Hf':   0.0 , 'Gf':   0.0 }\n",
        "data['H2O'] = {'Mw':18.02 , 'Hf':-241.8 , 'Gf':-228.4 }\n",
        "data['CH4'] = {'Mw':16.043, 'Hf': -74.52, 'Gf': -50.45}\n",
        "data['O2']  = {'Mw':31.999, 'Hf':   0.0 , 'Gf':   0.00}\n",
        "data['N2']  = {'Mw':28.014, 'Hf':   0.0 , 'Gf':   0.00}\n",
        "\n",
        "\n",
        "data['CO'] ['Cp_coeff'] = [3.912, -3.913e-3,  1.182e-5, -1.302e-8,  0.515e-11]      \n",
        "data['CO2']['Cp_coeff'] = [3.259,  1.356e-3,  1.502e-5, -2.374e-8,  1.056e-11]      \n",
        "data['H2'] ['Cp_coeff'] = [2.883,  3.681e-3, -0.772e-5,  0.692e-8, -0.213e-11]      \n",
        "data['H2O']['Cp_coeff'] = [4.395, -4.186e-3,  1.405e-5, -1.564e-8,  0.632e-11]\n",
        "data['CH4']['Cp_coeff'] = [4.568, -8.975e-3,  3.631e-5, -3.407e-8,  1.091e-11]\n",
        "data['O2'] ['Cp_coeff'] = [3.63 , -1.794e-3,  0.658e-5, -0.601e-8,  0.179e-11]\n",
        "data['N2'] ['Cp_coeff'] = [3.539, -0.261e-3,  0.007e-5,  0.157e-8, -0.099e-11]\n",
        "\n",
        "nu = {}\n",
        "nu['CO']  =  0.0\n",
        "nu['CO2'] =  1.0\n",
        "nu['H2']  =  0.0\n",
        "nu['H2O'] =  2.0\n",
        "nu['CH4'] = -1.0\n",
        "nu['O2']  = -2.0\n",
        "nu['N2']  =  0.0\n",
        "\n",
        "\n",
        "\n",
        "\n",
        "import numpy as np\n",
        "import pylab as plt\n",
        "from scipy.optimize import fsolve\n"
      ],
      "metadata": {
        "id": "jP782GkRjWmn"
      },
      "execution_count": 12,
      "outputs": []
    },
    {
      "cell_type": "markdown",
      "source": [
        "# Understanding the data\n",
        "\n",
        "Notice that the variable `data` is a dictionary, that has as its keys the names of different molecules and its corresponding values is another dictionary (which contains the properties of the particular molecule).  For example, let's look at the contents of `data` and `data['N2']`"
      ],
      "metadata": {
        "id": "R4zN5z00Fypx"
      }
    },
    {
      "cell_type": "code",
      "source": [
        "print(data)\n",
        "print(data['N2'])"
      ],
      "metadata": {
        "colab": {
          "base_uri": "https://localhost:8080/"
        },
        "id": "9Wqdy1XTGQoW",
        "outputId": "b62da8a7-17f9-476b-e549-700896d05eff"
      },
      "execution_count": null,
      "outputs": [
        {
          "output_type": "stream",
          "name": "stdout",
          "text": [
            "{'CO': {'Mw': 28.01, 'Hf': -110.5, 'Gf': -137.2, 'Cp_coeff': [3.912, -0.003913, 1.182e-05, -1.302e-08, 5.15e-12]}, 'CO2': {'Mw': 44.01, 'Hf': -393.3, 'Gf': -394.6, 'Cp_coeff': [3.259, 0.001356, 1.502e-05, -2.374e-08, 1.056e-11]}, 'H2': {'Mw': 2.02, 'Hf': 0.0, 'Gf': 0.0, 'Cp_coeff': [2.883, 0.003681, -7.72e-06, 6.92e-09, -2.13e-12]}, 'H2O': {'Mw': 18.02, 'Hf': -241.8, 'Gf': -228.4, 'Cp_coeff': [4.395, -0.004186, 1.405e-05, -1.564e-08, 6.32e-12]}, 'CH4': {'Mw': 16.043, 'Hf': -74.52, 'Gf': -50.45, 'Cp_coeff': [4.568, -0.008975, 3.631e-05, -3.407e-08, 1.091e-11]}, 'O2': {'Mw': 31.999, 'Hf': 0.0, 'Gf': 0.0, 'Cp_coeff': [3.63, -0.001794, 6.58e-06, -6.01e-09, 1.79e-12]}, 'N2': {'Mw': 28.014, 'Hf': 0.0, 'Gf': 0.0, 'Cp_coeff': [3.539, -0.000261, 7e-08, 1.57e-09, -9.9e-13]}}\n",
            "{'Mw': 28.014, 'Hf': 0.0, 'Gf': 0.0, 'Cp_coeff': [3.539, -0.000261, 7e-08, 1.57e-09, -9.9e-13]}\n"
          ]
        }
      ]
    },
    {
      "cell_type": "markdown",
      "source": [
        "# Calculating the heat capacity\n",
        "\n",
        "Remember that the expression for the heat capacity is\n",
        "\\begin{align*}\n",
        "\\frac{C_p}{R}\n",
        "&= a_0 + a_1 T + a_2 T^2 + a_3 T^3 + a_4 T^4\n",
        "\\end{align*}\n",
        "If we put the coefficients $a_n$ in a list called `a`, then\n",
        "we can write Python code to calculate the heat capacity that looks extremely similar to what is written mathematically.  This is what we do in the code snippet below, using the coefficients for nitrogen ('N2'):\n"
      ],
      "metadata": {
        "id": "nD-SN40IGRVY"
      }
    },
    {
      "cell_type": "code",
      "source": [
        "a = data['N2'] ['Cp_coeff']\n",
        "\n",
        "print(a)\n",
        "print(f'a_0 = a[0]')\n",
        "\n",
        "T = 300\n",
        "Cp = a[0] + a[1]*T + a[2]*T**2 + a[3]*T**3 + a[4]*T**4\n",
        "Cp *= R "
      ],
      "metadata": {
        "id": "aoHPSe9pta-E",
        "colab": {
          "base_uri": "https://localhost:8080/"
        },
        "outputId": "5275d88a-9987-462c-cc03-4acc2a6b00a1"
      },
      "execution_count": 13,
      "outputs": [
        {
          "output_type": "stream",
          "name": "stdout",
          "text": [
            "[3.539, -0.000261, 7e-08, 1.57e-09, -9.9e-13]\n",
            "a_0 = a[0]\n"
          ]
        }
      ]
    },
    {
      "cell_type": "markdown",
      "source": [
        "## Creating a function\n",
        "\n",
        "So, given the list of coefficients for the heat capacity, we can use Python to calculate $C_p$.  Now, we do not just want to do this once, so we can indent everything we did and move it into a function, which we will call `get_Cp_pure`.  This function will take two arguments.  The first argument will be the (absolute) temperature at which we will calculate the heat capacity, and the second argument will be the name of the molecule that we want."
      ],
      "metadata": {
        "id": "FBnJDPqFYqHE"
      }
    },
    {
      "cell_type": "code",
      "source": [
        "def get_Cp_pure(T, molecule):\n",
        "  a = data[molecule] ['Cp_coeff']\n",
        "  Cp = a[0] + a[1]*T + a[2]*T**2 + a[3]*T**3 + a[4]*T**4\n",
        "  Cp *= R\n",
        "  return Cp\n",
        "\n",
        "\n",
        "print(f\"C_p of nitrogen = {get_Cp_pure(300, 'N2')} kJ mol^{-1} K^{-1}\")   \n",
        "\n",
        "print()\n",
        "T = 300.0\n",
        "for mol in data.keys():\n",
        "  print(f\"{mol}: C_p = {get_Cp_pure(T, mol)} kJ mol^{-1} K^{-1}\") \n"
      ],
      "metadata": {
        "id": "oaa4sYtTtbkX",
        "colab": {
          "base_uri": "https://localhost:8080/"
        },
        "outputId": "4aeb6b5b-002d-4851-c6aa-2e97a3dfe352"
      },
      "execution_count": 26,
      "outputs": [
        {
          "output_type": "stream",
          "name": "stdout",
          "text": [
            "C_p of nitrogen = 0.029110398494000003 kJ mol^-1 K^-1\n",
            "\n",
            "CO: C_p = 0.029033111550000004 kJ mol^-1 K^-1\n",
            "CO2: C_p = 0.037098364984 kJ mol^-1 K^-1\n",
            "H2: C_p = 0.028783791317999997 kJ mol^-1 K^-1\n",
            "H2O: C_p = 0.033527136168 kJ mol^-1 K^-1\n",
            "CH4: C_p = 0.035848978634 kJ mol^-1 K^-1\n",
            "O2: C_p = 0.029400207906000002 kJ mol^-1 K^-1\n",
            "N2: C_p = 0.029110398494000003 kJ mol^-1 K^-1\n"
          ]
        }
      ]
    },
    {
      "cell_type": "markdown",
      "source": [
        "Before we move on, let's try to write the expression for the heat capacity in a more compact form.  If we remember our summation notation, we can write\n",
        "\\begin{align*}\n",
        "\\frac{C_p}{R}\n",
        "&= \\sum_{n=0}^4 a_n T^n\n",
        "\\end{align*}\n",
        "We can mimic this form by using a loop to perform the summation:"
      ],
      "metadata": {
        "id": "CQp6XcFxbWAF"
      }
    },
    {
      "cell_type": "code",
      "source": [
        "def get_Cp_pure(T, molecule):\n",
        "  a = data[molecule] ['Cp_coeff']\n",
        "  Cp = 0.0\n",
        "  for n in range(len(a)):\n",
        "      Cp += a[n]*T**n\n",
        "  Cp *= R\n",
        "  return Cp\n",
        "\n",
        "\n",
        "T = 300.0\n",
        "for mol in data.keys():\n",
        "  print(f\"{mol}: C_p = {get_Cp_pure(T, mol)} kJ mol^{-1} K^{-1}\")   "
      ],
      "metadata": {
        "colab": {
          "base_uri": "https://localhost:8080/"
        },
        "id": "yPGQbV4pbxPS",
        "outputId": "3932ce47-ddeb-42c4-b5d2-55115806d137"
      },
      "execution_count": 25,
      "outputs": [
        {
          "output_type": "stream",
          "name": "stdout",
          "text": [
            "CO: C_p = 0.029033111550000004 kJ mol^-1 K^-1\n",
            "CO2: C_p = 0.037098364984 kJ mol^-1 K^-1\n",
            "H2: C_p = 0.028783791317999997 kJ mol^-1 K^-1\n",
            "H2O: C_p = 0.033527136168 kJ mol^-1 K^-1\n",
            "CH4: C_p = 0.035848978634 kJ mol^-1 K^-1\n",
            "O2: C_p = 0.029400207906000002 kJ mol^-1 K^-1\n",
            "N2: C_p = 0.029110398494000003 kJ mol^-1 K^-1\n"
          ]
        }
      ]
    },
    {
      "cell_type": "markdown",
      "source": [
        "# Calculating the enthalpy\n",
        "\n",
        "There was really no reason to use a loop.  It just makes things look nicer.  However, often when we make things look nicer, it makes things easier to see and do.  As an example, let's see how we can calculate the enthalpy.\n",
        "\n",
        "The enthalpy is just the integral of the heat capacity:\n",
        "\\begin{align*}\n",
        "H(T) &= H(T_0) + \\int_{T_0}^T dT'\\, C_p(T')\n",
        "\\\\\n",
        "&=\n",
        "H(T_0) + \\int_{T_0}^T dT'\\, R\\sum_{n=0}^4 a_n T'^n\n",
        "\\\\\n",
        "&=\n",
        "H(T_0) + R\\sum_{n=0}^4 a_n \\frac{T'^{n+1}}{n+1}\n",
        "\\Bigg]_{T_0}^T\n",
        "\\\\\n",
        "&=\n",
        "H(T_0) \n",
        "+ R\\sum_{n=0}^4 \\frac{a_n}{n+1} (T^{n+1}-T_0^{n+1})\n",
        "\\end{align*}\n",
        "Note that in this problem $T_0=298.15$, and the enthalpy at this temperature is the enthalpy of formation (i.e. $H_f=H(T_0)$).\n",
        "\n",
        "We can take this relation to create a function that gives us the enthalpy of a species:\n"
      ],
      "metadata": {
        "id": "UnIeXN_vcM2n"
      }
    },
    {
      "cell_type": "code",
      "source": [
        "def get_H_pure(T, molecule):\n",
        "  a = data[molecule]['Cp_coeff']\n",
        "  H = data[molecule]['Hf']\n",
        "  for n in range(len(a)):\n",
        "    H += R*a[n]*(T**(n+1)-T0**(n+1))/(n+1)\n",
        "  return H\n",
        "\n",
        "T = 298.15\n",
        "for mol in data.keys():\n",
        "  print(f\"{mol}: H = {get_H_pure(T, mol)} kJ/mol\")"
      ],
      "metadata": {
        "id": "vbN3qhpGay5M",
        "colab": {
          "base_uri": "https://localhost:8080/"
        },
        "outputId": "5c85b071-074b-4f40-ddae-3cfeae7ef379"
      },
      "execution_count": 22,
      "outputs": [
        {
          "output_type": "stream",
          "name": "stdout",
          "text": [
            "CO: H = -110.5 kJ/mol\n",
            "CO2: H = -393.3 kJ/mol\n",
            "H2: H = 0.0 kJ/mol\n",
            "H2O: H = -241.8 kJ/mol\n",
            "CH4: H = -74.52 kJ/mol\n",
            "O2: H = 0.0 kJ/mol\n",
            "N2: H = 0.0 kJ/mol\n"
          ]
        }
      ]
    },
    {
      "cell_type": "markdown",
      "source": [
        "# Mixtures\n",
        "\n",
        "We are now able to compute the enthalpy and heat capacity of any pure species in the `data` dictionary at any temperature.  We will now try to calculate the enthalpy and heat capacity of a mixture.\n",
        "\n",
        "First, let's define a function that will return the dot product between two vectors:"
      ],
      "metadata": {
        "id": "6B2ZmrUr4-aQ"
      }
    },
    {
      "cell_type": "code",
      "source": [
        "def dot_product(vec1, vec2):\n",
        "\n",
        "  prod_vec = [x1*x2 for x1, x2 in zip(vec1, vec2)]\n",
        "  return sum(prod_vec)\n",
        "\n",
        "v1 = [1, 2, 3]\n",
        "v2 = [1, 1, 1]\n",
        "w = [3, 4, 5]\n",
        "dot = dot_product(w, v2)\n",
        "print(dot)"
      ],
      "metadata": {
        "colab": {
          "base_uri": "https://localhost:8080/"
        },
        "id": "RzNDGb8ywktI",
        "outputId": "57661ed1-c9c1-42c0-fd64-cdeb7cd9a9cc"
      },
      "execution_count": 23,
      "outputs": [
        {
          "output_type": "stream",
          "name": "stdout",
          "text": [
            "12\n"
          ]
        }
      ]
    },
    {
      "cell_type": "markdown",
      "source": [
        "Using this dot product, we can then determine the heat capacity of a mixture by creating a \"vector\" `N_list`, with each \"component\" consisting of the mole numbers of each species, and another \"vector\" `Cp_list`, with each \"component\" consisting of the molar heat capacity of each pure species.  The dot product between these two vectors is then the heat capacity of the mixture.  We can do something similar to determine the enthalpy of the mixture."
      ],
      "metadata": {
        "id": "6f4G9bZs5Zsy"
      }
    },
    {
      "cell_type": "code",
      "source": [
        "N_dict = {molecule: 0.0 for molecule in data.keys()}\n",
        "N_dict['CH4'] = 1.0\n",
        "N_dict['O2'] = 0.21*10\n",
        "N_dict['N2'] = 0.79*10\n",
        "\n",
        "T = 300\n",
        "N_list = [N_dict[molecule] for molecule in data.keys()]             # create a \"vector\" of mole numbers\n",
        "Cp_list = [get_Cp_pure(T, molecule) for molecule in data.keys()]    # create a \"vector\" of specific heat capacities\n",
        "H_list = [get_H_pure(T, molecule) for molecule in data.keys()]      # create a \"vector\" of specific enthalpies\n",
        "\n",
        "#print(H)\n",
        "Cp = dot_product(N_list, Cp_list)\n",
        "H = dot_product(N_list, H_list)\n",
        "\n",
        "print(Cp, H)"
      ],
      "metadata": {
        "colab": {
          "base_uri": "https://localhost:8080/"
        },
        "id": "T7VJ1rJAyFBo",
        "outputId": "d3cb6557-a80a-41c0-c8aa-50b2a4dc12eb"
      },
      "execution_count": 24,
      "outputs": [
        {
          "output_type": "stream",
          "name": "stdout",
          "text": [
            "0.32756156333920006 -73.91411151112823\n"
          ]
        }
      ]
    },
    {
      "cell_type": "markdown",
      "source": [
        "Now we create functions from these calculations:"
      ],
      "metadata": {
        "id": "TXZMgqka6obN"
      }
    },
    {
      "cell_type": "code",
      "source": [
        "def get_H(T, N_dict):\n",
        "\n",
        "  N_list = [N_dict[molecule] for molecule in data.keys()]\n",
        "  H_list = [get_H_pure(T, molecule) for molecule in data.keys()] \n",
        "\n",
        "  H = dot_product(N_list, H_list)\n",
        "  return H\n",
        "\n",
        "\n",
        "N_in = {molecule: 0.0 for molecule in data.keys()}\n",
        "N_in['O2'] = 0.21\n",
        "N_in['N2'] = 0.79\n",
        "print(get_H(300, N_in))\n",
        "\n",
        "\n",
        "\n",
        "\n"
      ],
      "metadata": {
        "colab": {
          "base_uri": "https://localhost:8080/"
        },
        "id": "gV5KUSoi2UNQ",
        "outputId": "fb4e41c2-4e14-4ab5-8315-da6ea7384797"
      },
      "execution_count": 34,
      "outputs": [
        {
          "output_type": "stream",
          "name": "stdout",
          "text": [
            "0.0539635829751982\n"
          ]
        }
      ]
    },
    {
      "cell_type": "markdown",
      "source": [
        "# Energy balance\n",
        "\n",
        "We can perform energy balances with these functions.  Let's consider a system where we have an inlet stream of 1.0 mol/s of methane and 10 mol/s of air at a temperature $T_{\\rm in}=300\\,{\\rm K}$, and an outlet stream of 1.0 mol/s of methane and 10 mol/s of air.  If we add heat to the system at a rate $\\dot{Q}=10\\,{\\rm kW}$, what is the temperature of the outlet stream?"
      ],
      "metadata": {
        "id": "1MnwQ7tD6ul_"
      }
    },
    {
      "cell_type": "code",
      "source": [
        "\n",
        "def energy_balance(T):\n",
        "    N_in = {molecule: 0.0 for molecule in data.keys()}\n",
        "    N_in['CH4'] = 1.0       # inlet species flowrate in mol/s\n",
        "    N_in['O2'] = 0.21*10\n",
        "    N_in['N2'] = 0.79*10\n",
        "    Tin = 300   # inlet temperature / K\n",
        "    Q = 10      # rate of heat added to the system in kW\n",
        "    Hin = get_H(Tin, N_in)\n",
        "    Hout = get_H(T, N_in)   # note that in this case the outlet mole number is the same as the inlet mole numbers\n",
        "    return Hout - Hin - Q\n",
        "\n",
        "Tguess = 300\n",
        "solution = fsolve(energy_balance, Tguess)\n",
        "Tout = solution[0]\n",
        "print(f'outlet temperature = {Tout} K')\n",
        "\n"
      ],
      "metadata": {
        "colab": {
          "base_uri": "https://localhost:8080/"
        },
        "id": "E8UQZ9hs22tb",
        "outputId": "33cb0be8-90bc-41ed-8cd2-99dd29c4650a"
      },
      "execution_count": 39,
      "outputs": [
        {
          "output_type": "stream",
          "name": "stdout",
          "text": [
            "outlet temperature = 330.43981516578293 K\n"
          ]
        }
      ]
    },
    {
      "cell_type": "markdown",
      "source": [
        "# Adding a chemical reaction\n",
        "\n",
        "Now let's look at a chemical reaction: the combustion of methane.\n",
        "\\begin{align*}\n",
        "{\\rm CH}_4 + 2{\\rm O}_2\n",
        "\\longrightarrow\n",
        "2{\\rm H_2O} + {\\rm CO_2}\n",
        "\\end{align*}\n",
        "\n",
        "If we have a reaction in the system, then the outlet mole numbers will be related to the inlet mole numbers through the relations\n",
        "\\begin{align*}\n",
        "N_{\\rm CH_4}^{\\rm out}\n",
        "&= \n",
        "N_{\\rm CH_4}^{\\rm in} - \\alpha\n",
        "\\\\\n",
        "N_{\\rm O_2}^{\\rm out}\n",
        "&= \n",
        "N_{\\rm O_2}^{\\rm in} -2 \\alpha\n",
        "\\\\\n",
        "N_{\\rm H_2O}^{\\rm out}\n",
        "&= \n",
        "N_{\\rm H_2O}^{\\rm in} + 2\\alpha\n",
        "\\\\\n",
        "N_{\\rm CO_2}^{\\rm out}\n",
        "&= \n",
        "N_{\\rm CO_2}^{\\rm in} + \\alpha\n",
        "\\end{align*}\n",
        "where $\\alpha$ is the extent of reaction.\n",
        "\n",
        "\n",
        "This can be written in terms of the stoichiometric coefficients of the combustion reaction as:\n",
        "\\begin{align*}\n",
        "N_{\\rm CH_4}^{\\rm out}\n",
        "&= \n",
        "N_{\\rm CH_4}^{\\rm in} +  \\nu_{\\rm CH_4} \\alpha\n",
        "\\\\\n",
        "N_{\\rm O_2}^{\\rm out}\n",
        "&= \n",
        "N_{\\rm O_2}^{\\rm in} +  \\nu_{\\rm O_2} \\alpha\n",
        "\\\\\n",
        "N_{\\rm H_2O}^{\\rm out}\n",
        "&= \n",
        "N_{\\rm H_2O}^{\\rm in} + \\nu_{\\rm H_2O} \\alpha\n",
        "\\\\\n",
        "N_{\\rm CO_2}^{\\rm out}\n",
        "&= \n",
        "N_{\\rm CO_2}^{\\rm in} + \\nu_{\\rm CO_2} \\alpha\n",
        "\\end{align*}\n",
        "where the stoichiometric coefficient is positive for products and\n",
        "negative for reactants.\n",
        "\n",
        "More generally, we can write this as:\n",
        "\\begin{align*}\n",
        "N_{\\rm mol}^{\\rm out}\n",
        "&= \n",
        "N_{\\rm mol}^{\\rm in} + \\alpha \\nu_{\\rm mol}\n",
        "\\end{align*}\n",
        "where mol is any molecule in the system.  Note that the stoichiometric coefficient for any species that does not participate in the reaction (e.g., nitrogen) is equal to zero.\n",
        "\n",
        "The stoichiometric constants for the reaction are given in the variable `nu`, which was defined at the top of this notebook.\n",
        "\n",
        "We can include the presence of a chemical reaction in our energy balance as:"
      ],
      "metadata": {
        "id": "PiFgJaGEsvvO"
      }
    },
    {
      "cell_type": "code",
      "source": [
        "\n",
        "def energy_balance(T):\n",
        "    Nin = {molecule: 0.0 for molecule in data.keys()}\n",
        "    Nin['CH4'] = 1.0        # these are the inlet species flow rates in mol/s \n",
        "    Nin['O2'] = 0.21 * 10\n",
        "    Nin['N2'] = 0.79 * 10\n",
        "    Tin = 300   # inlet temperature / K\n",
        "    Q = 10\n",
        "    Hin = get_H(Tin, Nin)\n",
        "    alpha = 0.2   # the extent of reaction is only 2 mol/s\n",
        "    Nout = {mol: Nin[mol] + alpha*nu[mol] for mol in data.keys()}\n",
        "    Hout = get_H(T, Nout)\n",
        "    return Hout - Hin - Q\n",
        "\n",
        "Tguess = 300\n",
        "solution = fsolve(energy_balance, Tguess)\n",
        "Tout = solution[0]\n",
        "print(f'outlet temperature = {Tout} K')\n"
      ],
      "metadata": {
        "id": "VIyEIBed4L_9",
        "colab": {
          "base_uri": "https://localhost:8080/"
        },
        "outputId": "93072401-0191-478e-a03b-f185129f970f"
      },
      "execution_count": 40,
      "outputs": [
        {
          "output_type": "stream",
          "name": "stdout",
          "text": [
            "outlet temperature = 783.5740003592584 K\n"
          ]
        }
      ]
    },
    {
      "cell_type": "markdown",
      "source": [
        "# Conclusions\n",
        "\n",
        "In this notebook, we gradually built up functions for calculating the molar heat capacity and molar enthalpy of any ideal gas mixture at any temperature.  Then we used these functions to perform energy balance calculations.  \n",
        "\n",
        "There are many, many different ways in which this basic code can be extended.  For example, can you include multiple input and output streams?  Can you write a code for a general number of in/out streams?  Can you include additional chemical reactions (e.g., the partial combustion of methane to form carbon monoxide or the combustion of hydrogen)?"
      ],
      "metadata": {
        "id": "SVAQe80S-JJv"
      }
    }
  ]
}