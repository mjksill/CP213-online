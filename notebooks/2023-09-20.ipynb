{
  "nbformat": 4,
  "nbformat_minor": 0,
  "metadata": {
    "colab": {
      "provenance": []
    },
    "kernelspec": {
      "name": "python3",
      "display_name": "Python 3"
    },
    "language_info": {
      "name": "python"
    }
  },
  "cells": [
    {
      "cell_type": "markdown",
      "source": [
        "# Introduction to Python\n",
        "\n",
        "## Lists\n",
        "\n",
        "This is just a quick highlight of some points from the notebook on [lists in Python](python_lists.ipynb).  \n",
        "\n",
        "We can use the `range` function to produce lists of integers for us.  For example, to create a list of the integers from 1 to 10:"
      ],
      "metadata": {
        "id": "a2QbAFAXQMr3"
      }
    },
    {
      "cell_type": "code",
      "source": [
        "test_list = list( range(1,10+1) )\n",
        "\n",
        "print(test_list)"
      ],
      "metadata": {
        "colab": {
          "base_uri": "https://localhost:8080/"
        },
        "id": "sAgSEqWRQdY2",
        "outputId": "9289f673-ed84-45ad-aadf-523281a881c8"
      },
      "execution_count": 2,
      "outputs": [
        {
          "output_type": "stream",
          "name": "stdout",
          "text": [
            "[1, 2, 3, 4, 5, 6, 7, 8, 9, 10]\n"
          ]
        }
      ]
    },
    {
      "cell_type": "markdown",
      "source": [
        "You should try to edit and modify the function to get a better understanding of how it works.  Also, if you hover over the function with the cursor, the Jupyter notebook will provide some documentation for the function.\n",
        "\n",
        "\n",
        "\n",
        "Based on this, we can create a little program to sum the integers from 1 to $N$, raised to a power $m$:"
      ],
      "metadata": {
        "id": "wJgmnst8Rs7x"
      }
    },
    {
      "cell_type": "code",
      "source": [
        "N = 50   # this is the final integer\n",
        "m = 1    # this is the power to raise each integer\n",
        "\n",
        "N_list = list(range(1,N+1))\n",
        "\n",
        "total = 0\n",
        "for n in N_list:\n",
        "  total = total + n**m\n",
        "print(N, m, total)"
      ],
      "metadata": {
        "colab": {
          "base_uri": "https://localhost:8080/"
        },
        "id": "MiCL_P-USEoB",
        "outputId": "3a55d14a-375b-49dd-ab83-aac804ffd9f5"
      },
      "execution_count": 3,
      "outputs": [
        {
          "output_type": "stream",
          "name": "stdout",
          "text": [
            "50 1 1275\n"
          ]
        }
      ]
    },
    {
      "cell_type": "markdown",
      "source": [
        "## Loops\n",
        "\n",
        "\n",
        "One important concept we can exploit is the if we want to repeat a calculation multiple times, we just need to put it in a loop.  Below, we put the code we wrote above into a loop to repeat the calculation for different values of $m$:"
      ],
      "metadata": {
        "id": "uX-5BY3ZSxyP"
      }
    },
    {
      "cell_type": "code",
      "execution_count": 6,
      "metadata": {
        "colab": {
          "base_uri": "https://localhost:8080/"
        },
        "id": "Wh4cYtocQ1Ay",
        "outputId": "43a681d8-070c-498d-a15a-ea71d46acac5"
      },
      "outputs": [
        {
          "output_type": "stream",
          "name": "stdout",
          "text": [
            "0 50\n",
            "1 1275\n",
            "2 42925\n",
            "3 1625625\n",
            "4 65666665\n"
          ]
        }
      ],
      "source": [
        "N = 50\n",
        "\n",
        "for m in range(5):\n",
        "\n",
        "  N_list = list(range(1,N+1))\n",
        "\n",
        "  total = 0\n",
        "  for n in N_list:\n",
        "    total = total + n**m\n",
        "  print(m, total)\n",
        "\n"
      ]
    },
    {
      "cell_type": "markdown",
      "source": [
        "## Functions\n",
        "\n",
        "Rather than cutting and pasting the entire code, we can define a function that performs the calculation.  For more information on functions, see the [notebook](python_functions.ipynb) on Myplace.\n",
        "\n",
        "Below, we define a function called `myfunction` that performs the above calculation.  Note that the values of the variables $N$ and $m$ appear as arguments to the function, and the function returns the result.  To perform the calculation, we just call the function, with the appropriate arguments, and put its output into a variable.\n"
      ],
      "metadata": {
        "id": "GHBR2LxwTZPD"
      }
    },
    {
      "cell_type": "code",
      "source": [
        "def myfunction(N, m):\n",
        "  N_list = list(range(1,N+1))\n",
        "  total = 0\n",
        "  for n in N_list:\n",
        "    total = total + n**m\n",
        "  return total\n",
        "\n",
        "\n",
        "y = myfunction(100, 1)\n",
        "print(y)\n",
        "\n",
        "\n",
        "N = 50\n",
        "\n",
        "for m in range(5):\n",
        "  total = myfunction(N, m)\n",
        "  print(m, total)"
      ],
      "metadata": {
        "colab": {
          "base_uri": "https://localhost:8080/"
        },
        "id": "9aIUlpVwX3wO",
        "outputId": "6dcaf5bb-4934-47e9-ea55-f10210ff93e4"
      },
      "execution_count": 7,
      "outputs": [
        {
          "output_type": "stream",
          "name": "stdout",
          "text": [
            "5050\n",
            "0 50\n",
            "1 1275\n",
            "2 42925\n",
            "3 1625625\n",
            "4 65666665\n"
          ]
        }
      ]
    },
    {
      "cell_type": "markdown",
      "source": [
        "## Example: Heat capacities\n",
        "\n",
        "To provide a practical example of how to use what we have learned about lists, looping, and functions, let's try to plot the temperature dependent heat capacity of methane.  We can grab the necessary data from the [NIST Chemistry WebBook](https://webbook.nist.gov/cgi/cbook.cgi?ID=C74828&Mask=1).\n",
        "\n",
        "The correlation for the heat capacity is given by the Shomate equation\n",
        "$$\n",
        "C_p^\\circ = A + Bt + Ct^2 + Dt^3 + E/t^2\n",
        "$$\n",
        "where $C_p$ is the ideal gas heat capacity in units of ${\\rm J\\,mol^{-1}\\,K^{-1}}$, $t=T/1000$, $T$ is the absolute temperature in kelvin, and $A$, $B$, $C$, $D$, and $E$ are parameters that depend on the particular compound.  We can extract these parameters from the table on the webpage.\n",
        "\n",
        "With this, we can calculate the heat capacity of methane."
      ],
      "metadata": {
        "id": "J3Q5zdsFVGfN"
      }
    },
    {
      "cell_type": "code",
      "source": [
        "A=\t-0.703\n",
        "B=\t108.477\n",
        "C=\t-42.522\n",
        "D=\t5.86279\n",
        "E=\t0.67857\n",
        "F=\t-76.844\n",
        "G=\t158.716\n",
        "H=\t-74.873\n",
        "\n",
        "T = 400\n",
        "t = T/1000\n",
        "Cp = A + B*t + C*t**2 + D*t**3 + E/t**2\n",
        "print(T, Cp)"
      ],
      "metadata": {
        "colab": {
          "base_uri": "https://localhost:8080/"
        },
        "id": "CpxWrqECVmdR",
        "outputId": "7caac0af-0bbc-45c3-cca5-53dceb3aeca1"
      },
      "execution_count": 10,
      "outputs": [
        {
          "output_type": "stream",
          "name": "stdout",
          "text": [
            "400 40.50056106\n"
          ]
        }
      ]
    },
    {
      "cell_type": "markdown",
      "source": [
        "By putting this in a loop, we can generate a plot of the heat capacity of methane with temperature.  For an introduction to plotting, see the relevant [notebook](python_plotting.ipynb)."
      ],
      "metadata": {
        "id": "-kghteZQayX0"
      }
    },
    {
      "cell_type": "code",
      "source": [
        "A=\t-0.703\n",
        "B=\t108.477\n",
        "C=\t-42.522\n",
        "D=\t5.86279\n",
        "E=\t0.67857\n",
        "F=\t-76.844\n",
        "G=\t158.716\n",
        "H=\t-74.873\n",
        "\n",
        "\n",
        "import numpy as np\n",
        "import pylab as plt\n",
        "\n",
        "\n",
        "T_list = np.linspace(300, 700, 100)\n",
        "Cp_list = []\n",
        "for T in T_list:\n",
        "  t = T/1000\n",
        "  Cp = A + B*t + C*t**2 + D*t**3 + E/t**2\n",
        "  Cp_list.append(Cp)\n",
        "\n",
        "plt.plot(T_list, Cp_list)\n",
        "plt.xlabel('temperature / K')\n",
        "plt.ylabel('$C_p$ / J mol$^{-1}$ K$^{-1}$')\n",
        "plt.show()"
      ],
      "metadata": {
        "colab": {
          "base_uri": "https://localhost:8080/",
          "height": 449
        },
        "id": "dtQBRXpjbgml",
        "outputId": "00e1aec5-7fef-4e4a-e4b9-1f79693e697e"
      },
      "execution_count": 12,
      "outputs": [
        {
          "output_type": "display_data",
          "data": {
            "text/plain": [
              "<Figure size 640x480 with 1 Axes>"
            ],
            "image/png": "[encoded data removed]"
          },
          "metadata": {}
        }
      ]
    },
    {
      "cell_type": "markdown",
      "source": [
        "Finally, we can make the code look cleaner if we put the heat capacity calculation in a function, which we will call `get_Cp`.  The function takes two arguments: temperature and a list of parameters, which are in the variable `param`.  By doing this, we can easily calculate the heat capacity for any compound using the same function, as long as we pass it the appropriate parameters.  \n",
        "\n",
        "From the NIST Chemistry WebBook, we get the parameters of the Shomate equation for the additional compounds oxygen, nitrogen, carbon dioxide, and water.  The code below plots the heat capacities for all these compounds."
      ],
      "metadata": {
        "id": "O_XhrTdWbhDE"
      }
    },
    {
      "cell_type": "code",
      "source": [
        "\n",
        "\n",
        "methane = [-0.703,108.477,-42.522,5.86279,0.67857,-76.844,158.716,-74.873]\n",
        "oxygen = [31.3223,-20.235,57.8664,-36.506,-0.0074,-8.9035,246.795,0]\n",
        "nitrogen = [28.98641,1.853978,-9.647459,16.63537,0.000117,-8.671914,226.4168,0]\n",
        "CO2 = [24.99735,55.18696,-33.69137,7.948387,-0.136638,-403.6075,228.2431,-393.5224]\n",
        "water = [30.092,6.832514,6.793435,-2.53448,0.082139,-250.881,223.3967,-241.8264]\n",
        "\n",
        "def get_Cp(T, param):\n",
        "  t = T/1000\n",
        "  A, B, C, D, E, F, G, H = param\n",
        "  Cp = A + B*t + C*t**2 + D*t**3 + E/t**2\n",
        "  return Cp\n",
        "\n",
        "\n",
        "import numpy as np\n",
        "import pylab as plt\n",
        "\n",
        "\n",
        "for molecule in [methane, oxygen, nitrogen, CO2, water]:\n",
        "  T_list = np.linspace(300, 700, 100)\n",
        "  Cp_list = []\n",
        "  for T in T_list:\n",
        "    Cp = get_Cp(T, molecule)\n",
        "    Cp_list.append(Cp)\n",
        "  plt.plot(T_list, Cp_list)\n",
        "  #print(T, Cp)\n",
        "\n",
        "#print(Cp_list)\n",
        "\n",
        "\n",
        "plt.xlabel('temperature / K')\n",
        "plt.ylabel('$C_p$ / J mol$^{-1}$ K$^{-1}$')\n",
        "plt.show()\n"
      ],
      "metadata": {
        "colab": {
          "base_uri": "https://localhost:8080/",
          "height": 449
        },
        "id": "1AhTpwe0ZKfQ",
        "outputId": "8a27f6ab-6f54-42c0-b64c-22d152e6fdbb"
      },
      "execution_count": 16,
      "outputs": [
        {
          "output_type": "display_data",
          "data": {
            "text/plain": [
              "<Figure size 640x480 with 1 Axes>"
            ],
            "image/png": "[encoded data removed]"
          },
          "metadata": {}
        }
      ]
    }
  ]
}