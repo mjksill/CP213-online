{
 "cells": [
  {
   "cell_type": "markdown",
   "metadata": {},
   "source": [
    "# Reading and writing Excel spreadsheets"
   ]
  },
  {
   "cell_type": "code",
   "execution_count": null,
   "metadata": {},
   "outputs": [],
   "source": [
    "## Reading from an Excel spreadsheet"
   ]
  },
  {
   "cell_type": "markdown",
   "metadata": {},
   "source": [
    "First, let's load the Pandas library and then read the contents of the Excel file \"python_file1.xlsx\"."
   ]
  },
  {
   "cell_type": "code",
   "execution_count": null,
   "metadata": {},
   "outputs": [],
   "source": [
    "import pandas as pd\n",
    "\n",
    "df = pd.read_excel('python_file1.xlsx')\n",
    "\n",
    "\n"
   ]
  },
  {
   "cell_type": "markdown",
   "metadata": {},
   "source": [
    "Now let's see what we have read."
   ]
  },
  {
   "cell_type": "code",
   "execution_count": null,
   "metadata": {},
   "outputs": [],
   "source": [
    "print(df)"
   ]
  },
  {
   "cell_type": "markdown",
   "metadata": {},
   "source": [
    "Note that we now have a table of the information in the Excel sheet in a dataframe.  There is a column of integers on the far left that represents the row index.  The columns of the dataframe can be accessed by just...\n",
    "\n",
    "Depending on what you want to do, this may be good enough to start working with.  However, for our purpose, we want to construct a dictionary of the data for each component.\n",
    "\n",
    "The first thing we need to do is to get rid of the index column.  So, let's reread the Excel file using read_excel, but this time we will tell it to use the column 0 (i.e. the first column in the spreadsheet) as the index."
   ]
  },
  {
   "cell_type": "code",
   "execution_count": null,
   "metadata": {},
   "outputs": [],
   "source": [
    "df = pd.read_excel('python_file1.xlsx', index_col=0)\n",
    "print(df)\n",
    "\n"
   ]
  },
  {
   "cell_type": "markdown",
   "metadata": {},
   "source": [
    "This is a step forward, but it is still not exactly what we want.  "
   ]
  },
  {
   "cell_type": "code",
   "execution_count": null,
   "metadata": {},
   "outputs": [],
   "source": [
    "data = df.to_dict()\n",
    "\n",
    "print(data)"
   ]
  },
  {
   "cell_type": "markdown",
   "metadata": {},
   "source": [
    "This is not what we want.  We want the dictionary to be organized in terms of the components, and then each of these should be the data for each of the components.  \n",
    "\n",
    "Pandas dataframes are more focused on having data arranged in columns.  We can fix this by transposing the data."
   ]
  },
  {
   "cell_type": "code",
   "execution_count": null,
   "metadata": {},
   "outputs": [],
   "source": [
    "df_transpose = df.transpose()\n",
    "print(df_transpose)"
   ]
  },
  {
   "cell_type": "markdown",
   "metadata": {},
   "source": [
    "Now we have the properties for each of the components arranged in columns, exactly how Pandas likes it!  To create are data dictionary, let's now convert this transposed dataframe to a dictionary:"
   ]
  },
  {
   "cell_type": "code",
   "execution_count": null,
   "metadata": {},
   "outputs": [],
   "source": [
    "data = df_transpose.to_dict()\n",
    "print(data)"
   ]
  },
  {
   "cell_type": "markdown",
   "metadata": {},
   "source": [
    "The variable data should be exactly what we want.  To check that this still works, let's quickly redo question 3 in tutorial 20 from CP101:"
   ]
  },
  {
   "cell_type": "code",
   "execution_count": null,
   "metadata": {},
   "outputs": [],
   "source": [
    "T0 = 298.15\n",
    "\n",
    "nu = {}\n",
    "nu['CO2(g)'] = -1.0\n",
    "nu['H2(g)']  = -4.0\n",
    "nu['H2O(g)'] =  2.0\n",
    "nu['CH4(g)'] =  1.0\n",
    "\n",
    "\n",
    "\n",
    "def get_Q(T):\n",
    "    H_rxn = 0.0\n",
    "    a_rxn = 0.0\n",
    "    b_rxn = 0.0\n",
    "    c_rxn = 0.0\n",
    "    for mol, coeff in nu.items():\n",
    "        H_rxn += coeff*data[mol]['Hf']\n",
    "        a_rxn += coeff*data[mol]['a']\n",
    "        b_rxn += coeff*data[mol]['b']\n",
    "        c_rxn += coeff*data[mol]['c']\n",
    "\n",
    "    Delta_H = a_rxn*(T-T0) + 0.5*b_rxn*(T**2-T0**2) - c_rxn/3.0*(T**3-T0**3) \n",
    "\n",
    "    Q = H_rxn + Delta_H\n",
    "    \n",
    "    return Q\n",
    "\n",
    "\n",
    "import pylab as plt\n",
    "import numpy as np\n",
    "\n",
    "\n",
    "t_data = np.arange(-100.0, 500.0, 1.0)\n",
    "T_data = [t + 273.15 for t in t_data]\n",
    "Q_data = [get_Q(T) for T in T_data]\n",
    "\n",
    "plt.plot(t_data, Q_data)\n",
    "plt.show()"
   ]
  },
  {
   "cell_type": "markdown",
   "metadata": {},
   "source": [
    "This matches up with the answer we got previously."
   ]
  },
  {
   "cell_type": "code",
   "execution_count": null,
   "metadata": {},
   "outputs": [],
   "source": []
  },
  {
   "cell_type": "markdown",
   "metadata": {},
   "source": [
    "## Writing Excel spreadsheets\n",
    "\n",
    "Once we have created a dataframe with out output data, we can simply export it to an Excel spreadsheet with the command:"
   ]
  },
  {
   "cell_type": "code",
   "execution_count": null,
   "metadata": {},
   "outputs": [],
   "source": [
    "df_out = pd.DataFrame({'temperature':t_data, 'added heat':Q_data})\n",
    "\n",
    "print(df_out)"
   ]
  },
  {
   "cell_type": "code",
   "execution_count": null,
   "metadata": {},
   "outputs": [],
   "source": [
    "df_out.to_excel('junk.xlsx')"
   ]
  },
  {
   "cell_type": "markdown",
   "metadata": {},
   "source": [
    "Now you should have the file 'junk.xlsx' in the same directory as this notebook.  ...but why would you want to do that when it's much better to work in Python!"
   ]
  },
  {
   "cell_type": "code",
   "execution_count": null,
   "metadata": {},
   "outputs": [],
   "source": []
  }
 ],
 "metadata": {
  "kernelspec": {
   "display_name": "Python 3",
   "language": "python",
   "name": "python3"
  },
  "language_info": {
   "codemirror_mode": {
    "name": "ipython",
    "version": 3
   },
   "file_extension": ".py",
   "mimetype": "text/x-python",
   "name": "python",
   "nbconvert_exporter": "python",
   "pygments_lexer": "ipython3",
   "version": "3.8.5"
  }
 },
 "nbformat": 4,
 "nbformat_minor": 4
}
