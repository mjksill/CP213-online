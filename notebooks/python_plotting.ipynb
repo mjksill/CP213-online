{
 "cells": [
  {
   "cell_type": "markdown",
   "metadata": {},
   "source": [
    "# Plotting with Python\n",
    "\n",
    "The library Matplotlib enables us to create graphs to visualize data.\n",
    "To see some examples of the types of figures that we can create using\n",
    "Matplotlib, see the [gallery page](https://matplotlib.org/3.1.1/gallery/index.html).  This not only shows you what is\n",
    "possible, but it also gives you the Python code used to generate the\n",
    "figures.  In this notebook, we will be focusing mainly on creating scatter\n",
    "plots.  \n"
   ]
  },
  {
   "cell_type": "markdown",
   "metadata": {},
   "source": [
    "## Importing the library\n",
    "\n",
    "To get started, we import the `pyplot` sublibrary from `matplotlib`:"
   ]
  },
  {
   "cell_type": "code",
   "execution_count": null,
   "metadata": {},
   "outputs": [],
   "source": [
    "from matplotlib import pyplot as plt\n",
    "# or\n",
    "import matplotlib.pyplot as plt\n",
    "# or even\n",
    "import pylab as plt"
   ]
  },
  {
   "cell_type": "markdown",
   "metadata": {},
   "source": [
    "Either of the three ways of importing the library will allow us to start accessing functions in `matplotlib.pylab`.\n",
    "\n"
   ]
  },
  {
   "cell_type": "markdown",
   "metadata": {},
   "source": [
    "To access members of the pyplot module, we just prepend the nickname followed by a period to the function.  For exmple, to acces the `plot` function from `plt` we would write `plt.plot`.\n",
    "\n",
    "We can do some simple plotting:"
   ]
  },
  {
   "cell_type": "markdown",
   "metadata": {},
   "source": [
    "## Plotting a simple figure\n",
    "\n",
    "To make a scatter plot, we use the function `plot` from `matplotlib.pylab`.  This creates a scatter plot given two lists: one containing the $x$ values of a set of points, and the other containing the $y$ values.  \n",
    "\n",
    "For our first figure, we plot three points, located at $(1,1.5)$, $(2,2.5)$, and $(3,3.5)$."
   ]
  },
  {
   "cell_type": "code",
   "execution_count": null,
   "metadata": {},
   "outputs": [],
   "source": [
    "plt.plot([1, 2, 3], [1.5, 2.5, 3.5])\n",
    "plt.show()\n",
    "\n",
    "# plt.plot(x, y, style, **options)\n",
    "# for more info:\n",
    "help(plt.plot)"
   ]
  },
  {
   "cell_type": "markdown",
   "metadata": {},
   "source": [
    "The function `plot` sets up the graph, while the function `show` displays it.  The default is to give a simple line plot.\n",
    "\n",
    "Cool, but we can do so much more. `matplotlib` is extremely feature rich and allows you do produce some incredible plots, suitable for any report, paper, or dissertation.   We can use symbols on the plot, rather than a line, change the color, etc. by adding optional arguments to `plot`.  In addition, we can also add axis labels, a legend, etc. by calling additional functions from `matplotlib.pylab`."
   ]
  },
  {
   "cell_type": "code",
   "execution_count": null,
   "metadata": {
    "scrolled": true
   },
   "outputs": [],
   "source": [
    "plt.plot([1, 2, 3], [1.5, 2.5, 3.5], marker='o', ls='dashed', color='red')\n",
    "\n",
    "plt.xlabel('x values')\n",
    "plt.ylabel('y values')\n",
    "\n",
    "plt.show()\n"
   ]
  },
  {
   "cell_type": "markdown",
   "metadata": {},
   "source": [
    "The function `plot` requires are two lists of the same length that give the $x$- and $y$-coordinates of the data.  It does not care how the lists are generated.  As a more complicated example, we can plot the $\\sin$ and $\\cos$ functions from `numpy`.\n",
    "\n"
   ]
  },
  {
   "cell_type": "code",
   "execution_count": null,
   "metadata": {},
   "outputs": [],
   "source": [
    "import numpy as np\n",
    "\n",
    "x_data = np.arange(0.0, 2.0*np.pi, 0.01)\n",
    "\n",
    "y_data = [np.sin(x) for x in x_data]\n",
    "plt.plot(x_data, y_data, color='black', label='sin')\n",
    "\n",
    "y_data = [np.cos(x) for x in x_data]\n",
    "plt.plot(x_data, y_data, color='red', label='cos')\n",
    "\n",
    "plt.xlabel('$x$')\n",
    "plt.ylabel('$f(x)$')\n",
    "plt.legend()\n",
    "\n",
    "plt.show()"
   ]
  },
  {
   "cell_type": "markdown",
   "metadata": {},
   "source": [
    "### Shomate equation\n",
    "\n",
    "We are not limited to plotting library functions.  As a small example of what you can do in `matplotlib`, let's plot the specific heat of nitrogen from the [previous notebook](./python_conditionals.ipynb) on conditionals.\n",
    "\n",
    "The Shomate equation gives the molar heat capacity as\n",
    "\\begin{align*}\n",
    "C_p(T)\n",
    "&= A + B t + C t^2 + D t^3 + E t^{-2}\n",
    "\\end{align*}\n",
    "where $T$ is absolute temperature in kelvin, $t=T/1000$, $C_p$ is molar heat capacity in ${\\rm J\\,mol^{-1}\\,K^{-1}}$, and $A$, $B$, $C$, $D$, and $E$ are constants\n",
    "\n",
    "\n",
    "The parameters of the Shomate equation for nitrogen are given below (taken from the [NIST webbook](https://webbook.nist.gov/cgi/cbook.cgi?ID=C7727379&Type=JANAFG&Table=on#JANAFG)):\n",
    "\n",
    "| Temperature / K | $100.$ - $500.$ | $500.$ - $2000.$ | $2000.$ - $6000.$ |\n",
    "|:--- | ---:| ---:| ---:|\n",
    "| $A$             |   $ 28.98641$ |    $ 19.50583$ |     $ 35.51872$ |\n",
    "| $B$             |   $ 1.853978$ |    $ 19.88705$ |     $ 1.128728$ |\n",
    "| $C$             |   $-9.647459$ |    $-8.598535$ |     $-0.196103$ |\n",
    "| $D$             |   $ 16.63537$ |    $ 1.369784$ |     $ 0.014662$ |\n",
    "| $E$             |   $ 0.000117$ |    $ 0.527601$ |     $-4.553760$ |"
   ]
  },
  {
   "cell_type": "code",
   "execution_count": null,
   "metadata": {},
   "outputs": [],
   "source": [
    "def get_Cp(T):\n",
    "\n",
    "    # Get shomate coefficients from the NIST data, depending on temperature\n",
    "    \n",
    "    # Could use a range check here\n",
    "    if T >= 100.0 and T <= 500.0:\n",
    "        A =  28.98641\n",
    "        B =  1.853978\n",
    "        C = -9.647459\n",
    "        D =  16.63537\n",
    "        E =  0.000117\n",
    "    elif 500.0 < T <= 2000.0:\n",
    "        A =  19.50583\n",
    "        B =  19.88705\n",
    "        C = -8.598535\n",
    "        D =  1.369784\n",
    "        E =  0.527601\n",
    "    elif 2000.0 < T <= 6000.0:\n",
    "        A =  35.51872\n",
    "        B =  1.128728\n",
    "        C = -0.196103\n",
    "        D =  0.014662\n",
    "        E = -4.553760\n",
    "    else:\n",
    "        raise Exception('error: Temperature out of range')\n",
    "\n",
    "    t = T / 1000.0\n",
    "    Cp = A + B*t + C*t**2 + D*t**3 + E / t**2\n",
    "\n",
    "    return Cp"
   ]
  },
  {
   "cell_type": "markdown",
   "metadata": {},
   "source": [
    "To plot this function, we'll need some $x$ data, and some $y$ data. The $x$ data will be the temperature, and $y$ are the $C_p$ values for the temperatures.\n",
    "\n",
    "To generate a list of temperatures, we can use the `range` function. This function takes in up to three arguments: the first is the starting value, the second is the exclusive end (i.e. the range will stop one step before this value), and the final value is the step."
   ]
  },
  {
   "cell_type": "code",
   "execution_count": null,
   "metadata": {
    "scrolled": true
   },
   "outputs": [],
   "source": [
    "T = list(range(100, 6000, 100))\n",
    "print(T)"
   ]
  },
  {
   "cell_type": "markdown",
   "metadata": {},
   "source": [
    "Now for $y$ ($C_p$) we can use a lsit comprehension:"
   ]
  },
  {
   "cell_type": "code",
   "execution_count": null,
   "metadata": {},
   "outputs": [],
   "source": [
    "Cp = [get_Cp(Ti) for Ti in T]"
   ]
  },
  {
   "cell_type": "markdown",
   "metadata": {},
   "source": [
    "And finally to plotting. We can pass extra options to the plot function to tell it how to format the line. The first argument following the $x$ and $y$ values is a string defining the line and marker style (and optionally the colour too)."
   ]
  },
  {
   "cell_type": "code",
   "execution_count": null,
   "metadata": {
    "scrolled": true
   },
   "outputs": [],
   "source": [
    "plt.plot(T, Cp, '.--', color='red')\n",
    "\n",
    "# -- means dashed line\n",
    "# . means small circle markers\n",
    "# default is solid line no marker\n",
    "\n",
    "plt.xlabel('Temperature, $\\\\rm ^\\\\circ{}C$')\n",
    "plt.ylabel('Specific Heat Capacity, $\\\\rm J mol^{-1} K^{-1}$')\n",
    "\n",
    "plt.show()"
   ]
  },
  {
   "cell_type": "markdown",
   "metadata": {},
   "source": [
    "### Conclusion\n",
    "\n",
    "In this notebook we've introduced the concept of importing a package into a Python script, as well as briefly discussed using `matplotlib` to plot data.  If you are interested in learning more, see [here](https://matplotlib.org/tutorials/introductory/pyplot.html) for a\n",
    "a more detailed tutorial."
   ]
  },
  {
   "cell_type": "code",
   "execution_count": null,
   "metadata": {},
   "outputs": [],
   "source": []
  }
 ],
 "metadata": {
  "kernelspec": {
   "display_name": "Python 3",
   "language": "python",
   "name": "python3"
  },
  "language_info": {
   "codemirror_mode": {
    "name": "ipython",
    "version": 3
   },
   "file_extension": ".py",
   "mimetype": "text/x-python",
   "name": "python",
   "nbconvert_exporter": "python",
   "pygments_lexer": "ipython3",
   "version": "3.8.5"
  }
 },
 "nbformat": 4,
 "nbformat_minor": 4
}
