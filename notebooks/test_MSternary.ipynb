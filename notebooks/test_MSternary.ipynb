{
 "cells": [
  {
   "cell_type": "markdown",
   "id": "4a84a419",
   "metadata": {},
   "source": [
    "# Maxwell-Stefan diffusion "
   ]
  },
  {
   "cell_type": "code",
   "execution_count": null,
   "id": "0e908f9b",
   "metadata": {},
   "outputs": [],
   "source": [
    "!pip install fipy"
   ]
  },
  {
   "cell_type": "code",
   "execution_count": null,
   "id": "e48f29af",
   "metadata": {},
   "outputs": [],
   "source": [
    "from fipy import CellVariable, Grid1D, Grid2D, PeriodicGrid1D\n",
    "from fipy import DiffusionTerm, TransientTerm\n",
    "from fipy import Viewer\n",
    "from numpy import log, exp\n"
   ]
  },
  {
   "cell_type": "code",
   "execution_count": null,
   "id": "29f973b5",
   "metadata": {},
   "outputs": [],
   "source": [
    "tend = 1.0\n",
    "dt = 1.0e-2\n",
    "D01 = 1.0\n",
    "D02 = 1.0\n",
    "D12 = 1.0\n",
    "\n",
    "# thermodynamic parameters\n",
    "chi01 = 0.0\n",
    "chi02 = 0.0\n",
    "chi12 = 0.0\n",
    "\n",
    "vv = 1.0  # reference volume: all volumes will be in units of vv\n",
    "v0 = 1.0\n",
    "v1 = 1.0\n",
    "v2 = 1.0\n",
    "\n",
    "\n",
    "phi_solute = 0.1\n"
   ]
  },
  {
   "cell_type": "code",
   "execution_count": null,
   "id": "bd048ab2",
   "metadata": {},
   "outputs": [],
   "source": [
    "nx = 128\n",
    "Lx = 1.0\n",
    "mesh = Grid1D(nx=nx, Lx=Lx)\n",
    "#mesh = PeriodicGrid1D(nx=nx, dx=dx)\n",
    "\n",
    "#nx = 20\n",
    "#ny = 20\n",
    "#Lx = 1.0\n",
    "#Ly = 1.0\n",
    "#mesh = Grid2D(Lx=Lx, Ly=Ly, nx=nx, ny=ny)\n",
    "\n",
    "\n",
    "x_mesh = mesh.cellCenters\n",
    "\n",
    "\n",
    "################################################################################\n",
    "phi1 = CellVariable(mesh=mesh, hasOld=True, value=0.0, name='solvent')\n",
    "phi2 = CellVariable(mesh=mesh, hasOld=True, value=0.0, name='nonsolvent')\n",
    "phi0 = CellVariable(mesh=mesh, hasOld=True, value=0.0, name='solute')\n",
    "c = CellVariable(mesh=mesh, hasOld=True, value=0.0)\n",
    "mu0 = CellVariable(mesh=mesh, hasOld=True, value=0.0)\n",
    "mu1 = CellVariable(mesh=mesh, hasOld=True, value=0.0)\n",
    "mu2 = CellVariable(mesh=mesh, hasOld=True, value=0.0)\n"
   ]
  },
  {
   "cell_type": "code",
   "execution_count": null,
   "id": "5e8b7809",
   "metadata": {},
   "outputs": [],
   "source": [
    "SMALL = 1.0e-6\n",
    "phi1.setValue(1.0-phi_solute-SMALL, where=(x_mesh[0] <= 0.5))\n",
    "phi1.setValue(SMALL, where=(x_mesh[0] > 0.5))\n",
    "phi2.setValue(1.0-SMALL, where=(x_mesh[0] > 0.5))\n",
    "phi2.setValue(SMALL, where=(x_mesh[0] <= 0.5))\n",
    "phi0.value = 1.0 - phi1.value - phi2.value\n",
    "\n",
    "\n",
    "viewer = Viewer(vars=(phi1, phi2, phi0),  datamin=-0.1, datamax=1.1)\n"
   ]
  },
  {
   "cell_type": "code",
   "execution_count": null,
   "id": "a3e5c4d1",
   "metadata": {},
   "outputs": [],
   "source": [
    "x1 = phi1/v1 / (phi0/v0 + phi1/v1 + phi2/v2)\n",
    "x2 = phi2/v2 / (phi0/v0 + phi1/v1 + phi2/v2)\n",
    "x0 = 1.0 - x1 - x2\n",
    "\n",
    "Delta = x1/(D12*D01) + x2/(D12*D02) + x0/(D01*D02)\n",
    "dd11 = ((1.0-phi1)*v1/D02 + phi1*v0/D12) / Delta \n",
    "dd12 = - phi1*(v2/D01 - v0/D12) / Delta \n",
    "dd21 = - phi2*(v1/D02 - v0/D12) / Delta \n",
    "dd22 = ((1.0-phi2)*v2/D01 + phi2*v0/D12) / Delta \n",
    "\n",
    "# x_\\alpha\\frac{\\partial\\mu_\\alpha}{\\partial x_{\\alpha'}}\n",
    "# c_\\alpha\\frac{\\partial\\mu_\\alpha}{\\partial \\phi_{\\alpha'}}\n",
    "dmu11 = 1.0/v1 + phi1*(-(1.0/v1-1.0/v0) + (chi01+chi02-chi12)*phi2 - 2.0*chi01*(1.0-phi1)) \n",
    "dmu12 = 0.0    + phi1*(-(1.0/v2-1.0/v0) + (chi12-chi01-chi02)*(1.0-phi1) + 2.0*chi02*phi2) \n",
    "dmu21 = 0.0    + phi2*(-(1.0/v1-1.0/v0) + (chi12-chi01-chi02)*(1.0-phi2) + 2.0*chi01*phi1) \n",
    "dmu22 = 1.0/v2 + phi2*(-(1.0/v2-1.0/v0) + (chi01+chi02-chi12)*phi1 - 2.0*chi02*(1.0-phi2)) \n",
    "\n",
    "DD11 = dd11*dmu11+dd12*dmu21\n",
    "DD12 = dd11*dmu12+dd12*dmu22\n",
    "DD21 = dd21*dmu11+dd22*dmu21\n",
    "DD22 = dd22*dmu22+dd21*dmu12\n",
    "\n",
    "\n",
    "#eq1 = TransientTerm(var=x1) == DiffusionTerm(coeff=1.0, var=x1)\n",
    "#eq2 = TransientTerm(var=x2) == DiffusionTerm(coeff=1.0, var=x2)\n",
    "eq1 = TransientTerm(var=phi1) == DiffusionTerm(coeff=DD11, var=phi1) + DiffusionTerm(coeff=DD12, var=phi2)\n",
    "eq2 = TransientTerm(var=phi2) == DiffusionTerm(coeff=DD21, var=phi1) + DiffusionTerm(coeff=DD22, var=phi2)\n",
    "\n",
    "eq = eq1 & eq2 \n"
   ]
  },
  {
   "cell_type": "code",
   "execution_count": null,
   "id": "d171a2bd",
   "metadata": {},
   "outputs": [],
   "source": [
    "def set_variables(phi1, phi2):\n",
    "    \n",
    "    phi0.value = 1.0 - phi1 - phi2\n",
    "    mu0.value = phi0*exp((1.0-v0/v1)*phi1 + (1.0-v0/v2)*phi2 + v0*((chi01*phi1+chi02*phi2)*(phi1+phi2)-chi12*phi1*phi2))\n",
    "    mu1.value = phi1*exp((1.0-v1/v0)*(1.0-phi1) - (v1/v2-v1/v0)*phi2 + v1*((chi12-chi01-chi02)*(1.0-phi1)*phi2+chi01*(1.0-phi1)**2+chi02*phi2**2))\n",
    "    mu2.value = phi2*exp((1.0-v2/v0)*(1.0-phi2) - (v2/v1-v2/v0)*phi1 + v2*((chi12-chi01-chi02)*(1.0-phi2)*phi1+chi02*(1.0-phi2)**2+chi01*phi1**2))\n"
   ]
  },
  {
   "cell_type": "code",
   "execution_count": null,
   "id": "958fcbd7",
   "metadata": {},
   "outputs": [],
   "source": [
    "count = 0\n",
    "t = 0.0\n",
    "\n",
    "while (t < tend):\n",
    "\n",
    "    phi1.updateOld()\n",
    "    phi2.updateOld()\n",
    "    eq.solve(dt=dt)\n",
    "\n",
    "    set_variables(phi1, phi2)\n",
    "\n",
    "    count += 1\n",
    "    t += dt\n",
    "    viewer.plot()\n"
   ]
  },
  {
   "cell_type": "code",
   "execution_count": null,
   "id": "90fa44ba",
   "metadata": {},
   "outputs": [],
   "source": []
  }
 ],
 "metadata": {
  "kernelspec": {
   "display_name": "Python 3",
   "language": "python",
   "name": "python3"
  },
  "language_info": {
   "codemirror_mode": {
    "name": "ipython",
    "version": 3
   },
   "file_extension": ".py",
   "mimetype": "text/x-python",
   "name": "python",
   "nbconvert_exporter": "python",
   "pygments_lexer": "ipython3",
   "version": "3.9.5"
  }
 },
 "nbformat": 4,
 "nbformat_minor": 5
}
