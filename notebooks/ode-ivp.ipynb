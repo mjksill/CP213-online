{
 "cells": [
  {
   "cell_type": "markdown",
   "metadata": {},
   "source": [
    "# Numerical solution of second order ODEs: Initial value problem\n",
    "\n",
    "In this notebook, we develop a code to solve second order ordinary differential equations that are initial value problems.  We assume that the equations are of the form:\n",
    "\\begin{align*}\n",
    "\\frac{d^2y}{dx^2} &= f\\left(\\frac{dy}{dx}, y, x\\right)\n",
    "\\end{align*}\n",
    "with the initial conditions\n",
    "\\begin{align*}\n",
    "y(a) &= y_a\n",
    "\\\\\n",
    "\\frac{dy(a)}{dx} &= y_a'\n",
    ".\n",
    "\\end{align*}\n",
    "\n",
    "The first step is to convert this second order differential equation into a set of two couple first order differential equations by defining two new functions $y_0(x)=y(x)$, which is equal to the original function, and $y_1(x)=y'(x)$, which is equal to the derivative of the original function.  With this transformation, we find the equations:\n",
    "\\begin{align*}\n",
    "\\frac{dy_0}{dx} &= y_1\n",
    "\\\\\n",
    "\\frac{dy_1}{dx} &= f(y_1, y_0, x)\n",
    "\\end{align*}\n",
    "with the initial conditions $y_0(a)=y_a$ and $y_1(a)=y_a'$.\n",
    "\n",
    "Note that these equations are a special case of the more general form of two coupled first order differential equations:\n",
    "\\begin{align*}\n",
    "\\frac{dy_0}{dx} &= f_0(y_0, y_1, x)\n",
    "\\\\\n",
    "\\frac{dy_1}{dx} &= f_1(y_0, y_1, x)\n",
    "\\end{align*}\n",
    "where in our case $f_0(y_0, y_1, x)=y_1$ and $f_1(y_0, y_1, x)=f(y_1, y_0, x)$.  So if we can solve these more general equations, we can solve the second order initial value problem."
   ]
  },
  {
   "cell_type": "markdown",
   "metadata": {},
   "source": [
    "## Euler method for solving a system of first order ODEs\n",
    "\n",
    "Here we present the explicit Euler method for solving a system of two first order differential equations.  This method is very similar to the one we used for solving a single first order differential equation and is based on the finite difference approximation of the derivative:\n",
    "\\begin{align*}\n",
    "\\frac{dy}{dx} \\approx \\frac{y(x+\\Delta x)-y(x)}{\\Delta x}\n",
    ".\n",
    "\\end{align*}\n",
    "This expression is only approximate, but the approximation becomes more accurate as $\\Delta x$ becomes smaller and smaller.\n",
    "If we substitute this approximation for $dy_0/dx$ and $dy_1/dx$ in the differential equation, we find the recursion relations:\n",
    "\\begin{align*}\n",
    "y_0(x+\\Delta x) \\approx y_0(x) + f_0(y_0(x), y_1(x), x) \\Delta x\n",
    "\\\\\n",
    "y_1(x+\\Delta x) \\approx y_1(x) + f_1(y_0(x), y_1(x), x) \\Delta x\n",
    ".\n",
    "\\end{align*}\n",
    "These relations allow us to \"march forward\" and compute the value of the functions $y_0$ and $y_1$ given their values at a previous value of $x$.  The algorithm is implemented below in the function `solve_ode`:\n"
   ]
  },
  {
   "cell_type": "code",
   "execution_count": 57,
   "metadata": {},
   "outputs": [],
   "source": [
    "def solve_ode(derivs, y0_a, y1_a, a, dx, nsteps):\n",
    "''' This function solves a set of two first order differential equations.\n",
    "    The first argument derivs is a function that will return the values of the derivatives\n",
    "    of y0 and y1, given the values of y0, y1, and x.  The argument y0_a is the value of \n",
    "    y0 at x=a.  The argument y1_a is the value of y1 at x=a.  The argument a is the initial\n",
    "    value of x.  The argument dx is the step size, and the argument nsteps is the number \n",
    "    steps that will be taken in the function.\n",
    "'''\n",
    "\n",
    "    xold = a\n",
    "    y0old = y0_a   # initial value of y0: y0(a)\n",
    "    y1old = y1_a   # initial value of y1: y1(a)\n",
    "    \n",
    "    x_data = [a]\n",
    "    y0_data = [y0old]\n",
    "    y1_data = [y1old]\n",
    "\n",
    "    # xold = x\n",
    "    # y0old = y0(x)\n",
    "    # y1old = y1(x)\n",
    "    for step in range(nsteps):\n",
    "        # dy0dx = f0(y0(x), y1(x), x)\n",
    "        # dy1dx = f1(y0(x), y1(x), x)\n",
    "        dy0dx, dy1dx = derivs([y0old, y1old], xold)\n",
    "        xnew = xold + dx            # xnew = x + dx\n",
    "        y0new = y0old + dy0dx*dx    # y0new = y0(x+dx)\n",
    "        y1new = y1old + dy1dx*dx    # y1new = y1(x+dx)\n",
    "\n",
    "        x_data.append(xnew)\n",
    "        y0_data.append(y0new)\n",
    "        y1_data.append(y1new)\n",
    "        \n",
    "        xold = xnew\n",
    "        y0old = y0new\n",
    "        y1old = y1new\n",
    "    \n",
    "    return x_data, y0_data, y1_data"
   ]
  },
  {
   "cell_type": "markdown",
   "metadata": {},
   "source": [
    "## Example: Simple harmonic oscillator\n",
    "\n",
    "We will test this method against the \n",
    "\\begin{align*}\n",
    "\\frac{d^2y}{dx^2} + y &= 0\n",
    "\\end{align*}\n",
    "with the initial conditions $y(0)=1$ and $y'(0)=0$.  Note that\n",
    "the analytical solution of this equation is $y(x)=\\cos x$.\n",
    "\n",
    "\n",
    "Defining $y_0(x)=y(0)$ and $y_1(x)=y'(x)$, this differential equation can be converted to the form\n",
    "\\begin{align*}\n",
    "\\frac{dy_0}{dx} &= y_1\n",
    "\\\\\n",
    "\\frac{dy_1}{dx} &= -y_0\n",
    "\\end{align*}\n",
    "where $y_0(0)=1$ and $y_1(0)=0$.  Below we solve this equation numerically and compare it with the analytical solution.\n"
   ]
  },
  {
   "cell_type": "code",
   "execution_count": 70,
   "metadata": {},
   "outputs": [
    {
     "data": {
      "image/png": "[encoded data removed]",
      "text/plain": [
       "<Figure size 432x288 with 1 Axes>"
      ]
     },
     "metadata": {
      "needs_background": "light"
     },
     "output_type": "display_data"
    }
   ],
   "source": [
    "import pylab as plt\n",
    "\n",
    "t0 = 0.0\n",
    "dt = 0.01\n",
    "nsteps = 1000\n",
    "y0 = 1.0\n",
    "y1 = 0.0\n",
    "\n",
    "def F(y, x):\n",
    "    \n",
    "    y0, y1 = y\n",
    "    \n",
    "    f = []\n",
    "    f.append( y1)\n",
    "    f.append(-y0)\n",
    "    return f\n",
    "\n",
    "x_data, y0_data, y1_data = solve_ode(F, y0, y1, t0, dt, nsteps)\n",
    "\n",
    "plt.plot(x_data, y0_data, 'o', label='numerical')\n",
    "plt.plot(x_data, [np.cos(x) for x in x_data], label='analytical')\n",
    "plt.xlabel('$x$')\n",
    "plt.ylabel('$y(x)')\n",
    "plt.legend()\n",
    "plt.show()\n"
   ]
  },
  {
   "cell_type": "markdown",
   "metadata": {},
   "source": [
    "## Example: Pendulum\n",
    "\n",
    "As an example, we consider the equation of motion for a pendulum of mass $m$ that is attached to a fixed point with a string of length $l$.  In addition, we assume that a drag force acts on the mass, which has a magnitude $\\mu v$, where $v$ is its speed.  The differential equation is given by\n",
    "\\begin{align*}\n",
    "m l \\frac{d^2\\theta}{dt^2}\n",
    "+ \\mu l \\frac{d\\theta}{dt}\n",
    "+ mg \\sin\\theta &= 0\n",
    ".\n",
    "\\end{align*}\n",
    "This equation needs to be supplemented by a set of two initial conditions which specify the values of $\\theta(0)$ and $\\theta'(0)$.\n",
    "\n",
    "In this case, we choose the define the functions $y_0(x)=\\theta(t)$ and $y_1(x)=\\theta'(t)$, so the first order differential equations are\n",
    "\\begin{align*}\n",
    "\\frac{dy_0}{dx} &= y_1(x)\n",
    "\\\\\n",
    "\\frac{dy_1}{dx} &= -\\frac{\\mu}{m}y_1(x) - \\frac{g}{l}\\sin(y_0(x))\n",
    "\\end{align*}\n",
    "with the corresponding initial conditions $y_0(0)=\\theta(0)$ and $y_1(0)=\\theta'(0)$.  Below, we solve this equation numerically."
   ]
  },
  {
   "cell_type": "code",
   "execution_count": 110,
   "metadata": {},
   "outputs": [
    {
     "data": {
      "image/png": "[encoded data removed]",
      "text/plain": [
       "<Figure size 432x288 with 1 Axes>"
      ]
     },
     "metadata": {
      "needs_background": "light"
     },
     "output_type": "display_data"
    }
   ],
   "source": [
    "import numpy as np\n",
    "import pylab as plt\n",
    "\n",
    "\n",
    "# defining the pendulum system\n",
    "l = 1.0    # length of string / m\n",
    "mu = 1.0e-1   # drag factor / N s m^{-1}\n",
    "m = 1.0    # mass / kg\n",
    "g = 9.81   # acceleration due to gravity / m s^{-2}\n",
    "\n",
    "# initial conditions\n",
    "theta0 = np.pi*1.0\n",
    "theta1 = 1.0\n",
    "\n",
    "\n",
    "def dydx(y, x):\n",
    "    \n",
    "    y0, y1 = y\n",
    "    \n",
    "    f = []\n",
    "    f.append(y1)\n",
    "    f.append(-y1*mu/m-np.sin(y0)*g/l) \n",
    "#    f.append(-y0)\n",
    "    \n",
    "    return f\n",
    "\n",
    "\n",
    "\n",
    "\n",
    "t0 = 0.0\n",
    "dt = 0.001 * np.sqrt(l/g)\n",
    "nsteps = 100000\n",
    "x_data, y0_data, y1_data = solve_ode(dydx, theta0, theta1, t0, dt, nsteps)\n",
    "\n",
    "\n",
    "\n",
    "plt.plot(x_data, y0_data)\n",
    "plt.ylabel('angle / radians')\n",
    "plt.xlabel('time / s')\n",
    "plt.show()"
   ]
  },
  {
   "cell_type": "markdown",
   "metadata": {},
   "source": [
    "### Animation\n",
    "\n",
    "Below is a code that animates the above results.  Note that it may take a bit of time for the notebook to create the movie, so be patient please!  Also, you can try to play around with the system by changing the initial conditions."
   ]
  },
  {
   "cell_type": "code",
   "execution_count": null,
   "metadata": {},
   "outputs": [],
   "source": [
    "from matplotlib import animation, rc\n",
    "from IPython.display import HTML\n",
    "\n",
    "l = 1.0\n",
    "\n",
    "x_data = x_data[::10]\n",
    "y0_data = y0_data[::10]  \n",
    "\n",
    "\n",
    "frames = len(x_data)\n",
    "frames = min(len(x_data), 10000)\n",
    "\n",
    "fig, ax = plt.subplots()\n",
    "\n",
    "\n",
    "ax.set_xlim([-1.5, 1.5])\n",
    "ax.set_aspect(aspect=1)\n",
    "\n",
    "point, = ax.plot([], [], 'o', color='black')\n",
    "\n",
    "string, = ax.plot([], [], lw='3', color='black')\n",
    "mass, = ax.plot([], [], 'o', ms=20)\n",
    "\n",
    "objs = [point, string, mass]\n",
    "\n",
    "\n",
    "def init():\n",
    "    for obj in objs:\n",
    "        obj.set_data([], [])\n",
    "    point.set_data([0.0], [l])    \n",
    "    return objs\n",
    "\n",
    "\n",
    "def animate(i):\n",
    "\n",
    "    t = x_data[i]\n",
    "    theta = y0_data[i]\n",
    "\n",
    "    mass.set_data([-l*np.sin(theta)], [l-l*np.cos(theta)])\n",
    "    string.set_data([0.0, -l*np.sin(theta)], [l, l-l*np.cos(theta)])\n",
    "\n",
    "    \n",
    "    return objs\n",
    "\n",
    "anim = animation.FuncAnimation(fig, animate, init_func=init, frames=frames, interval=20, blit=True)\n",
    "\n",
    "HTML(anim.to_html5_video())"
   ]
  },
  {
   "cell_type": "code",
   "execution_count": null,
   "metadata": {},
   "outputs": [],
   "source": []
  }
 ],
 "metadata": {
  "kernelspec": {
   "display_name": "Python 3",
   "language": "python",
   "name": "python3"
  },
  "language_info": {
   "codemirror_mode": {
    "name": "ipython",
    "version": 3
   },
   "file_extension": ".py",
   "mimetype": "text/x-python",
   "name": "python",
   "nbconvert_exporter": "python",
   "pygments_lexer": "ipython3",
   "version": "3.8.5"
  }
 },
 "nbformat": 4,
 "nbformat_minor": 4
}
