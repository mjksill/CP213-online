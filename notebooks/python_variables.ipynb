{
 "cells": [
  {
   "cell_type": "markdown",
   "metadata": {},
   "source": [
    "# Python is a calculator *with variables*\n",
    "\n",
    "In the [last notebook](python_calculator.ipynb), we used Python as a simple calculator. Now, we can accelerate things with ***variables***!"
   ]
  },
  {
   "cell_type": "markdown",
   "metadata": {},
   "source": [
    "A *variable* is a piece of information that you give a name, so you can use it later.\n",
    "\n",
    "For example, we can create a variable to store the digits of $\\pi$:"
   ]
  },
  {
   "cell_type": "code",
   "execution_count": null,
   "metadata": {},
   "outputs": [],
   "source": [
    "pi = 3.1415926"
   ]
  },
  {
   "cell_type": "markdown",
   "metadata": {},
   "source": [
    "Notice the lack of output, however we can now use `pi` elsewhere:"
   ]
  },
  {
   "cell_type": "code",
   "execution_count": null,
   "metadata": {},
   "outputs": [],
   "source": [
    "pi /2"
   ]
  },
  {
   "cell_type": "markdown",
   "metadata": {},
   "source": [
    "There are a few rules around variable naming:\n",
    " - variables cannot contain spaces, or symbols apart from underlines '_'.\n",
    " - variables cannot start with a number\n",
    " \n",
    "Apart from this, you can assign any name you like."
   ]
  },
  {
   "cell_type": "markdown",
   "metadata": {},
   "source": [
    "To see the value of a variable, we could execute it alone in Python:"
   ]
  },
  {
   "cell_type": "code",
   "execution_count": null,
   "metadata": {},
   "outputs": [],
   "source": [
    "pi"
   ]
  },
  {
   "cell_type": "markdown",
   "metadata": {},
   "source": [
    "However, there is a better way.\n",
    "\n",
    "We can use the `print` function (more on functions later). To see the value of something, you `print` it to the screen simply by writing `print(` followed by a comma separated list of things you want to see, with a `)` tacked on the end."
   ]
  },
  {
   "cell_type": "code",
   "execution_count": null,
   "metadata": {},
   "outputs": [],
   "source": [
    "print('The value of pi is:', pi)"
   ]
  },
  {
   "cell_type": "markdown",
   "metadata": {},
   "source": [
    "We can use this knowledge to simplify the example from the previous notebook."
   ]
  },
  {
   "cell_type": "markdown",
   "metadata": {},
   "source": [
    "## CP101: Example 2.6\n",
    "\n",
    "The following is the composition of a gas expressed as a weight percent.  Express the molar composition.\n",
    "\n",
    "\n",
    "| gas | weight % | molecular mass           |\n",
    "|:--- | --- | --- |\n",
    "|             |          | g mol$^{-1}$ |\n",
    "| O$_2$       |     16.0 |       32.0 |\n",
    "| CO          |      4.0 |       28.0 |\n",
    "| CO$_2$      |     17.0 |       44.0 |\n",
    "| N$_2$       |     63.0 |       28.0 |\n"
   ]
  },
  {
   "cell_type": "markdown",
   "metadata": {},
   "source": [
    "We can use Python to calculate the moles of each component.\n",
    "\n",
    "Moles of O$_2$:"
   ]
  },
  {
   "cell_type": "code",
   "execution_count": null,
   "metadata": {},
   "outputs": [],
   "source": [
    "n_O2 = 16.0 / 32.0"
   ]
  },
  {
   "cell_type": "markdown",
   "metadata": {},
   "source": [
    "Moles of CO:"
   ]
  },
  {
   "cell_type": "code",
   "execution_count": null,
   "metadata": {},
   "outputs": [],
   "source": [
    "n_CO = 4.0 / 28.0"
   ]
  },
  {
   "cell_type": "markdown",
   "metadata": {},
   "source": [
    "Moles of CO$_2$"
   ]
  },
  {
   "cell_type": "code",
   "execution_count": null,
   "metadata": {},
   "outputs": [],
   "source": [
    "n_CO2 = 14.0 / 44.0"
   ]
  },
  {
   "cell_type": "markdown",
   "metadata": {},
   "source": [
    "Moles of N$_2$"
   ]
  },
  {
   "cell_type": "code",
   "execution_count": null,
   "metadata": {},
   "outputs": [],
   "source": [
    "n_N2 = 63.0 / 28.0"
   ]
  },
  {
   "cell_type": "markdown",
   "metadata": {},
   "source": [
    "With the number of moles of each component, we can now calculate the total number of moles for our basis unit mass.\n",
    "\n",
    "Total number of moles:"
   ]
  },
  {
   "cell_type": "code",
   "execution_count": null,
   "metadata": {},
   "outputs": [],
   "source": [
    "n_total = n_O2 + n_CO + n_CO2 + n_N2"
   ]
  },
  {
   "cell_type": "markdown",
   "metadata": {},
   "source": [
    "The mole fraction is then simply obtained by dividing the number of moles of each component by the total. Percent is obtained by multiplying the fraction by 100%.\n",
    "\n",
    "Mole percentages:"
   ]
  },
  {
   "cell_type": "code",
   "execution_count": null,
   "metadata": {},
   "outputs": [],
   "source": [
    "mol_perc_O2 = n_O2 / n_total * 100.0\n",
    "mol_perc_CO = n_CO / n_total * 100.0\n",
    "mol_perc_CO2 = n_CO2 / n_total * 100.0\n",
    "mol_perc_N2 = n_N2 / n_total * 100.0"
   ]
  },
  {
   "cell_type": "markdown",
   "metadata": {},
   "source": [
    "Finally, we can print the values of the variables so we can se the answer:"
   ]
  },
  {
   "cell_type": "code",
   "execution_count": null,
   "metadata": {},
   "outputs": [],
   "source": [
    "print('mol% O2  = ', mol_perc_O2, '%')\n",
    "print('mol% CO  = ', mol_perc_CO, '%')\n",
    "print('mol% CO2 = ', mol_perc_CO2, '%')\n",
    "print('mol% N2  = ', mol_perc_N2, '%')"
   ]
  },
  {
   "cell_type": "markdown",
   "metadata": {},
   "source": [
    "We haven't had to retype the mol values as we did in the last notebook. Now if we wanted to alter our input composition, it would be as simple as changing the four values at the start of this section, and hitting the re-run button on this notebook (⏩). Much easier!"
   ]
  },
  {
   "cell_type": "markdown",
   "metadata": {},
   "source": [
    "## An aside: f-strings\n",
    "\n",
    "We've used the print function here to join our number to a text string, resulting in numbers with entirely too many decimal places and extra spacing where we might not want it. However there is a much better way: format-strings (AKA f-strings). This is a string, with an f prepended. In this string, we can include special format tags which allow us to include *any* variable within the string."
   ]
  },
  {
   "cell_type": "code",
   "execution_count": null,
   "metadata": {},
   "outputs": [],
   "source": [
    "f'The value of pi is {pi}'"
   ]
  },
  {
   "cell_type": "markdown",
   "metadata": {},
   "source": [
    "The bit in the curly braces is the special tag that lets us include a variable directly in the string. If you want to include a curly brace in the string, you can 'escape' it by doubling it up:"
   ]
  },
  {
   "cell_type": "code",
   "execution_count": null,
   "metadata": {},
   "outputs": [],
   "source": [
    "f'The syntax of an f-string is f\"text {{variable}}\". The value of pi is {pi}.'"
   ]
  },
  {
   "cell_type": "markdown",
   "metadata": {},
   "source": [
    "This format tag can include information about *how* to represent the data too. For example, $\\pi$ is a floating point number and has parts after the decimal point. We can restrict this to only 2 places as follows:"
   ]
  },
  {
   "cell_type": "code",
   "execution_count": null,
   "metadata": {},
   "outputs": [],
   "source": [
    "f'The value of pi to 2dp is {pi:.2f}'"
   ]
  },
  {
   "cell_type": "markdown",
   "metadata": {},
   "source": [
    "Using the power of f-strings, we can re-write the output section above a bit more nicely:"
   ]
  },
  {
   "cell_type": "code",
   "execution_count": null,
   "metadata": {},
   "outputs": [],
   "source": [
    "print(f'mol% O2  = {mol_perc_O2:.2f}%')\n",
    "print(f'mol% CO  = {mol_perc_CO:.2f}%')\n",
    "print(f'mol% CO2 = {mol_perc_CO2:.2f}%')\n",
    "print(f'mol% N2  = {mol_perc_N2:.2f}%')"
   ]
  },
  {
   "cell_type": "markdown",
   "metadata": {},
   "source": [
    "## Another aside: types\n",
    "\n",
    "Variables explained another way, are a *name* given to an *object*. An object in python is anything and everything. A number is an object, a function is an object, a string is an object. Those things are just *types* of object. Types tell you what an object can do or what to do with it.\n",
    "\n",
    "For example, a `float` object is a number expressed as a floating point number (don't worry too much about it - it's a number with decimal places) which can have arithmetic performed on it. A `str` (string) is piece of text - arithmetic makes no sense for text. If you try to add two strings, what do you think happens?"
   ]
  },
  {
   "cell_type": "code",
   "execution_count": null,
   "metadata": {},
   "outputs": [],
   "source": [
    "'string 1' + 'string 2'"
   ]
  },
  {
   "cell_type": "markdown",
   "metadata": {},
   "source": [
    "You get a new string of the initial two added together! However, you can't do things like add a `str` to a `float` or to an `int`. Types are something to be aware of, but Python will tell you when you're doing something insensible."
   ]
  },
  {
   "cell_type": "markdown",
   "metadata": {},
   "source": [
    "## Conclusion\n",
    "\n",
    "In this notebook, we've seen the power of variables and how they're useful to drastically reduce the amount of retyping required in the process of a calculation. We've touch slightly on the function syntax in python, which we'll go into much more detail later. In the [next notebook](python_lists.ipynb) we'll talk about structuring data."
   ]
  }
 ],
 "metadata": {
  "kernelspec": {
   "display_name": "Python 3",
   "language": "python",
   "name": "python3"
  },
  "language_info": {
   "codemirror_mode": {
    "name": "ipython",
    "version": 3
   },
   "file_extension": ".py",
   "mimetype": "text/x-python",
   "name": "python",
   "nbconvert_exporter": "python",
   "pygments_lexer": "ipython3",
   "version": "3.8.5"
  }
 },
 "nbformat": 4,
 "nbformat_minor": 4
}
