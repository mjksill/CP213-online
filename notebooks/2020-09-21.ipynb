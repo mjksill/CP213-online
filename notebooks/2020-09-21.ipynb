{
 "cells": [
  {
   "cell_type": "markdown",
   "metadata": {},
   "source": [
    "# CP101: Example 2.6\n",
    "\n",
    "The following is the composition of a gas expressed as a weight percent.  Express the molar composition.\n",
    "\n",
    "\n",
    "| gas | weight % | molecular mass           |\n",
    "|:--- | --- | --- |\n",
    "|             |          | g mol$^{-1}$ |\n",
    "| O$_2$       |     16.0 |       32.0 |\n",
    "| CO          |      4.0 |       28.0 |\n",
    "| CO$_2$      |     17.0 |       44.0 |\n",
    "| N$_2$       |     63.0 |       28.0 |\n"
   ]
  },
  {
   "cell_type": "code",
   "execution_count": 37,
   "metadata": {},
   "outputs": [
    {
     "name": "stdout",
     "output_type": "stream",
     "text": [
      "{'O2': 0.5, 'CO': 0.14285714285714285, 'CO2': 0.38636363636363635, 'N2': 2.25}\n",
      "3.279220779220779\n",
      "{'O2': 0.15247524752475247, 'CO': 0.04356435643564356, 'CO2': 0.11782178217821783, 'N2': 0.6861386138613862}\n"
     ]
    }
   ],
   "source": [
    "wt = {'O2':16.0, 'CO':4, 'CO2':17, 'N2':63.0}\n",
    "M = {'N2':28, 'O2':32, 'CO':28, 'CO2':44}\n",
    "\n",
    "moles = {}\n",
    "total = 0.0\n",
    "for c, m in wt.items():\n",
    "    mm = m / M[c]\n",
    "    moles[c] = mm\n",
    "    total += mm\n",
    "print(moles)\n",
    "print(total)\n",
    "\n",
    "x = {}\n",
    "for c, mm in moles.items():\n",
    "    x[c] = mm / total\n",
    "print(x)\n",
    "\n"
   ]
  },
  {
   "cell_type": "code",
   "execution_count": 39,
   "metadata": {},
   "outputs": [
    {
     "name": "stdout",
     "output_type": "stream",
     "text": [
      "{'O2': 0.15247524752475247, 'CO': 0.04356435643564356, 'CO2': 0.11782178217821783, 'N2': 0.6861386138613862}\n"
     ]
    }
   ],
   "source": [
    "def get_x(wt, M):\n",
    "    \n",
    "    moles = {}\n",
    "    total = 0.0\n",
    "    for c, m in wt.items():\n",
    "        mm = m / M[c]\n",
    "        moles[c] = mm\n",
    "        total += mm\n",
    "\n",
    "\n",
    "    x = {}\n",
    "    for c, mm in moles.items():\n",
    "        x[c] = mm / total\n",
    "\n",
    "    return x\n",
    "\n",
    "x = get_x(wt, M)\n",
    "print(x)\n",
    "\n"
   ]
  },
  {
   "cell_type": "code",
   "execution_count": 28,
   "metadata": {},
   "outputs": [],
   "source": [
    "wt_O2 = 12.0\n",
    "wt_CO = 8\n",
    "wt_CO2 = 17\n",
    "wt_N2 = 63.0\n",
    "\n",
    "M_O2 = 32\n",
    "M_CO = 28\n",
    "M_CO2 = 44\n",
    "M_N2 = 28"
   ]
  },
  {
   "cell_type": "code",
   "execution_count": 29,
   "metadata": {},
   "outputs": [
    {
     "name": "stdout",
     "output_type": "stream",
     "text": [
      "3.2970779220779223\n",
      "0.11373707533234859\n",
      "0.11718365337272278\n"
     ]
    }
   ],
   "source": [
    "moles_O2 = wt_O2 / M_O2\n",
    "moles_CO = wt_CO / M_CO\n",
    "moles_CO2 = wt_CO2 / M_CO2\n",
    "moles_N2 = wt_N2 / M_N2\n",
    "\n",
    "moles = moles_O2 + moles_CO + moles_CO2 + moles_N2\n",
    "\n",
    "x_O2 = moles_O2 / moles\n",
    "x_CO = moles_CO / moles\n",
    "x_CO2 = moles_CO2 / moles\n",
    "x_N2 = moles_N2 / moles\n",
    "\n",
    "print(moles)\n",
    "print(x_O2)\n",
    "print(x_CO2)"
   ]
  },
  {
   "cell_type": "code",
   "execution_count": 14,
   "metadata": {},
   "outputs": [
    {
     "data": {
      "text/plain": [
       "0.38636363636363635"
      ]
     },
     "execution_count": 14,
     "metadata": {},
     "output_type": "execute_result"
    }
   ],
   "source": [
    "17/44"
   ]
  },
  {
   "cell_type": "code",
   "execution_count": 15,
   "metadata": {},
   "outputs": [
    {
     "data": {
      "text/plain": [
       "2.25"
      ]
     },
     "execution_count": 15,
     "metadata": {},
     "output_type": "execute_result"
    }
   ],
   "source": [
    "63 / 28"
   ]
  },
  {
   "cell_type": "code",
   "execution_count": 6,
   "metadata": {},
   "outputs": [
    {
     "data": {
      "text/plain": [
       "3.279220779220779"
      ]
     },
     "execution_count": 6,
     "metadata": {},
     "output_type": "execute_result"
    }
   ],
   "source": [
    "0.5+0.14285714285714285+0.38636363636363635+2.25"
   ]
  },
  {
   "cell_type": "code",
   "execution_count": 7,
   "metadata": {},
   "outputs": [
    {
     "data": {
      "text/plain": [
       "15.247524752475247"
      ]
     },
     "execution_count": 7,
     "metadata": {},
     "output_type": "execute_result"
    }
   ],
   "source": [
    "0.5 / 3.279220779220779 * 100"
   ]
  },
  {
   "cell_type": "code",
   "execution_count": null,
   "metadata": {},
   "outputs": [],
   "source": []
  }
 ],
 "metadata": {
  "kernelspec": {
   "display_name": "Python 3",
   "language": "python",
   "name": "python3"
  },
  "language_info": {
   "codemirror_mode": {
    "name": "ipython",
    "version": 3
   },
   "file_extension": ".py",
   "mimetype": "text/x-python",
   "name": "python",
   "nbconvert_exporter": "python",
   "pygments_lexer": "ipython3",
   "version": "3.8.5"
  }
 },
 "nbformat": 4,
 "nbformat_minor": 4
}
