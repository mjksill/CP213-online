{
 "cells": [
  {
   "cell_type": "markdown",
   "metadata": {},
   "source": [
    "# Lists in Python\n",
    "\n",
    "Previously, we have learned that variables in Python can take on values that are either numbers (e.g., integer or floating point numbers) or strings.  However, we only considered variables as having a single value.  Lists are variables that are collections are values.\n"
   ]
  },
  {
   "cell_type": "markdown",
   "metadata": {},
   "source": [
    "## Creating and modifying lists\n",
    "\n",
    "We can create a list in Python by simply entering a sequence of values or variables, separated by commas, between two square brackets.  We can enter any number of values, and the values do not even need to have the same type.  In the following, we create a list consiting of the values `2.0`, `1.3e-2`, `'hello'`, and the letter `'B'` and assign it to the variable `x`."
   ]
  },
  {
   "cell_type": "code",
   "execution_count": null,
   "metadata": {},
   "outputs": [],
   "source": [
    "x = [2.0, 1.3e-2, 'hello', 'B']\n",
    "\n",
    "print(x)"
   ]
  },
  {
   "cell_type": "markdown",
   "metadata": {},
   "source": [
    "Lists can also be empty.  Below we create an empty list and assign it to the variable `a_list`."
   ]
  },
  {
   "cell_type": "code",
   "execution_count": null,
   "metadata": {},
   "outputs": [],
   "source": [
    "a_list = []\n",
    "\n",
    "print(a_list)"
   ]
  },
  {
   "cell_type": "markdown",
   "metadata": {},
   "source": [
    "We can append a value to the end of a list by simply using the \"append\" member function of the list.  That is, to append the value `4.8` to the list `x` that we created above, we simply write:"
   ]
  },
  {
   "cell_type": "code",
   "execution_count": null,
   "metadata": {
    "scrolled": true
   },
   "outputs": [],
   "source": [
    "x.append(4.8)\n",
    "\n",
    "print(x)"
   ]
  },
  {
   "cell_type": "markdown",
   "metadata": {},
   "source": [
    "We can perform this process repeatedly to successively add items to a list.  In the example below, we build upon the empty list `a_list` that we created above:"
   ]
  },
  {
   "cell_type": "code",
   "execution_count": null,
   "metadata": {},
   "outputs": [],
   "source": [
    "a_list.append('a')\n",
    "a_list.append('b')\n",
    "a_list.append('c')\n",
    "a_list.append('d')\n",
    "a_list.append('e')\n",
    "\n",
    "print(a_list)"
   ]
  },
  {
   "cell_type": "markdown",
   "metadata": {},
   "source": [
    "Finally, we note that there are functions in Python that automatically generate lists for us.  An important function is `range`.  This function creates an `iterator` for us, which we can easily convert to a list, using the function `list`:"
   ]
  },
  {
   "cell_type": "code",
   "execution_count": null,
   "metadata": {},
   "outputs": [],
   "source": [
    "b_list = range(10)\n",
    "print(b_list)\n",
    "print( list(b_list) )\n",
    "\n",
    "b_list = list( range(3, 9) )\n",
    "print(b_list)\n",
    "\n",
    "b_list = list( range(2, 20, 5) )\n",
    "print(b_list)"
   ]
  },
  {
   "cell_type": "markdown",
   "metadata": {},
   "source": [
    "## Accessing lists\n",
    "\n",
    "The items in a list maintain their order.  Each is assigned an integer, starting from zero.  We can access each item from a list using this integer:"
   ]
  },
  {
   "cell_type": "code",
   "execution_count": null,
   "metadata": {},
   "outputs": [],
   "source": [
    "print(x)\n",
    "\n",
    "print(x[0])\n",
    "print(x[1])"
   ]
  },
  {
   "cell_type": "markdown",
   "metadata": {},
   "source": [
    "Note that we can conveniently access elements from the back of the list using negative numbers.  The last element of a list is associated with the integer `-1`, the second to last element is associated with `-2`, etc."
   ]
  },
  {
   "cell_type": "code",
   "execution_count": null,
   "metadata": {},
   "outputs": [],
   "source": [
    "print(x)\n",
    "\n",
    "print(x[-1])\n",
    "print(x[-2])"
   ]
  },
  {
   "cell_type": "markdown",
   "metadata": {},
   "source": [
    "## Unpacking lists\n",
    "\n",
    "Sometimes holding values in a list is not convenient, and we want to \"unpack\" a list in to a set of individual variables that contain a single value.  We can do this as show below:"
   ]
  },
  {
   "cell_type": "code",
   "execution_count": null,
   "metadata": {},
   "outputs": [],
   "source": [
    "print(x)\n",
    "\n",
    "\n",
    "A, B, C, D, E = x\n",
    "print(A)\n",
    "print(B)\n",
    "print(C)\n",
    "print(D)\n",
    "print(E)"
   ]
  },
  {
   "cell_type": "markdown",
   "metadata": {},
   "source": [
    "Note that the number of variables on the left of the equal sign needs to be the same as the number of item in the list on the right, otherwise an error will occur"
   ]
  },
  {
   "cell_type": "code",
   "execution_count": null,
   "metadata": {},
   "outputs": [],
   "source": [
    "A, B = x\n"
   ]
  },
  {
   "cell_type": "markdown",
   "metadata": {},
   "source": [
    "We can remedy this by adding an asterix `*` in front of the final variable on the left.  This puts the rest of the items of the list into the final variable."
   ]
  },
  {
   "cell_type": "code",
   "execution_count": null,
   "metadata": {},
   "outputs": [],
   "source": [
    "A, B, *C = x\n",
    "\n",
    "print(A)\n",
    "print(B)\n",
    "print(C)"
   ]
  },
  {
   "cell_type": "markdown",
   "metadata": {},
   "source": [
    "## List functions\n",
    "\n",
    "There are some built-in functions for lists that we can use to perform operations that we frequently need.  The function `len` returns the number of items in a list, while the function `sum` returns the sum of all the items in a list of numbers."
   ]
  },
  {
   "cell_type": "code",
   "execution_count": null,
   "metadata": {},
   "outputs": [],
   "source": [
    "x_list = list(range(10))\n",
    "print(x_list)\n",
    "\n",
    "length = len(x_list)\n",
    "print(length)\n",
    "\n",
    "N = sum(x_list)\n",
    "print(N)"
   ]
  },
  {
   "cell_type": "markdown",
   "metadata": {},
   "source": [
    "## List comprehensions\n",
    "\n",
    "We can construct a list from another list by using something called a list comprehension.  In the example below, we create a list `x_list`, which contains the integers from 0 to 9.  We construct a list `y_list` using a list comprehension, which iterates, in order, over every element in `x_list`, and puts the square of that element in the corresponding position in the list `y_list`."
   ]
  },
  {
   "cell_type": "code",
   "execution_count": null,
   "metadata": {},
   "outputs": [],
   "source": [
    "x_list = range(10)\n",
    "print(list(x_list))\n",
    "\n",
    "y_list = [x**2  for x in x_list]\n",
    "print(y_list)"
   ]
  },
  {
   "cell_type": "markdown",
   "metadata": {},
   "source": [
    "## Looping\n",
    "\n",
    "Probably one of the most important aspects of lists is that it allows us to perform repetitive operations for each item in the list.  This is known as a loop.  \n",
    "\n",
    "As an example, let us assume that we have a four component system, and the mass of each component is kept in the variable `mass_list`.  If we want to know the total mass of the system, we just need to sum over all the elements of `mass_list`.  We can do this in a loop:"
   ]
  },
  {
   "cell_type": "code",
   "execution_count": null,
   "metadata": {},
   "outputs": [],
   "source": [
    "mass_list = [2.3, 6.2, 2.8, 5.6]\n",
    "\n",
    "total_mass = 0.0\n",
    "for mass in mass_list:\n",
    "    total_mass += mass\n",
    "    \n",
    "print(total_mass)\n",
    "\n"
   ]
  },
  {
   "cell_type": "markdown",
   "metadata": {},
   "source": [
    "The `for` statement means that we iterate over every element of `mass_list`, placing each element in the variable `mass`.  We initialize the variable `total_mass` to zero, and in the loop, we increment its value by the value of each item in the list (i.e. the value of `mass`).  Note that the symbol `+=` means we increment the value of the variable on the left of the symbol, by the value of the variable on the right.\n",
    "\n",
    "We can also use loops to construct lists.  In the code below, we construct a list of mass fractions of each of the species."
   ]
  },
  {
   "cell_type": "code",
   "execution_count": null,
   "metadata": {},
   "outputs": [],
   "source": [
    "mass_frac = []\n",
    "for x in mass_list:\n",
    "    mass_frac.append(x/total_mass)\n",
    "print(mass_frac)"
   ]
  },
  {
   "cell_type": "code",
   "execution_count": null,
   "metadata": {},
   "outputs": [],
   "source": []
  }
 ],
 "metadata": {
  "kernelspec": {
   "display_name": "Python 3",
   "language": "python",
   "name": "python3"
  },
  "language_info": {
   "codemirror_mode": {
    "name": "ipython",
    "version": 3
   },
   "file_extension": ".py",
   "mimetype": "text/x-python",
   "name": "python",
   "nbconvert_exporter": "python",
   "pygments_lexer": "ipython3",
   "version": "3.8.5"
  }
 },
 "nbformat": 4,
 "nbformat_minor": 4
}
