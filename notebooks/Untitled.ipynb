{
 "cells": [
  {
   "cell_type": "markdown",
   "metadata": {},
   "source": [
    "# Introduction to Python"
   ]
  },
  {
   "cell_type": "markdown",
   "metadata": {},
   "source": [
    "## Calculator"
   ]
  },
  {
   "cell_type": "code",
   "execution_count": 1,
   "metadata": {},
   "outputs": [
    {
     "data": {
      "text/plain": [
       "7.5"
      ]
     },
     "execution_count": 1,
     "metadata": {},
     "output_type": "execute_result"
    }
   ],
   "source": [
    "3+4.5"
   ]
  },
  {
   "cell_type": "code",
   "execution_count": 2,
   "metadata": {},
   "outputs": [
    {
     "data": {
      "text/plain": [
       "0.5323971374999499"
      ]
     },
     "execution_count": 2,
     "metadata": {},
     "output_type": "execute_result"
    }
   ],
   "source": [
    "(4*5 - 15)**0.5 / 4.2"
   ]
  },
  {
   "cell_type": "code",
   "execution_count": 3,
   "metadata": {},
   "outputs": [
    {
     "data": {
      "text/plain": [
       "0.001"
      ]
     },
     "execution_count": 3,
     "metadata": {},
     "output_type": "execute_result"
    }
   ],
   "source": [
    "1e-3"
   ]
  },
  {
   "cell_type": "markdown",
   "metadata": {},
   "source": [
    "## Variables: Numbers and strings"
   ]
  },
  {
   "cell_type": "code",
   "execution_count": 7,
   "metadata": {},
   "outputs": [
    {
     "name": "stdout",
     "output_type": "stream",
     "text": [
      "3.0\n",
      "hello\n",
      "hello, CO2\n"
     ]
    }
   ],
   "source": [
    "x = 3.0\n",
    "y = \"hello\"\n",
    "w = 'CO2'\n",
    "\n",
    "z = y + ', ' + w\n",
    "\n",
    "print(x)\n",
    "print(y)\n",
    "print(z)"
   ]
  },
  {
   "cell_type": "markdown",
   "metadata": {},
   "source": [
    "## Variables: Lists"
   ]
  },
  {
   "cell_type": "code",
   "execution_count": 16,
   "metadata": {},
   "outputs": [
    {
     "name": "stdout",
     "output_type": "stream",
     "text": [
      "['CO2', 'CO', 2.3, 'H2O']\n",
      "[]\n",
      "2.3\n",
      "CO2\n",
      "H2O\n",
      "2.3\n",
      "['CO2', 'CO', 2.3, 'H2O', 'H2']\n",
      "H2\n"
     ]
    }
   ],
   "source": [
    "x = ['CO2', 'CO', 2.3, 'H2O']\n",
    "y = []\n",
    "\n",
    "\n",
    "\n",
    "print(x)\n",
    "print(y)\n",
    "print(x[2])\n",
    "print(x[0])\n",
    "print(x[-1])\n",
    "print(x[-2])\n",
    "\n",
    "x.append('H2')\n",
    "print(x)\n",
    "print(x[-1])"
   ]
  },
  {
   "cell_type": "code",
   "execution_count": 17,
   "metadata": {},
   "outputs": [
    {
     "name": "stdout",
     "output_type": "stream",
     "text": [
      "CO2\n",
      "CO\n",
      "2.3\n",
      "H2O\n",
      "H2\n"
     ]
    }
   ],
   "source": [
    "for v in x:\n",
    "    print(v)"
   ]
  },
  {
   "cell_type": "code",
   "execution_count": 22,
   "metadata": {},
   "outputs": [
    {
     "name": "stdout",
     "output_type": "stream",
     "text": [
      "1.2\n",
      "[0.08333333333333334, 0.33333333333333337, 0.4166666666666667, 0.16666666666666669]\n"
     ]
    }
   ],
   "source": [
    "x_list = [0.1, 0.4, 0.5, 0.2]\n",
    "\n",
    "total = 0.0\n",
    "for x in x_list:\n",
    "    total += x\n",
    "    \n",
    "print(total)\n",
    "\n",
    "xfrac = []\n",
    "for x in x_list:\n",
    "    xfrac.append(x / total)\n",
    "    \n",
    "print(xfrac)    \n"
   ]
  },
  {
   "cell_type": "code",
   "execution_count": 24,
   "metadata": {},
   "outputs": [
    {
     "name": "stdout",
     "output_type": "stream",
     "text": [
      "\"\n"
     ]
    }
   ],
   "source": [
    "x = '\"'\n",
    "print(x)"
   ]
  },
  {
   "cell_type": "markdown",
   "metadata": {},
   "source": [
    "## Variables: Dictionaries"
   ]
  },
  {
   "cell_type": "code",
   "execution_count": 28,
   "metadata": {},
   "outputs": [
    {
     "name": "stdout",
     "output_type": "stream",
     "text": [
      "{'CO2': 5.0, 'N2': 2.0}\n",
      "2.0\n"
     ]
    }
   ],
   "source": [
    "wt = {}\n",
    "wt['CO2'] = 5.0\n",
    "wt['N2'] = 2.0\n",
    "\n",
    "print(wt)\n",
    "print(wt['N2'])"
   ]
  },
  {
   "cell_type": "code",
   "execution_count": 27,
   "metadata": {},
   "outputs": [
    {
     "name": "stdout",
     "output_type": "stream",
     "text": [
      "{'CO2': 5.0, 'N2': 2.0}\n",
      "5.0\n"
     ]
    }
   ],
   "source": [
    "mass = {'CO2': 5.0, 'N2': 2.0}\n",
    "print(mass)\n",
    "print(mass['CO2'])"
   ]
  },
  {
   "cell_type": "code",
   "execution_count": 35,
   "metadata": {},
   "outputs": [
    {
     "name": "stdout",
     "output_type": "stream",
     "text": [
      "dict_keys(['CO2', 'N2'])\n",
      "dict_values([5.0, 2.0])\n",
      "dict_items([('CO2', 5.0), ('N2', 2.0)])\n",
      "CO2 5.0\n",
      "N2 2.0\n"
     ]
    }
   ],
   "source": [
    "print(mass.keys())\n",
    "print(mass.values())\n",
    "print(mass.items())\n",
    "\n",
    "for component, m in mass.items():\n",
    "    print(component, m)"
   ]
  },
  {
   "cell_type": "markdown",
   "metadata": {},
   "source": [
    "## Functions"
   ]
  },
  {
   "cell_type": "code",
   "execution_count": null,
   "metadata": {},
   "outputs": [],
   "source": []
  },
  {
   "cell_type": "markdown",
   "metadata": {},
   "source": [
    "## Conditionals"
   ]
  },
  {
   "cell_type": "code",
   "execution_count": null,
   "metadata": {},
   "outputs": [],
   "source": []
  },
  {
   "cell_type": "markdown",
   "metadata": {},
   "source": [
    "## Numpy"
   ]
  },
  {
   "cell_type": "code",
   "execution_count": null,
   "metadata": {},
   "outputs": [],
   "source": []
  },
  {
   "cell_type": "markdown",
   "metadata": {},
   "source": [
    "## Matplotlib"
   ]
  },
  {
   "cell_type": "code",
   "execution_count": null,
   "metadata": {},
   "outputs": [],
   "source": []
  },
  {
   "cell_type": "markdown",
   "metadata": {},
   "source": [
    "## Scipy"
   ]
  },
  {
   "cell_type": "code",
   "execution_count": null,
   "metadata": {},
   "outputs": [],
   "source": []
  },
  {
   "cell_type": "markdown",
   "metadata": {},
   "source": [
    "## Sympy"
   ]
  },
  {
   "cell_type": "code",
   "execution_count": null,
   "metadata": {},
   "outputs": [],
   "source": []
  }
 ],
 "metadata": {
  "kernelspec": {
   "display_name": "Python 3",
   "language": "python",
   "name": "python3"
  },
  "language_info": {
   "codemirror_mode": {
    "name": "ipython",
    "version": 3
   },
   "file_extension": ".py",
   "mimetype": "text/x-python",
   "name": "python",
   "nbconvert_exporter": "python",
   "pygments_lexer": "ipython3",
   "version": "3.8.5"
  }
 },
 "nbformat": 4,
 "nbformat_minor": 4
}
