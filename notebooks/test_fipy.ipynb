{
 "cells": [
  {
   "cell_type": "markdown",
   "id": "b9507bbd",
   "metadata": {},
   "source": [
    "# Test of FiPy"
   ]
  },
  {
   "cell_type": "markdown",
   "id": "49c39ad5",
   "metadata": {},
   "source": [
    "First let us install the FiPy package using pip and then import the necessary functions that we need to run FiPy."
   ]
  },
  {
   "cell_type": "code",
   "execution_count": 29,
   "id": "5f8fdbb1",
   "metadata": {},
   "outputs": [
    {
     "name": "stdout",
     "output_type": "stream",
     "text": [
      "\u001b[31mERROR: (Gentoo) Please run pip with the --user option to avoid breaking python-exec\u001b[0m\r\n"
     ]
    }
   ],
   "source": [
    "!pip install fipy\n",
    "\n",
    "from fipy import CellVariable, Grid1D, DiffusionTerm, ExponentialConvectionTerm, DefaultAsymmetricSolver, Viewer\n",
    "from fipy.tools import numerix\n",
    "\n"
   ]
  },
  {
   "cell_type": "markdown",
   "id": "6152d215",
   "metadata": {},
   "source": [
    "\\begin{align*}\n",
    "\\frac{d}{dx} D \\frac{d\\phi}{dx} - u\\frac{d\\phi}{dx}\n",
    "+ S(x) &= 0\n",
    "\\end{align*}"
   ]
  },
  {
   "cell_type": "code",
   "execution_count": 12,
   "id": "3fcd24b5",
   "metadata": {},
   "outputs": [],
   "source": [
    "diffCoeff = 1.\n",
    "convCoeff = (10.,)\n",
    "sourceCoeff = 1.\n",
    "\n",
    "\n",
    "\n",
    "# define the mesh\n",
    "nx = 1000\n",
    "L = 10.\n",
    "mesh = Grid1D(dx=L / 1000, nx=nx)\n",
    "x_mesh = mesh.cellCenters[0]\n",
    "\n",
    "# create the variable\n",
    "var = CellVariable(name=\"variable\", mesh=mesh)\n",
    "\n",
    "\n",
    "\n",
    "\n",
    "# boundary conditions\n",
    "valueLeft = 0.\n",
    "valueRight = 1.\n",
    "var.constrain(valueLeft, mesh.facesLeft)\n",
    "var.constrain(valueRight, mesh.facesRight)\n",
    "\n",
    "\n",
    "# solve the differential equation\n",
    "\n",
    "eq = (DiffusionTerm(coeff=diffCoeff)\n",
    "      - ExponentialConvectionTerm(coeff=convCoeff)\n",
    "      + sourceCoeff)\n",
    "eq.solve(var=var,\n",
    "         solver=DefaultAsymmetricSolver(tolerance=1.e-15, iterations=10000))\n"
   ]
  },
  {
   "cell_type": "markdown",
   "id": "bafd1027",
   "metadata": {},
   "source": []
  },
  {
   "cell_type": "code",
   "execution_count": 14,
   "id": "8675459f",
   "metadata": {},
   "outputs": [
    {
     "data": {
      "text/plain": [
       "[<matplotlib.lines.Line2D at 0x7fbdd9b46490>]"
      ]
     },
     "execution_count": 14,
     "metadata": {},
     "output_type": "execute_result"
    },
    {
     "data": {
      "image/png": "[encoded data removed]",
      "text/plain": [
       "<Figure size 432x288 with 1 Axes>"
      ]
     },
     "metadata": {
      "needs_background": "light"
     },
     "output_type": "display_data"
    }
   ],
   "source": [
    "import pylab as plt\n",
    "\n",
    "\n",
    "plt.plot(list(x_mesh), list(var.value))"
   ]
  },
  {
   "cell_type": "code",
   "execution_count": null,
   "id": "6490498c",
   "metadata": {},
   "outputs": [],
   "source": []
  },
  {
   "cell_type": "markdown",
   "id": "e787ca15",
   "metadata": {},
   "source": [
    "## Two dimensional convection-diffusion equation\n",
    "\n",
    "Now let's solve the steady state convection-diffusion equation for a two dimensional system.  We consider a rectanglar system with width $W$ and height $H$.\n",
    "\n",
    "\n",
    "The differential equation is given by:\n",
    "\\begin{align*}\n",
    "\\nabla \\cdot (D\\nabla \\phi) - \\nabla\\cdot({\\bf u}\\phi) + S &= 0\n",
    "\\end{align*}\n",
    "\n",
    "For the boundary condition, we hold the value of $\\phi$ to a constant value along the top, bottom, left, and right edges of the system.\n",
    "\n"
   ]
  },
  {
   "cell_type": "code",
   "execution_count": 27,
   "id": "07a000ec",
   "metadata": {},
   "outputs": [],
   "source": [
    "from fipy import Grid2D\n",
    "\n",
    "diffCoeff = 1.\n",
    "convCoeff = (1.,1)   # u\n",
    "sourceCoeff = 1.\n",
    "\n",
    "\n",
    "\n",
    "# define the mesh\n",
    "nx = 20\n",
    "ny = 20\n",
    "W = 10.0\n",
    "H = 10.0\n",
    "mesh = Grid2D(dx=W/nx, nx=nx, dy=H/ny, ny=ny)\n",
    "x_mesh = mesh.cellCenters\n",
    "\n",
    "# create the variable\n",
    "var = CellVariable(name=\"variable\", mesh=mesh)\n",
    "\n",
    "\n",
    "\n",
    "\n",
    "# boundary conditions\n",
    "valueLeft = 0.\n",
    "valueRight = 1.\n",
    "valueTop = 1.0\n",
    "valueBottom = 1.0\n",
    "var.constrain(valueLeft, mesh.facesLeft)\n",
    "var.constrain(valueRight, mesh.facesRight)\n",
    "var.constrain(valueLeft, mesh.facesTop)\n",
    "var.constrain(valueRight, mesh.facesBottom)\n",
    "\n",
    "# solve the differential equation\n",
    "\n",
    "eq = (DiffusionTerm(coeff=diffCoeff)\n",
    "      - ExponentialConvectionTerm(coeff=convCoeff)\n",
    "      + sourceCoeff)\n",
    "\n",
    "eq.solve(var=var,\n",
    "         solver=DefaultAsymmetricSolver(tolerance=1.e-15, iterations=10000))\n"
   ]
  },
  {
   "cell_type": "code",
   "execution_count": 28,
   "id": "fbf15d82",
   "metadata": {},
   "outputs": [
    {
     "data": {
      "image/png": "[encoded data removed]",
      "text/plain": [
       "<Figure size 360x288 with 2 Axes>"
      ]
     },
     "metadata": {
      "needs_background": "light"
     },
     "output_type": "display_data"
    }
   ],
   "source": [
    "viewer = Viewer(vars=var)\n",
    "#viewer.plot()"
   ]
  },
  {
   "cell_type": "code",
   "execution_count": null,
   "id": "659a39b0",
   "metadata": {},
   "outputs": [],
   "source": []
  }
 ],
 "metadata": {
  "kernelspec": {
   "display_name": "Python 3",
   "language": "python",
   "name": "python3"
  },
  "language_info": {
   "codemirror_mode": {
    "name": "ipython",
    "version": 3
   },
   "file_extension": ".py",
   "mimetype": "text/x-python",
   "name": "python",
   "nbconvert_exporter": "python",
   "pygments_lexer": "ipython3",
   "version": "3.9.5"
  }
 },
 "nbformat": 4,
 "nbformat_minor": 5
}
