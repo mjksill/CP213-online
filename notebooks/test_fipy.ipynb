{
 "cells": [
  {
   "cell_type": "code",
   "execution_count": 1,
   "id": "def66996",
   "metadata": {},
   "outputs": [],
   "source": [
    "from fipy import CellVariable, Grid1D, DiffusionTerm, ExponentialConvectionTerm, DefaultAsymmetricSolver, Viewer\n",
    "from fipy.tools import numerix\n",
    "\n"
   ]
  },
  {
   "cell_type": "code",
   "execution_count": 4,
   "id": "19018696",
   "metadata": {},
   "outputs": [],
   "source": [
    "diffCoeff = 1.\n",
    "convCoeff = (10.,)\n",
    "sourceCoeff = 1.\n",
    "\n",
    "\n",
    "\n",
    "\n",
    "nx = 1000\n",
    "L = 10.\n",
    "mesh = Grid1D(dx=L / 1000, nx=nx)\n",
    "\n",
    "\n",
    "\n",
    "\n",
    "valueLeft = 0.\n",
    "valueRight = 1.\n",
    "\n",
    "\n",
    "\n",
    "\n",
    "var = CellVariable(name=\"variable\", mesh=mesh)\n",
    "\n",
    "\n",
    "var.constrain(valueLeft, mesh.facesLeft)\n",
    "\n",
    "var.constrain(valueRight, mesh.facesRight)\n",
    "\n",
    "\n",
    "eq = (DiffusionTerm(coeff=diffCoeff)\n",
    "      + ExponentialConvectionTerm(coeff=convCoeff)\n",
    "      + sourceCoeff)\n",
    "eq.solve(var=var,\n",
    "         solver=DefaultAsymmetricSolver(tolerance=1.e-15, iterations=10000))\n"
   ]
  },
  {
   "cell_type": "code",
   "execution_count": null,
   "id": "67712b77",
   "metadata": {},
   "outputs": [],
   "source": []
  }
 ],
 "metadata": {
  "kernelspec": {
   "display_name": "Python 3",
   "language": "python",
   "name": "python3"
  },
  "language_info": {
   "codemirror_mode": {
    "name": "ipython",
    "version": 3
   },
   "file_extension": ".py",
   "mimetype": "text/x-python",
   "name": "python",
   "nbconvert_exporter": "python",
   "pygments_lexer": "ipython3",
   "version": "3.9.5"
  }
 },
 "nbformat": 4,
 "nbformat_minor": 5
}
