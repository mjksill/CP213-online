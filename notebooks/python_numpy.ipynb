{
  "nbformat": 4,
  "nbformat_minor": 0,
  "metadata": {
    "kernelspec": {
      "display_name": "Python 3",
      "language": "python",
      "name": "python3"
    },
    "language_info": {
      "codemirror_mode": {
        "name": "ipython",
        "version": 3
      },
      "file_extension": ".py",
      "mimetype": "text/x-python",
      "name": "python",
      "nbconvert_exporter": "python",
      "pygments_lexer": "ipython3",
      "version": "3.8.5"
    },
    "colab": {
      "name": "python_numpy.ipynb",
      "provenance": []
    }
  },
  "cells": [
    {
      "cell_type": "markdown",
      "metadata": {
        "id": "zzc2KKqv-Eat"
      },
      "source": [
        "# Importing Python software libraries\n",
        "[Previous notebook: dictionaries](python_dictionaries.ipynb)\n",
        "\n",
        "Recall in the first notebook, we mentioned that Python could be used as a calculator.\n",
        "This is true, however, if you work with plain Python, you will notice\n",
        "that there are several functions missing from it that are present in\n",
        "modern calculators, such as logarithms, trigonometric functions,\n",
        "hyperbolic trigonometric functions, etc. and special constants, like\n",
        "pi and Euler's number.\n",
        "\n",
        "While these features are not in Python by default, we can import them\n",
        "from external libraries, which are collections of functions written by\n",
        "others.  Some key libraries that we will be using throughout this\n",
        "module, and that you will find extremely useful, include:\n",
        "- Numpy\n",
        "- Matplotlib / Pylab\n",
        "- Scipy\n",
        "- Sympy\n",
        "\n",
        "In addition to these libraries, there are also a wealth of\n",
        "others, including those for computational fluid mechanics, image recognition, machine learning, and much more.\n"
      ]
    },
    {
      "cell_type": "markdown",
      "metadata": {
        "id": "51mbRDWN-Eav"
      },
      "source": [
        "## Importing `numpy`\n",
        "\n",
        "There are several ways in which we can import a library.  The first manner is to simply use the `import` statement:"
      ]
    },
    {
      "cell_type": "code",
      "metadata": {
        "id": "bGCwBRpv-Eaw"
      },
      "source": [
        "import numpy\n",
        "print(numpy)"
      ],
      "execution_count": null,
      "outputs": []
    },
    {
      "cell_type": "markdown",
      "metadata": {
        "id": "TTFnH9Hm-Eaw"
      },
      "source": [
        "This command imports all the functions associated with the library `numpy`.  To access these functions, we simply prefix it with \"`numpy.`\".  For example, let's get the $sin$ of the angle $\\theta=2$ (note that this is in radians):"
      ]
    },
    {
      "cell_type": "code",
      "metadata": {
        "scrolled": true,
        "id": "IIbA0EJ_-Eaw"
      },
      "source": [
        "numpy.sin(2)"
      ],
      "execution_count": null,
      "outputs": []
    },
    {
      "cell_type": "markdown",
      "metadata": {
        "id": "oEIt_cJO-Eax"
      },
      "source": [
        "To get more information on the function we can simply use the \"help\" command:"
      ]
    },
    {
      "cell_type": "code",
      "metadata": {
        "id": "8bWlPCgv-Eax"
      },
      "source": [
        "help(numpy.sin)"
      ],
      "execution_count": null,
      "outputs": []
    },
    {
      "cell_type": "markdown",
      "metadata": {
        "id": "AK313kH1-Eax"
      },
      "source": [
        "Having to type `numpy.` is a bit of a handful when having access functions over and over, but luckily we can give it a nickname:"
      ]
    },
    {
      "cell_type": "code",
      "metadata": {
        "scrolled": true,
        "id": "i9pOlYrF-Eay"
      },
      "source": [
        "import numpy as np\n",
        "print(np)"
      ],
      "execution_count": null,
      "outputs": []
    },
    {
      "cell_type": "markdown",
      "metadata": {
        "id": "XpAJuZ1l-Eay"
      },
      "source": [
        "Now, we can access functions from `numpy` more briefly as:"
      ]
    },
    {
      "cell_type": "code",
      "metadata": {
        "id": "pLx4Bz7D-Eay"
      },
      "source": [
        "np.sin(2)"
      ],
      "execution_count": null,
      "outputs": []
    },
    {
      "cell_type": "markdown",
      "metadata": {
        "id": "D0u63wG6-Eaz"
      },
      "source": [
        "Finally, we note that we can import a specific function from `numpy` more directly by typing"
      ]
    },
    {
      "cell_type": "code",
      "metadata": {
        "id": "S7v-Kr9I-Eaz"
      },
      "source": [
        "from numpy import sin\n",
        "\n",
        "sin(2)"
      ],
      "execution_count": null,
      "outputs": []
    },
    {
      "cell_type": "markdown",
      "metadata": {
        "id": "Uhh7pb2G-Eaz"
      },
      "source": [
        "With this command, we no longer need to use the prefix to call the function.; however, in this case, we have only imported the function `sin` from `numpy`, and all the other functions within the library will still be inaccessible to us.\n",
        "\n",
        "We can also import all functions within `numpy` by typing"
      ]
    },
    {
      "cell_type": "code",
      "metadata": {
        "id": "aZQWy1pW-Eaz"
      },
      "source": [
        "from numpy import *\n",
        "\n",
        "cos(2)"
      ],
      "execution_count": null,
      "outputs": []
    },
    {
      "cell_type": "markdown",
      "metadata": {
        "id": "MeoLIBBT-Eaz"
      },
      "source": [
        "The main shortcoming of using this method to import functions is that there may already be a function your have imported from another library with the same name.  In this case, this command will overwrite this function.  In addition, it is not entirely clear exactly which function is being used."
      ]
    },
    {
      "cell_type": "markdown",
      "metadata": {
        "id": "Vtc1z7mE_jd0"
      },
      "source": [
        "##Common Mathematical Numpy Functions"
      ]
    },
    {
      "cell_type": "code",
      "metadata": {
        "id": "ZWL1j6D1BPlG"
      },
      "source": [
        "import numpy as np"
      ],
      "execution_count": null,
      "outputs": []
    },
    {
      "cell_type": "code",
      "metadata": {
        "id": "mSZ6-wg2B-cE"
      },
      "source": [
        "# Hyperbolic sine, in radians\n",
        "np.sinh(2)"
      ],
      "execution_count": null,
      "outputs": []
    },
    {
      "cell_type": "code",
      "metadata": {
        "id": "QmjPca8CBAEz"
      },
      "source": [
        "# Natural log, base e\n",
        "np.log(2)"
      ],
      "execution_count": null,
      "outputs": []
    },
    {
      "cell_type": "code",
      "metadata": {
        "id": "h9SU46J4BQ2Q"
      },
      "source": [
        "# Euler's number to an exponent\n",
        "np.exp(2) # e^2"
      ],
      "execution_count": null,
      "outputs": []
    },
    {
      "cell_type": "markdown",
      "metadata": {
        "id": "Qg54YkUNCbUW"
      },
      "source": [
        "[More mathematical functions](https://numpy.org/doc/stable/reference/routines.math.html)."
      ]
    },
    {
      "cell_type": "markdown",
      "metadata": {
        "id": "xQN_NWkdE2ld"
      },
      "source": [
        "##Useful Numpy Functions\n",
        "`arange(<start>, <end>, <interval_size>)` returns an array of evenly spaced numbers, given a specified interval size. `arange()` will assume an interval size of 1 if called without and `<interval_size>` arguement."
      ]
    },
    {
      "cell_type": "code",
      "metadata": {
        "id": "M8kPatq_FuxA"
      },
      "source": [
        "print(np.arange(1, 4))\n",
        "print(np.arange(1, 4, 0.2))"
      ],
      "execution_count": null,
      "outputs": []
    },
    {
      "cell_type": "markdown",
      "metadata": {
        "id": "-ddMPzDEG62e"
      },
      "source": [
        "`linspace(<start>, <end>, <number_of_intervals>)` returns an array of evenly spaced numbers, given a specified number of intervals."
      ]
    },
    {
      "cell_type": "code",
      "metadata": {
        "id": "Om-PJJtzH6fh"
      },
      "source": [
        "np.linspace(1, 4, 16)"
      ],
      "execution_count": null,
      "outputs": []
    },
    {
      "cell_type": "markdown",
      "metadata": {
        "id": "1QmyTY20IN5k"
      },
      "source": [
        "`random.rand()` returns an array of randomly generated numbers between 0 and 1. The numbers are uniformly distributed."
      ]
    },
    {
      "cell_type": "code",
      "metadata": {
        "id": "k5xtecDZIZi1"
      },
      "source": [
        "np.random.rand(10)"
      ],
      "execution_count": null,
      "outputs": []
    },
    {
      "cell_type": "markdown",
      "metadata": {
        "id": "lzt8gdrCJAsN"
      },
      "source": [
        "`random.randn()` returns an array of samples taken from the standard normal distribution."
      ]
    },
    {
      "cell_type": "code",
      "metadata": {
        "id": "7IPWZardJjK0"
      },
      "source": [
        "np.random.randn(10)"
      ],
      "execution_count": null,
      "outputs": []
    },
    {
      "cell_type": "markdown",
      "metadata": {
        "id": "7NLPxPag-Ea0"
      },
      "source": [
        "## Summary\n",
        "\n",
        "In this notebook we have introduced the concept of importing a package into a Python script, using `numpy` as an example. For more information on numpy, see the numpy [documentation page](https://numpy.org/doc/1.21/)\n",
        "\n",
        " In the [next notebook](python_plotting.ipynb), we'll look at `matplotlib`, which will allow us to plot graphs."
      ]
    }
  ]
}