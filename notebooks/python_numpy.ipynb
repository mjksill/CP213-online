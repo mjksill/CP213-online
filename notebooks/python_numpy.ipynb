{
 "cells": [
  {
   "cell_type": "markdown",
   "metadata": {},
   "source": [
    "# Importing Python software libraries\n",
    "\n",
    "Previously, we mentioned that Python could be used as a calculator.\n",
    "This is true, however, if you work with plain Python, you will notice\n",
    "that there are several functions missing from it that are present in\n",
    "modern calculators, such as logarithms, trigonometric functions,\n",
    "hyperbolic trigonometric functions, etc. and special constants, like\n",
    "pi and Euler's number.\n",
    "\n",
    "While these features are not in Python by default, we can import them\n",
    "from external libraries, which are collections of functions written by\n",
    "others.  Some key libraries that we will be using throughout this\n",
    "module, and that you will find extremely useful, include:\n",
    "- Numpy\n",
    "- Matplotlib / Pylab\n",
    "- Scipy\n",
    "- Sympy\n",
    "\n",
    "In addition to these libraries, there are also a wealth of\n",
    "others, including those for computational fluid mechanics, image recognition, machine learning, and much more.\n"
   ]
  },
  {
   "cell_type": "markdown",
   "metadata": {},
   "source": [
    "## Importing `numpy`\n",
    "\n",
    "There are several ways in which we can import a library.  The first manner is to simply use the `import` statement:"
   ]
  },
  {
   "cell_type": "code",
   "execution_count": null,
   "metadata": {},
   "outputs": [],
   "source": [
    "import numpy\n",
    "print(numpy)"
   ]
  },
  {
   "cell_type": "markdown",
   "metadata": {},
   "source": [
    "This command imports all the functions associated with the library `numpy`.  To access these functions, we simply prefix it with \"`numpy.`\".  For example, let's get the $sin$ of the angle $\\theta=2$ (note that this is in radians):"
   ]
  },
  {
   "cell_type": "code",
   "execution_count": null,
   "metadata": {
    "scrolled": true
   },
   "outputs": [],
   "source": [
    "numpy.sin(2)"
   ]
  },
  {
   "cell_type": "markdown",
   "metadata": {},
   "source": [
    "To get more information on the function we can simply use the \"help\" command:"
   ]
  },
  {
   "cell_type": "code",
   "execution_count": null,
   "metadata": {},
   "outputs": [],
   "source": [
    "help(numpy.sin)"
   ]
  },
  {
   "cell_type": "markdown",
   "metadata": {},
   "source": [
    "Having to type `numpy.` is a bit of a handful when having access functions over and over, but luckily we can give it a nickname:"
   ]
  },
  {
   "cell_type": "code",
   "execution_count": null,
   "metadata": {
    "scrolled": true
   },
   "outputs": [],
   "source": [
    "import numpy as np\n",
    "print(np)"
   ]
  },
  {
   "cell_type": "markdown",
   "metadata": {},
   "source": [
    "Now, we can access functions from `numpy` more briefly as:"
   ]
  },
  {
   "cell_type": "code",
   "execution_count": null,
   "metadata": {},
   "outputs": [],
   "source": [
    "np.sin(2)"
   ]
  },
  {
   "cell_type": "code",
   "execution_count": null,
   "metadata": {},
   "outputs": [],
   "source": []
  },
  {
   "cell_type": "markdown",
   "metadata": {},
   "source": [
    "Finally, we note that we can import a specific function from `numpy` more directly by typing"
   ]
  },
  {
   "cell_type": "code",
   "execution_count": null,
   "metadata": {},
   "outputs": [],
   "source": [
    "from numpy import sin\n",
    "\n",
    "sin(2)"
   ]
  },
  {
   "cell_type": "markdown",
   "metadata": {},
   "source": [
    "With this command, we no longer need to use the prefix to call the function.; however, in this case, we have only imported the function `sin` from `numpy`, and all the other functions within the library will still be inaccessible to us.\n",
    "\n",
    "We can also import all functions within `numpy` by typing"
   ]
  },
  {
   "cell_type": "code",
   "execution_count": null,
   "metadata": {},
   "outputs": [],
   "source": [
    "from numpy import *\n",
    "\n",
    "cos(2)\n"
   ]
  },
  {
   "cell_type": "markdown",
   "metadata": {},
   "source": [
    "The main shortcoming of using this method to import functions is that there may already be a function your have imported from another library with the same name.  In this case, this command will overwrite this function.  In addition, it is not entirely clear exactly which function is being used."
   ]
  },
  {
   "cell_type": "markdown",
   "metadata": {},
   "source": [
    "## Summary\n",
    "\n",
    "In this notebook we have introduced the concept of importing a package into a Python script, using `numpy` as an example.  In the [next notebook](python_plotting.ipynb), we'll look at `matplotlib`, which will allow us to plot graphs."
   ]
  },
  {
   "cell_type": "code",
   "execution_count": null,
   "metadata": {},
   "outputs": [],
   "source": []
  }
 ],
 "metadata": {
  "kernelspec": {
   "display_name": "Python 3",
   "language": "python",
   "name": "python3"
  },
  "language_info": {
   "codemirror_mode": {
    "name": "ipython",
    "version": 3
   },
   "file_extension": ".py",
   "mimetype": "text/x-python",
   "name": "python",
   "nbconvert_exporter": "python",
   "pygments_lexer": "ipython3",
   "version": "3.8.5"
  }
 },
 "nbformat": 4,
 "nbformat_minor": 4
}
