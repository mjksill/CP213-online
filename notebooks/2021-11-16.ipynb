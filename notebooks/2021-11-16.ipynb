{
  "nbformat": 4,
  "nbformat_minor": 0,
  "metadata": {
    "colab": {
      "name": "2021-11-16.ipynb",
      "provenance": [],
      "collapsed_sections": []
    },
    "kernelspec": {
      "name": "python3",
      "display_name": "Python 3"
    },
    "language_info": {
      "name": "python"
    }
  },
  "cells": [
    {
      "cell_type": "code",
      "metadata": {
        "id": "FMLyb7QkUGBE",
        "colab": {
          "base_uri": "https://localhost:8080/",
          "height": 265
        },
        "outputId": "323d0a02-1df6-46fb-eae9-3f9983712310"
      },
      "source": [
        "import numpy as np\n",
        "import pylab as plt\n",
        "\n",
        "m = 1\n",
        "g = 9.81\n",
        "lam = 0.0\n",
        "l = 1.0\n",
        "\n",
        "y0_init = 180.0 * np.pi/180.0\n",
        "y1_init = 0.01\n",
        "\n",
        "dt = 0.001\n",
        "t_dat = np.arange(0.0, 5.0, dt)\n",
        "y0 = y0_init\n",
        "y1 = y1_init\n",
        "y0_dat = []\n",
        "y1_dat = []\n",
        "for t in t_dat:\n",
        "  y0_dat.append(y0)\n",
        "  y1_dat.append(y1)\n",
        "\n",
        "  y0_new = y0 + (y1)*dt\n",
        "  y1_new = y1 + (-lam/m*y1 - g/l*np.sin(y0))*dt\n",
        "\n",
        "  y0 = y0_new\n",
        "  y1 = y1_new\n",
        "\n",
        "theta_dat = [180.0/np.pi * y0 for y0 in y0_dat]\n",
        "plt.plot(t_dat, theta_dat)  \n",
        "plt.show()\n",
        "\n",
        "\n",
        "\n",
        "\n",
        "\n",
        "\n"
      ],
      "execution_count": 8,
      "outputs": [
        {
          "output_type": "display_data",
          "data": {
            "image/png": "[encoded data removed]",
            "text/plain": [
              "<Figure size 432x288 with 1 Axes>"
            ]
          },
          "metadata": {
            "needs_background": "light"
          }
        }
      ]
    },
    {
      "cell_type": "code",
      "metadata": {
        "colab": {
          "base_uri": "https://localhost:8080/",
          "height": 265
        },
        "id": "m49E21D8fuKh",
        "outputId": "a3902035-c983-46d9-945c-ac9dca9fc4aa"
      },
      "source": [
        "import numpy as np\n",
        "import pylab as plt\n",
        "\n",
        "m = 1\n",
        "g = 9.81\n",
        "lam = 0.0\n",
        "l = 1.0\n",
        "\n",
        "def f(t, y):\n",
        "  dydt = []\n",
        "  dydt.append(y[1])\n",
        "  dydt.append(-lam/m*y[1] - g/l*np.sin(y[0]))\n",
        "  return dydt\n",
        "\n",
        "\n",
        "y_init = [180.0 * np.pi/180.0, 0.01]\n",
        "\n",
        "dt = 0.001\n",
        "t_dat = np.arange(0.0, 5.0, dt)\n",
        "y = y_init\n",
        "y_dat = [[], []]\n",
        "y_new = [0.0, 0.0]\n",
        "for t in t_dat:\n",
        "  y_dat[0].append(y[0])\n",
        "  y_dat[1].append(y[1])\n",
        "\n",
        "  dydt = f(t, y)\n",
        "  y_new[0] = y[0] + dydt[0]*dt\n",
        "  y_new[1] = y[1] + dydt[1]*dt\n",
        "\n",
        "  y[0] = y_new[0]\n",
        "  y[1] = y_new[1]\n",
        "\n",
        "theta_dat = [180.0/np.pi * y0 for y0 in y_dat[0]]\n",
        "plt.plot(t_dat, theta_dat)  \n",
        "plt.show()"
      ],
      "execution_count": 11,
      "outputs": [
        {
          "output_type": "display_data",
          "data": {
            "image/png": "[encoded data removed]",
            "text/plain": [
              "<Figure size 432x288 with 1 Axes>"
            ]
          },
          "metadata": {
            "needs_background": "light"
          }
        }
      ]
    },
    {
      "cell_type": "code",
      "metadata": {
        "id": "Fn8brQJYUIZC",
        "colab": {
          "base_uri": "https://localhost:8080/",
          "height": 265
        },
        "outputId": "cbc5ec90-7477-4265-ea26-17e52cd9a0c8"
      },
      "source": [
        "import numpy as np\n",
        "import pylab as plt\n",
        "from scipy.integrate import solve_ivp\n",
        "\n",
        "m = 1\n",
        "g = 9.81\n",
        "lam = 0.0\n",
        "l = 1.0\n",
        "\n",
        "def f(t, y):\n",
        "  dydt = []\n",
        "  dydt.append(y[1])\n",
        "  dydt.append(-lam/m*y[1] - g/l*np.sin(y[0]))\n",
        "  return dydt\n",
        "\n",
        "y_init = [180.0 * np.pi/180.0, 0.01]\n",
        "\n",
        "t_init = 0\n",
        "t_final = 5\n",
        "t_dat = np.linspace(0.0, t_final, 100)\n",
        "\n",
        "\n",
        "solution = solve_ivp(f, (t_init, t_final), y_init, t_eval=t_dat)\n",
        "\n",
        "#print(solution)\n",
        "#print(solution['t'])\n",
        "#print(solution['y'][1])\n",
        "\n",
        "theta_dat = [180.0/np.pi *y0 for y0 in solution['y'][0]]\n",
        "plt.plot(solution['t'], theta_dat)\n",
        "plt.show()\n",
        "\n",
        "\n",
        "\n",
        "\n",
        "\n",
        "\n",
        "\n",
        "\n"
      ],
      "execution_count": 20,
      "outputs": [
        {
          "output_type": "display_data",
          "data": {
            "image/png": "[encoded data removed]",
            "text/plain": [
              "<Figure size 432x288 with 1 Axes>"
            ]
          },
          "metadata": {
            "needs_background": "light"
          }
        }
      ]
    },
    {
      "cell_type": "code",
      "metadata": {
        "id": "Ff7iRKGTXPgm",
        "colab": {
          "base_uri": "https://localhost:8080/",
          "height": 265
        },
        "outputId": "9d9257e6-bffd-4e56-df22-b68ff8d4ebbc"
      },
      "source": [
        "import numpy as np\n",
        "import pylab as plt\n",
        "from scipy.integrate import solve_ivp\n",
        "\n",
        "V = 1 \n",
        "dotV = 0.01\n",
        "Cp = 4.184e3\n",
        "CV = Cp\n",
        "\n",
        "cAin = 0.0\n",
        "Tin = 298.15\n",
        "T_init = 298.15\n",
        "cA_init = 1.0\n",
        "DHrxn = 1000.0e3\n",
        "rho = 1000.0\n",
        "\n",
        "k0 = 1\n",
        "E = 1000.0\n",
        "R = 8.314\n",
        "\n",
        "\n",
        "def f(t, y):\n",
        "\n",
        "  T = y[0]\n",
        "  cA = y[1]\n",
        "  cB = y[2]\n",
        "  rxn = k0*np.exp(-E/(R*T))*cA\n",
        "#  rxn = k0*cA\n",
        "\n",
        "  dydt = []\n",
        "  dydt.append(dotV/V*Cp/CV*(Tin-T) + rxn*DHrxn/(rho*CV))\n",
        "  dydt.append(dotV/V*(cAin-cA)-rxn)\n",
        "  dydt.append(-dotV/V*cB+rxn)\n",
        "\n",
        "  return dydt\n",
        "\n",
        "y_init = [T_init, cA_init, 0.0]\n",
        "\n",
        "t_init = 0\n",
        "t_final = 5\n",
        "t_dat = np.linspace(0.0, t_final, 100)\n",
        "\n",
        "\n",
        "solution = solve_ivp(f, (t_init, t_final), y_init, t_eval=t_dat)\n",
        "\n",
        "#print(solution)\n",
        "#print(solution['t'])\n",
        "#print(solution['y'][1])\n",
        "\n",
        "t_dat = solution['t']\n",
        "T_dat = solution['y'][0]\n",
        "cA_dat = solution['y'][1]\n",
        "cB_dat = solution['y'][2]\n",
        "\n",
        "\n",
        "#plt.plot(t_dat, T_dat)\n",
        "plt.plot(t_dat, cA_dat)\n",
        "plt.show()\n",
        "\n",
        "\n",
        "\n",
        "\n",
        "\n",
        "\n",
        "\n",
        "\n",
        "\n",
        "\n",
        "\n",
        "\n",
        "\n"
      ],
      "execution_count": 30,
      "outputs": [
        {
          "output_type": "display_data",
          "data": {
            "image/png": "[encoded data removed]",
            "text/plain": [
              "<Figure size 432x288 with 1 Axes>"
            ]
          },
          "metadata": {
            "needs_background": "light"
          }
        }
      ]
    },
    {
      "cell_type": "code",
      "metadata": {
        "id": "l_ZwYOSSUIoN"
      },
      "source": [
        "import numpy as np\n",
        "import pylab as plt\n",
        "from scipy.integrate import solve_ivp\n",
        "\n",
        "\n",
        "\n",
        "def f(t, y):\n",
        "  dydt = []\n",
        "  dydt.append(-y[0])\n",
        "  return dydt\n",
        "\n",
        "t_init = 0\n",
        "t_final = 1\n",
        "t_dat = np.linspace(0.0, 1.0, 100)\n",
        "\n",
        "\n",
        "y0 = [1.0]\n",
        "solution = solve_ivp(f, (t_init, t_final), y0, t_eval=t_dat)\n",
        "\n",
        "#print(solution)\n",
        "\n",
        "\n",
        "plt.plot(solution['t'], solution['y'][0])\n",
        "plt.show()\n"
      ],
      "execution_count": null,
      "outputs": []
    }
  ]
}