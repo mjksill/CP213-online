{
  "nbformat": 4,
  "nbformat_minor": 0,
  "metadata": {
    "kernelspec": {
      "display_name": "Python 3",
      "language": "python",
      "name": "python3"
    },
    "language_info": {
      "codemirror_mode": {
        "name": "ipython",
        "version": 3
      },
      "file_extension": ".py",
      "mimetype": "text/x-python",
      "name": "python",
      "nbconvert_exporter": "python",
      "pygments_lexer": "ipython3",
      "version": "3.8.3"
    },
    "colab": {
      "name": "python_dictionaries.ipynb",
      "provenance": []
    }
  },
  "cells": [
    {
      "cell_type": "markdown",
      "metadata": {
        "id": "RI1ohh3Tlohz"
      },
      "source": [
        "# Python dictionaries\n",
        "\n",
        "In the [last notebook](python_lists.ipynb) we introduced `lists` in Python, here we'll introduce another data type: a dictionary, or a `dict`.\n",
        "\n",
        "An everyday dictionary is a collection of words, with their definition. In Python, a `dict` is very similar: you have a set of keys, and a set of values; you could think of this as two lists joined together."
      ]
    },
    {
      "cell_type": "markdown",
      "metadata": {
        "id": "L3y2ZnDEn60t"
      },
      "source": [
        "##Creating and modifying dictionaries\n",
        "Unlike lists, dictionaries are defined with curly brackets `{}`. Keys and values in a dictionary are separated by a colon `:`. Key and value pairs are separated with commas `,`. The basic syntax of a dictionary is shown below."
      ]
    },
    {
      "cell_type": "code",
      "metadata": {
        "id": "SEjRvACMn6gJ"
      },
      "source": [
        "example_dict = {\n",
        "    <key_1> : <value_1>, \n",
        "    <key_2> : <value_2>,\n",
        "    <key_3> : <value_3>   \n",
        "}"
      ],
      "execution_count": null,
      "outputs": []
    },
    {
      "cell_type": "markdown",
      "metadata": {
        "id": "ZGMw_v1Oloh1"
      },
      "source": [
        "The key can be (almost) anything, and the value can be any python object (and so anything). The stored value in a `dict` could even be a `list`, although we won't here; our values just `float`s.\n",
        "\n",
        "Here's a simple menu as a dictionary. The keys are the names of the menu item, while the value is the price of the item."
      ]
    },
    {
      "cell_type": "code",
      "metadata": {
        "id": "jxq1oxz2loh1"
      },
      "source": [
        "menu = {\n",
        "    'hot dog': 1.20,\n",
        "    'burger': 2.10,\n",
        "    'chips': 1.00,\n",
        "    'pizza': 1.50\n",
        "}\n",
        "\n",
        "print(menu)"
      ],
      "execution_count": null,
      "outputs": []
    },
    {
      "cell_type": "markdown",
      "metadata": {
        "id": "2GXVbE57loh2"
      },
      "source": [
        "Similarly to list, dictionaries can also be created empty, then incrementally built on. `menu` can be alternatively defined as such:"
      ]
    },
    {
      "cell_type": "code",
      "metadata": {
        "id": "W2evcsQWr0cG"
      },
      "source": [
        "menu = {}\n",
        "\n",
        "menu['hot dog'] = 1.20\n",
        "menu['burger'] = 2.10\n",
        "menu['chips'] = 1.00\n",
        "menu['pizza'] = 1.50\n",
        "\n",
        "print(menu)"
      ],
      "execution_count": null,
      "outputs": []
    },
    {
      "cell_type": "markdown",
      "metadata": {
        "id": "p6kAJlP1scpc"
      },
      "source": [
        "In the same way, new items can be added to the dictionary."
      ]
    },
    {
      "cell_type": "code",
      "metadata": {
        "id": "7EFIedLwscXx"
      },
      "source": [
        "menu['burrito'] = 2.00\n",
        "\n",
        "print(menu)"
      ],
      "execution_count": null,
      "outputs": []
    },
    {
      "cell_type": "markdown",
      "metadata": {
        "id": "EO9oMH-WspbJ"
      },
      "source": [
        "##Accessing dictionaries\n",
        "Values in a dictionary can be accessed by simply specifying a key: `example_dict[key]`."
      ]
    },
    {
      "cell_type": "code",
      "metadata": {
        "id": "0BYOISCpt4Qx"
      },
      "source": [
        "key = 'hot dog'\n",
        "print(f'{key} : {menu[key]}')"
      ],
      "execution_count": null,
      "outputs": []
    },
    {
      "cell_type": "markdown",
      "metadata": {
        "id": "LHJ9aQWOvZG4"
      },
      "source": [
        "We can also extract the keys or values by using `example_dict.keys()` or `example_dict.values()`"
      ]
    },
    {
      "cell_type": "code",
      "metadata": {
        "id": "RbIg4ueWxABO"
      },
      "source": [
        "print(menu.keys())\n",
        "print(menu.values())"
      ],
      "execution_count": null,
      "outputs": []
    },
    {
      "cell_type": "markdown",
      "metadata": {
        "id": "_yT4lyrmxeNW"
      },
      "source": [
        "Somewhat identical to `zip()` for lists, `example_dict.items()` returns key-value pairs."
      ]
    },
    {
      "cell_type": "code",
      "metadata": {
        "id": "UUbTYvJryGxG"
      },
      "source": [
        "items = menu.items()\n",
        "print(items)"
      ],
      "execution_count": null,
      "outputs": []
    },
    {
      "cell_type": "markdown",
      "metadata": {
        "id": "7rl5YJlx0egK"
      },
      "source": [
        "`.keys()`, `.values()`, and `.items()` actually return a dictionary object, that is not subscriptable. Although the dictionary object is iterable, meaning it can be used in a loop. By converting them to a list using `list()`, they can be accessed with an index."
      ]
    },
    {
      "cell_type": "code",
      "metadata": {
        "id": "j6NZ935w1JvV"
      },
      "source": [
        "items = list(items)\n",
        "\n",
        "print(f'The price of {items[3][0]} is £{items[3][1]}')"
      ],
      "execution_count": null,
      "outputs": []
    },
    {
      "cell_type": "markdown",
      "metadata": {
        "id": "3MoBvT2DnLZK"
      },
      "source": [
        "##Dictionary operations\n",
        "We will use a `list` to store the order someone is making from the menu:"
      ]
    },
    {
      "cell_type": "code",
      "metadata": {
        "id": "dFeAiOJ3loh2"
      },
      "source": [
        "order = ['hot dog', 'burger', 'hot dog', 'burger', 'pizza', 'pizza']"
      ],
      "execution_count": null,
      "outputs": []
    },
    {
      "cell_type": "markdown",
      "metadata": {
        "id": "lXcgAz3yloh3"
      },
      "source": [
        "To effectively use either a dictionary or a list, you'll need to know how *iteration* works in Python.\n",
        "\n",
        "You have something called a `for` loop, which lets you do something with every element in a list or every key in a dictionary:"
      ]
    },
    {
      "cell_type": "code",
      "metadata": {
        "id": "K3gWhaXJloh3"
      },
      "source": [
        "print('Menu')\n",
        "for key in menu:\n",
        "    print(f'  {key} (£{menu[key]:.2f})')\n",
        "\n",
        "print()\n",
        "print('Order')\n",
        "total = 0\n",
        "for item in order:\n",
        "    price = menu[item]\n",
        "    print(f'  {item} (£{price:.2f})')\n",
        "    total += price\n",
        "print(f'Order total = £{total:.2f}')"
      ],
      "execution_count": null,
      "outputs": []
    },
    {
      "cell_type": "markdown",
      "metadata": {
        "id": "MQbdVZphloh3"
      },
      "source": [
        "There are more succinct ways to access the elements of a dictionary however:"
      ]
    },
    {
      "cell_type": "code",
      "metadata": {
        "id": "wvOzoKtFloh4"
      },
      "source": [
        "print('Menu')\n",
        "for key, value in menu.items():\n",
        "    print(f'  {key} (£{value:.2f})')"
      ],
      "execution_count": null,
      "outputs": []
    },
    {
      "cell_type": "markdown",
      "metadata": {
        "id": "G1zfyjTHloh4"
      },
      "source": [
        "We can use dictionaries to further make life easier when tackling problems."
      ]
    },
    {
      "cell_type": "markdown",
      "metadata": {
        "id": "WCnpnHgHloh4"
      },
      "source": [
        "### CP101: Example 2.6\n",
        "\n",
        "The following is the composition of a gas expressed as a weight percent.  Express the molar composition.\n",
        "\n",
        "\n",
        "| gas | weight % | molecular mass           |\n",
        "|:--- | --- | --- |\n",
        "|             |          | g mol$^{-1}$ |\n",
        "| O$_2$       |     16.0 |       32.0 |\n",
        "| CO          |      4.0 |       28.0 |\n",
        "| CO$_2$      |     17.0 |       44.0 |\n",
        "| N$_2$       |     63.0 |       28.0 |\n"
      ]
    },
    {
      "cell_type": "markdown",
      "metadata": {
        "id": "WUzYUl5xloh4"
      },
      "source": [
        "First we collect the information from the question together:"
      ]
    },
    {
      "cell_type": "code",
      "metadata": {
        "id": "YvUqvpHlloh5"
      },
      "source": [
        "wt = {}\n",
        "wt['O2']  = 16.0 \n",
        "wt['CO']  = 4.0  \n",
        "wt['CO2'] = 17.0\n",
        "wt['N2']  = 63.0 \n",
        "\n",
        "Mw = {}\n",
        "Mw['O2']  = 32.0\n",
        "Mw['CO']  = 28.0\n",
        "Mw['CO2'] = 44.0\n",
        "Mw['N2']  = 28.0"
      ],
      "execution_count": null,
      "outputs": []
    },
    {
      "cell_type": "markdown",
      "metadata": {
        "id": "DL6jpGd2loh5"
      },
      "source": [
        "Then, we iterate through the dictionaries to determine the total number of moles:"
      ]
    },
    {
      "cell_type": "code",
      "metadata": {
        "id": "oESuugjfloh5"
      },
      "source": [
        "N = 0.0\n",
        "\n",
        "moles = {}\n",
        "for gas, w in wt.items():\n",
        "    moles[gas] = w / Mw[gas]\n",
        "    N += moles[gas]\n",
        "print(f'Total moles: {N:.2f} mol')\n",
        "\n",
        "for gas in moles.keys():\n",
        "    percent = moles[gas] * 100.0/N \n",
        "    print(f'mol% {gas} = {percent:.2f}%')\n"
      ],
      "execution_count": null,
      "outputs": []
    },
    {
      "cell_type": "markdown",
      "metadata": {
        "id": "EuOE7P7UK4md"
      },
      "source": [
        "##Practice Exercise\n",
        "Returning again, to the the same exercise from the previous notebook, complete the exercise by utilising dictionaries and looping.\n",
        "\n",
        "Calculate and print the heat of combustion for 100.0g of propanol, given the following heats of formation:\n",
        "\n",
        "| Compound | ΔH$^o$$_f$ (kJ mol$^{-1}$) |\n",
        "|:---|---|\n",
        "| CO$_{2(g)}$    | -393.5 |\n",
        "|H$_2$O$_{(l)}$| -285.86|\n",
        "|C$_3$H$_7$OH$_{(g)}$|-303.0|\n",
        "\n",
        "**Solution**:"
      ]
    },
    {
      "cell_type": "code",
      "metadata": {
        "id": "OGLas5y9Lv-W"
      },
      "source": [
        "prop_mass = 100 \n",
        "prop_mw = 60 \n",
        "\n",
        "heats={}\n",
        "heats['CO2'] = -393.5\n",
        "heats['H2O'] = -285.86\n",
        "heats['C3H7OH'] = -303.0\n",
        "\n",
        "coeffs={\n",
        "    'C3H7OH' : -1,\n",
        "    'H2O' : 4,\n",
        "    'CO2' : 3\n",
        "}\n",
        "\n",
        "combust_heat_permole = 0\n",
        "for mole, heat in heats.items():\n",
        "  combust_heat_permole += heat*coeffs[mole]\n",
        "\n",
        "combust_heat = combust_heat_permole * prop_mass / prop_mw\n",
        "\n",
        "print(f'The heat of combustion for {prop_mass}g of propanol is {combust_heat:.2f}kJ/mol')"
      ],
      "execution_count": null,
      "outputs": []
    },
    {
      "cell_type": "markdown",
      "metadata": {
        "id": "MUvgJpckloh5"
      },
      "source": [
        "### Conclusion\n",
        "\n",
        "In this notebook we've introduced dictionaries: A ways of organising data as well as discussed iterating/looping. Now, if we want to apply the solution code above to a different system we can simply swap out the two dictionaries at the start for ones containing the mass fraction and molecular weights for the new system. Easy peasy!\n",
        "\n",
        "In the [next notebook](python_numpy.ipynb), we'll cover the python library: ***numpy***."
      ]
    }
  ]
}