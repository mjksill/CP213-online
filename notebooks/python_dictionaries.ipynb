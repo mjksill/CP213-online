{
 "cells": [
  {
   "cell_type": "markdown",
   "metadata": {},
   "source": [
    "# Python dictionaries and lists\n",
    "\n",
    "In the [last notebook](python_variables.ipynb) we introduced simple variables, and touch on objects and types. Here, we'll introduce two types of object: a `dict` or dictionary, and a `list`. \n",
    "\n",
    "An everyday dictionary is a collection of words, with their definition. In Python, a `dict` is very similar: you have a set of keys, with an object associated with each one. You can use a dictionary to store data in a nice, neat manner.\n",
    "\n",
    "A `list` is like it sounds: a list of objects."
   ]
  },
  {
   "cell_type": "markdown",
   "metadata": {},
   "source": [
    "Here's a simple menu as a dictionary. The keys are the names of the menu item, while the value is the price of the item."
   ]
  },
  {
   "cell_type": "code",
   "execution_count": 1,
   "metadata": {},
   "outputs": [],
   "source": [
    "menu = {\n",
    "    'hot dog': 1.20,\n",
    "    'burger': 2.10,\n",
    "    'chips': 1.00,\n",
    "    'pizza': 1.50\n",
    "}"
   ]
  },
  {
   "cell_type": "markdown",
   "metadata": {},
   "source": [
    "The key can be (almost) anything, and the value can be any python object (and so anything).\n",
    "\n",
    "The stored value in a `dict` even be a `list`, although we won't here; our values just `float`s.\n",
    "\n",
    "Howevere, we will use a `list` to store the order someone is making from the menu:"
   ]
  },
  {
   "cell_type": "code",
   "execution_count": 2,
   "metadata": {},
   "outputs": [],
   "source": [
    "order = ['hot dog', 'burger', 'hot dog', 'burger', 'pizza', 'pizza']"
   ]
  },
  {
   "cell_type": "markdown",
   "metadata": {},
   "source": [
    "To effectively use either a dictionary or a list, you'll need to know how *iteration* works in Python.\n",
    "\n",
    "You have something called a `for` loop, which lets you do something with every element in a list or every key in a dictionary:"
   ]
  },
  {
   "cell_type": "code",
   "execution_count": 3,
   "metadata": {},
   "outputs": [
    {
     "name": "stdout",
     "output_type": "stream",
     "text": [
      "Menu\n",
      "  hot dog (£1.20)\n",
      "  burger (£2.10)\n",
      "  chips (£1.00)\n",
      "  pizza (£1.50)\n",
      "\n",
      "Order\n",
      "  hot dog (£1.20)\n",
      "  burger (£2.10)\n",
      "  hot dog (£1.20)\n",
      "  burger (£2.10)\n",
      "  pizza (£1.50)\n",
      "  pizza (£1.50)\n",
      "Order total = £9.60\n"
     ]
    }
   ],
   "source": [
    "print('Menu')\n",
    "for key in menu:\n",
    "    print(f'  {key} (£{menu[key]:.2f})')\n",
    "\n",
    "print()\n",
    "print('Order')\n",
    "total = 0\n",
    "for item in order:\n",
    "    price = menu[item]\n",
    "    print(f'  {item} (£{price:.2f})')\n",
    "    total += price\n",
    "print(f'Order total = £{total:.2f}')"
   ]
  },
  {
   "cell_type": "markdown",
   "metadata": {},
   "source": [
    "There are more succinct ways to access the elements of a dictionary however:"
   ]
  },
  {
   "cell_type": "code",
   "execution_count": 4,
   "metadata": {},
   "outputs": [
    {
     "name": "stdout",
     "output_type": "stream",
     "text": [
      "Menu\n",
      "  hot dog (£1.20)\n",
      "  burger (£2.10)\n",
      "  chips (£1.00)\n",
      "  pizza (£1.50)\n"
     ]
    }
   ],
   "source": [
    "print('Menu')\n",
    "for key, value in menu.items():\n",
    "    print(f'  {key} (£{value:.2f})')"
   ]
  },
  {
   "cell_type": "markdown",
   "metadata": {},
   "source": [
    "We can use dictionaries to further make life easier when tackling problems."
   ]
  },
  {
   "cell_type": "markdown",
   "metadata": {},
   "source": [
    "### CP101: Example 2.6\n",
    "\n",
    "The following is the composition of a gas expressed as a weight percent.  Express the molar composition.\n",
    "\n",
    "\n",
    "| gas | weight % | molecular mass           |\n",
    "|:--- | --- | --- |\n",
    "|             |          | g mol$^{-1}$ |\n",
    "| O$_2$       |     16.0 |       32.0 |\n",
    "| CO          |      4.0 |       28.0 |\n",
    "| CO$_2$      |     17.0 |       44.0 |\n",
    "| N$_2$       |     63.0 |       28.0 |\n"
   ]
  },
  {
   "cell_type": "markdown",
   "metadata": {},
   "source": [
    "First we collect the information from the question together:"
   ]
  },
  {
   "cell_type": "code",
   "execution_count": 5,
   "metadata": {},
   "outputs": [],
   "source": [
    "wt = {}\n",
    "wt['O2']  = 16.0 \n",
    "wt['CO']  = 4.0  \n",
    "wt['CO2'] = 14.0\n",
    "wt['N2']  = 63.0 \n",
    "\n",
    "Mw = {}\n",
    "Mw['O2']  = 32.0\n",
    "Mw['CO']  = 28.0\n",
    "Mw['CO2'] = 44.0\n",
    "Mw['N2']  = 28.0"
   ]
  },
  {
   "cell_type": "markdown",
   "metadata": {},
   "source": [
    "Then, we iterate through the dictionaries to determine the total number of moles:"
   ]
  },
  {
   "cell_type": "code",
   "execution_count": 6,
   "metadata": {},
   "outputs": [
    {
     "name": "stdout",
     "output_type": "stream",
     "text": [
      "Total moles: 3.21 mol\n",
      "mol% O2 = 15.57%\n",
      "mol% CO = 4.45%\n",
      "mol% CO2 = 9.91%\n",
      "mol% N2 = 70.07%\n"
     ]
    }
   ],
   "source": [
    "N = 0.0\n",
    "\n",
    "moles = {}\n",
    "for gas, w in wt.items():\n",
    "    moles[gas] = w / Mw[gas]\n",
    "    N += moles[gas]\n",
    "print(f'Total moles: {N:.2f} mol')\n",
    "\n",
    "for gas in moles.keys():\n",
    "    percent = moles[gas] * 100.0/N \n",
    "    print(f'mol% {gas} = {percent:.2f}%')\n"
   ]
  },
  {
   "cell_type": "markdown",
   "metadata": {},
   "source": [
    "### Conclusion\n",
    "\n",
    "In this notebook we've introduced dictionaries and lists: two ways of organising data as well as discussed iterating/looping. Now, if we want to apply the solution code above to a different system we can simply swap out the two dictionaries at the start for ones containing the mass fraction and molecular weights for the new system. Easy peasy!\n",
    "\n",
    "In the [next notebook](python_functions.ipynb), we'll cover a very important concept in programming: ***functions***."
   ]
  }
 ],
 "metadata": {
  "kernelspec": {
   "display_name": "Python 3",
   "language": "python",
   "name": "python3"
  },
  "language_info": {
   "codemirror_mode": {
    "name": "ipython",
    "version": 3
   },
   "file_extension": ".py",
   "mimetype": "text/x-python",
   "name": "python",
   "nbconvert_exporter": "python",
   "pygments_lexer": "ipython3",
   "version": "3.8.3"
  }
 },
 "nbformat": 4,
 "nbformat_minor": 4
}
