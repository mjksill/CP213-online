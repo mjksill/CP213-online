{
  "nbformat": 4,
  "nbformat_minor": 0,
  "metadata": {
    "colab": {
      "provenance": [],
      "collapsed_sections": []
    },
    "kernelspec": {
      "name": "python3",
      "display_name": "Python 3"
    },
    "language_info": {
      "name": "python"
    }
  },
  "cells": [
    {
      "cell_type": "markdown",
      "source": [
        "# Numerical solution of initial value problems\n",
        "\n",
        "\n",
        "Consider the differential equation\n",
        "\\begin{align*}\n",
        "\\frac{dy}{dt}\n",
        "&= 1 - y\n",
        "\\end{align*}\n",
        "with the initial condition $y(0)=1$.d\n",
        "This is easily solve\n",
        "\\begin{align*}\n",
        "\\frac{dy}{1-y} &= -dt\n",
        "\\\\\n",
        "- \\ln|1-y(t)| &= -t + C\n",
        "\\end{align*}\n",
        "Using the initial condition, we find\n",
        "\\begin{align*}\n",
        "y(t) &= 1 - e^{-t}\n",
        ".\n",
        "\\end{align*}\n",
        "\n",
        "\n",
        "If we approximate the\n",
        "\\begin{align*}\n",
        "\\frac{y(t+\\Delta t)-y(t)}{\\Delta t}\n",
        "&\\approx 1 - y(t)\n",
        "\\\\\n",
        "y(t+\\Delta t)\n",
        "&\\approx \n",
        "y(t)\n",
        "+\n",
        "[1 - y(t)] \\Delta t\n",
        "\\end{align*}\n",
        "This gives us"
      ],
      "metadata": {
        "id": "OiYV0hk5y2XA"
      }
    },
    {
      "cell_type": "code",
      "source": [
        "def f(y, t):\n",
        "  return 1-y\n",
        "\n",
        "t_old = 0.0\n",
        "y_old = 0.0\n",
        "\n",
        "dt = 1.0e-2\n",
        "t_list = [t_old]\n",
        "y_list = [y_old]\n",
        "for step in range(1000):\n",
        "  t_new = t_old + dt\n",
        "  y_new = y_old + f(y_old, t_old) * dt\n",
        "  t_list.append(t_new)\n",
        "  y_list.append(y_new)\n",
        "  t_old = t_new\n",
        "  y_old = y_new\n",
        "\n",
        "\n",
        "import numpy as np\n",
        "import pylab as plt\n",
        "\n",
        "plt.plot(t_list, y_list, 'o')\n",
        "plt.plot(t_list, [1-np.exp(-t) for t in t_list])\n",
        "plt.show()"
      ],
      "metadata": {
        "colab": {
          "base_uri": "https://localhost:8080/",
          "height": 265
        },
        "id": "GJfBwwenKNHz",
        "outputId": "27bb813f-cd00-44fc-dab9-6f006ff9f5f9"
      },
      "execution_count": null,
      "outputs": [
        {
          "output_type": "display_data",
          "data": {
            "text/plain": [
              "<Figure size 432x288 with 1 Axes>"
            ],
            "image/png": "[encoded data removed]"
          },
          "metadata": {
            "needs_background": "light"
          }
        }
      ]
    },
    {
      "cell_type": "markdown",
      "source": [
        "This method can be generalized to any first order differential equation of the form:\n",
        "\\begin{align*}\n",
        "\\frac{dy}{dt}\n",
        "&= f(y, t)\n",
        ",\n",
        "\\end{align*}\n",
        "with an initial condition $y(0)=y_0$.  \n",
        "\n",
        "Using the forward difference approximate for the derivative, we find\n",
        "\\begin{align*}\n",
        "\\frac{y(t+\\Delta t)-y(t)}{\\Delta t} \n",
        "&\\approx f(y(t), t)\n",
        "\\\\\n",
        "y(t+\\Delta t)\n",
        "&\\approx \n",
        "y(t)\n",
        "+ f(y(t),t) \\Delta t\n",
        ".\n",
        "\\end{align*}\n",
        "This manner of numerically solving a differential equation is known as Euler's method."
      ],
      "metadata": {
        "id": "Y_cxwt0_jEkk"
      }
    },
    {
      "cell_type": "markdown",
      "source": [
        "## Filling a tank with air\n",
        "\n",
        "We consider a tank with a fixed volume $V=1\\,{\\rm m}^3$ that is being filled with air.  Air is at pressure $p_{\\rm in}=10\\,{\\rm bar}$ flows into the tank at a molar flowrate given by\n",
        "\\begin{align*}\n",
        "\\dot{N}_{\\rm in}\n",
        "&= K_{\\rm in} \\sqrt{\\Delta p}\n",
        "\\end{align*}\n",
        "where $\\Delta p=p_{\\rm in}-p$ is the pressure drop across the valve, $p$ is the pressure of the air in the tank, and $K_{\\rm in}=0.1\\,{\\rm mol\\,min^{-1}\\,bar^{-1/2}}$ is a valve coefficient.  The molar flowrate of air out of the tank is given by\n",
        "\\begin{align*}\n",
        "\\dot{N}_{\\rm out}\n",
        "&= K_{\\rm out} \\sqrt{\\Delta p}\n",
        "\\end{align*}\n",
        "where $\\Delta p=p-p_{\\rm out}$ is the pressure drop across the valve, $p_{\\rm out}=1\\,{\\rm bar}$ is the downstream pressure, and $K_{\\rm out}=0.1\\,{\\rm mol\\,min^{-1}\\,bar^{-1/2}}$ is a valve coefficient.  The temperature of the air throughout the system is assumed to remain at $T=300\\,{\\rm K}$.\n",
        "\n",
        "Performing a balance on the moles of air in the tank during the period of time from $t$ to $t+\\Delta t$, we find\n",
        "\\begin{align*}\n",
        "N(t+\\Delta t) - N(t)\n",
        "\\approx \n",
        "\\dot{N}_{\\rm in} \\Delta t - \\dot{N}_{\\rm out} \\Delta t\n",
        "\\end{align*}\n",
        "We can use Euler's method to solve this differential equation."
      ],
      "metadata": {
        "id": "aUhj7RI6hEYS"
      }
    },
    {
      "cell_type": "code",
      "execution_count": null,
      "metadata": {
        "colab": {
          "base_uri": "https://localhost:8080/"
        },
        "id": "pfB2g8SNyfY6",
        "outputId": "23750dc3-c285-4e18-bf75-e412cabfa4d6"
      },
      "outputs": [
        {
          "output_type": "stream",
          "name": "stdout",
          "text": [
            "[220.51158688]\n"
          ]
        }
      ],
      "source": [
        "\n",
        "from scipy.optimize import fsolve\n",
        "import numpy as np\n",
        "\n",
        "V = 1.0\n",
        "R = 8.314e-5 # bar m^3 mol^{-1} K^{-1}\n",
        "T = 300.0\n",
        "pin = 10.0  # bar\n",
        "pout = 1.0\n",
        "Kin = 0.1\n",
        "Kout = 0.1\n",
        "\n",
        "\n",
        "\n",
        "def acc(N):\n",
        "  p = N*R*T/V\n",
        "  Ndot_in = Kin*np.sqrt(pin-p)\n",
        "  Ndot_out = Kout*np.sqrt(p-pout)\n",
        "  return Ndot_in - Ndot_out\n",
        "\n",
        "pguess = 0.5*(pin+pout)\n",
        "Nguess = pguess*V/(R*T)\n",
        "N_steadystate = fsolve(acc, Nguess)\n",
        "print(N_steadystate)  \n",
        "\n",
        "\n",
        "\n",
        "\n",
        "\n"
      ]
    },
    {
      "cell_type": "code",
      "source": [
        "from scipy.optimize import fsolve\n",
        "import numpy as np\n",
        "\n",
        "V = 1.0\n",
        "R = 8.314e-5 # bar m^3 mol^{-1} K^{-1}\n",
        "T = 300.0\n",
        "pin = 10.0  # bar\n",
        "pout = 1.0\n",
        "Kin = 0.1\n",
        "Kout = 0.1\n",
        "\n",
        "\n",
        "\n",
        "def acc(N):\n",
        "  p = N*R*T/V\n",
        "  Ndot_in = Kin*np.sqrt(abs(pin-p))\n",
        "  Ndot_out = Kout*np.sqrt(abs(p-pout))\n",
        "  return Ndot_in - Ndot_out\n",
        "\n",
        "\n",
        "dt = 1.0e0\n",
        "\n",
        "t_old = 0.0\n",
        "N_old = pout*V/(R*T)\n",
        "\n",
        "t_list = [0.0]\n",
        "N_list = [N_old]\n",
        "for step in range(10000):\n",
        "  t_new = t_old + dt\n",
        "  N_new = N_old + acc(N_old)*dt\n",
        "  N_list.append(N_new)\n",
        "  t_list.append(t_new)\n",
        "  t_old = t_new\n",
        "  N_old = N_new\n",
        "\n",
        "\n",
        "import pylab as plt\n",
        "\n",
        "plt.plot(t_list, N_list)\n",
        "plt.xlabel('time / min')\n",
        "plt.ylabel('moles of air in tank')\n",
        "plt.show()\n"
      ],
      "metadata": {
        "colab": {
          "base_uri": "https://localhost:8080/",
          "height": 279
        },
        "id": "fI7MtI9T5NeW",
        "outputId": "bdd9b357-b3dd-49ac-9225-00917e432f0a"
      },
      "execution_count": null,
      "outputs": [
        {
          "output_type": "display_data",
          "data": {
            "text/plain": [
              "<Figure size 432x288 with 1 Axes>"
            ],
            "image/png": "[encoded data removed]"
          },
          "metadata": {
            "needs_background": "light"
          }
        }
      ]
    },
    {
      "cell_type": "markdown",
      "source": [
        "## Energy balance example\n",
        "\n",
        "We can also use Euler's method to solve the differential equations that come from an energy balance."
      ],
      "metadata": {
        "id": "lgeGFoqEzFK-"
      }
    },
    {
      "cell_type": "markdown",
      "source": [
        "### Background data and code"
      ],
      "metadata": {
        "id": "Qj1LMov81Z6Z"
      }
    },
    {
      "cell_type": "code",
      "source": [
        "R = 8.314e-3  # ideal gas constant / kJ mol^{-1} K^{-1}\n",
        "T0 = 298.15   # reference temperature / K\n",
        "p0 = 1.0e5    # reference pressure / Pa\n",
        "\n",
        "\n",
        "# Data about the gases: \n",
        "#  Mw - molecular weight g/mol\n",
        "#  Hf - heat of formation kJ/mol\n",
        "#  Gf - Gibbs free energy kJ/mol\n",
        "data = {}\n",
        "data['CO']  = {'Mw':28.01 , 'Hf':-110.5 , 'Gf':-137.2 }\n",
        "data['CO2'] = {'Mw':44.01 , 'Hf':-393.3 , 'Gf':-394.6 }\n",
        "data['H2']  = {'Mw': 2.02 , 'Hf':   0.0 , 'Gf':   0.0 }\n",
        "data['H2O'] = {'Mw':18.02 , 'Hf':-241.8 , 'Gf':-228.4 }\n",
        "data['CH4'] = {'Mw':16.043, 'Hf': -74.52, 'Gf': -50.45}\n",
        "data['O2']  = {'Mw':31.999, 'Hf':   0.0 , 'Gf':   0.00}\n",
        "data['N2']  = {'Mw':28.014, 'Hf':   0.0 , 'Gf':   0.00}\n",
        "\n",
        "\n",
        "data['CO'] ['Cp_coeff'] = [3.912, -3.913e-3,  1.182e-5, -1.302e-8,  0.515e-11]      \n",
        "data['CO2']['Cp_coeff'] = [3.259,  1.356e-3,  1.502e-5, -2.374e-8,  1.056e-11]      \n",
        "data['H2'] ['Cp_coeff'] = [2.883,  3.681e-3, -0.772e-5,  0.692e-8, -0.213e-11]      \n",
        "data['H2O']['Cp_coeff'] = [4.395, -4.186e-3,  1.405e-5, -1.564e-8,  0.632e-11]\n",
        "data['CH4']['Cp_coeff'] = [4.568, -8.975e-3,  3.631e-5, -3.407e-8,  1.091e-11]\n",
        "data['O2'] ['Cp_coeff'] = [3.63 , -1.794e-3,  0.658e-5, -0.601e-8,  0.179e-11]\n",
        "data['N2'] ['Cp_coeff'] = [3.539, -0.261e-3,  0.007e-5,  0.157e-8, -0.099e-11]\n",
        "\n",
        "\n",
        "# Stoichiometric coefficients for the combustion of methane\n",
        "nu = {}\n",
        "nu['CO']  =  0.0\n",
        "nu['CO2'] =  1.0\n",
        "nu['H2']  =  0.0\n",
        "nu['H2O'] =  2.0\n",
        "nu['CH4'] = -1.0\n",
        "nu['O2']  = -2.0\n",
        "nu['N2']  =  0.0\n",
        "\n",
        "\n",
        "\n",
        "import numpy as np\n",
        "import pylab as plt\n",
        "from scipy.optimize import fsolve\n",
        "\n",
        "# isobaric heat capacity of pure substances / kJ mol^{-1} K^{-1}\n",
        "def get_Cp_pure(T, molecule):\n",
        "  a = data[molecule]['Cp_coeff']\n",
        "  Cp = 0.0\n",
        "  for n in range(len(a)):\n",
        "      Cp += a[n]*T**n\n",
        "  Cp *= R\n",
        "  return Cp\n",
        "\n",
        "# molar enthalpy of pure substances / kJ mol^{-1}\n",
        "def get_H_pure(T, molecule):\n",
        "  a = data[molecule]['Cp_coeff']\n",
        "  H = data[molecule]['Hf']\n",
        "  for n in range(len(a)):\n",
        "    H += R*a[n]*(T**(n+1)-T0**(n+1))/(n+1)\n",
        "  return H\n",
        "\n",
        "\n",
        "# dot product between two vectors\n",
        "def dot_product(vec1, vec2):\n",
        "  prod_vec = [x1*x2 for x1, x2 in zip(vec1, vec2)]\n",
        "  return sum(prod_vec)\n",
        "\n",
        "\n",
        "# total heat capacity of a mixture / kJ mol^{-1} K^{-1} multiplied by the units of N_dict\n",
        "def get_Cp(T, N_dict):\n",
        "  N_list = [N_dict[molecule] for molecule in data.keys()]\n",
        "  Cp_list = [get_Cp_pure(T, molecule) for molecule in data.keys()] \n",
        "  Cp = dot_product(N_list, H_list)\n",
        "  return Cp\n",
        "\n",
        "# total enthalpy of a mixture / kJ mol^{-1} multiplied by the units of N_dict\n",
        "def get_H(T, N_dict):\n",
        "  N_list = [N_dict[molecule] for molecule in data.keys()]\n",
        "  H_list = [get_H_pure(T, molecule) for molecule in data.keys()] \n",
        "  H = dot_product(N_list, H_list)\n",
        "  return H\n"
      ],
      "metadata": {
        "id": "mp9IyPx61NjC"
      },
      "execution_count": null,
      "outputs": []
    },
    {
      "cell_type": "markdown",
      "source": [
        "### Steady state energy balance\n",
        "\n"
      ],
      "metadata": {
        "id": "mWe54D8d2hG_"
      }
    },
    {
      "cell_type": "code",
      "source": [
        "from scipy.optimize import fsolve\n",
        "\n",
        "Tin = 300.0\n",
        "Ndot_in = {mol: 0.0 for mol in data.keys()}\n",
        "Ndot_in['CH4'] = 0.1\n",
        "Ndot_in['O2'] =  0.21*5.0\n",
        "Ndot_in['N2'] = 0.79 * 5.0\n",
        "\n",
        "Ndot_out = Ndot_in\n",
        "\n",
        "\n",
        "def accumulation(T):\n",
        "  Hdot_in = get_H(Tin, Ndot_in)\n",
        "  Qdot = 1.0\n",
        "  Hdot_out = get_H(T, Ndot_out)\n",
        "  return Hdot_in + Qdot - Hdot_out\n",
        "\n",
        "\n",
        "Tguess = 300\n",
        "Tsolution = fsolve(accumulation, Tguess)\n",
        "print(Tsolution)\n",
        "  \n"
      ],
      "metadata": {
        "colab": {
          "base_uri": "https://localhost:8080/"
        },
        "id": "9p6887I65wNx",
        "outputId": "32d8017d-dcb3-457c-b0cd-0e1e9b336659"
      },
      "execution_count": null,
      "outputs": [
        {
          "output_type": "stream",
          "name": "stdout",
          "text": [
            "[306.68953081]\n"
          ]
        }
      ]
    }
  ]
}