{
  "nbformat": 4,
  "nbformat_minor": 0,
  "metadata": {
    "colab": {
      "provenance": []
    },
    "kernelspec": {
      "name": "python3",
      "display_name": "Python 3"
    },
    "language_info": {
      "name": "python"
    }
  },
  "cells": [
    {
      "cell_type": "markdown",
      "source": [
        "# Modeling a refrigeration unit"
      ],
      "metadata": {
        "id": "mW-53kRW5exp"
      }
    },
    {
      "cell_type": "markdown",
      "source": [
        "This is a continuation of the lecture on Wednesday 2024 October 30\n",
        "which developed the differential mole/mass and energy balances for a\n",
        "refrigeration system.  The lecture was based on the [Refrigeration video](https://classes.myplace.strath.ac.uk/mod/page/view.php?id=1567138) that can be found on\n",
        "Myplace.\n",
        "\n",
        "A mole balance on the vessel gave\n",
        "\\begin{align*}\n",
        "\\frac{dN_l}{dt}\n",
        "&=\n",
        "\\dot{N}_{\\rm in}\n",
        "- \\dot{N}_{\\rm out}\n",
        "\\end{align*}\n",
        "where $N_l$ is the number of moles of liquid refrigerant in the vessel, $\\dot{N}_{\\rm in}$ is the molar flow rate of liquid refrigerant into the vessel, and $\\dot{N}_{\\rm out}$ is the molar flow rate of vapor refrigerant that exits the vessel.\n",
        "\n",
        "An energy balance on the vessel gives\n",
        "\\begin{align*}\n",
        "N_l C \\frac{dT}{dt}\n",
        "&=\n",
        "\\dot{N}_{\\rm in} C(T_{\\rm in} - T)\n",
        "- \\dot{N}_{\\rm out} \\Delta H\n",
        "- hS (T - T_C)\n",
        "\\end{align*}\n",
        "where $C$ is the heat capacity of the liquid refrigerant, $\\Delta H$ is the molar enthalpy of vaporization of the refrigerant, $T_{\\rm in}$ is the temperature of the liquid refrigerant that is fed to the vessel, $T_C$ is the temperature of the environment that surrounds the vessel, $h$ is a heat transfer coefficient between the vessel and its surroundings, and $S$ is the area for heat transfer.\n"
      ],
      "metadata": {
        "id": "VP8gzRZp2Vzl"
      }
    },
    {
      "cell_type": "markdown",
      "source": [
        "## Analytical solution\n",
        "\n",
        "We will look for an analytical solution to this problem in the special\n",
        "case where the inlet and outlet flow rates are equal and constant\n",
        "(i.e. $\\dot{N}_{\\rm in}=\\dot{N}_{\\rm out}=\\dot{N}$).  In this case,\n",
        "the mole equation has the simple solution that the number of mole of\n",
        "refrigerant in the vessel, which is approximately $N_l$, remains\n",
        "constant.\n",
        "\n",
        "The energy balance equation can be rearranged as:\n",
        "\\begin{align*}\n",
        "\\frac{dT}{dt}\n",
        "&=\n",
        "\\frac{\\dot{N}_{\\rm in}}{N_l}(T_{\\rm in} - T)\n",
        "- \\frac{\\dot{N}_{\\rm out} \\Delta H}{N_l C}\n",
        "- \\frac{hS}{N_l C} (T - T_C)\n",
        "\\end{align*}\n",
        "In its present form, this equation looks complicated to solve.  To try\n",
        "to make things more clear, we separate terms that are constants from\n",
        "terms that depend on the function $T$ that we are trying to solve for:\n",
        "\\begin{align*}\n",
        "\\frac{dT}{dt}\n",
        "&=\n",
        "\\left[\\frac{\\dot{N}_{\\rm in}}{N_l} T_{\\rm in}\n",
        "- \\frac{\\dot{N}_{\\rm out} \\Delta H}{N_l C}\n",
        "+ \\frac{hS}{N_l C} T_C\\right]\n",
        "- \\left[\n",
        "    \\frac{\\dot{N}_{\\rm in}}{N_l} + \\frac{hS}{N_l C}\\right] T\n",
        "\\end{align*}\n",
        "The first term in square brackets is constant, while the second term\n",
        "depends linearly on the unknown function $T(t)$.  To simplify things a\n",
        "bit, we define a constant $A$ as\n",
        "\\begin{align*}\n",
        "A &= \\frac{\\dot{N}_{\\rm in}}{N_l} T_{\\rm in}\n",
        "- \\frac{\\dot{N}_{\\rm out} \\Delta H}{N_l C}\n",
        "+ \\frac{hS}{N_l C} T_C\n",
        "\\end{align*}\n",
        "and a constant $\\tau$ as:\n",
        "\\begin{align*}\n",
        "\\frac{1}{\\tau}\n",
        "&=\n",
        "\\frac{\\dot{N}_{\\rm in}}{N_l} + \\frac{hS}{N_l C}\n",
        "\\end{align*}\n",
        "Note that the symbol $\\tau$ was used for the second constant because\n",
        "it has units of time, as this suggests that it represents a time scale\n",
        "of the system.  With these newly defined constants, the energy balance\n",
        "equation simplifies to\n",
        "\\begin{align*}\n",
        "\\frac{dT(t)}{dt}\n",
        "&=\n",
        "A - \\frac{T(t)}{\\tau}\n",
        "\\\\\n",
        "&=\n",
        "\\frac{1}{\\tau}[\n",
        "\\tau A - T(t)]\n",
        "\\end{align*}\n",
        "\n",
        "If we consider steady-state operation of the vessel, we can find a\n",
        "physical interpretation of the quantity $\\tau A$.  At steady state,\n",
        "the properties of the system do not change with time, and so\n",
        "$dT/dt=0$.  If the temperature at steady state is $T_\\infty$, then we\n",
        "find\n",
        "\\begin{align*}\n",
        "0 &= \\frac{1}{\\tau}[\\tau A - T_\\infty]\n",
        "\\end{align*}\n",
        "or \\begin{align*} T_\\infty = \\tau A \\end{align*}.  So the combination\n",
        "$\\tau A$ is the steady state temperature of the system.\n",
        "\n",
        "We rewrite the energy balance as\n",
        "\\begin{align*}\n",
        "\\frac{dT(t)}{dt}\n",
        "&=\n",
        "\\frac{1}{\\tau}[\n",
        "T_\\infty - T(t)]\n",
        "\\end{align*}\n",
        "This can be solved by separation of variables:\n",
        "\\begin{align*}\n",
        "\\frac{dT}{T_\\infty - T}\n",
        "&=\n",
        "\\frac{dt}{\\tau}[\n",
        "\\\\\n",
        "-\\ln|T_\\infty-T|\n",
        "&=\n",
        "\\frac{t}{\\tau}\n",
        "+ \\mbox{const}\n",
        "\\end{align*}\n",
        "where $\\mbox{const}$ is an unknown constant that can be determined\n",
        "from the initial condition $T(0)=T_0$:\n",
        "\\begin{align*}\n",
        "-\\ln|T_\\infty-T_0|\n",
        "&=\n",
        "\\frac{0}{\\tau}\n",
        "+ \\mbox{const}\n",
        "\\\\\n",
        "\\mbox{const}\n",
        "&=\n",
        "-\\ln|T_\\infty-T_0|\n",
        "\\end{align*}\n",
        "The solution is then\n",
        "\\begin{align*}\n",
        "T(t)\n",
        "&=\n",
        "T_\\infty\n",
        "-(T_\\infty-T_0) e^{-t/\\tau}\n",
        "\\end{align*}\n"
      ],
      "metadata": {
        "id": "vRiSIq7k5Zpw"
      }
    },
    {
      "cell_type": "code",
      "source": [
        "import numpy as np\n",
        "import matplotlib.pyplot as plt\n",
        "\n",
        "t_list = np.linspace(0.0, 5, 100)\n",
        "T_list = [np.exp(-t) for t in t_list]\n",
        "\n",
        "plt.plot(t_list, T_list)\n",
        "plt.xlabel(r'$t/\\tau$')\n",
        "plt.ylabel(r'$[T(t)-T_\\infty]/[T_0-T_\\infty]$')\n",
        "plt.show()\n"
      ],
      "metadata": {
        "id": "V5lGpyApPZSf"
      },
      "execution_count": null,
      "outputs": []
    },
    {
      "cell_type": "markdown",
      "source": [
        "If we want to\n",
        "we ac\n",
        "\n",
        "Below we plot the analytical solution of the\n",
        "\n",
        "We can get data for this refrigerant from\n",
        "[Wikipedia](https://en.wikipedia.org/wiki/1,1,1,2-Tetrafluoroethane_(data_page))."
      ],
      "metadata": {
        "id": "OvoZMc_O2Rfj"
      }
    },
    {
      "cell_type": "code",
      "execution_count": null,
      "metadata": {
        "colab": {
          "base_uri": "https://localhost:8080/",
          "height": 506
        },
        "id": "I7LDuKo4opLu",
        "outputId": "ddb9b978-5ac9-42a7-db7d-e640b730b1e1"
      },
      "outputs": [
        {
          "output_type": "stream",
          "name": "stdout",
          "text": [
            "A parameter = 333.21633191762976 K / s\n",
            "time constant = 0.5864993698250396 s\n",
            "steady state temperature: 195.43116868510108 K\n"
          ]
        },
        {
          "output_type": "display_data",
          "data": {
            "text/plain": [
              "<Figure size 640x480 with 1 Axes>"
            ],
            "image/png": "[encoded data removed]"
          },
          "metadata": {}
        }
      ],
      "source": [
        "Nl_0 = 1           # initial moles in vessel\n",
        "dotN = 1           # mol / s\n",
        "T0 = 298           # K\n",
        "TC = -6 + 273.15   # K\n",
        "Tin = 298          # K\n",
        "hS = 1             # kW / K\n",
        "\n",
        "# properties of R134a, taken from Wikipedia\n",
        "Mw = 102.03         # molecular weight / kg kmol^{-1}\n",
        "C = 0.339*4.184   # liquid heat capacity / kJ kg^{-1} K^{-1}\n",
        "DeltaH = 217.2   #  enthalpy of vaporization / kJ kg^{-1}\n",
        "Tref = 25 + 273.15   # reference temperature / K\n",
        "pref = 666.1         # vapor pressure at reference temperature / kPa\n",
        "\n",
        "dotN_in = dotN\n",
        "dotN_out = dotN\n",
        "Nl = Nl_0\n",
        "\n",
        "\n",
        "A = dotN_in/Nl * Tin - dotN_out * DeltaH/(Nl*C) + hS*TC/(Nl*C)\n",
        "tau_inv = dotN_in/Nl + hS/(Nl*C)\n",
        "tau = 1/tau_inv\n",
        "T_inf = tau*A\n",
        "\n",
        "print(f'A parameter = {A} K / s')\n",
        "print(f'time constant = {tau} s')\n",
        "print(f'steady state temperature: {T_inf} K')\n",
        "\n",
        "import numpy as np\n",
        "t_list = np.linspace(0.0, 5, 100)\n",
        "T_list = [T_inf + (T0-T_inf)*np.exp(-t/tau) for t in t_list]\n",
        "\n",
        "import matplotlib.pyplot as plt\n",
        "\n",
        "plt.plot(t_list, T_list)\n",
        "plt.xlabel('time / s')\n",
        "plt.ylabel('temperature / K')\n",
        "plt.show()\n",
        "\n"
      ]
    },
    {
      "cell_type": "markdown",
      "source": [
        "## Euler's method\n",
        "\n",
        "While it is nice that we have obtained an anlytical solution for this problem, for many real world situations that we will encounter, no analytical solutions exist.  \n",
        "\n",
        "We will examine the use of Euler's method.  This is based on\n",
        "approximating the derivative with a forward difference.  In the case of\n",
        "the temperature derivative in the energy balance equation, we have:\n",
        "\\begin{align*}\n",
        "\\frac{dT(t)}{dt}\n",
        "&\\approx\n",
        "\\frac{T(t+\\Delta t) - T(t)}{\\Delta t}\n",
        "\\end{align*}\n",
        "This can be rearranged to give\n",
        "\\begin{align*}\n",
        "T(t+\\Delta t)\n",
        "&\\approx\n",
        "T(t)\n",
        "+ \\frac{dT(t)}{dt} \\Delta t\n",
        "\\end{align*}\n",
        "\n",
        "If we know the temperature of the system at some time $t$, as well as\n",
        "its time derivative, we can estimate its temperature at a slightly\n",
        "later time $t+\\Delta t$ by using the above formula.  In the energy balance equation,\n",
        "we have\n",
        "\\begin{align*}\n",
        "\\frac{dT(t)}{dt}\n",
        "&=\n",
        "\\frac{\\dot{N}_{\\rm in}}{N_l}(T_{\\rm in} - T(t))\n",
        "- \\frac{\\dot{N}_{\\rm out} \\Delta H}{N_l C}\n",
        "- \\frac{hS}{N_l C} (T(t) - T_C)\n",
        "\\end{align*}\n",
        "We can implement this for the first time step in the code below:\n",
        "\n",
        "\n",
        "\n"
      ],
      "metadata": {
        "id": "MLbO-yFC5kcL"
      }
    },
    {
      "cell_type": "code",
      "source": [
        "dt = 0.01  # time step\n",
        "\n",
        "Told = T0\n",
        "Tnew = Told + (dotN_in/Nl*(Tin-Told) - dotN_out*DeltaH/(Nl*C) - hS/(Nl*C)*(Told-TC))*dt\n",
        "print(tnew, Tnew)"
      ],
      "metadata": {
        "id": "-KvVBjSjTznN"
      },
      "execution_count": null,
      "outputs": []
    },
    {
      "cell_type": "markdown",
      "source": [
        "The above code can be repeatedly applied to each successive time step to allow us to estimate the temperature of the system at any time in the future.\n",
        "\n",
        "Below we compare the Euler approximation with the analytical solution."
      ],
      "metadata": {
        "id": "fDSb8azrT7eU"
      }
    },
    {
      "cell_type": "code",
      "source": [
        "import numpy as np\n",
        "import matplotlib.pyplot as plt\n",
        "\n",
        "dt = 0.01\n",
        "\n",
        "Told = T0\n",
        "told = 0\n",
        "\n",
        "\n",
        "T_list = [Told]\n",
        "t_list = [told]\n",
        "for i in range(100):\n",
        "  tnew = told + dt\n",
        "  Tnew = Told + (dotN_in/Nl*(Tin-Told) - dotN_out*DeltaH/(Nl*C) - hS/(Nl*C)*(Told-TC))*dt\n",
        "  T_list.append(Tnew)\n",
        "  t_list.append(tnew)\n",
        "#  print(tnew, Tnew)\n",
        "  Told = Tnew\n",
        "  told = tnew\n",
        "\n",
        "plt.plot(t_list, T_list, ls='None', marker='o', label=\"Euler's method\")\n",
        "\n",
        "\n",
        "# Analytical solution\n",
        "t_list = np.linspace(0.0, 5, 100)\n",
        "T_list = [T_inf + (T0-T_inf)*np.exp(-t/tau) for t in t_list]\n",
        "plt.plot(t_list, T_list, label='analytical solution')\n",
        "\n",
        "\n",
        "plt.legend()\n",
        "plt.xlabel('time / s')\n",
        "plt.ylabel('temperature / K')\n",
        "plt.show()"
      ],
      "metadata": {
        "colab": {
          "base_uri": "https://localhost:8080/",
          "height": 449
        },
        "id": "b2Y8aX-czQev",
        "outputId": "374be3cd-1981-42f5-8d4a-73f55ff5b1c3"
      },
      "execution_count": null,
      "outputs": [
        {
          "output_type": "display_data",
          "data": {
            "text/plain": [
              "<Figure size 640x480 with 1 Axes>"
            ],
            "image/png": "[encoded data removed]"
          },
          "metadata": {}
        }
      ]
    }
  ]
}