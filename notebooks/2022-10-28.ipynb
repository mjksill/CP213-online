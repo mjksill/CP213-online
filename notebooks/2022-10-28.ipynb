{
  "nbformat": 4,
  "nbformat_minor": 0,
  "metadata": {
    "colab": {
      "provenance": [],
      "collapsed_sections": []
    },
    "kernelspec": {
      "name": "python3",
      "display_name": "Python 3"
    },
    "language_info": {
      "name": "python"
    }
  },
  "cells": [
    {
      "cell_type": "markdown",
      "source": [
        "# Energy balances\n",
        "\n",
        "In this lecture, we will examine how to use Python to help perform energy balances."
      ],
      "metadata": {
        "id": "bEsgYP98M6VP"
      }
    },
    {
      "cell_type": "markdown",
      "source": [
        "## Problem 5.3\n",
        "\n",
        "We consider the combustion reaction of methane, which is given by:\n",
        "\\begin{align*}\n",
        "{\\rm CH}_4 + 2{\\rm O}_2\n",
        "\\longrightarrow\n",
        "{\\rm CO}_2 + 2 {\\rm H_2O}\n",
        "\\end{align*}\n",
        "\n"
      ],
      "metadata": {
        "id": "U-iGqaaRM9FK"
      }
    },
    {
      "cell_type": "code",
      "source": [
        "# Hf is a dictionary of the heat of formation for each species\n",
        "Hf = {}\n",
        "Hf['CH4'] = -17.88e3  # cal mol^{-1}\n",
        "Hf['CO2'] = -94.05e3\n",
        "Hf['H2O'] = -57.80e3\n",
        "Hf['O2'] = 0.0\n",
        "Hf['N2'] = 0.0\n",
        "\n",
        "# Cp_data is a dictionary containing the specific heat capacity for each species\n",
        "Cp_data = {}\n",
        "Cp_data['CH4'] = 0.0 \n",
        "Cp_data['CO2'] = 10.0  # cal mol^{-1}\n",
        "Cp_data['H2O'] = 9.0\n",
        "Cp_data['O2'] = 7.5\n",
        "Cp_data['N2'] = 7.4\n",
        "\n",
        "T0 = 298.15  # reference temperature / K\n",
        "\n",
        "molecule_list = list( Cp_data.keys() )  # This is a \n",
        "print(molecule_list)\n",
        "\n",
        "excess = 200  # This is the percentage excess air fed to the system\n",
        "\n",
        "# The variable nu is the\n",
        "nu = {mol: 0.0 for mol in molecule_list}\n",
        "nu['CH4'] = -1.0\n",
        "nu['O2'] = -2.0\n",
        "nu['CO2'] = 1.0\n",
        "nu['H2O'] = 2.0\n",
        "\n",
        "\n"
      ],
      "metadata": {
        "colab": {
          "base_uri": "https://localhost:8080/"
        },
        "id": "KQm8jmojxPbn",
        "outputId": "ef464247-89ac-49bf-eec0-660f8c40cfa5"
      },
      "execution_count": null,
      "outputs": [
        {
          "output_type": "stream",
          "name": "stdout",
          "text": [
            "['CH4', 'CO2', 'H2O', 'O2', 'N2']\n",
            "input moles\n",
            "{'CH4': 1.0, 'CO2': 0.0, 'H2O': 0.0, 'O2': 6.0, 'N2': 22.571428571428573}\n",
            "-17880.0 -186730.84\n",
            "[1150.35289487]\n",
            "877.2028948704927\n"
          ]
        }
      ]
    },
    {
      "cell_type": "markdown",
      "source": [
        "From a mole balance, we can determine the moles of each species\n",
        "exiting the system $N_k^{\\rm out}$ from the moles entering the system $N_k^{\\rm in}$ from knowledge of the extent of reaction $\\alpha$:\n",
        "\\begin{align*}\n",
        "N_{\\rm CH_4}^{\\rm out}\n",
        "&= N_{\\rm CH_4}^{\\rm in}\n",
        "- \\alpha\n",
        "\\\\\n",
        "N_{\\rm O_2}^{\\rm out}\n",
        "&= N_{\\rm O_2}^{\\rm in}\n",
        "- 2\\alpha\n",
        "\\\\\n",
        "N_{\\rm CO_2}^{\\rm out}\n",
        "&= N_{\\rm CO_4}^{\\rm in}\n",
        "+ \\alpha\n",
        "\\\\\n",
        "N_{\\rm H_2O}^{\\rm out}\n",
        "&= N_{\\rm H_2O}^{\\rm in}\n",
        "+ 2 \\alpha\n",
        ".\n",
        "\\end{align*}\n",
        "These equations can be written compactly in terms of the stoichiometric coefficient $\\nu_\\alpha$ of each species in the reaction:\n",
        "\\begin{align*}\n",
        "N_k^{\\rm out}\n",
        "&= N_k^{\\rm in}\n",
        "+ \\nu_k \\alpha\n",
        "\\end{align*}\n",
        "The stoichiometric coefficients of reactants are negative, they are\n",
        "positive for products, and for species that do not participate in the reaction, they are negative.\n",
        "\n",
        "\n"
      ],
      "metadata": {
        "id": "Hilqx2c3ydyn"
      }
    },
    {
      "cell_type": "code",
      "source": [
        "# N_in is a dictionary for the number of moles of each species entering the system\n",
        "N_in = {mol: 0.0 for mol in molecule_list}\n",
        "N_in['CH4'] = 1.0\n",
        "N_in['O2'] = 2.0*(1.0+excess/100.0)\n",
        "N_in['N2'] = N_in['O2']*79/21\n",
        "print('input moles')\n",
        "print(N_in)\n",
        "\n",
        "\n",
        "alpha = 1.0   # extent of reaction\n",
        "\n",
        "# The output number of moles depends on the stoichometric coefficient\n",
        "N_out = {mol: N_in[mol] + nu[mol]*alpha for mol in molecule_list}\n",
        "\n",
        "\n",
        "# This function returns the specific heat capacity of a pure species at a set temperature.  \n",
        "# Note that in this particular case, the heat capacity is independent of temperature.\n",
        "def get_Cp_pure(T, mol):\n",
        "  return Cp_data[mol]\n",
        "\n",
        "\n",
        "# This function returns the molar enthalpy of a pure species at a set temperature.\n",
        "def get_H_pure(T, mol):\n",
        "  H = Hf[mol] +  Cp_data[mol]*(T-T0)\n",
        "  return H\n",
        "\n",
        "\n",
        "import numpy as np\n",
        "import pylab as plt\n",
        "\n",
        "# This function returns the dot product of two vectors.\n",
        "def dot_product(vec1, vec2):\n",
        "    dot = [x1*x2 for x1, x2 in zip(vec1, vec2)]\n",
        "    return sum(dot)\n",
        "\n",
        "# This function returns the total enthalpy of a mixture at a particular temperature and set of mole numbers.\n",
        "def get_H(T, N):\n",
        "  N_vec = list(N.values())\n",
        "  H_vec = [get_H_pure(T, mol) for mol in molecule_list]\n",
        "  return dot_product(N_vec, H_vec)\n",
        "\n",
        "T = 298.15\n",
        "Tout = 400\n",
        "H_in = get_H(T, N_in)\n",
        "H_out = get_H(Tout, N_out)\n",
        "print(H_in, H_out)\n",
        "\n",
        "from scipy.optimize import fsolve\n",
        "\n",
        "\n",
        "def accumulation(T):\n",
        "  H_in = get_H(T0, N_in)\n",
        "  H_out = get_H(T, N_out)\n",
        "  return H_in - H_out\n",
        "\n",
        "\n",
        "Tout = fsolve(accumulation, T0)  \n",
        "print(Tout)\n",
        "print(float(Tout)-273.15)"
      ],
      "metadata": {
        "id": "hkVeHwA5ymEw"
      },
      "execution_count": null,
      "outputs": []
    },
    {
      "cell_type": "markdown",
      "source": [
        "We can combine all our calculations in a loop to determine how the adiabatic flame temperature depends on the excess air that is fed with the fuel.  "
      ],
      "metadata": {
        "id": "v8Nr3PbIOZ1N"
      }
    },
    {
      "cell_type": "code",
      "source": [
        "excess_list = np.linspace(0.0, 500, 100)\n",
        "\n",
        "Tout_list = []\n",
        "\n",
        "for excess in excess_list:\n",
        "\n",
        "  N_in = {mol: 0.0 for mol in molecule_list}\n",
        "  N_in['CH4'] = 1.0\n",
        "  N_in['O2'] = 2.0*(1.0+excess/100.0)\n",
        "  N_in['N2'] = N_in['O2']*79/21\n",
        "\n",
        "  alpha = 1.0\n",
        "  N_out = {mol: N_in[mol] + nu[mol]*alpha for mol in molecule_list}\n",
        "\n",
        "\n",
        "  def accumulation(T):\n",
        "    H_in = get_H(T0, N_in)\n",
        "    H_out = get_H(T, N_out)\n",
        "    return H_in - H_out\n",
        "  T0 = 25.0\n",
        "  solution = fsolve(accumulation, T0)\n",
        "  Tout_list.append(float(solution))\n",
        "\n",
        "plt.plot(excess_list, Tout_list)\n",
        "plt.ylabel(r'outlet temperature / $^\\circ$C')\n",
        "plt.xlabel(f'percentage excess air')\n",
        "plt.show()\n"
      ],
      "metadata": {
        "colab": {
          "base_uri": "https://localhost:8080/",
          "height": 279
        },
        "id": "te2iZg1XNGre",
        "outputId": "11e10065-f30f-425a-90b0-7d626c470c88"
      },
      "execution_count": null,
      "outputs": [
        {
          "output_type": "display_data",
          "data": {
            "text/plain": [
              "<Figure size 432x288 with 1 Axes>"
            ],
            "image/png": "[encoded data removed]"
          },
          "metadata": {
            "needs_background": "light"
          }
        }
      ]
    },
    {
      "cell_type": "markdown",
      "source": [
        "We can also determine how the outlet temperature of the reactor depends on the extent $\\alpha$ of the combustion reaction."
      ],
      "metadata": {
        "id": "QrfzF36JOqiZ"
      }
    },
    {
      "cell_type": "code",
      "source": [
        "\n",
        "excess = 100\n",
        "alpha_list = np.linspace(0.0, 1.0, 100)\n",
        "\n",
        "Tout_list = []\n",
        "\n",
        "for alpha in alpha_list:\n",
        "\n",
        "  N_in = {mol: 0.0 for mol in molecule_list}\n",
        "  N_in['CH4'] = 1.0\n",
        "  N_in['O2'] = 2.0*(1.0+excess/100.0)\n",
        "  N_in['N2'] = N_in['O2']*79/21\n",
        "\n",
        "  N_out = {mol: N_in[mol] + nu[mol]*alpha for mol in molecule_list}\n",
        "\n",
        "\n",
        "  def accumulation(T):\n",
        "    H_in = get_H(T0, N_in)\n",
        "    H_out = get_H(T, N_out)\n",
        "    return H_in - H_out\n",
        "  T0 = 25.0\n",
        "  solution = fsolve(accumulation, T0)\n",
        "  Tout_list.append(float(solution))\n",
        "\n",
        "plt.plot(alpha_list, Tout_list)\n",
        "plt.ylabel(r'outlet temperature / $^\\circ$C')\n",
        "plt.xlabel(r'extent of reaction $\\alpha$ / mol')\n",
        "plt.show()\n"
      ],
      "metadata": {
        "colab": {
          "base_uri": "https://localhost:8080/",
          "height": 282
        },
        "id": "n_S_BSiPO5oR",
        "outputId": "03076330-89e5-4f58-b165-0d060fcc73df"
      },
      "execution_count": null,
      "outputs": [
        {
          "output_type": "display_data",
          "data": {
            "text/plain": [
              "<Figure size 432x288 with 1 Axes>"
            ],
            "image/png": "[encoded data removed]"
          },
          "metadata": {
            "needs_background": "light"
          }
        }
      ]
    },
    {
      "cell_type": "markdown",
      "source": [
        "## Problem 5.4\n",
        "\n",
        "\n",
        "In this problem, we examine the oxidation of carbon monoxide:\n",
        "\\begin{align*}\n",
        "{\\rm CO} + \\frac{1}{2} {\\rm O}_2\n",
        "\\longrightarrow\n",
        "{\\rm CO}_2\n",
        "\\end{align*}\n",
        "\n",
        "The data for the problem are summarized in the code block below."
      ],
      "metadata": {
        "id": "Ub7DhaWTq1SX"
      }
    },
    {
      "cell_type": "code",
      "execution_count": 9,
      "metadata": {
        "id": "Q4sW0vPGpGVo"
      },
      "outputs": [],
      "source": [
        "# These are the heat capacity data given in the problem.\n",
        "T_data = [32, 60, 77, 100, 200, 300, 400, 500, 600, 700, 800, 900, 1000, 1100, 1200, 1300, 1400, 1500, 1600, 1700, 1800, 1900, 2000]\n",
        "Cp_data = {}\n",
        "Cp_data['N2'] = [6.959, 6.96, 6.96, 6.961, 6.964, 6.97, 6.984, 7.002, 7.036, 7.055, 7.057, 7.122, 7.153, 7.197, 7.236, 7.277, 7.317, 7.356, 7.395, 7.433, 7.471, 7.502, 7.542]\n",
        "Cp_data['O2'] = [6.989, 6.996, 7.002, 7.01, 7.052, 7.102, 7.159, 7.22, 7.283, 7.347, 7.409, 7.47, 7.529, 7.584, 7.637, 7.688, 7.736, 7.781, 7.824, 7.865, 7.904, 7.941, 7.976]\n",
        "Cp_data['Air'] = [6.946, 6.948, 6.949, 6.952, 6.963, 6.978, 7.001, 7.028, 7.06, 7.096, 7.134, 7.174, 7.214, 7.256, 7.298, 7.341, 7.382, 7.422, 7.461, 7.5, 7.537, 7.573, 7.608]\n",
        "Cp_data['H2'] = [6.838, 6.855, 6.864, 6.876, 6.921, 6.936, 6.942, 6.961, 6.964, 6.978, 6.981, 6.984, 6.989, 6.993, 7.004, 7.013, 7.032, 7.054, 7.061, 7.073, 7.081, 7.093, 7.114]\n",
        "Cp_data['CO'] = [6.96, 6.961, 6.962, 6.964, 6.972, 6.987, 7.007, 7.033, 7.065, 7.101, 7.14, 7.182, 7.224, 7.268, 7.312, 7.355, 7.398, 7.439, 7.48, 7.519, 7.558, 7.595, 7.631]\n",
        "Cp_data['CO2'] = [8.595, 8.652, 8.715, 8.793, 9.091, 9.362, 9.612, 9.844, 10.06, 10.262, 10.45, 10.626, 10.792, 10.948, 11.094, 11.232, 11.362, 11.484, 11.6, 11.71, 11.81, 11.91, 12.01]\n",
        "Cp_data['H2O'] = [8.001, 8.008, 8.012, 8.019, 8.055, 8.101, 8.154, 8.21, 8.274, 8.341, 8.411, 8.484, 8.558, 8.634, 8.712, 8.79, 8.87, 8.95, 9.029, 9.107, 9.185, 9.263, 9.339]\n",
        "\n",
        "# These are the data for the heat of formation\n",
        "Hf = {}\n",
        "Hf['N2'] = 0.0\n",
        "Hf['O2'] = 0.0\n",
        "Hf['H2'] = 0.0\n",
        "Hf['CO'] = -26.416e3   # Btu lbmol^{-1}\n",
        "Hf['CO2'] = -94.052e3\n",
        "Hf['H2O'] = -57.80e3\n",
        "Hf['Air'] = 0.0\n",
        " \n",
        "# This creates a list of molecules in the system. \n",
        "molecule_list = list( Cp_data.keys())\n",
        "\n",
        "# Stoichiometric coefficients for the oxidation reaction of carbon monoxide\n",
        "nu = {mol: 0.0 for mol in molecule_list}\n",
        "nu['CO'] = -1\n",
        "nu['O2'] = -0.5\n",
        "nu['CO2'] = 1\n",
        "\n"
      ]
    },
    {
      "cell_type": "markdown",
      "source": [
        "Let's just plot all our heat capacity data:"
      ],
      "metadata": {
        "id": "1Wmh3wVU2Wrn"
      }
    },
    {
      "cell_type": "code",
      "source": [
        "import pylab as plt\n",
        "\n",
        "\n",
        "for mol in molecule_list:\n",
        "    plt.plot(T_data, Cp_data[mol], label=mol, linestyle='None', marker='x')\n",
        "plt.legend()\n",
        "plt.xlabel(r'temperature / $^\\circ$F')\n",
        "plt.ylabel(r'specific heat capacity / BTU lbmol$^{-1}$ $^\\circ$F$^{-1}$')\n",
        "plt.show()"
      ],
      "metadata": {
        "colab": {
          "base_uri": "https://localhost:8080/",
          "height": 283
        },
        "id": "3sUvdgNVQX-F",
        "outputId": "d7ce2131-9c04-42e8-8052-31d5a1969f61"
      },
      "execution_count": 12,
      "outputs": [
        {
          "output_type": "display_data",
          "data": {
            "text/plain": [
              "<Figure size 432x288 with 1 Axes>"
            ],
            "image/png": "[encoded data removed]"
          },
          "metadata": {
            "needs_background": "light"
          }
        }
      ]
    },
    {
      "cell_type": "markdown",
      "source": [
        "### Fitting the data\n",
        "\n",
        "It would be much more convenient to use a function that returns the heat capacity, rather than using a table of data.  We can create such a function by getting Python to perform a spline fit through the data.  This uses the functions `splrep`, `splev`, and `splint` from the Python library `scipy.interpolate`."
      ],
      "metadata": {
        "id": "oaJmDwf14XYJ"
      }
    },
    {
      "cell_type": "code",
      "source": [
        "import numpy as np\n",
        "import pylab as plt\n",
        "from scipy.optimize import fsolve\n",
        "\n",
        "# This imports the functions splrep, splev, and splint from the library scipy.interpolate.\n",
        "from scipy.interpolate import splrep, splev, splint  \n",
        "\n",
        "\n",
        "# Let's fit the heat capacity data for nitrogen.\n",
        "mol = 'N2'\n",
        "\n",
        "# The function splrep (short for spline representation) takes two lists, one containing a list of x coordinates, \n",
        "# and the other containing a list of y values.\n",
        "# In this case, this is just the list of temperatures and heat capacities.\n",
        "# The function splrep then returns a variable Cp_fit that can be used to perform interpolation of the data.\n",
        "Cp_fit = splrep(T_data, Cp_data[mol])  \n",
        "\n",
        "# To evaluate the heat capacity at any temperature, we just use the function splev (short for spline evaluate).  \n",
        "# This function takes two arguments.  The first is the temperature at which you want the heat capacity, and the second argument\n",
        "# is a variable that \"contains the fit\", which was generated by the function splrep.  In this case this variable is Cp_fit.\n",
        "T = 304\n",
        "Cp = splev(T, Cp_fit)\n",
        "print(f'T={T} F, Cp = {Cp} BTU/(lbmol F)')\n",
        "\n",
        "# Let's compare the interpolated function to the data in the table.\n",
        "T_list = np.linspace(100, 2000, 500)\n",
        "Cp_list = [splev(T, Cp_fit) for T in T_list]\n",
        "plt.plot(T_list, Cp_list)\n",
        "plt.plot(T_data, Cp_data[mol], 'o')\n",
        "plt.show()\n",
        "\n",
        "# We can also integrate our spline fit by using the function splint (short for spline integration).  \n",
        "# This function takes three arguments.  The first is the start of the integration, the second is the end of the integration,\n",
        "# and the final argument is the \"fit\" variable.\n",
        "# The following calculates the enthalpy of nitrogen.\n",
        "T0 = 77\n",
        "H = Hf[mol] + splint(T0, T, Cp_fit)\n",
        "print(f'T={T0} F, H = {H} BTU/lbmol')\n"
      ],
      "metadata": {
        "colab": {
          "base_uri": "https://localhost:8080/",
          "height": 302
        },
        "id": "9bxkqt7HrPEy",
        "outputId": "32b596b4-43da-427a-b0c1-204d0acc94d1"
      },
      "execution_count": 13,
      "outputs": [
        {
          "output_type": "stream",
          "name": "stdout",
          "text": [
            "T=304, Cp = 6.9704356106218635 BTU/(lbmol F)\n"
          ]
        },
        {
          "output_type": "display_data",
          "data": {
            "text/plain": [
              "<Figure size 432x288 with 1 Axes>"
            ],
            "image/png": "[encoded data removed]"
          },
          "metadata": {
            "needs_background": "light"
          }
        },
        {
          "output_type": "stream",
          "name": "stdout",
          "text": [
            "T=77, H = 1580.8748485232984 BTU/lbmol\n"
          ]
        }
      ]
    },
    {
      "cell_type": "markdown",
      "source": [
        "### Tools\n",
        "\n",
        "As in the previous problem, we will create functions that allow us to calculate the heat capacity and enthalpy of the system at any temperature and composition."
      ],
      "metadata": {
        "id": "J1V8XKC43Bth"
      }
    },
    {
      "cell_type": "code",
      "source": [
        "def get_Cp_pure(T, molecule):\n",
        "    return splev(T, Cp_fit[molecule])\n",
        "\n",
        "\n",
        "def get_H_pure(T, molecule):\n",
        "    T0 = 77.0\n",
        "    H = Hf[molecule]\n",
        "    H += splint(T0, T, Cp_fit[molecule])\n",
        "    return H\n",
        "\n",
        "\n",
        "\n",
        "def dot_product(vec1, vec2):\n",
        "    dot = [x1*x2 for x1, x2 in zip(vec1, vec2)]\n",
        "    return sum(dot)\n",
        "\n",
        "def get_Cp(T, N):\n",
        "    N_vec = [N[mol] for mol in molecule_list]\n",
        "    return dot_product(N_vec, Cp_vec)\n",
        "\n",
        "#def get_H(T, N):\n",
        "#    H = 0.0\n",
        "#    for mol in molecule_list:\n",
        "#        H += N[mol]*get_H_pure(T, mol)\n",
        "#    return H\n",
        "\n",
        "def get_H(T, N):\n",
        "    N_vec = [N[mol] for mol in molecule_list]\n",
        "    H_vec = [get_H_pure(T, mol) for mol in molecule_list]\n",
        "    return dot_product(N_vec, H_vec)\n"
      ],
      "metadata": {
        "id": "5Soe-1O9GPzg"
      },
      "execution_count": 14,
      "outputs": []
    },
    {
      "cell_type": "markdown",
      "source": [
        "These tools should now allow you to solve the problem.  You should try to test everything by hand first to make sure that things work the way you expect them to."
      ],
      "metadata": {
        "id": "54Z1s6qV_iO5"
      }
    }
  ]
}