{
  "cells": [
    {
      "cell_type": "markdown",
      "metadata": {
        "id": "L3zGibCyZAft"
      },
      "source": [
        "# Programming the trapezoid rule in Python\n",
        "\n",
        "Let's examine how we can use Python to implement the trapezoid rule to approximate the integral\n",
        "$$\n",
        "I = \\int_0^1 dx\\,x^3\n",
        "$$\n"
      ]
    },
    {
      "cell_type": "markdown",
      "source": [
        "To implement the trapezoid rule, we need to divide the interval of $x$ that we want to integrate over into $N$ sections.  "
      ],
      "metadata": {
        "id": "-b4Ni-aQw3Br"
      }
    },
    {
      "cell_type": "code",
      "metadata": {
        "id": "f4b728bd",
        "outputId": "d016e4cf-def1-458b-8e79-fb7090b9f924",
        "colab": {
          "base_uri": "https://localhost:8080/"
        }
      },
      "source": [
        "range(101)         # this produces an \"iterator\" that runs through\n",
        "print(range(101))  # integers from 0, 1,... 100\n",
        "\n",
        "my_list_0_to_100 = list(range(101))  # this converts the \"iterator\" to a \"list\"\n",
        "print(my_list_0_to_100)\n",
        "\n",
        "N = 3\n",
        "integer_list = list( range(N) )   # this produces a \"list\" that runs through\n",
        "                                  # integers from 0, 1,... to N-1\n",
        "print(N)\n",
        "print(integer_list)"
      ],
      "execution_count": 6,
      "outputs": [
        {
          "output_type": "stream",
          "name": "stdout",
          "text": [
            "[0, 1, 2, 3, 4, 5, 6, 7, 8, 9, 10, 11, 12, 13, 14, 15, 16, 17, 18, 19, 20, 21, 22, 23, 24, 25, 26, 27, 28, 29, 30, 31, 32, 33, 34, 35, 36, 37, 38, 39, 40, 41, 42, 43, 44, 45, 46, 47, 48, 49, 50, 51, 52, 53, 54, 55, 56, 57, 58, 59, 60, 61, 62, 63, 64, 65, 66, 67, 68, 69, 70, 71, 72, 73, 74, 75, 76, 77, 78, 79, 80, 81, 82, 83, 84, 85, 86, 87, 88, 89, 90, 91, 92, 93, 94, 95, 96, 97, 98, 99, 100]\n",
            "3\n",
            "range(0, 3)\n"
          ]
        }
      ]
    },
    {
      "cell_type": "code",
      "execution_count": 7,
      "metadata": {
        "colab": {
          "base_uri": "https://localhost:8080/"
        },
        "id": "z72T3lyGZAfw",
        "outputId": "5fd0bc7c-6b70-41af-cec9-7c2e29adc139"
      },
      "outputs": [
        {
          "output_type": "stream",
          "name": "stdout",
          "text": [
            "h = 0.5\n",
            "0.3125\n"
          ]
        }
      ],
      "source": [
        "N = 2 # This is the number of trapezoids that we will divide the interval into\n",
        "a = 0 # start of the integral\n",
        "b = 1 # end of the integral\n",
        "\n",
        "h = (b-a)/N  # this is the width of each trapezoid\n",
        "print(f'h = {h}')\n",
        "\n",
        "x_list = []  # this is an empty list that is meant to\n",
        "f_list = []  #\n",
        "for i in range(N+1):\n",
        "  x = a + i*h  # this is the value of x at node i\n",
        "  f = x**3     # this is the value of the function we want to integrate at x\n",
        "  x_list.append(x)  # append the value of x to x_list\n",
        "  f_list.append(f)  # append the value of f to f_list\n",
        "#  print(i, x)\n",
        "#x_list = []\n",
        "#print(x_list)\n",
        "#print(f_list)\n",
        "\n",
        "I = 0\n",
        "for i in range(N):\n",
        "  area = 0.5*h*(f_list[i]+f_list[i+1])   # this is the area of a trapezoid\n",
        "  I = I + area\n",
        "  #print(i, x_list[i], f_list[i], f_list[i+1])\n",
        "print(I)\n"
      ]
    },
    {
      "cell_type": "code",
      "source": [
        "N = 1000\n",
        "a = 0\n",
        "b = 1\n",
        "\n",
        "\n",
        "for N in [2, 4, 8, 16]:\n",
        "\n",
        "  h = (b-a)/N\n",
        "\n",
        "  x_list = []\n",
        "  f_list = []\n",
        "  for i in range(N+1):\n",
        "    x = a + i*h\n",
        "    f = x**3\n",
        "    x_list.append(x)\n",
        "    f_list.append(f)\n",
        "#  print(i, x)\n",
        "#x_list = []\n",
        "#print(x_list)\n",
        "#print(f_list)\n",
        "\n",
        "  I = 0\n",
        "  for i in range(N):\n",
        "    area = 0.5*h*(f_list[i]+f_list[i+1])\n",
        "    I = I + area\n",
        "  #print(i, x_list[i], f_list[i], f_list[i+1])\n",
        "  print(N, I)"
      ],
      "metadata": {
        "id": "Dv-oTV8Rh8_-",
        "outputId": "4e6ca29f-08e0-4041-cdfa-3ce272c4650c",
        "colab": {
          "base_uri": "https://localhost:8080/"
        }
      },
      "execution_count": 3,
      "outputs": [
        {
          "output_type": "stream",
          "name": "stdout",
          "text": [
            "2 0.3125\n",
            "4 0.265625\n",
            "8 0.25390625\n",
            "16 0.2509765625\n"
          ]
        }
      ]
    },
    {
      "cell_type": "code",
      "source": [
        "import numpy as np\n",
        "\n",
        "\n",
        "def trapezoid_rule(a, b, N, func):\n",
        "\n",
        "  h = (b-a)/N\n",
        "\n",
        "  x_list = []\n",
        "  f_list = []\n",
        "  for i in range(N+1):\n",
        "    x = a + i*h\n",
        "    f = func(x)\n",
        "    x_list.append(x)\n",
        "    f_list.append(f)\n",
        "\n",
        "  I = 0\n",
        "  for i in range(N):\n",
        "    area = 0.5*h*(f_list[i]+f_list[i+1])\n",
        "    I = I + area\n",
        "  return I\n",
        "\n",
        "a = 0\n",
        "b = 1\n",
        "I = trapezoid_rule(0,1,100, np.sin)\n",
        "print(I)\n",
        "\n",
        "I = trapezoid_rule(0,1,100, np.exp)\n",
        "print(I)\n",
        "\n",
        "def myfunction(x):\n",
        "  return x**3 + np.cos(x)*14\n",
        "\n",
        "I = trapezoid_rule(0,1,100, myfunction)\n",
        "print(I)\n",
        "\n",
        "\n",
        "\n",
        "#for N in [2, 4, 8, 16]:\n",
        "#  I = trapezoid_rule(a, b, N)\n",
        "#  print(N, I)"
      ],
      "metadata": {
        "id": "FPDbFByvibWH",
        "outputId": "bea7e4a7-47ab-4730-ab43-2cd24d5ab261",
        "colab": {
          "base_uri": "https://localhost:8080/"
        }
      },
      "execution_count": 4,
      "outputs": [
        {
          "output_type": "stream",
          "name": "stdout",
          "text": [
            "0.4596938633113579\n",
            "1.7182961474504177\n",
            "12.03052061553204\n"
          ]
        }
      ]
    }
  ],
  "metadata": {
    "kernelspec": {
      "display_name": "Python 3",
      "language": "python",
      "name": "python3"
    },
    "language_info": {
      "codemirror_mode": {
        "name": "ipython",
        "version": 3
      },
      "file_extension": ".py",
      "mimetype": "text/x-python",
      "name": "python",
      "nbconvert_exporter": "python",
      "pygments_lexer": "ipython3",
      "version": "3.8.5"
    },
    "colab": {
      "provenance": []
    }
  },
  "nbformat": 4,
  "nbformat_minor": 0
}