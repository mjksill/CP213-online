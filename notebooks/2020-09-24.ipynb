{
 "cells": [
  {
   "cell_type": "markdown",
   "metadata": {},
   "source": [
    "# CP101: Example 2.6\n",
    "\n",
    "The following is the composition of a gas expressed as a weight percent.  Express the molar composition.\n",
    "\n",
    "\n",
    "| gas | weight % | molecular mass           |\n",
    "|:--- | --- | --- |\n",
    "|             |          | g mol$^{-1}$ |\n",
    "| O$_2$       |     16.0 |       32.0 |\n",
    "| CO          |      4.0 |       28.0 |\n",
    "| CO$_2$      |     17.0 |       44.0 |\n",
    "| N$_2$       |     63.0 |       28.0 |\n"
   ]
  },
  {
   "cell_type": "code",
   "execution_count": 5,
   "metadata": {},
   "outputs": [
    {
     "name": "stdout",
     "output_type": "stream",
     "text": [
      "dict_keys(['O2', 'CO', 'CO2', 'N2'])\n",
      "dict_values([16.0, 4, 17, 63.0])\n",
      "dict_items([('O2', 16.0), ('CO', 4), ('CO2', 17), ('N2', 63.0)])\n"
     ]
    }
   ],
   "source": [
    "mass_dict = {'O2':16.0, 'CO':4, 'CO2':17, 'N2':63.0}\n",
    "MolWt_dict = {'N2':28, 'O2':32, 'CO':28, 'CO2':44}\n",
    "\n",
    "\n",
    "\n",
    "print( mass_dict.keys() )\n",
    "print( mass_dict.values() )\n",
    "print( mass_dict.items() )\n"
   ]
  },
  {
   "cell_type": "code",
   "execution_count": 10,
   "metadata": {},
   "outputs": [
    {
     "name": "stdout",
     "output_type": "stream",
     "text": [
      "3.279220779220779\n",
      "{'O2': 0.5, 'CO': 0.14285714285714285, 'CO2': 0.38636363636363635, 'N2': 2.25}\n",
      "{'O2': 0.15247524752475247, 'CO': 0.04356435643564356, 'CO2': 0.11782178217821783, 'N2': 0.6861386138613862}\n"
     ]
    }
   ],
   "source": [
    "moles_dict = {}\n",
    "for compound, mass in mass_dict.items():\n",
    "    moles = mass / MolWt_dict[compound]\n",
    "    moles_dict[compound] = moles\n",
    "    \n",
    "total_moles = 0.0\n",
    "for mole in moles_dict.values():\n",
    "    total_moles += mole\n",
    "print(total_moles)\n",
    "    \n",
    "print(moles_dict)\n",
    "\n",
    "mol_frac = {}\n",
    "for compound, moles in moles_dict.items():\n",
    "    frac = moles/total_moles\n",
    "    mol_frac[compound] = frac\n",
    "    \n",
    "print(mol_frac)\n"
   ]
  },
  {
   "cell_type": "code",
   "execution_count": 11,
   "metadata": {},
   "outputs": [],
   "source": [
    "def get_x(mass_dict, M_dict):\n",
    "    \n",
    "    moles_dict = {}\n",
    "    for compound, mass in mass_dict.items():\n",
    "        moles = mass / M_dict[compound]\n",
    "        moles_dict[compound] = moles\n",
    "    \n",
    "    total_moles = 0.0\n",
    "    for mole in moles_dict.values():\n",
    "        total_moles += mole\n",
    "    \n",
    "    mol_frac = {}\n",
    "    for compound, moles in moles_dict.items():\n",
    "        frac = moles/total_moles\n",
    "        mol_frac[compound] = frac\n",
    "    \n",
    "    return mol_frac"
   ]
  },
  {
   "cell_type": "code",
   "execution_count": 16,
   "metadata": {},
   "outputs": [
    {
     "name": "stdout",
     "output_type": "stream",
     "text": [
      "{'O2': 0.5256637168141592, 'CO': 0.4672566371681416, 'CO2': 0.007079646017699115}\n"
     ]
    }
   ],
   "source": [
    "mass_dict = {'O2':16.0, 'CO':4, 'CO2':17}\n",
    "MolWt_dict = {'N2':28, 'O2':32, 'CO':28, 'CO2':44, 'CH4':44.0}\n",
    "\n",
    "\n",
    "streamA = {'O2':54.0, 'CO':42, 'CO2':1}\n",
    "\n",
    "\n",
    "\n",
    "\n",
    "xA = get_x(streamA, MolWt_dict)\n",
    "\n",
    "\n",
    "print(xA)"
   ]
  },
  {
   "cell_type": "markdown",
   "metadata": {},
   "source": []
  },
  {
   "cell_type": "code",
   "execution_count": 20,
   "metadata": {},
   "outputs": [],
   "source": [
    "def f(x):\n",
    "    \n",
    "    w = x*x - 14.0\n",
    "    print('hello')\n",
    "    \n",
    "    return w"
   ]
  },
  {
   "cell_type": "code",
   "execution_count": 21,
   "metadata": {},
   "outputs": [
    {
     "name": "stdout",
     "output_type": "stream",
     "text": [
      "hello\n",
      "-10.0\n"
     ]
    }
   ],
   "source": [
    "y = f(2)\n",
    "print(y)"
   ]
  },
  {
   "cell_type": "code",
   "execution_count": null,
   "metadata": {},
   "outputs": [],
   "source": []
  },
  {
   "cell_type": "markdown",
   "metadata": {},
   "source": [
    "### Shomate equation\n",
    "\n",
    "\n",
    "The molar heat capacity is given by\n",
    "\\begin{align*}\n",
    "C_p(T)\n",
    "&= A + B t + C t^2 + D t^3 + E t^{-2}\n",
    "\\end{align*}\n",
    "where $T$ is absolute temperature in kelvin, $t=T/1000$, $C_p$ is molar heat capacity in ${\\rm J\\,mol^{-1}\\,K^{-1}}$, and $A$, $B$, $C$, $D$, and $E$ are constants\n",
    "\n",
    "\n",
    "The parameters of the Shomate equation for nitrogen are given below (taken from the [NIST webbook](https://webbook.nist.gov/cgi/cbook.cgi?ID=C7727379&Type=JANAFG&Table=on#JANAFG)):\n",
    "\n",
    "| Temperature / K | $100.$ - $500.$ | $500.$ - $2000.$ | $2000.$ - $6000.$ |\n",
    "|:--- | ---:| ---:| ---:|\n",
    "| $A$             |   $ 28.98641$ |    $ 19.50583$ |     $ 35.51872$ |\n",
    "| $B$             |   $ 1.853978$ |    $ 19.88705$ |     $ 1.128728$ |\n",
    "| $C$             |   $-9.647459$ |    $-8.598535$ |     $-0.196103$ |\n",
    "| $D$             |   $ 16.63537$ |    $ 1.369784$ |     $ 0.014662$ |\n",
    "| $E$             |   $ 0.000117$ |    $ 0.527601$ |     $-4.553760$ |\n",
    "\n",
    "\n",
    "**Q:** What is the heat capacity for nitrogen at 100ºC? What about 1000ºC? 3000ºC?\n"
   ]
  },
  {
   "cell_type": "code",
   "execution_count": 26,
   "metadata": {},
   "outputs": [],
   "source": [
    "def get_Cp(T):\n",
    "    \n",
    "    if (T <= 500.0):\n",
    "        A =  28.98641\n",
    "        B =  1.853978\n",
    "        C = -9.647459\n",
    "        D =  16.63537\n",
    "        E =  0.000117\n",
    "    elif (T < 2000.0):\n",
    "        A =  19.50583\n",
    "        B =  19.88705\n",
    "        C = -8.598535\n",
    "        D =  1.369784\n",
    "        E =  0.527601\n",
    "    elif (T <= 6000.0):\n",
    "        A =  35.51872\n",
    "        B =  1.128728\n",
    "        C = -0.196103\n",
    "        D =  0.014662\n",
    "        E = -4.553760\n",
    "    else:\n",
    "        raise Exception('Error')\n",
    " \n",
    "    t = T / 1000.0\n",
    "    f = A + B*t + C*t**2 +D*t**3 + E/t**2\n",
    "    \n",
    "    return f"
   ]
  },
  {
   "cell_type": "code",
   "execution_count": 27,
   "metadata": {},
   "outputs": [
    {
     "name": "stdout",
     "output_type": "stream",
     "text": [
      "30.104019077333334\n"
     ]
    }
   ],
   "source": [
    "Cp = get_Cp(600)\n",
    "print(Cp)"
   ]
  },
  {
   "cell_type": "code",
   "execution_count": 31,
   "metadata": {},
   "outputs": [
    {
     "name": "stdout",
     "output_type": "stream",
     "text": [
      "False\n"
     ]
    }
   ],
   "source": [
    "print( 500 != 2*250)"
   ]
  },
  {
   "cell_type": "code",
   "execution_count": 43,
   "metadata": {},
   "outputs": [
    {
     "name": "stdout",
     "output_type": "stream",
     "text": [
      "3.141592653589793\n"
     ]
    }
   ],
   "source": [
    "import numpy\n",
    "\n",
    "\n",
    "\n",
    "print(numpy.pi)\n",
    "numpy.log(numpy.pi / 2.0)\n",
    "\n",
    "x = numpy.arange(0.0, 1.0, 0.1)"
   ]
  },
  {
   "cell_type": "code",
   "execution_count": 44,
   "metadata": {},
   "outputs": [
    {
     "data": {
      "text/plain": [
       "0.4054651081081644"
      ]
     },
     "execution_count": 44,
     "metadata": {},
     "output_type": "execute_result"
    }
   ],
   "source": [
    "import numpy as np\n",
    "\n",
    "np.log(1.5)"
   ]
  },
  {
   "cell_type": "code",
   "execution_count": 47,
   "metadata": {},
   "outputs": [
    {
     "data": {
      "text/plain": [
       "4.953032424395115"
      ]
     },
     "execution_count": 47,
     "metadata": {},
     "output_type": "execute_result"
    }
   ],
   "source": [
    "from numpy import log, exp\n",
    "\n",
    "log(1.5)\n",
    "exp(1.6)"
   ]
  },
  {
   "cell_type": "code",
   "execution_count": 54,
   "metadata": {},
   "outputs": [
    {
     "data": {
      "image/png": "[encoded data removed]",
      "text/plain": [
       "<Figure size 432x288 with 1 Axes>"
      ]
     },
     "metadata": {
      "needs_background": "light"
     },
     "output_type": "display_data"
    }
   ],
   "source": [
    "from pylab import plt\n",
    "\n",
    "\n",
    "\n",
    "x_data = np.arange(0.0, 5.0, 0.1)\n",
    "y_data = []\n",
    "z_data = []\n",
    "for x in x_data:\n",
    "    y_data.append( np.sin(x))\n",
    "    z_data.append( np.cos(x))\n",
    "\n",
    "    \n",
    "plt.plot(x_data, y_data, color='red')\n",
    "plt.plot(x_data, z_data, color='black')\n",
    "\n",
    "\n",
    "\n",
    "plt.show()\n"
   ]
  },
  {
   "cell_type": "code",
   "execution_count": 52,
   "metadata": {},
   "outputs": [
    {
     "data": {
      "image/png": "[encoded data removed]",
      "text/plain": [
       "<Figure size 432x288 with 1 Axes>"
      ]
     },
     "metadata": {
      "needs_background": "light"
     },
     "output_type": "display_data"
    }
   ],
   "source": [
    "T_data = arange(100.0, 5000.0, 10.)\n",
    "Cp_data = []\n",
    "for T in T_data:\n",
    "    Cp_data.append( get_Cp(T))\n",
    "    \n",
    "plt.plot(T_data, Cp_data)\n",
    "plt.show()"
   ]
  },
  {
   "cell_type": "code",
   "execution_count": 57,
   "metadata": {},
   "outputs": [
    {
     "name": "stdout",
     "output_type": "stream",
     "text": [
      "[0.56714329]\n"
     ]
    }
   ],
   "source": [
    "import scipy as sp\n",
    "from scipy.optimize import fsolve\n",
    "\n",
    "\n",
    "def res(x):\n",
    "    f = x - np.exp(-x)\n",
    "    return f\n",
    "\n",
    "x0 = 1.0\n",
    "sol = fsolve(res, x0)\n",
    "\n",
    "print(sol)\n"
   ]
  },
  {
   "cell_type": "code",
   "execution_count": 62,
   "metadata": {},
   "outputs": [
    {
     "data": {
      "text/latex": [
       "$\\displaystyle \\left(x^{3} - 3 x^{2} + 6 x - 6\\right) e^{x}$"
      ],
      "text/plain": [
       "(x**3 - 3*x**2 + 6*x - 6)*exp(x)"
      ]
     },
     "execution_count": 62,
     "metadata": {},
     "output_type": "execute_result"
    }
   ],
   "source": [
    "import sympy as s\n",
    "\n",
    "x, y = s.symbols('x y')\n",
    "\n",
    "\n",
    "f = x**3 * s.exp(x)\n",
    "\n",
    "s.diff(f,x)\n",
    "\n",
    "s.integrate(f, x)\n"
   ]
  },
  {
   "cell_type": "code",
   "execution_count": null,
   "metadata": {},
   "outputs": [],
   "source": []
  },
  {
   "cell_type": "code",
   "execution_count": null,
   "metadata": {},
   "outputs": [],
   "source": []
  },
  {
   "cell_type": "code",
   "execution_count": null,
   "metadata": {},
   "outputs": [],
   "source": []
  },
  {
   "cell_type": "code",
   "execution_count": null,
   "metadata": {},
   "outputs": [],
   "source": []
  }
 ],
 "metadata": {
  "kernelspec": {
   "display_name": "Python 3",
   "language": "python",
   "name": "python3"
  },
  "language_info": {
   "codemirror_mode": {
    "name": "ipython",
    "version": 3
   },
   "file_extension": ".py",
   "mimetype": "text/x-python",
   "name": "python",
   "nbconvert_exporter": "python",
   "pygments_lexer": "ipython3",
   "version": "3.8.5"
  }
 },
 "nbformat": 4,
 "nbformat_minor": 4
}
