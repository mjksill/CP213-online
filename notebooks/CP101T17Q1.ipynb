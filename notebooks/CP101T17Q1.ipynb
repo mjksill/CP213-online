{
 "cells": [
  {
   "cell_type": "markdown",
   "metadata": {},
   "source": [
    "# CP101: Tutorial 17 Q1\n",
    "\n",
    "\n",
    "Two fuel gases are mixed together prior to being burned with air in a\n",
    "furnace to produce a flue gas with the following composition: CO$_2$\n",
    "7%, CO 1%, O$_2$ 7% & N$_2$ 85% (on a dry basis).\n",
    "\n",
    "The analyses of the fuel gases are as follows:\n",
    "- Fuel Gas A: CH$_4$ 80%, N$_2$ 20%\n",
    "- Fuel Gas B: CH$_4$ 60%, C$_2$H$_6$ 20%, N$_2$ 20%\n",
    "All compositions are expressed on a mole basis.\n",
    "\n",
    "Calculate: \n",
    "  (a) The mole ratio of Gas A to Gas B in the fuel gas mixture.\n",
    "  (b) The percentage excess air used in the furnace.\n"
   ]
  },
  {
   "cell_type": "markdown",
   "metadata": {},
   "source": [
    "## Atom balances\n",
    "\n",
    "To begin solving the problem, we draw a process flow diagram for the furnace, labeling each of the streams and giving their overall flow rates and compositions.\n",
    "\n",
    "![control volume](./CP101T17Q1.png)\n",
    "\n",
    "We take $A$ to be the molar flow rate of fuel gas, $B$ to be the molar flow rate of fuel gas $B$, $C$ to be the flow rate of air supplied to the furnace, $D$ to be molar flow rate of the flue gas from the furnace, excluding water, and $F_{\\rm H_2O}$ to be the molar flow rate of water vapor in the flue gas.  In the calculations, we take a basis where $D=100\\,{\\rm mol\\,h^{-1}}$.\n",
    "\n",
    "\n",
    "\n",
    "Nitrogen balance:\n",
    "\\begin{align*}\n",
    "0.20 A + 0.20 B + 0.79 C - 0.85 D &= 0\n",
    "\\end{align*}\n",
    "\n",
    "Carbon balance:\n",
    "\\begin{align*}\n",
    "0.80 A + 0.60 B + 2(0.2 B) - 0.07D - 0.01D &= 0\n",
    "\\end{align*}\n",
    "\n",
    "Oxygen balance:\n",
    "\\begin{align*}\n",
    "2(0.21C) -2(0.07D) - 0.01D - 2(0.07D) - F_{\\rm H_2O} &= 0\n",
    "\\end{align*}\n",
    "\n",
    "Hydrogen balance:\n",
    "\\begin{align*}\n",
    "4(0.80A) +4(0.60B) + 6(0.20B) - 2F_{\\rm H_2O} &= 0\n",
    "\\end{align*}\n"
   ]
  },
  {
   "cell_type": "markdown",
   "metadata": {},
   "source": [
    "## Python code\n",
    "\n",
    "The element balances given above provide four equations which can be solved to determine the four unknowns: $A$, $B$, $C$, and $F_{\\rm H_2O}$.  However, performing the algebra by hand is rather tedious.  Instead, we can use Python to solve these equations.\n",
    "\n",
    "First, we need to develop a function that will return the value of the left side of each of the element balances.  At the exact values of $A$, $B$, $C$, and $F_{\\rm H_2O}$, these will be zero, however, for general values of these variables, the left sides of these balances will be non-zero.  The function `acc` takes in the list `x` and unpacks it into the variables `A`, `B`, `C`, and `H2O_out` (which is $F_{\\rm H_2O}$).   Note that the order in which we unpack the variables does not matter, however, it dictates the order in which the `fsolve` will report the solution to us.\n",
    "\n",
    "It then returns a list `res` which has items that are the \"mismatches\" of the element balances.  Note that in the way we have packed the list `res`, `res[0]` is the nitrogen balance, `res[1]` is the carbon balance, `res[2]` is the oxygen balance, and `res[3]` is the hydrogen balance.  The order of these items, however, does not matter.\n",
    "\n",
    "In order to use the function `fsolve` to solve the element balances, we need to supply an initial guess. "
   ]
  },
  {
   "cell_type": "code",
   "execution_count": null,
   "metadata": {},
   "outputs": [],
   "source": [
    "from scipy.optimize import fsolve\n",
    "\n",
    "\n",
    "def acc(x):\n",
    "    \n",
    "    A, B, C, H2O_out = x\n",
    "    \n",
    "    res = []\n",
    "    res.append(0.2*A + 0.2*B + 0.79*C - 0.85*D)\n",
    "    res.append(0.8*A+0.6*B+2.0*0.2*B-0.07*D-0.01*D)\n",
    "    res.append(2.0*0.21*C-2.0*0.07*D-0.01*D-2.0*0.07*D-1.0*H2O_out)\n",
    "    res.append(4.0*0.8*A+4.0*0.6*B+6.0*0.2*B-2.0*H2O_out)\n",
    "    \n",
    "    return res\n",
    "\n",
    "D = 100.0\n",
    "\n",
    "# make initial guess\n",
    "A = 100.0\n",
    "B = 0.0\n",
    "C = 0.0\n",
    "H2O_out = 0.0\n",
    "x0 = [A, B, C, H2O_out]\n",
    "\n",
    "# solve the equations\n",
    "solution = fsolve(acc, x0)\n",
    "\n",
    "print(solution)\n",
    "print(f'A = {solution[0]} mol h^{{-1}}')\n",
    "print(f'B = {solution[1]} mol h^{{-1}}')\n",
    "print(f'C = {solution[2]} mol h^{{-1}}')\n",
    "print(f'F_H2O = {solution[3]} mol h^{{-1}}')\n"
   ]
  },
  {
   "cell_type": "code",
   "execution_count": null,
   "metadata": {},
   "outputs": [],
   "source": []
  }
 ],
 "metadata": {
  "kernelspec": {
   "display_name": "Python 3",
   "language": "python",
   "name": "python3"
  },
  "language_info": {
   "codemirror_mode": {
    "name": "ipython",
    "version": 3
   },
   "file_extension": ".py",
   "mimetype": "text/x-python",
   "name": "python",
   "nbconvert_exporter": "python",
   "pygments_lexer": "ipython3",
   "version": "3.8.5"
  }
 },
 "nbformat": 4,
 "nbformat_minor": 4
}
