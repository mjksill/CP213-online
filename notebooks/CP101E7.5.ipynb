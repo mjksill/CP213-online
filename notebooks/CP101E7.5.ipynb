{
 "cells": [
  {
   "cell_type": "markdown",
   "metadata": {},
   "source": [
    "# CP101 Example 7.5\n",
    "\n",
    "Consider the gaseous phase reaction:\n",
    "\\begin{align*}\n",
    "{\\rm  N_2 (g) + 3 H_2 (g) \\leftrightarrows 2 NH_3 (g) }\n",
    "\\end{align*}\n",
    "\n",
    "1.00 mol of nitrogen and 3.00 mol of hydrogen are fed to a reactor. The overall pressure is 1\n",
    "atm. Calculate the equilibrium yield of ammonia at 298 K and 400 K.\n",
    "Assume that enthalpy of reaction does not vary significantly within the temperature range under\n",
    "consideration.\n",
    "\n",
    "Thermochemical properties\n",
    "\n",
    "|            |  $\\Delta H_f$ |  $\\Delta G_f$ |\n",
    "|:---| ---:| ---:| \n",
    "|            | kJ mol$^{-1}$ | kJ mol$^{-1}$ |\n",
    "| N$_2$ (g)  |          $0.00$ |          $0.00$ |\n",
    "| H$_2$ (g)  |          $0.00$ |          $0.00$ |\n",
    "| NH$_3$ (g) |        $-46.11$ |        $-16.63$ |\n"
   ]
  },
  {
   "cell_type": "markdown",
   "metadata": {},
   "source": [
    "## Input data\n",
    "\n",
    "First we input the necessary data for the problem.  Dictionaries will be used to hold the data."
   ]
  },
  {
   "cell_type": "code",
   "execution_count": null,
   "metadata": {},
   "outputs": [],
   "source": [
    "rxn = {'N2':-1.0, 'H2':-3.0, 'NH3':2.0}\n",
    "\n",
    "molecule = {}\n",
    "molecule['N2'] = {'Hf':0.0, 'Gf':0.0, 'N0':1.0}\n",
    "molecule['H2'] = {'Hf':0.0, 'Gf':0.0, 'N0':3.0}\n",
    "molecule['NH3'] = {'Hf':-46.11, 'Gf':-16.63, 'N0':0.0}\n",
    "\n",
    "R = 8.314e-3  # kJ mol^{-1} K^{-1}\n",
    "T = 298.15    # K\n",
    "T0 = 298.15\n",
    "p = 1.0"
   ]
  },
  {
   "cell_type": "code",
   "execution_count": null,
   "metadata": {},
   "outputs": [],
   "source": [
    "import numpy as np\n",
    "from scipy.optimize import fsolve"
   ]
  },
  {
   "cell_type": "markdown",
   "metadata": {},
   "source": [
    "## Equilibrium constant\n",
    "\n",
    "First we calculate the equilibrium constant.  This is related to the Gibbs free energy of reaction by\n",
    "\\begin{align*}\n",
    "\\ln K_p(T) &= \\frac{\\Delta G_{\\rm rxn}(T)}{RT}\n",
    "\\end{align*}\n",
    "\n",
    "The temperature dependence of the Gibbs free energy of reaction is given approximately by\n",
    "\\begin{align*}\n",
    "\\frac{\\Delta G_{\\rm rxn}(T)}{RT}\n",
    "\\approx \\frac{\\Delta G_{\\rm rxn}(T_0)}{RT_0}\n",
    "+ \\frac{\\Delta H_{\\rm rxn}(T_0)}{RT_0} \n",
    "  \\left(\\frac{T_0}{T}-1\\right)\n",
    "\\end{align*}\n"
   ]
  },
  {
   "cell_type": "code",
   "execution_count": null,
   "metadata": {},
   "outputs": [],
   "source": [
    "H_rxn = 0.0\n",
    "G_rxn = 0.0\n",
    "for m, nu in rxn.items():\n",
    "    H = molecule[m]['Hf']\n",
    "    G = molecule[m]['Gf']\n",
    "    H_rxn += nu*H\n",
    "    G_rxn += nu*G\n",
    "\n",
    "print(H_rxn)\n",
    "print(G_rxn)\n",
    "    \n",
    "Kp = np.exp(-G_rxn/(R*T0) - (T0/T-1.0)*H_rxn/(R*T0))\n",
    "\n",
    "def get_Kp(T):\n",
    "    Kp = np.exp(-G_rxn/(R*T0) - H_rxn*(1.0/T-1.0/T0))\n",
    "    return Kp\n",
    "\n",
    "print(Kp)"
   ]
  },
  {
   "cell_type": "code",
   "execution_count": null,
   "metadata": {},
   "outputs": [],
   "source": [
    "def residual(x, params):\n",
    "    \n",
    "    alpha = x\n",
    "    Kp = params\n",
    "    \n",
    "    N = 0.0\n",
    "    nu_sum = 0.0\n",
    "    for m, nu in rxn.items():\n",
    "        N0 = molecule[m]['N0']\n",
    "        Nm = N0 + nu*alpha\n",
    "        molecule[m]['moles'] = Nm\n",
    "        N += Nm\n",
    "        nu_sum += nu\n",
    "    \n",
    "    prod = 1.0\n",
    "    for m, nu in rxn.items():\n",
    "        y = molecule[m]['moles'] / N\n",
    "        #print(m, y)\n",
    "        prod *= y**nu\n",
    "    prod *= p**nu_sum\n",
    "        \n",
    "    return prod - Kp"
   ]
  },
  {
   "cell_type": "code",
   "execution_count": null,
   "metadata": {},
   "outputs": [],
   "source": [
    "alpha0 = 0.96\n",
    "params = Kp\n",
    "\n",
    "solution = fsolve(residual, alpha0, params)\n",
    "\n",
    "print(solution)"
   ]
  },
  {
   "cell_type": "code",
   "execution_count": null,
   "metadata": {},
   "outputs": [],
   "source": [
    "alpha0 = 0.96\n",
    "\n",
    "T_data =  np.arange(300, 800, 10)\n",
    "\n",
    "alpha_data = []\n",
    "for T in T_data:\n",
    "    params = get_Kp(T)\n",
    "    solution = fsolve(residual, alpha0, params)\n",
    "    \n",
    "    alpha0 = solution[0]\n",
    "    alpha_data.append(alpha0)\n",
    "    \n",
    "    \n",
    "import pylab as plt\n",
    "\n",
    "plt.plot(T_data, alpha_data)\n",
    "\n",
    "\n",
    "plt.show()"
   ]
  },
  {
   "cell_type": "code",
   "execution_count": null,
   "metadata": {},
   "outputs": [],
   "source": []
  }
 ],
 "metadata": {
  "kernelspec": {
   "display_name": "Python 3",
   "language": "python",
   "name": "python3"
  },
  "language_info": {
   "codemirror_mode": {
    "name": "ipython",
    "version": 3
   },
   "file_extension": ".py",
   "mimetype": "text/x-python",
   "name": "python",
   "nbconvert_exporter": "python",
   "pygments_lexer": "ipython3",
   "version": "3.8.5"
  }
 },
 "nbformat": 4,
 "nbformat_minor": 4
}
