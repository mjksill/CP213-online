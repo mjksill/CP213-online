{
 "cells": [
  {
   "cell_type": "markdown",
   "metadata": {},
   "source": [
    "# CP213: Tutorial Notebook Week 2\n",
    "# Model Solutions"
   ]
  },
  {
   "cell_type": "markdown",
   "metadata": {},
   "source": [
    "## Question 1\n",
    "\n",
    "Use the trapeziod rule with (a) four equal intervals and (b)\n",
    "eight equal intervals to estimate the value of the integral:\n",
    "\\begin{align*}\n",
    "\\int_0^1 dx\\, x^3.\n",
    "\\end{align*}\n",
    "Find the exact value of the integral, and determine the percentage\n",
    "error between the exact value and the value estimated in (a) and (b).\n"
   ]
  },
  {
   "cell_type": "markdown",
   "metadata": {},
   "source": [
    "## Model solution for Q1\n",
    "\n",
    "\n",
    "We can easily perform this integral:\n",
    "\\begin{align*}\n",
    "I &= \\int_0^{1}  dx\\,x^3\n",
    "= \\left.\\frac{x^4}{4}\\right]_0^1 = \\frac{1}{4} = 0.25\n",
    "\\end{align*}\n",
    "\n",
    "\n",
    "### part (a)\n",
    "\n",
    "The area $\\Delta A$ of a trapezoid with a base of length $\\Delta x$, one side of height $h_1$ and the other side of height $h_2$ is\n",
    "\\begin{align*}\n",
    "\\Delta A &= \\frac{\\Delta x}{2}(h_1+h+2)\n",
    ".\n",
    "\\end{align*}\n",
    "If we \n",
    "then the approximation to the integral is just the sum of the set of areas of the corresponding trapezoids.\n",
    "\\begin{align*}\n",
    "I \\approx \\sum_k \\frac{x_{i+1}-x_i}{2}[f(x_{i+1}+f(x_i)]\n",
    "\\end{align*}\n"
   ]
  },
  {
   "cell_type": "code",
   "execution_count": 2,
   "metadata": {},
   "outputs": [
    {
     "name": "stdout",
     "output_type": "stream",
     "text": [
      "trapezoid rule : 0.265625, exact: 0.25\n",
      "error = 6.25%\n"
     ]
    },
    {
     "data": {
      "image/png": "[encoded data removed]",
      "text/plain": [
       "<Figure size 432x288 with 1 Axes>"
      ]
     },
     "metadata": {
      "needs_background": "light"
     },
     "output_type": "display_data"
    }
   ],
   "source": [
    "import numpy as np\n",
    "\n",
    "I_exact = 0.25\n",
    "def f(x):\n",
    "    return x**3\n",
    "\n",
    "N = 4+1\n",
    "x_data = np.linspace(0.0, 1.0, N)\n",
    "f_data = [f(x) for x in x_data]\n",
    "\n",
    "I = 0.0\n",
    "for k in range(N-1):\n",
    "    I += 0.5*(x_data[k+1]-x_data[k])*(f_data[k]+f_data[k+1])\n",
    "print(f'trapezoid rule : {I}, exact: {I_exact}')\n",
    "print(f'error = {(I-I_exact)/I_exact*100.0}%')\n",
    "\n",
    "import pylab as plt\n",
    "\n",
    "plt.plot(x_data, f_data, color='red')\n",
    "plt.plot(x_data, f_data, 'o', color='red', label='trapezoid rule')\n",
    "\n",
    "x_exact = np.linspace(0.0, 1.0, 1000)\n",
    "f_exact = [f(x) for x in x_exact]\n",
    "plt.plot(x_exact, f_exact, color='black', label='exact')\n",
    "\n",
    "plt.xlabel(r'$x$')\n",
    "plt.ylabel(r'$f(x)$')\n",
    "plt.legend()\n",
    "\n",
    "plt.show()\n"
   ]
  },
  {
   "cell_type": "markdown",
   "metadata": {},
   "source": [
    "### part (b)\n",
    "\n",
    "We can reuse the code we wrote above by simply changing the value of the variable $N$."
   ]
  },
  {
   "cell_type": "code",
   "execution_count": 2,
   "metadata": {},
   "outputs": [
    {
     "name": "stdout",
     "output_type": "stream",
     "text": [
      "trapezoid rule : 0.25390625, exact: 0.25\n",
      "error = 1.5625%\n"
     ]
    },
    {
     "data": {
      "image/png": "[encoded data removed]",
      "text/plain": [
       "<Figure size 432x288 with 1 Axes>"
      ]
     },
     "metadata": {
      "needs_background": "light"
     },
     "output_type": "display_data"
    }
   ],
   "source": [
    "N = 8+1\n",
    "x_data = np.linspace(0.0, 1.0, N)\n",
    "f_data = [f(x) for x in x_data]\n",
    "\n",
    "I = 0.0\n",
    "for k in range(N-1):\n",
    "    I += 0.5*(x_data[k+1]-x_data[k])*(f_data[k]+f_data[k+1])\n",
    "print(f'trapezoid rule : {I}, exact: {I_exact}')\n",
    "print(f'error = {(I-I_exact)/I_exact*100.0}%')\n",
    "\n",
    "plt.plot(x_data, f_data, color='red')\n",
    "plt.plot(x_data, f_data, 'o', color='red', label='trapezoid rule')\n",
    "\n",
    "x_exact = np.linspace(0.0, 1.0, 1000)\n",
    "f_exact = [f(x) for x in x_exact]\n",
    "plt.plot(x_exact, f_exact, color='black', label='exact')\n",
    "\n",
    "plt.xlabel(r'$x$')\n",
    "plt.ylabel(r'$f(x)$')\n",
    "plt.legend()\n",
    "\n",
    "plt.show()"
   ]
  },
  {
   "cell_type": "markdown",
   "metadata": {},
   "source": [
    "### extra credit\n",
    "\n",
    "Let's try to see how the error decreases as we increase the number of points used in evaluating the trapezoid rule."
   ]
  },
  {
   "cell_type": "code",
   "execution_count": null,
   "metadata": {},
   "outputs": [],
   "source": [
    "def get_I(N):\n",
    "    x_data = np.linspace(0.0, 1.0, N)\n",
    "    f_data = [f(x) for x in x_data]\n",
    "\n",
    "    I = 0.0\n",
    "    for k in range(N-1):\n",
    "        I += 0.5*(x_data[k+1]-x_data[k])*(f_data[k]+f_data[k+1])\n",
    "        \n",
    "    return I\n",
    "\n",
    "\n",
    "N_data = range(2,100)\n",
    "I_data = [get_I(N) for N in N_data]\n",
    "\n",
    "\n",
    "plt.rcParams['figure.figsize'] = [10.0, 5.0]\n",
    "\n",
    "plt.subplot(121)\n",
    "plt.plot(N_data, I_data, 'o', color='red', label='trapezoid rule')\n",
    "plt.xlabel('$N$')\n",
    "plt.ylabel('$I$')\n",
    "plt.plot(N_data, [I_exact for N in N_data], color='black', label='exact')\n",
    "plt.legend()\n",
    "\n",
    "plt.subplot(122)\n",
    "error_data = [(I-I_exact)/I_exact*100.0 for I in I_data]\n",
    "plt.plot(N_data, error_data, 'o', color='red')\n",
    "plt.yscale('log')\n",
    "plt.ylabel('error %')\n",
    "plt.xlabel('N')\n",
    "\n",
    "plt.tight_layout(pad=2)\n",
    "plt.show()"
   ]
  },
  {
   "cell_type": "markdown",
   "metadata": {},
   "source": [
    "### extra extra credit\n",
    "\n",
    "We can generalize this to any function with the use of the sympy library.  All you need to do is change the "
   ]
  },
  {
   "cell_type": "code",
   "execution_count": 3,
   "metadata": {},
   "outputs": [
    {
     "name": "stdout",
     "output_type": "stream",
     "text": [
      "0.459697694131860\n"
     ]
    },
    {
     "data": {
      "image/png": "[encoded data removed]",
      "text/plain": [
       "<Figure size 432x288 with 2 Axes>"
      ]
     },
     "metadata": {
      "needs_background": "light"
     },
     "output_type": "display_data"
    }
   ],
   "source": [
    "import sympy as sp\n",
    "\n",
    "x = sp.symbols('x')\n",
    "func = sp.sin(x)\n",
    "\n",
    "F = sp.integrate(func, (x, 0, 1))\n",
    "I_exact = sp.N(F)\n",
    "print(I_exact)\n",
    "\n",
    "f = sp.lambdify(x, func)\n",
    "\n",
    "def get_I(N):\n",
    "    x_data = np.linspace(0.0, 1.0, N)\n",
    "    f_data = [f(x) for x in x_data]\n",
    "\n",
    "    I = 0.0\n",
    "    for k in range(N-1):\n",
    "        I += 0.5*(x_data[k+1]-x_data[k])*(f_data[k]+f_data[k+1])\n",
    "        \n",
    "    return I\n",
    "\n",
    "\n",
    "N_data = range(1,100)\n",
    "I_data = [get_I(N) for N in N_data]\n",
    "\n",
    "plt.subplot(121)\n",
    "plt.plot(N_data, I_data, 'o', color='red', label='trapezoid rule')\n",
    "plt.xlabel('$N$')\n",
    "plt.ylabel('$I$')\n",
    "plt.plot(N_data, [I_exact for N in N_data], color='black', label='exact')\n",
    "plt.legend()\n",
    "\n",
    "plt.subplot(122)\n",
    "error_data = [abs(I-I_exact)/I_exact*100.0 for I in I_data]\n",
    "plt.plot(N_data, error_data, 'o', color='red')\n",
    "plt.yscale('log')\n",
    "plt.ylabel('error %')\n",
    "plt.xlabel('N')\n",
    "\n",
    "plt.tight_layout(pad=2)\n",
    "plt.show()"
   ]
  },
  {
   "cell_type": "markdown",
   "metadata": {},
   "source": [
    "## Question 2\n",
    "\n",
    "Fluid flows through a pipe with a circular cross-section of radius\n",
    "$R$.\n",
    "\n",
    "1. Find an expression for the volumetric flow rate $Q$ through the\n",
    "  pipe if the fluid velocity within it is $v=\\mbox{const}$.\n",
    "  \n",
    "2. What is the volumetric flow rate $\\Delta Q$ through a circular\n",
    "  annulus of inner radius $r$ and outer radius $r+\\Delta r$ if the\n",
    "  velocity of the fluid within the annulus is $v=\\mbox{const}$?  What happens to this expression as $\\Delta r$ becomes very small?\n",
    "  \n",
    "3. Find an expression for $Q$ for the case of laminar flow within\n",
    "  the pipe, where the velocity profile is given by\n",
    "\\begin{align*}\n",
    "v(r) &= \\frac{\\Delta p}{4\\mu L}(R^2-r^2)\n",
    "\\end{align*}\n",
    "where $v(r)$ is the velocity of the fluid at a distance $r$ from the\n",
    "center of the pipe, $\\Delta p$ is the pressure drop along the pipe,\n",
    "$L$ is the length of the pipe, and $\\mu$ is the dynamic viscosity of\n",
    "the fluid.  What is the mean velocity of the fluid in the pipe?\n",
    "\n",
    "4. Plot the velocity profile in the pipe for parts (1) and (3).\n"
   ]
  },
  {
   "cell_type": "markdown",
   "metadata": {},
   "source": [
    "### part 1\n",
    "\n",
    "In the case where the velocity in the pipe is constant, the\n",
    "volumetric flow rate is simply given as the product of the\n",
    "cross-sectional area of the pipe with the velocity.  Consequently,\n",
    "$Q=\\pi R^2 v$.\n"
   ]
  },
  {
   "cell_type": "markdown",
   "metadata": {},
   "source": [
    "### part 2\n",
    "\n",
    "The area $\\Delta A$ of the annulus is\n",
    "\\begin{align*}\n",
    "\\Delta A &= \\pi (r+\\Delta r)^2 - \\pi r^2 \n",
    "=  \\pi [(r+\\Delta r)^2 - r^2]\n",
    "= \\pi (r^2 + 2 r \\Delta r +\\Delta r^2 - r^2)\n",
    "\\\\\n",
    "&= \\pi (2\\pi r \\Delta r + \\Delta r ^2)\n",
    "\\end{align*}\n",
    "The volumetric flowrate $\\Delta Q$ is equal to the cross sectional area multiplied by the velocity\n",
    "\\begin{align*}\n",
    "\\Delta Q &= \\Delta A v\n",
    "= \\pi(2 r \\Delta r +\\Delta r^2) v\n",
    "= 2\\pi r \\Delta r v + \\pi\\Delta r^2 v\n",
    ".\n",
    "\\end{align*}\n",
    "\n",
    "In the limit that $\\Delta r/r\\ll 1$, the second term in the expression for the volumetric flow rate becomes much smaller than the first term, and to a good approximation\n",
    "\\begin{align*}\n",
    "\\Delta Q &\\approx\n",
    "2\\pi r \\Delta r v \n",
    ".\n",
    "\\end{align*}\n"
   ]
  },
  {
   "cell_type": "markdown",
   "metadata": {},
   "source": [
    "### part 3\n",
    "\n",
    "\n",
    "Evaluate $Q$ for the case of laminar flow within the pipe, where the\n",
    "  velocity profile is given by\n",
    "\\begin{align*}\n",
    "  Q\n",
    "  &= \\int_0^{R} 2\\pi rdr\\, v(r)\n",
    "  \\\\\n",
    "  &= \\int_0^{R} 2\\pi rdr\\, \\frac{\\Delta p}{4\\mu L}(R^2-r^2)\n",
    "  \\\\\n",
    "  &= \\frac{\\pi \\Delta p}{2\\mu L} \\int_0^{R} dr\\, (R^2r-r^3)\n",
    "  \\\\\n",
    "  &= \\frac{\\pi \\Delta p}{2\\mu L}\n",
    "    \\left[ \\frac{R^2r^2}{2}-\\frac{r^4}{4})\\right]_0^{R}\n",
    "  \\\\\n",
    "  &= \\frac{\\pi \\Delta p}{2\\mu L}\n",
    "    \\left[ \\frac{R^4}{2}-\\frac{R^4}{4})\\right]\n",
    "  \\\\\n",
    "  &= \\frac{\\pi\\Delta p R^4}{8\\mu L}\n",
    "\\end{align*}\n",
    "\n",
    "The mean velocity in the pipe is defined as the velocity\n",
    "\\begin{align*}\n",
    "  Q &= \\pi R^2 \\bar{v} = \\frac{\\pi\\Delta p R^4}{8\\mu L}\n",
    "  \\\\\n",
    "  \\bar{v} &= \\frac{\\Delta p R^2}{8\\mu L}\n",
    "\\end{align*}\n"
   ]
  },
  {
   "cell_type": "markdown",
   "metadata": {},
   "source": [
    "### part 4\n",
    "\n",
    "The velocity profiles in cases (a) and (b) are shown below.\n",
    "\n"
   ]
  },
  {
   "cell_type": "code",
   "execution_count": null,
   "metadata": {},
   "outputs": [],
   "source": [
    "import numpy as np\n",
    "import pylab as plt\n",
    "\n",
    "r_data = np.arange(0.0, 1.0, 0.01)\n",
    "v_data = [1.0 for r in r_data]\n",
    "plt.plot(r_data, v_data, label='part 1')\n",
    "\n",
    "r_data = np.arange(0.0, 1.0, 0.01)\n",
    "v_data = [2.0*(1.0-r*r) for r in r_data]\n",
    "plt.plot(r_data, v_data, label='part 3')\n",
    "\n",
    "\n",
    "\n",
    "plt.xlabel(r'$r/R$')\n",
    "plt.ylabel(r'$v(r)/\\bar{v}$')\n",
    "plt.legend()\n",
    "\n",
    "\n",
    "\n",
    "plt.show()\n"
   ]
  },
  {
   "cell_type": "markdown",
   "metadata": {},
   "source": [
    "## Question 3\n",
    "\n",
    "A brine solution (i.e. a mixture of salt and water) with a salt\n",
    "concentration of $0.1\\,{\\rm kg\\,L}^{-1}$ begins to flow at a constant\n",
    "rate of $6\\,{\\rm L\\,min}^{-1}$ into a large tank that initially holds\n",
    "$1000\\,{\\rm L}$ of pure water.  The solution inside the tank is kept\n",
    "well stirred and flows out of the tank at a rate of $6\\,{\\rm\n",
    "L\\,min}^{-1}$.  Determine the time at which the concentration of salt\n",
    "in the tank reaches $0.05\\,{\\rm kg\\,L}^{-1}$.\n",
    "\n",
    "\n",
    "Hint: ${\\rm rate~of~change} = {\\rm input~rate} - {\\rm output~rate}$.\n"
   ]
  },
  {
   "cell_type": "markdown",
   "metadata": {},
   "source": [
    "## Model solution for Q3\n",
    "\n",
    "The volumetric flow rate $\\dot{Q}=6\\,{\\rm L\\,min}^{-1}$ of brine solution\n",
    "entering the tank is the same as the volumetric flowrate of liquid\n",
    "exiting the tank.  Therefore, we expect the volume $V$ of liquid in the\n",
    "tank to remain constant at $1000\\,{\\rm L}$.\n",
    "\n",
    "Because the contents of the tank is well mixed, we assume that the\n",
    "concentration of salt in the exit stream is equal to the concentration\n",
    "of salt in the tank, at any given moment in time.\n",
    "\n",
    "Performing a mass balance on salt in the tank, we find\n",
    "\\begin{align*}\n",
    "  \\frac{dm}{dt}\n",
    "  &= \\dot{Q} c_{\\rm in} - \\dot{Q} c\n",
    "  \\\\\n",
    "  &= \\dot{Q} c_{\\rm in} - \\dot{Q} \\frac{m}{V}\n",
    "\\end{align*}\n",
    "We can put this into a more convenient form if we try to form\n",
    "dimensionless groupings of variables, as shown below:\n",
    "\\begin{align*}\n",
    "  \\frac{1}{c_{\\rm in}\\dot{Q}}\\frac{dm}{dt}\n",
    "  &=  1 - \\frac{m}{c_{\\rm in} V}\n",
    "    .\n",
    "\\end{align*}\n",
    "This suggests that we define the dimensionless mass $y$ and time $x$\n",
    "variables as:\n",
    "\\begin{align*}\n",
    "  y &= \\frac{m}{c_{\\rm in} V}\n",
    "  \\\\\n",
    "  x &= \\frac{t \\dot{Q}}{V}\n",
    "      ,\n",
    "\\end{align*}\n",
    "which then allows us to simplify the equation to:\n",
    "\\begin{align*}\n",
    "  \\frac{dy}{dx}\n",
    "  &= 1 - y\n",
    "    .\n",
    "\\end{align*}\n",
    "The general solution to this differential equation is\n",
    "\\begin{align*}\n",
    "  \\frac{dy}{1-y} &= dx\n",
    "  \\\\\n",
    "  \\ln(1-y(x))\n",
    "  &= - x + C\n",
    "  \\\\\n",
    "  y(x) &= 1 - e^{C - x}\n",
    "\\end{align*}\n",
    "where $C$ is an unknown integration constant.  The value of the integration constant can be determined from the initial condition:\n",
    "\\begin{align*}\n",
    "y(0) &= 1-e^C\n",
    "\\\\\n",
    "C &= \\ln(1-y(0)).\n",
    "\\end{align*}\n",
    "The tank does not contain any salt at time zero, so $y(0)=0$; therefore, we have $C=0$.  The solution to the differential equation is\n",
    "\\begin{align*}\n",
    "y(x) &= 1 - e^{-x}.\n",
    "\\end{align*}\n",
    "\n",
    "This can be rearranged for $x$ as:\n",
    "\\begin{align*}\n",
    "x &= -\\ln(1-y(x)).\n",
    "\\end{align*}\n",
    "Switching back to dimensional variables, we find\n",
    "\\begin{align*}\n",
    "\\frac{t \\dot{Q}}{V} &= -\\ln\\left(1-\\frac{m}{c_{\\rm in} V}\\right)\n",
    "\\\\\n",
    "t &= -\\frac{V}{\\dot{Q}}\\ln\\left(1-\\frac{m}{c_{\\rm in} V}\\right)\n",
    "\\\\\n",
    "&= -\\frac{1000}{6}\\ln\\left(1-\\frac{0.05}{0.1}\\right)\n",
    "\\\\\n",
    "&=  115.5\\,{\\rm min}\n",
    "\\end{align*}"
   ]
  },
  {
   "cell_type": "markdown",
   "metadata": {},
   "source": [
    "## Question 4\n",
    "\n",
    "Evaluate the integrals:\n",
    "\n",
    "1. $\\displaystyle\n",
    "\\int_a^b dx\\, \\varepsilon x    \n",
    "$\n",
    "\n",
    "2. $\\displaystyle\n",
    "\\int_a^b dx\\, (\\gamma-\\varepsilon x)\n",
    "$\n",
    "\n",
    "3. $\\displaystyle   \n",
    "\\int_a^b dx\\, \\frac{\\varepsilon}{x^2}\n",
    "$\n",
    "\n",
    "4. $\\displaystyle   \n",
    "\\int_a^b dx\\, \\frac{\\varepsilon+x}{x^2}\n",
    "$\n",
    "\n",
    "5. $\\displaystyle   \n",
    "\\int_a^b dx\\, \\frac{\\gamma-x}{(\\varepsilon-x)^2}\n",
    "$\n",
    "\n",
    "6. $\\displaystyle   \n",
    "\\int_1^4 dx\\, x\\, e^x \\qquad \\mbox{Hint: use integration by parts.}\n",
    "$\n",
    "\n",
    "7. $\\displaystyle   \n",
    "\\int_0^1 dx\\, 2^x \\qquad \\mbox{Hint: use substitution.}\n",
    "$ \n",
    "\n"
   ]
  },
  {
   "cell_type": "markdown",
   "metadata": {},
   "source": [
    "## Model solution for Q4\n",
    "\n",
    "### part 1\n",
    "\n",
    "$\\displaystyle\n",
    "\\int_a^b dx \\varepsilon x\n",
    "= \\frac{\\varepsilon}{2}(b^2-a^2)\n",
    "$\n"
   ]
  },
  {
   "cell_type": "code",
   "execution_count": null,
   "metadata": {},
   "outputs": [],
   "source": [
    "from sympy import *\n",
    "\n",
    "\n",
    "x = symbols('x')\n",
    "a, b, z, gamma, epsilon = symbols('a b z \\gamma \\epsilon')\n"
   ]
  },
  {
   "cell_type": "code",
   "execution_count": null,
   "metadata": {},
   "outputs": [],
   "source": [
    "I = integrate(epsilon*x, (x, a, b))\n",
    "print(I)\n"
   ]
  },
  {
   "cell_type": "markdown",
   "metadata": {},
   "source": [
    "### part 2\n",
    "\n",
    "$\\displaystyle\n",
    "\\int_a^b dx (\\gamma-\\varepsilon x)\n",
    "= \\gamma(b-a)-\\frac{\\varepsilon}{2}(b^2-a^2)\n",
    "$\n"
   ]
  },
  {
   "cell_type": "code",
   "execution_count": null,
   "metadata": {},
   "outputs": [],
   "source": [
    "I = integrate(gamma-epsilon*x, (x, z, b))\n",
    "print(I)\n"
   ]
  },
  {
   "cell_type": "markdown",
   "metadata": {},
   "source": [
    "### part 3\n",
    "\n",
    "$\\displaystyle   \n",
    "\\int_a^b dx \\frac{\\varepsilon}{x^2}\n",
    "= - \\varepsilon(b^{-1}-a^{-1})\n",
    "$"
   ]
  },
  {
   "cell_type": "code",
   "execution_count": null,
   "metadata": {},
   "outputs": [],
   "source": [
    "I = integrate(epsilon/x**2, (x, a, b))\n",
    "print(I)"
   ]
  },
  {
   "cell_type": "markdown",
   "metadata": {},
   "source": [
    "### part 4\n",
    "\n",
    "$\\displaystyle   \n",
    "\\int_a^b dx \\frac{\\varepsilon+x}{x^2}\n",
    "= - \\varepsilon(b^{-1}-a^{-1}) + \\ln\\frac{b}{a}\n",
    "$"
   ]
  },
  {
   "cell_type": "code",
   "execution_count": null,
   "metadata": {},
   "outputs": [],
   "source": [
    "I = integrate((epsilon+x)/x**2, (x, a, b))\n",
    "print(I)\n"
   ]
  },
  {
   "cell_type": "markdown",
   "metadata": {},
   "source": [
    "### part 5\n",
    "\n",
    "\\begin{align*}\n",
    "\\int_a^b dx\\, \\frac{\\gamma-x}{(\\varepsilon-x)^2}\n",
    "&= \\int_a^b dx\\, \\frac{\\gamma-\\varepsilon+(\\varepsilon-x)}{(\\varepsilon-x)^2}\n",
    "\\\\\n",
    "&= \\int_a^b dx\\, \\frac{\\gamma-\\varepsilon}{(\\varepsilon-x)^2}\n",
    "+ \\int_a^b \\frac{dx}{\\varepsilon-x}\n",
    "\\\\\n",
    "&= \\Bigg[\\frac{\\gamma-\\varepsilon}{\\varepsilon-x}\n",
    "- \\ln(\\varepsilon-x)\n",
    "\\Bigg]_a^b\n",
    "\\\\\n",
    "&= (\\gamma-\\varepsilon)\n",
    "\\left[\\frac{1}{\\varepsilon-b}-\\frac{1}{\\varepsilon-a}\\right]\n",
    "- \\ln\\frac{\\varepsilon-b}{\\varepsilon-a}\n",
    "\\end{align*}"
   ]
  },
  {
   "cell_type": "code",
   "execution_count": null,
   "metadata": {},
   "outputs": [],
   "source": [
    "I = integrate((gamma-x)/(epsilon-x)**2, (x, a, b))\n",
    "print(I)"
   ]
  },
  {
   "cell_type": "markdown",
   "metadata": {},
   "source": [
    "### part 6\n",
    "\n",
    "\\begin{align*}  \n",
    "\\int_1^4 dx\\, x e^x\n",
    "&= \\int_1^4 dx\\, \\left[\n",
    "  \\frac{d}{dx}(x e^x) - e^x\\right]\n",
    "\\\\  \n",
    "&= \\left. x e^x - e^x\\right]_1^4\n",
    "= (4e^4 - e^4) - (1e^1-e^1)\n",
    "\\\\\n",
    "&= 3 e^4\n",
    "\\end{align*}"
   ]
  },
  {
   "cell_type": "code",
   "execution_count": null,
   "metadata": {},
   "outputs": [],
   "source": [
    "I = integrate(x*exp(x), (x, 1, 4))\n",
    "print(I)"
   ]
  },
  {
   "cell_type": "markdown",
   "metadata": {},
   "source": [
    "### part 7\n",
    "\n",
    "\\begin{align*}   \n",
    "\\int_0^1 dx\\, 2^x\n",
    "&= \\int_0^1 dx\\, e^{\\ln 2^x}\n",
    "= \\int_0^1 dx\\, e^{x\\ln 2}\n",
    "\\\\\n",
    "&= \\left.\\frac{e^{x\\ln 2}}{\\ln 2}\\right]_{0^1}\n",
    "= \\frac{1}{\\ln 2}(e^{\\ln 2}- 1)\n",
    "= \\frac{1}{\\ln 2} (2-1)\n",
    "\\\\\n",
    "&= \\frac{1}{\\ln 2}\n",
    "\\end{align*}"
   ]
  },
  {
   "cell_type": "code",
   "execution_count": null,
   "metadata": {},
   "outputs": [],
   "source": [
    "I = integrate(2**x, (x, 0, 1))\n",
    "print(I)"
   ]
  },
  {
   "cell_type": "code",
   "execution_count": null,
   "metadata": {},
   "outputs": [],
   "source": []
  },
  {
   "cell_type": "markdown",
   "metadata": {},
   "source": [
    "## Question 5\n",
    "\n",
    "Consider the gas-water shift reaction\n",
    "\\begin{align*}\n",
    "{\\rm \n",
    "CO(g) + H_2O(g) \\leftrightarrows CO_2(g) + H_2(g)\n",
    "}\n",
    "\\end{align*}\n",
    "\n",
    "| gas       | $M_w$        | $H_f$         | $G_f$         |\n",
    "| :--       | --:        | --:           | --:           |\n",
    "|           | g mol$^{-1}$ | kJ mol$^{-1}$ | kJ mol$^{-1}$ |\n",
    "| CO(g)     | $28.01$    | $ -110.5$     | $ -137.2$     |\n",
    "| CO$_2$(g) | $44.01$    | $ -393.3$     | $ -394.6$     |\n",
    "| H$_2$(g)  | $ 2.02$    | $    0.0$     | $    0.0$     |\n",
    "| H$_2$O(g) | $18.02$    | $ -241.8$     | $ -228.4$     |\n",
    "|           |            |               |               |\n",
    "\n",
    "\n",
    "The heat capacity of the gases can be described by the equation\n",
    "\\begin{align*}\n",
    "\\frac{C_p}{R}\n",
    "&= a_0 + a_1 T + a_2 T^2 + a_3 T^3 + a_4 T^4\n",
    "\\end{align*}\n",
    "where $T$ is the absolute temperature in kelvin,\n",
    "$R=8.314$\\,J$^{-1}$\\,mol\\,K$^{-1}$ is the ideal gas constant, and the\n",
    "coefficients $a_k$ are given in the table below.\n",
    "\n",
    "\n",
    "| gas       | $a_0$   | $a_1\\times10^3$ | $a_2\\times10^5$ | $a_3\\times10^8$ | $a_4\\times10^{11}$ |\n",
    "| :--       | --:     | --:             | --:             | --:             | --:                |\n",
    "|           |         | K$^{-1}$        | K$^{-2}$        | K$^{-3}$        |  K$^{-4}$                   |\n",
    "| CO(g)     | $3.912$ | $ -3.913$| $1.182$  | $ -1.302$       | $  0.515$          |\n",
    "| CO$_2$(g) | $3.259$ | $  1.356$| $1.502$  | $ -2.374$       | $  1.056$          |\n",
    "| H$_2$(g)  | $2.883$ | $  3.681$| $-0.772$ | $  0.692$       | $ -0.213$          |\n",
    "| H$_2$O(g) | $4.395$ | $ -4.186$| $1.405$ | $ -1.564$       | $  0.632$          |\n",
    "\n",
    "\n",
    "The information in both tables have been summarized in the dictionary `data`.  The stoichiometric coefficients (the stoichiometric coefficient for species $k$ is typically denoted by the symbol $\\nu_k$) of the reaction are held in the dictionary `nu`.  Note that product species have a positive stoichiometric coefficient, and reactant species have a negative stoichiometric coefficient.\n",
    "\n",
    "In what follows below, assume that the mixtures behave as an ideal gas.\n",
    "\n"
   ]
  },
  {
   "cell_type": "code",
   "execution_count": null,
   "metadata": {},
   "outputs": [],
   "source": [
    "R = 8.314e-3  # ideal gas constant / kJ mol^{-1} K^{-1}\n",
    "T0 = 298.15   # reference temperature / K\n",
    "p0 = 1.0e5    # reference pressure / Pa\n",
    "\n",
    "\n",
    "data = {}\n",
    "data['CO']  = {'Mw':28.01, 'Hf':-110.5, 'Gf':-137.2 }\n",
    "data['CO2'] = {'Mw':44.01, 'Hf':-393.3, 'Gf':-394.6 }\n",
    "data['H2']  = {'Mw': 2.02, 'Hf':   0.0, 'Gf':   0.0 }\n",
    "data['H2O'] = {'Mw':18.02, 'Hf':-241.8, 'Gf':-228.4 }\n",
    "\n",
    "data['CO'] ['Cp_coeff'] = [3.912, -3.913e-3,  1.182e-5, -1.302e-8,  0.515e-11]      \n",
    "data['CO2']['Cp_coeff'] = [3.259,  1.356e-3,  1.502e-5, -2.374e-8,  1.056e-11]      \n",
    "data['H2'] ['Cp_coeff'] = [2.883,  3.681e-3, -0.772e-5,  0.692e-8, -0.213e-11]      \n",
    "data['H2O']['Cp_coeff'] = [4.395, -4.186e-3,  1.405e-5, -1.564e-8,  0.632e-11]\n",
    "\n",
    "nu = {}\n",
    "nu['CO']  = -1.0\n",
    "nu['CO2'] =  1.0 \n",
    "nu['H2']  =  1.0\n",
    "nu['H2O'] = -1.0\n",
    "\n"
   ]
  },
  {
   "cell_type": "markdown",
   "metadata": {},
   "source": [
    "### Part 1: Enthalpy\n",
    "\n",
    "The enthalpy can be determined from the heat capacity:\n",
    "\\begin{align*}\n",
    "H(T) &= H_f + \\int_{T_0}^{T} dT' C_p(T')\n",
    "\\end{align*}\n",
    "\n",
    "**Task:** Using the empirical form of the heat capacity that was provided above, create a function that takes the temperature and component mole numbers as input and returns the total enthalpy of the mixture."
   ]
  },
  {
   "cell_type": "markdown",
   "metadata": {},
   "source": [
    "## Model solution for Q5\n",
    "\n",
    "The enthalpy can be determined from the heat capacity:\n",
    "\\begin{align*}\n",
    "H(T) &= H_f + \\int_{T_f}^{T} dT' C_p(T')\n",
    "\\\\\n",
    "&= \\sum_k N_k H_{f, k} + \\int_{T_f}^{T} dT' \\sum_k N_k C_{p,k}(T')\n",
    "\\\\\n",
    "&= \\sum_k N_k H_{f, k} +  \\sum_k N_k \\int_{T_f}^{T} dT' C_{p,k}(T')\n",
    "\\\\\n",
    "&= \\sum_k N_k H_{f, k} \n",
    "+ \\sum_k N_k \\int_{T_f}^{T} dT' \n",
    "  \\Bigg[\\sum_{n=0} Ra_{n,k} T'^n \\Bigg]\n",
    "\\\\\n",
    "&= \\sum_k N_k H_{f, k} \n",
    "+ R\\sum_k N_k \\sum_{n=0} \\frac{a_{n,k}}{n+1}\n",
    "  \\Bigg[T'^{n+1}\\Bigg]_{T_f}^{T}\n",
    "\\\\\n",
    "&= \\sum_k N_k H_{f, k} \n",
    "+ R\\sum_k N_k \\sum_{n=0} \\frac{a_{n,k}}{n+1}\n",
    "  (T^{n+1}-T_f^{n+1})\n",
    "\\\\\n",
    "&= \\sum_k N_k \\Bigg[\n",
    "  H_{f, k} \n",
    "+ R\\sum_{n=0} \\frac{a_{n,k}}{n+1}\n",
    "  (T^{n+1}-T_f^{n+1})\\Bigg]\n",
    "\\end{align*}\n",
    "Note that we can write the enthalpy for an ideal gas mixture as the sum of the contributions from the individual components in the system."
   ]
  },
  {
   "cell_type": "code",
   "execution_count": null,
   "metadata": {},
   "outputs": [],
   "source": [
    "import numpy as np\n",
    "T_data = np.arange(100.0, 500.0)\n",
    "\n",
    "T = 200.0\n",
    "\n",
    "moles = {'CO':1, 'CO2':2, 'H2O':0.5, 'H2':0.9}\n",
    "\n",
    "def get_H(T, moles):\n",
    "    H = 0.0\n",
    "    for molecule, coeff in nu.items():\n",
    "        Nk = moles[molecule]\n",
    "        Hf = data[molecule]['Hf']  # H_f is in kJ mol^{-1}\n",
    "        a_list = data[molecule]['Cp_coeff']\n",
    "        Hk = Hf\n",
    "        for n in range(len(a_list)):\n",
    "            Hk += R*a_list[n]*(T**(n+1)-T0**(n+1))\n",
    "        H += Nk*Hk\n",
    "    return H\n",
    "\n",
    "H_data = [get_H(T, moles) for T in T_data]\n",
    "\n",
    "import pylab as plt\n",
    "\n",
    "plt.plot(T_data, H_data)\n",
    "plt.ylabel(r'enthalpy / kJ')\n",
    "plt.xlabel(r'temperature / K')\n",
    "\n",
    "plt.show()"
   ]
  },
  {
   "cell_type": "markdown",
   "metadata": {},
   "source": [
    "### Part 2: Enthalpy of reaction\n",
    "\n",
    "The enthalpy of reaction is given by\n",
    "\\begin{align*}\n",
    "\\Delta H_{\\rm rxn}(T)\n",
    "&= \\sum_k \\nu_k H_{f,k}(T)\n",
    ".\n",
    "\\end{align*}\n",
    "\n",
    "\n",
    "**Task:** plot the enthalpy of reaction for the gas-water shift reaction as a function of temperature."
   ]
  },
  {
   "cell_type": "code",
   "execution_count": null,
   "metadata": {},
   "outputs": [],
   "source": [
    "import numpy as np\n",
    "T_data = np.arange(100.0, 500.0)\n",
    "\n",
    "H_data = [get_H(T, nu) for T in T_data]\n",
    "\n",
    "import pylab as plt\n",
    "\n",
    "plt.plot(T_data, H_data)\n",
    "plt.ylabel(r'$\\Delta H_{\\rm rxn}$ / kJ mol$^{-1}$')\n",
    "plt.xlabel(r'temperature / K')\n",
    "\n",
    "plt.show()"
   ]
  },
  {
   "cell_type": "code",
   "execution_count": null,
   "metadata": {},
   "outputs": [],
   "source": []
  },
  {
   "cell_type": "code",
   "execution_count": null,
   "metadata": {},
   "outputs": [],
   "source": []
  }
 ],
 "metadata": {
  "kernelspec": {
   "display_name": "Python 3",
   "language": "python",
   "name": "python3"
  },
  "language_info": {
   "codemirror_mode": {
    "name": "ipython",
    "version": 3
   },
   "file_extension": ".py",
   "mimetype": "text/x-python",
   "name": "python",
   "nbconvert_exporter": "python",
   "pygments_lexer": "ipython3",
   "version": "3.8.5"
  }
 },
 "nbformat": 4,
 "nbformat_minor": 4
}
