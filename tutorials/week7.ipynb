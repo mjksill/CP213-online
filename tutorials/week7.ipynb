{
 "cells": [
  {
   "cell_type": "markdown",
   "metadata": {},
   "source": [
    "# CP213: Tutorial Notebook 7\n",
    "\n"
   ]
  },
  {
   "cell_type": "markdown",
   "metadata": {},
   "source": [
    "## Question 1\n",
    "\n",
    "\n"
   ]
  },
  {
   "cell_type": "markdown",
   "metadata": {},
   "source": [
    "A bottle rocket is constructed using a two liter soft drink bottle\n",
    "half filled with water and pressurized with air to $2\\,{\\rm barg}$ (see [Awesome homemade AIR POWERED bottle rocket](https://www.youtube.com/watch?v=R625vwA4jpQ)).\n",
    "How does the thrust vary with time?  How many of these bottle rockets\n",
    "are required to lift a person off the ground?  Note that the force\n",
    "exerted by the ejected water is $F = \\dot{m} v$, where $v$ is the exit\n",
    "velocity of water, and $\\dot{m}$ is the mass flowrate of the water.\n",
    "The exit velocity $v$ of the water can be calculated by\n",
    "\\begin{equation*}\n",
    "  v = K\\sqrt{2\\Delta p/\\rho}\n",
    "\\end{equation*}\n",
    "where $K\\approx0.98$ is the discharge coefficient, $\\Delta p$ is the\n",
    "pressure difference between the inside and outside of the bottle, and\n",
    "$\\rho=1000\\,{\\rm kg\\,m^{-3}}$ is the density of water.\n",
    "\n",
    "Treat the 2-liter bottle as a perfect circular cylinder with a\n",
    "diameter of $110\\,{\\rm mm}$ and a circular opening of diameter\n",
    "$25\\,{\\rm mm}$.  Assume that the ambient atmospheric pressure\n",
    "$p_0=1\\,{\\rm bar}$ remains constant and that the air pressure $p$ in\n",
    "the bottle obeys the relation\n",
    "\\begin{equation*}\n",
    "  % p V^{\\gamma} = {\\rm constant}\n",
    "    p V = {\\rm constant} \n",
    "\\end{equation*}\n",
    "where $V$ is the total volume occupied by the air in the bottle.\n",
    "\n",
    "Qualitatively describe the operation of the rocket.  What is the\n",
    "purpose of putting water in the rocket (instead of just using\n",
    "pressurized air)?  Is there an optimal amount of water to put in the\n",
    "rocket?\n"
   ]
  },
  {
   "cell_type": "markdown",
   "metadata": {},
   "source": [
    "## Question 2\n",
    "\n",
    "A pollutant species is found to undergo a first order decomposition\n",
    "reaction, where the rate of decay of its concentration $c$ is\n",
    "proportional\n",
    "\\begin{align*}\n",
    "  \\frac{dc}{dt} = - k c\n",
    "\\end{align*}\n",
    "where $k$ is a rate constant that has the units of inverse time.\n",
    "Experimental measurements on the system are given in the table below:\n",
    "\n",
    "    \n",
    "|  $t / {\\rm s}$ |$0     $|$ 10    $|$ 20    $|$ 30    $|$ 40$    |\n",
    "| :-- | --: | --: | --: | --: | --: |\n",
    "|  $c / {\\rm M}$ |$0.167 $|$ 0.126 $|$ 0.095 $|$ 0.072 $|$ 0.054$ |\n",
    "\n",
    "\n",
    "\n",
    "1. Determine how the concentration of the pollutant species is expected to vary with time (i.e. find the function $c(t)$).  Assume that the concentration of the species at time $t=0$ is $c_0$.\n",
    "\n",
    "2. Graph the experimental data in the table above in a form to\n",
    "  obtain a linear relation that can be used to obtain an estimate for\n",
    "  $k$ (Hint: Use a semilog plot).\n",
    "  \n",
    "3. A $0.2\\,{\\rm M}$ solution is fed to a tubular reactor of inner\n",
    "  radius $R=1\\,{\\rm mm}$ and length $L=1\\,{\\rm m}$.  The velocity profile\n",
    "  within the reactor is given by\n",
    "  \\begin{align*}\n",
    "    v(r) &= 2v_0\\left(1-\\frac{r^2}{R^2}\\right)\n",
    "  \\end{align*}\n",
    "  where $r$ is the distance from the center-line of the tube, and\n",
    "  $v_0=1\\,{\\rm cm\\,s}^{-1}$.  Determine the (mean) concentration of\n",
    "  the solution that exits the reactor.  (Hint: First determine the\n",
    "  concentration profile across the cross-section of the exiting plane\n",
    "  of the reactor and then use the trapezoid rule to estimate the\n",
    "  average).\n",
    "  \n",
    "\n",
    "  "
   ]
  },
  {
   "cell_type": "code",
   "execution_count": null,
   "metadata": {},
   "outputs": [],
   "source": []
  },
  {
   "cell_type": "markdown",
   "metadata": {},
   "source": [
    "## Question 3\n",
    "\n",
    "Solve the following differential equations:\n",
    "\n",
    "1.\n",
    "  $\\displaystyle\n",
    "    \\frac{dy}{dx} = \\frac{y}{x} + \\tan\\left(\\frac{y}{x}\\right)\n",
    "  $\n",
    "  \n",
    "2.\n",
    "  $\\displaystyle\n",
    "    \\frac{dy}{dx} = \\frac{x+y}{x-y}\n",
    "  $\n",
    "  \n",
    "3.\n",
    "  $\\displaystyle \n",
    "\\frac{dy}{dx} = \\frac{y(x+y)}{x(x-y)}\n",
    "  $\n",
    "  \n",
    "4.\n",
    "  $\\displaystyle\n",
    "\\frac{dy}{dx} = \\frac{2y}{x} + \\frac{x}{y}\n",
    "  $\n",
    "  where $y(1)=2$.  Plot a comparison between your analytical solution and a numerical solution.\n"
   ]
  },
  {
   "cell_type": "code",
   "execution_count": null,
   "metadata": {},
   "outputs": [],
   "source": []
  },
  {
   "cell_type": "code",
   "execution_count": null,
   "metadata": {},
   "outputs": [],
   "source": []
  }
 ],
 "metadata": {
  "kernelspec": {
   "display_name": "Python 3",
   "language": "python",
   "name": "python3"
  },
  "language_info": {
   "codemirror_mode": {
    "name": "ipython",
    "version": 3
   },
   "file_extension": ".py",
   "mimetype": "text/x-python",
   "name": "python",
   "nbconvert_exporter": "python",
   "pygments_lexer": "ipython3",
   "version": "3.8.5"
  }
 },
 "nbformat": 4,
 "nbformat_minor": 4
}
