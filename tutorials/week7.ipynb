{
 "cells": [
  {
   "cell_type": "markdown",
   "metadata": {},
   "source": [
    "# CP213: Tutorial Notebook Week 7\n",
    "\n"
   ]
  },
  {
   "cell_type": "markdown",
   "metadata": {},
   "source": [
    "## Question 1\n",
    "\n",
    "\n"
   ]
  },
  {
   "cell_type": "markdown",
   "metadata": {},
   "source": [
    "A bottle rocket is constructed using a two liter soft drink bottle\n",
    "half filled with water and pressurized with air to $2\\,{\\rm barg}$.\n",
    "How does the thrust vary with time?  How many of these bottle rockets\n",
    "are required to lift a person off the ground?  Note that the force\n",
    "exerted by the ejected water is $F = \\dot{m} v$, where $v$ is the exit\n",
    "velocity of water, and $\\dot{m}$ is the mass flowrate of the water.\n",
    "The exit velocity $v$ of the water can be calculated by\n",
    "\\begin{equation*}\n",
    "  v = C_d\\sqrt{2\\Delta p/\\rho}\n",
    "\\end{equation*}\n",
    "where $C_d\\approx0.98$ is the discharge coefficient, $\\Delta p$ is the\n",
    "pressure difference between the inside and outside of the bottle, and\n",
    "$\\rho=1000\\,{\\rm kg\\,m^{-3}}$ is the density of water.\n",
    "\n",
    "Treat the 2-liter bottle as a perfect circular cylinder with a\n",
    "diameter of $110\\,{\\rm mm}$ and a circular opening of diameter\n",
    "$25\\,{\\rm mm}$.  Assume that the ambient atmospheric pressure\n",
    "$p_0=1\\,{\\rm bar}$ remains constant and that the air pressure $p$ in\n",
    "the bottle obeys the relation\n",
    "\\begin{equation*}\n",
    "  % p V^{\\gamma} = {\\rm constant}\n",
    "    p V = {\\rm constant} \n",
    "\\end{equation*}\n",
    "where $V$ is the total volume occupied by the air in the bottle.\n",
    "%, and $\\gamma=1.4$ is the heat capacity ratio of air.\n",
    "\n",
    "Qualitatively describe the operation of the rocket.  What is the\n",
    "purpose of putting water in the rocket (instead of just using\n",
    "pressurized air)?  Is there an optimal amount of water to put in the\n",
    "rocket?\n"
   ]
  },
  {
   "cell_type": "markdown",
   "metadata": {},
   "source": [
    "## Question 2"
   ]
  },
  {
   "cell_type": "code",
   "execution_count": null,
   "metadata": {},
   "outputs": [],
   "source": []
  },
  {
   "cell_type": "markdown",
   "metadata": {},
   "source": [
    "## Question 3\n",
    "\n",
    "Solve the following differential equations:\n",
    "\n",
    "1.\n",
    "  $\\displaystyle\n",
    "    \\frac{dy}{dx} = \\frac{y}{x} + \\tan\\left(\\frac{y}{x}\\right)\n",
    "  $\n",
    "  \n",
    "2.\n",
    "  $\\displaystyle\n",
    "    \\frac{dy}{dx} = \\frac{x+y}{x-y}\n",
    "  $\n",
    "  \n",
    "3.\n",
    "  $\\displaystyle \n",
    "\\frac{dy}{dx} = \\frac{y(x+y)}{x(x-y)}\n",
    "  $\n",
    "  \n",
    "4.\n",
    "  $\\displaystyle\n",
    "\\frac{dy}{dx} = \\frac{2y}{x} + \\frac{x}{y}\n",
    "  $\n",
    "  where $y(1)=2$.  Plot a comparison between your analytical solution and a numerical solution obtaned by the \"odeint\" function in scipy.integrate.\n"
   ]
  },
  {
   "cell_type": "code",
   "execution_count": null,
   "metadata": {},
   "outputs": [],
   "source": []
  },
  {
   "cell_type": "code",
   "execution_count": null,
   "metadata": {},
   "outputs": [],
   "source": []
  }
 ],
 "metadata": {
  "kernelspec": {
   "display_name": "Python 3",
   "language": "python",
   "name": "python3"
  },
  "language_info": {
   "codemirror_mode": {
    "name": "ipython",
    "version": 3
   },
   "file_extension": ".py",
   "mimetype": "text/x-python",
   "name": "python",
   "nbconvert_exporter": "python",
   "pygments_lexer": "ipython3",
   "version": "3.8.5"
  }
 },
 "nbformat": 4,
 "nbformat_minor": 4
}
