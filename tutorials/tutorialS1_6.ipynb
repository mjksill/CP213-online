{
 "cells": [
  {
   "cell_type": "markdown",
   "id": "voluntary-republic",
   "metadata": {},
   "source": [
    "# CP213: Tutorial Notebook 6\n"
   ]
  },
  {
   "cell_type": "markdown",
   "id": "7bb4c925",
   "metadata": {},
   "source": [
    "## Question 1"
   ]
  },
  {
   "cell_type": "markdown",
   "id": "60e5d4c5",
   "metadata": {},
   "source": [
    "When an object slides on a surface, it encounters a resistive force\n",
    "called friction.  This force has a magnitude of $\\mu N$, where $\\mu$\n",
    "is the coefficient of kinetic friction and $N$ is the magnitude of the\n",
    "normal force that the object applies to the surface.  An object of\n",
    "mass $60\\,{\\rm kg}$ starts from rest at the top of a $\\theta=45^\\circ$\n",
    "inclined plane.  Assume that $\\mu=0.05$.  A force due to air resistance is $-\\lambda v$ (proportional to\n",
    "velocity), where $\\lambda=3\\,{\\rm N\\, s\\, m}^{-1}$.  Recall that the\n",
    "acceleration due to gravity is $g=9.81\\,{\\rm m\\,s^{-2}}$.\n",
    "\n",
    "1. Sketch the forces acting on the object moving on the inclined plane.\n",
    "2. Find the equation of motion for the velocity of the object at\n",
    "  time $t$, and solve.  Assume that it starts with a velocity of $v_0$\n",
    "  at time $t=0$.\n",
    "3. Find the displacement of the object at time $t$, and the time at\n",
    "  which it reaches the bottom of the slope, if the slope is\n",
    "  $10\\,{\\rm m}$ long.  Assume that its initial velocity is $v_0=0$.\n"
   ]
  },
  {
   "cell_type": "code",
   "execution_count": null,
   "id": "6f8d2dc6",
   "metadata": {},
   "outputs": [],
   "source": []
  },
  {
   "cell_type": "markdown",
   "id": "original-zoning",
   "metadata": {},
   "source": [
    "## Question 2\n",
    "\n"
   ]
  },
  {
   "cell_type": "markdown",
   "id": "5e745d2d",
   "metadata": {},
   "source": [
    "A cylindrical tank of diameter $D=1.5\\,{\\rm m}$ is being filled with\n",
    "water at a rate of $\\dot{V}=1000\\,{\\rm L\\,min^{-1}}$.  In addition,\n",
    "water exits the tank through an outlet with cross-sectional area\n",
    "$A_0=25\\,{\\rm cm}^2$ with a velocity $v=\\sqrt{2gh}$, where $h$ is the\n",
    "height of the liquid above the outlet and $g=9.81\\,{\\rm m\\,s^{-2}}$ is\n",
    "the acceleration due to gravity.  The initial water depth is\n",
    "$1.6\\,{\\rm m}$ at $t = 0\\,{\\rm s}$.\n",
    "\n",
    "1. Derive a differential equation that governs the height $h$ of\n",
    "   the liquid level in the tank with time.\n",
    "\n",
    "2. What is the steady state height of the tank?\n",
    "\n",
    "3. Plot the graph of $h$ against $t$.\n",
    "\n",
    "4. The initial temperature of the water in the tank is\n",
    "  $20^\\circ{\\rm C}$, and the temperature of the inlet water is\n",
    "  $T=80^\\circ{\\rm C}$.  Derive a differential equation that governs\n",
    "  the temperature $T$ of the water in the tank varies with time.\n",
    "  Assume that the tank is well mixed, and that\n",
    "  $C_v\\approx C_p\\approx4.2\\,{\\rm J\\,g^{-1}\\,K^{-1}}$.\n",
    "\n",
    "5. What is the steady state temperature of the water in the tank?\n",
    "\n",
    "6. Plot the graph of the temperature $T$ of the water in the tank\n",
    "  with time $t$."
   ]
  },
  {
   "cell_type": "code",
   "execution_count": null,
   "id": "fe9ee6e5",
   "metadata": {},
   "outputs": [],
   "source": []
  },
  {
   "cell_type": "markdown",
   "id": "antique-appreciation",
   "metadata": {},
   "source": [
    "## Question 3\n",
    "\n"
   ]
  },
  {
   "cell_type": "markdown",
   "id": "e1a2da39",
   "metadata": {},
   "source": [
    "Solve the following differential equations:\n",
    "\n",
    "1.\n",
    "  $\\displaystyle\n",
    "    x^2(y+1)+y^2(x-1)\\frac{dy}{dx} = 0\n",
    "  $\n",
    "\n",
    "2.\n",
    "  $\\displaystyle\n",
    "    \\frac{dy}{dx} = \\frac{y}{1+y}\n",
    "  $\n",
    "  \n",
    "3.\n",
    "  $\\displaystyle\n",
    "    x\\tan y + (x^2+1)\\frac{dy}{dx} = 0\n",
    "  $\n",
    "\n",
    "4.\n",
    "  $\\displaystyle\n",
    "  xy^3\\frac{dy}{dx} = (1+x^2)(1+y^2)  \n",
    "  $\n",
    "  where $y(1)=1$.  Plot a comparison between your analytical solution and a numerical solution.\n"
   ]
  },
  {
   "cell_type": "code",
   "execution_count": null,
   "id": "facial-refund",
   "metadata": {},
   "outputs": [],
   "source": []
  },
  {
   "cell_type": "code",
   "execution_count": null,
   "id": "acting-highway",
   "metadata": {},
   "outputs": [],
   "source": []
  }
 ],
 "metadata": {
  "kernelspec": {
   "display_name": "Python 3",
   "language": "python",
   "name": "python3"
  },
  "language_info": {
   "codemirror_mode": {
    "name": "ipython",
    "version": 3
   },
   "file_extension": ".py",
   "mimetype": "text/x-python",
   "name": "python",
   "nbconvert_exporter": "python",
   "pygments_lexer": "ipython3",
   "version": "3.9.6"
  }
 },
 "nbformat": 4,
 "nbformat_minor": 5
}
