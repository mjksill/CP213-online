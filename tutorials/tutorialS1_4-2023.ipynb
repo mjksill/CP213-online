{
 "cells": [
  {
   "cell_type": "markdown",
   "metadata": {},
   "source": [
    "# CP213: Tutorial Notebook 4"
   ]
  },
  {
   "cell_type": "markdown",
   "metadata": {},
   "source": [
    "## Question 1"
   ]
  },
  {
   "cell_type": "markdown",
   "metadata": {},
   "source": [
    "The amount of work $dW$ that is extracted by an engine from a given\n",
    "amount of heat $dQ$ fed to it is\n",
    "\\begin{align*}\n",
    "dW = \\eta\\, dQ  \n",
    "\\end{align*}\n",
    "where $\\eta$ is the engine efficiency.  The maximum theoretical\n",
    "efficiency of an engine is given by the Carnot efficiency\n",
    "\\begin{align*}\n",
    "  \\eta_C = 1 - \\frac{T_C}{T_H}  \n",
    "\\end{align*}\n",
    "where $T_H$ is the temperature at which the heat is absorbed by the\n",
    "engine, and $T_C$ is the temperature at which the heat is rejected.\n",
    "\n",
    "1. Determine the maximum amount of work that can be extracted from\n",
    "  a $250\\,{\\rm mL}$ cup of hot water initially at $60^\\circ{\\rm C}$,\n",
    "  if the surrounding environment is at a fixed temperature of\n",
    "  $20^\\circ{\\rm C}$.  Note that the density of water is approximately\n",
    "  $1\\,{\\rm g\\,mL}^{-1}$, and its heat capacity is approximately\n",
    "  $4.2\\,{\\rm J\\,g^{-1}\\,K^{-1}}$.\n",
    "\n",
    "2. Determine the maximum amount of work that can be extracted from\n",
    "  a $250\\,{\\rm g}$ block of ice initially at $0^\\circ{\\rm C}$, if the\n",
    "  surrounding environment is at a fixed temperature of\n",
    "  $20^\\circ{\\rm C}$.  Note that the heat capacity is approximately\n",
    "  $2.1\\,{\\rm J\\,g^{-1}\\,K}^{-1}$, and the heat of fusion of water is\n",
    "  $334\\,{\\rm J\\,g}^{-1}$."
   ]
  },
  {
   "cell_type": "code",
   "execution_count": null,
   "metadata": {},
   "outputs": [],
   "source": []
  },
  {
   "cell_type": "markdown",
   "metadata": {},
   "source": [
    "## Question 2"
   ]
  },
  {
   "cell_type": "markdown",
   "metadata": {},
   "source": [
    "The heat flux $q$ (heat flow per unit surface area) from the surface\n",
    "of a body can be described by Newton's law of cooling\n",
    "\\begin{align*}\n",
    "  q &= h(T-T_\\infty)\n",
    ",  \n",
    "\\end{align*}\n",
    "where $T$ is the temperature of the body, $T_\\infty$ is the\n",
    "surrounding temperature, and $h$ is the heat transfer coefficient.\n",
    "\n",
    "\n",
    "1. Determine how the temperature of a $250\\,{\\rm mL}$ cup of water\n",
    "  initially at $60^\\circ{\\rm C}$ decreases with time if the\n",
    "  surrounding environment is at a fixed temperature of\n",
    "  $20^\\circ{\\rm C}$.  Assume that the heat transfer coefficient\n",
    "  $h=2\\,{\\rm W\\,m^{-2}\\,K^{-1}}$ and the area for heat transfer\n",
    "  $A=50\\,{\\rm cm}^2$.  Note that the density of water is approximately\n",
    "  $1\\,{\\rm g\\,mL}^{-1}$, and its heat capacity is approximately\n",
    "  $4.2\\,{\\rm J\\,g^{-1}\\,K^{-1}}$.\n",
    "  \n",
    "2. If a Carnot engine is used to extract work from the hot cup of\n",
    "  water, determine how the power output of the engine varies with\n",
    "  time.  Assume that the values of $h$ and $A$ remain the same as\n",
    "  before.\n"
   ]
  },
  {
   "cell_type": "code",
   "execution_count": null,
   "metadata": {},
   "outputs": [],
   "source": []
  },
  {
   "cell_type": "markdown",
   "metadata": {},
   "source": [
    "## Question 3"
   ]
  },
  {
   "cell_type": "markdown",
   "metadata": {},
   "source": [
    "### Part 1\n",
    "\n",
    "Flywheels can be used to create mechanical batteries:\n",
    "- [The Mechanical Battery Explained - A Flywheel Comeback?](https://www.youtube.com/watch?v=8X2U7bDNcPM)\n",
    "- [Flywheel Battery](https://www.youtube.com/watch?v=yhu3s1ut3wM)\n",
    "- [The Mechanical Battery](https://www.youtube.com/watch?v=_QLEERYS5C8)\n",
    "\n",
    "We want to create a mechanical battery which stores energy in the form\n",
    "of the rotational kinetic energy of a disk.  Determine kinetic energy\n",
    "of a solid disk with radius $R$ and thickness $H$ that is spinning\n",
    "at an angular velocity $\\dot{\\theta}$.  Assume that the disk is made of\n",
    "a material of density $\\rho$.\n",
    "\n",
    "Recall that the velocity of a point a distance $r$ from the center of\n",
    "rotation is $v=\\dot{\\theta} r$.  The kinetic energy $E_{\\rm kin}$ of\n",
    "an object of mass $m$ moving at speed $v$ is given by\n",
    "\\begin{align*}\n",
    "E_{\\rm kin}\n",
    "&= \\frac{1}{2} m v^2\n",
    ".\n",
    "\\end{align*}"
   ]
  },
  {
   "cell_type": "code",
   "execution_count": null,
   "metadata": {},
   "outputs": [],
   "source": []
  },
  {
   "cell_type": "markdown",
   "metadata": {},
   "source": [
    "### Part 2\n",
    "\n",
    "We want to try to create a kinetic energy regeneration system for a\n",
    "bicycle, like in [Flywheel Bike KERS](https://www.youtube.com/watch?v=gahKxbwUcYw).\n",
    "\n",
    "Estimate the energy required to accelerate a person and his/her\n",
    "bicycle from rest to a speed of $10\\,{\\rm mph}$.  Assuming that the\n",
    "flywheel is a solid steel disk with a radius of $15\\,{\\rm cm}$ and a\n",
    "thickness of $1\\,{\\rm cm}$, what is the minimal theoretical rotational\n",
    "speed of the disk, in rpm, required accelerate the bicycle?"
   ]
  },
  {
   "cell_type": "code",
   "execution_count": null,
   "metadata": {},
   "outputs": [],
   "source": []
  },
  {
   "cell_type": "markdown",
   "metadata": {},
   "source": [
    "## Question 4"
   ]
  },
  {
   "cell_type": "markdown",
   "metadata": {},
   "source": [
    "Evaluate the following integrals analytically (possibly with help from\n",
    "an integral table) and using sympy:\n",
    "\n",
    "1. $\\displaystyle\n",
    "\\int \\frac{dx}{\\sqrt{2-3x}}  \n",
    "$\n",
    "\n",
    "2. $\\displaystyle\n",
    "\\int \\frac{dx}{\\sqrt{3x^2-2}}  \n",
    "$\n",
    "\n",
    "3. $\\displaystyle\n",
    "\\int \\frac{dx}{x^2\\sqrt{x^2-2}}  \n",
    "$\n",
    "\n",
    "4. $\\displaystyle\n",
    "\\int dx\\,\\sqrt{x^2-2}\n",
    "$\n",
    "\n",
    "5. $\\displaystyle\n",
    "\\int \\frac{dx}{x^2+4x+3}  \n",
    "$\n"
   ]
  },
  {
   "cell_type": "code",
   "execution_count": null,
   "metadata": {},
   "outputs": [],
   "source": []
  }
 ],
 "metadata": {
  "kernelspec": {
   "display_name": "Python 3",
   "language": "python",
   "name": "python3"
  },
  "language_info": {
   "codemirror_mode": {
    "name": "ipython",
    "version": 3
   },
   "file_extension": ".py",
   "mimetype": "text/x-python",
   "name": "python",
   "nbconvert_exporter": "python",
   "pygments_lexer": "ipython3",
   "version": "3.9.6"
  }
 },
 "nbformat": 4,
 "nbformat_minor": 4
}
