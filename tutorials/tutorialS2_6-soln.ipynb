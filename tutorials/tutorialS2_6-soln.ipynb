{
 "cells": [
  {
   "cell_type": "markdown",
   "metadata": {},
   "source": [
    "# CP213: Tutorial Notebook S2 Week 6"
   ]
  },
  {
   "cell_type": "markdown",
   "metadata": {},
   "source": [
    "## Question 1\n",
    "Derive the Maclaurin series expansion for $\\ln{(1+x)}$ and hence evaluate\n",
    "\n",
    "\\begin{align*}\n",
    "    \\lim_{x\\to 0} \\frac{x - \\ln{(x+1)}}{x^2}.\n",
    "\\end{align*}"
   ]
  },
  {
   "cell_type": "markdown",
   "metadata": {},
   "source": [
    "## Model Solutions for Question 1\n",
    "\n",
    "\\begin{align*}\n",
    "    P(x) &= f(0) + \\frac{f'(0)}{1!}x + \\frac{f''(0)}{2!}x^2 + \\frac{f'''(0)}{3!}x^3 +...\n",
    "\\end{align*}\n",
    "\n",
    "Let's take the derive the derivatives to the fifth order term to  get a feel for the pattern of the polynomial.\n",
    "\n",
    "\\begin{align*}\n",
    "    f(x) &=\\ln(1+x) \\rightarrow f(0) = 0\\\\\n",
    "    f'(x) &= (1+x)^{-1} \\rightarrow f'(0) = 1 \\\\\n",
    "    f''(x)  &= -1(1+x)^{-2}\\rightarrow f''(0) = -1\\\\\n",
    "    f'''(x) &=2\\cdot 1(1+x)^{-3} \\rightarrow f'''(0) = 2\\cdot 1\\\\\n",
    "    f^{(4)}(x) &= -3 \\cdot 2 \\cdot 1(1+x)^{-4} \\rightarrow f'''(0) = -3\\cdot 2\\cdot 1\\\\\n",
    "    f^{(5)}(x) &= 4\\cdot 3 \\cdot 2 \\cdot 1(1+x)^{-5} \\rightarrow f'''(0) = 4\\cdot 3\\cdot 2\\cdot 1\n",
    "\\end{align*}\n",
    "\n",
    "Therefore the polynomial expansion for the first four terms is given by:\n",
    "\\begin{align*}\n",
    "    P(x) &= x - \\frac{x^2}{2} + \\frac{x^3}{3} - \\frac{x^4}{4} + \\frac{x^5}{5}\n",
    "\\end{align*}\n",
    "Evaluating the limit:\n",
    "\\begin{align*}\n",
    "    \\lim_{x\\to 0} \\frac{x - \\ln{(x+1)}}{x^2} &= \\lim_{x\\to 0} \\frac{x - \\left( x - \\frac{x^2}{2} + \\frac{x^3}{3} - \\frac{x^4}{4} + \\frac{x^5}{5} \\right)}{x^2}\\\\\n",
    "            &= \\lim_{x\\to 0} \\frac{ \\frac{x^2}{2} - \\frac{x^3}{3} + \\frac{x^4}{4} - \\frac{x^5}{5}}{x^2}\\\\\n",
    "            &= \\lim_{x\\to 0} \\left(\\frac{1}{2} - \\frac{x}{3} + \\frac{x^2}{4} - \\frac{x^3}{5} \\right)\\\\\n",
    "            &= \\frac{1}{2}\n",
    "\\end{align*}"
   ]
  },
  {
   "cell_type": "code",
   "execution_count": 12,
   "metadata": {},
   "outputs": [
    {
     "name": "stdout",
     "output_type": "stream",
     "text": [
      "limit = 1/2\n"
     ]
    }
   ],
   "source": [
    "import sympy as sp\n",
    "\n",
    "x = sp.symbols('x')\n",
    "\n",
    "lim = sp.limit((x - sp.ln(x+1))/x**2, x, 0)\n",
    "print(f'limit = {lim}')"
   ]
  },
  {
   "cell_type": "markdown",
   "metadata": {},
   "source": [
    "## Question 2\n",
    "Determine the taylor polynomial of $f(x)=\\sqrt[3]{x^2}$ centred at $a=1$ up to the third order term. Hence, approximate the value $=\\sqrt[3]{(1.2)^2}$ and the associated maximum error."
   ]
  },
  {
   "cell_type": "markdown",
   "metadata": {},
   "source": [
    "## Model Solutions for Question 2\n",
    "The third order polynomial centred around $x=a$ is given by:\n",
    "\n",
    "\\begin{align*}\n",
    "        P_3(x) &= f(a) + \\frac{f'(a)}{1!}(x-a) + \\frac{f''(a)}{2!}(x-a)^2 + \\frac{f'''(a)}{3!}(x-a)^3\n",
    "        \\end{align*}\n",
    "        \n",
    "As usual, take the derivatives, but this time evaluating at $x=a=1$. Note, that we take the fourth order term too as that will be important for the error determination.\n",
    "\n",
    "\\begin{align*}\n",
    "    f(x) &= x^{\\frac{2}{3}} \\rightarrow f(1) = 1\\\\\n",
    "    f'(x) &= \\frac{2}{3}x^{-\\frac{1}{3}} \\rightarrow f(1) = \\frac{2}{3}\\\\\n",
    "    f''(x) &= -\\frac{2}{9}x^{-\\frac{4}{3}} \\rightarrow f(1) = -\\frac{2}{9}\\\\\n",
    "    f'''(x) &= \\frac{8}{27}x^{-\\frac{7}{3}} \\rightarrow f(1) = \\frac{8}{27}\\\\\n",
    "    f^{(4)}(x) &= -\\frac{56}{81}x^{-\\frac{10}{3}} \\rightarrow f(1) = -\\frac{56}{81}\\\\\n",
    "\\end{align*}\n",
    "    \n",
    "Hence the polynomial up to the third order term is given by:\n",
    "\n",
    "\\begin{align*}\n",
    "    P_3(x)&=1 + \\frac{2}{3}(x-1) - \\frac{1}{9}(x-1)^2 + \\frac{4}{81}(x-1)^3\\\\\n",
    "    P_3(1.2) &= 1.12928\n",
    "\\end{align*}\n",
    "    \n",
    "The maximum error for the polynomial of order 3 is given by:\n",
    "\n",
    "\\begin{align*}\n",
    "    R_3(x) &= \\frac{M}{4!}\\left|(x-a)\\right|^4\\\\\n",
    "    R_3(1.2) &= \\frac{M}{4!}\\left|(1.2-1)\\right|^4\n",
    "\\end{align*}\n",
    "\n",
    "Where $\\left|f^{(4)}(z)\\right|\\leq M$. Hence we must determine which value of $z$ maximises the absolute value of the derivative. Considering the function, we can notice that in the range of $x=1$ and $x=1.2$, the absolute value of the fourth order derivative will be at a maximum when z assumes the lowest value in the range (this is because of the negative power). This means that the maximum value is when\n",
    "\n",
    "\\begin{align*}\n",
    "    \\left| f^{(4)}(1) \\right| =\\frac{56}{81}(1)^{-\\frac{10}{3}} \\approx 0.6914.\n",
    "\\end{align*}\n",
    "    \n",
    "So the error upper bound on the error is given by\n",
    "\n",
    "\\begin{align*}\n",
    "    \\left| R_3(1.2)\\right| &= \\frac{0.6914}{4!}(0.2)^4 \\approx 0.00005\n",
    "\\end{align*}"
   ]
  },
  {
   "cell_type": "code",
   "execution_count": null,
   "metadata": {},
   "outputs": [],
   "source": []
  },
  {
   "cell_type": "markdown",
   "metadata": {},
   "source": [
    "## Question 3\n",
    "Find the mass of a laminate with surface density given by $\\rho = \\sqrt{x}$ that is bounded by $x=y^2$ and $y=x^2$."
   ]
  },
  {
   "cell_type": "markdown",
   "metadata": {},
   "source": [
    "## Model Solutions for Question 3"
   ]
  },
  {
   "cell_type": "code",
   "execution_count": 1,
   "metadata": {},
   "outputs": [
    {
     "data": {
      "text/plain": [
       "<matplotlib.collections.PolyCollection at 0x185ade08310>"
      ]
     },
     "execution_count": 1,
     "metadata": {},
     "output_type": "execute_result"
    },
    {
     "data": {
      "image/png": "[encoded data removed]",
      "text/plain": [
       "<Figure size 640x480 with 1 Axes>"
      ]
     },
     "metadata": {},
     "output_type": "display_data"
    }
   ],
   "source": [
    "%matplotlib inline\n",
    "import matplotlib.pyplot as plt\n",
    "import numpy as np\n",
    "import sympy as sy\n",
    "import math\n",
    "\n",
    "def f(x):\n",
    "    return x**2\n",
    "\n",
    "def g(x):\n",
    "    return np.sqrt(x)\n",
    "\n",
    "x = np.linspace(0,1,100)\n",
    "plt.plot(x, f(x))\n",
    "plt.plot(x, g(x))\n",
    "plt.text(0.8, 0.4, r'$y=x^2$', color='blue')\n",
    "plt.text(0.4, 0.8, r'$x=y^2$', color='orange')\n",
    "plt.fill_between(x, f(x), g(x), alpha = 0.2)"
   ]
  },
  {
   "cell_type": "markdown",
   "metadata": {},
   "source": [
    "The mass of the laminate is given by\n",
    "\n",
    "\\begin{align*}\n",
    "M &=\\iint\\limits_{R} \\,\\rho(x,y)\\,dA\n",
    "\\end{align*}\n",
    "\n",
    "From the sketch we can interpret one possible set of limits as:\n",
    "\n",
    "\\begin{align*}\n",
    "y^2 &\\leq x \\leq \\sqrt{y}\\\\\n",
    "0 &\\leq y \\leq 1\n",
    "\\end{align*}\n",
    "\n",
    "The mass is then\n",
    "\n",
    "\\begin{align*}\n",
    "M &=\\int_0^1\\ \\int_{y^2}^{\\sqrt{y}} \\ \\sqrt{x} \\ dx \\ dy\\\\\n",
    "&=\\int_0^1\\ \\Bigg[\\frac{2}{3}x^{\\frac{3}{2}} \\Bigg]_{y^2}^{\\sqrt{y}} \\ dy \\\\\n",
    "&= \\int_0^1\\ \\frac{2}{3}\\left(y^{\\frac{3}{4}}- y^3 \\right) \\ dy \\\\\n",
    "&= \\Bigg[ \\frac{2}{3}\\left(\\frac{4}{7}y^{\\frac{7}{4}}- \\frac{y^4}{4} \\right)\\Bigg]_{0}^{1} \\\\\n",
    "&= \\frac{2}{3}\\left(\\frac{4}{7} - \\frac{1}{4} \\right) - 0\\\\\n",
    "&= \\frac{3}{14} \\approx 0.214\n",
    "\\end{align*}"
   ]
  },
  {
   "cell_type": "markdown",
   "metadata": {},
   "source": [
    "## Question 4\n",
    "A company specialising in $350 \\ \\rm{ml}$ cans for soft-drinks wishes to explore whether alternative dimensions to reduce material usage. Determine the dimensions of cans that would minimise material usage, stating any assumptions you have made."
   ]
  },
  {
   "cell_type": "markdown",
   "metadata": {},
   "source": [
    "## Model Solutions for Question 4\n",
    "\n",
    "One assumption we can make is that our can is a simple cylinder. It follows then that our volume, $V$, and surface area, $S$, are\n",
    "\n",
    "\\begin{align*}\n",
    "    S(r,h) &= 2\\pi r^2 + 2\\pi rh\\\\\n",
    "    V(r,h) &= \\pi r^2 h = 350\\ \\rm{cm^3}\n",
    "\\end{align*}\n",
    "\n",
    "Our surface area is the function to be minimised and the volume acts as our constraint. We can use the method of Lagrange multipliers.\n",
    "\n",
    "\\begin{align*}\n",
    "    \\nabla S(r,h) &= \\lambda \\nabla V(r,h)\n",
    "\\end{align*}\n",
    "\n",
    "Where\n",
    "\n",
    "\\begin{align*}\n",
    "    \\nabla S(r,h) &= \\left(4\\pi r + 2\\pi h\\right)\\hat{\\imath} + \\left(2\\pi r\\right)\\hat{\\jmath}\\\\\n",
    "   \\nabla V(r,h) &= 2\\pi r h\\hat{\\imath} + \\pi r^2\\hat{\\jmath}\n",
    "\\end{align*}\n",
    "\n",
    "This yields the following systems of equations to be solved:\n",
    "\\begin{align*}\n",
    "    4\\pi r + 2\\pi h &= 2\\lambda \\pi r h \\\\\n",
    "    2\\pi r &= \\lambda \\pi r^2\n",
    "    \\\\\n",
    "    \\pi r^2 h - 350 &= 0\n",
    "\\end{align*}\n",
    "\n",
    "Taking the second equation we find: \n",
    "\n",
    "\\begin{align*}\n",
    "    \\pi r(2-\\lambda r) &= 0\n",
    "\\end{align*}\n",
    "\n",
    "$r=0~\\rm{cm}$ is unphysical, therefore $r=2/\\lambda$ is a solution. Substituting $r=2/\\lambda$ into the first equation gives:\n",
    "\n",
    "\\begin{align*}\n",
    "    2\\pi \\left( \\frac{4}{\\lambda} - h\\right) =0\n",
    "\\end{align*}\n",
    "\n",
    "Hence, $h=4/\\lambda$. Finally substituting both $r=2/\\lambda$ and $h=4/\\lambda$ into the final (constraint) equation gives\n",
    "\n",
    "\\begin{align*}\n",
    "    \\lambda &=\\sqrt[3]{\\frac{16\\pi}{350}}\\\\\n",
    "    &\\approx 0.5237\n",
    "\\end{align*}\n",
    "\n",
    "Our dimensions that minimise the surface area is given by \n",
    "\n",
    "\\begin{align*}\n",
    "    r &= 3.82\\ \\rm{cm}\\\\\n",
    "    h &= 7.64\\ \\rm{cm}\n",
    "\\end{align*}"
   ]
  },
  {
   "cell_type": "code",
   "execution_count": null,
   "metadata": {},
   "outputs": [],
   "source": []
  }
 ],
 "metadata": {
  "kernelspec": {
   "display_name": "Python 3",
   "language": "python",
   "name": "python3"
  },
  "language_info": {
   "codemirror_mode": {
    "name": "ipython",
    "version": 3
   },
   "file_extension": ".py",
   "mimetype": "text/x-python",
   "name": "python",
   "nbconvert_exporter": "python",
   "pygments_lexer": "ipython3",
   "version": "3.10.9"
  },
  "vscode": {
   "interpreter": {
    "hash": "cc2a200e1e6dab10c4dc3986f0e7a998296447c993c26561a1bd050a849d8214"
   }
  }
 },
 "nbformat": 4,
 "nbformat_minor": 4
}
