{
 "cells": [
  {
   "cell_type": "markdown",
   "metadata": {},
   "source": [
    "# CP213: Model Solutions for Tutorial 7\n",
    "\n"
   ]
  },
  {
   "cell_type": "markdown",
   "metadata": {},
   "source": [
    "## Question 1\n",
    "\n",
    "\n"
   ]
  },
  {
   "cell_type": "markdown",
   "metadata": {},
   "source": [
    "A bottle rocket is constructed using a two liter soft drink bottle\n",
    "half filled with water and pressurized with air to $2\\,{\\rm barg}$.\n",
    "How does the thrust vary with time?  How many of these bottle rockets\n",
    "are required to lift a person off the ground?  Note that the force\n",
    "exerted by the ejected water is $F = \\dot{m} v$, where $v$ is the exit\n",
    "velocity of water, and $\\dot{m}$ is the mass flowrate of the water.\n",
    "The exit velocity $v$ of the water can be calculated by\n",
    "\\begin{equation*}\n",
    "  v = K\\sqrt{2\\Delta p/\\rho}\n",
    "\\end{equation*}\n",
    "where $K\\approx0.98$ is the discharge coefficient, $\\Delta p$ is the\n",
    "pressure difference between the inside and outside of the bottle, and\n",
    "$\\rho=1000\\,{\\rm kg\\,m^{-3}}$ is the density of water.\n",
    "\n",
    "Treat the 2-liter bottle as a perfect circular cylinder with a\n",
    "diameter of $110\\,{\\rm mm}$ and a circular opening of diameter\n",
    "$25\\,{\\rm mm}$.  Assume that the ambient atmospheric pressure\n",
    "$p_0=1\\,{\\rm bar}$ remains constant and that the air pressure $p$ in\n",
    "the bottle obeys the relation\n",
    "\\begin{equation*}\n",
    "  % p V^{\\gamma} = {\\rm constant}\n",
    "    p V = {\\rm constant} \n",
    "\\end{equation*}\n",
    "where $V$ is the total volume occupied by the air in the bottle.\n",
    "\n",
    "Qualitatively describe the operation of the rocket.  What is the\n",
    "purpose of putting water in the rocket (instead of just using\n",
    "pressurized air)?  Is there an optimal amount of water to put in the\n",
    "rocket?\n"
   ]
  },
  {
   "cell_type": "markdown",
   "metadata": {},
   "source": [
    "## Model solutions for Q1\n",
    "\n",
    "### Formulating the model\n",
    "\n",
    "To start off this problem, we first try understand what is physically going on in the system.  The air in the bottle is pressurized.  When the opening at the bottom of the bottle is cleared, water will start to jet out due to the pressure difference between the air inside the bottle and the outside air pressure.  As the water exits the bottle, the volume the air occupies within the bottle will increase, and, as a result, the air pressure in the bottle will decrease.  \n",
    "\n",
    "\n",
    "Next we try to enumerate the unknown quantities that we need to solve for.  The first is the mass flowrate $\\dot{m}$ of water from the bottle.  To determine this, we will need to know the pressure $p$ of the air (and water) in the bottle.  This pressure will be determined from the initial conditions of the system and the volume $V$ of the air space in the bottle.  So in all, we have three main unknowns: $\\dot{m}$, $p$, and $V$.  In order to solve for these three unknowns, we need three equations.  \n",
    "\n",
    "The first equation is the relationship between the air pressure in the bottle and the volume of the air space\n",
    "\\begin{align*}\n",
    "  p(t) V(t)\n",
    "  &= p_1 V_1\n",
    "  \\\\\n",
    "  p(t) \n",
    "  &= \\frac{p_1 V_1  }{V(t)}\n",
    "\\end{align*}\n",
    "where $p_1=2\\,{\\rm barg}=3\\,{\\rm bara}$ is the initial pressure in the bottle, and $V_1$ is the initial volume of air in the bottle, which will depend on the amount of water we initially fill the bottle with.  This equation allows us to write $p(t)$ in terms of $V(t)$.\n",
    "\n",
    "The second equation is the valve equation, which relates the velocity at which the water exits the bottle to the pressure difference across the nozzle\n",
    "\\begin{equation*}\n",
    "  v = K\\sqrt{2\\Delta p/\\rho}.\n",
    "\\end{equation*}\n",
    "where for our problem $\\Delta p=p(t)-p_0$.  This equation allows us to write the mass flowrate of water from the bottle to the air pressure inside the bottle:\n",
    "\\begin{align*}\n",
    "\\dot{m} &= \\rho v A_0\n",
    "\\\\\n",
    "&= \\rho A_0 K\\sqrt{2(p(t)-p_0)/\\rho}.\n",
    "\\end{align*}\n",
    "\n",
    "The third and final equation is the mass balance over the bottle.  Let $M$ be the mass of the bottle and the air within it.  The mass of water in the bottle is $\\rho(V_0-V)$.  The differential mass balance is then\n",
    "\\begin{align*}\n",
    "\\frac{d}{dt}[M + \\rho(V_0-V)] &= -\\dot{m}\n",
    "\\\\\n",
    "-\\rho\\frac{dV}{dt}\n",
    "&= - \\rho A_0 K\\sqrt{2(p(t)-p_0)/\\rho}\n",
    "  \\\\\n",
    "\\frac{dV}{dt} \n",
    "&= KA_0\\sqrt{\\frac{2 (p(t)-p_0)}{\\rho}} \n",
    "  \\\\\n",
    "  &= KA_0 \\sqrt{\\frac{2 (p_1V_1/V(t)-p_0)}{\\rho}} \n",
    "  \\\\\n",
    "  &= KA_0 \\sqrt{\\frac{2p_0}{\\rho}}\n",
    "    \\sqrt{\\frac{p_1V_1}{p_0V(t)} - 1} \n",
    ".\n",
    "\\end{align*}\n",
    "This gives us an equation that we can solve for the volume of air in the bottle.  Once we know $V(t)$, we can then determine all the other properties of the system."
   ]
  },
  {
   "cell_type": "markdown",
   "metadata": {},
   "source": [
    "### Analyzing the model\n",
    "\n",
    "To simplify the equation, we can define a dimensionless volume $y$ as\n",
    "\\begin{align*}\n",
    "  y &= \\frac{p_0V(t)}{p_1V_1}.\n",
    "\\end{align*}\n",
    "This dimensionless variable is also directly related to the pressure\n",
    "in the bottle rocket, through the relation:\n",
    "\\begin{align*}\n",
    "  y &= \\frac{p_0V(t)}{p_1V_1} = \\frac{p_0}{p(t)}.\n",
    "\\end{align*}\n",
    "This gives us some expectations of the range of values that the\n",
    "variable $y$ can have.  We know that initially the pressure in the\n",
    "bottle rocket must be greater than the atmospheric pressure.  This\n",
    "means that the initial value of $y$ should be less than one.  As water\n",
    "is ejected from the rocket, the pressure should gradually decrease,\n",
    "which implies that $y$ will increase.  The lowest value of $p$ should\n",
    "be the atmospheric pressure $p_0$; in this case, $y=1$.  So we expect\n",
    "that $y$ should start as a number less than $1$ and monotonically\n",
    "increase to a value of $1$ as time progresses.  However, if there is insufficient water in the bottle, then the bottle may become empty of water before the air pressure reaches atmospheric pressure; in this case, the solution will stop before $y$ reaches $1$.\n",
    "\n",
    "Introducing this into the differential equation, we have\n",
    "\\begin{align*}\n",
    "  \\frac{dy}{dt}\n",
    "  &= KA_0 \\sqrt{\\frac{2p_0}{\\rho}}\n",
    "    \\sqrt{\\frac{1}{y} - 1}\n",
    "  \\\\\n",
    "  (y^{-1} - 1)^{-1/2}\\frac{dy}{dt}    \n",
    "  &= K\\frac{p_0A_0}{p_1V_1} \\sqrt{\\frac{2p_0}{\\rho}} \n",
    "\\end{align*}\n",
    "This suggests that we introduce a time scale $\\tau$\n",
    "\\begin{align*}\n",
    "  \\tau &= \\frac{p_1V_1}{Kp_0A_0} \\sqrt{\\frac{\\rho}{2p_0}} ,\n",
    "\\end{align*}\n",
    "with an associated dimensionless time $x=t/\\tau$.  The differential\n",
    "equation then simplifies to:\n",
    "\\begin{align*}\n",
    "  \\left(\\frac{y}{1-y}\\right)^{1/2}\\frac{dy}{dx}    \n",
    "  &= 1\n",
    "\\end{align*}\n",
    "with an initial condition $y(0)=p_0/p_1$."
   ]
  },
  {
   "cell_type": "code",
   "execution_count": 5,
   "metadata": {},
   "outputs": [
    {
     "name": "stdout",
     "output_type": "stream",
     "text": [
      "tau = 0.4409712568932764 s\n"
     ]
    }
   ],
   "source": [
    "import numpy as np\n",
    "\n",
    "p1 = (1.0 + 2.0)*1.0e5  # initial pressure inside bottle / Pa\n",
    "Vwater = 1.0e-3 # initial volume of water in bottle / m^3\n",
    "V0 = 2.0e-3  # total volume of bottle / m^3\n",
    "V1 = V0 - Vwater\n",
    "K = 0.98\n",
    "rho = 1000.0 # density of water / kg m^{-3}\n",
    "A0 = 0.25*np.pi*(25.0e-3)**2\n",
    "p0 = 1.0e5 # environmental pressure / Pa\n",
    "\n",
    "tau = p1*V1/(Cd*p0*A0) * np.sqrt(rho/(2.0*p0))\n",
    "\n",
    "print(f'tau = {tau} s')\n"
   ]
  },
  {
   "cell_type": "markdown",
   "metadata": {},
   "source": [
    "### Estimating the thrust\n",
    "\n",
    "Before we attempt to solve the model, let's see how much insight we can extract from dimensional analysis.  The thrust of the rocket\n",
    "\\begin{align*}\n",
    "  F\n",
    "  &= \\dot{m} v = \\rho (vA_0) v = \\rho A_0 v^2\n",
    "  \\\\\n",
    "  &= \\rho A_0 K^2\\frac{2\\Delta p}{\\rho}\n",
    "  \\\\\n",
    "  &=  K^2(2\\Delta p)A_0\n",
    "  \\\\\n",
    "  &= 2 K^2(p(t)-p_0) A_0\n",
    "\\end{align*}\n",
    "Interestingly, the thrust is equal the the product of the pressure\n",
    "difference between the air in the bottle and the pressure of the\n",
    "atmosphere times the area of the nozzle.\n",
    "\n",
    "In terms of dimensionless variables, this can be rewritten as\n",
    "\\begin{align*}\n",
    "F &= 2 K^2p_0A_0 \\left(\\frac{p(t)}{p_0}-1\\right)\n",
    "  \\\\\n",
    "  &=  2 K^2p_0A_0 \\left(y^{-1}-1\\right)\n",
    "  \\\\\n",
    "  &=  F_0 \\left(\\frac{1-y}{y}\\right)\n",
    "\\end{align*}\n",
    "where $F_0=2 K^2p_0A_0$ gives a characteristic magnitude to the thrust.\n",
    "\n"
   ]
  },
  {
   "cell_type": "code",
   "execution_count": 19,
   "metadata": {},
   "outputs": [
    {
     "name": "stdout",
     "output_type": "stream",
     "text": [
      "A_0 = 0.0004908738521234052 m^2\n",
      "F_0 = 94.28704951586366 N\n"
     ]
    }
   ],
   "source": [
    "import numpy as np\n",
    "import pylab as plt\n",
    "\n",
    "\n",
    "K = 0.98\n",
    "p0 = 1.0e5  # environmental pressure / Pa\n",
    "A0 = np.pi * 25.0e-3**2 / 4.0 # area of opening / m^2\n",
    "V0 = 2.0e-3 # total volume in bottle / m^3\n",
    "\n",
    "F0 = 2.0*K**2*p0*A0\n",
    "\n",
    "print(f'A_0 = {A0} m^2')\n",
    "print(f'F_0 = {F0} N')"
   ]
  },
  {
   "cell_type": "markdown",
   "metadata": {},
   "source": [
    "### Solving the differential equation\n",
    "\n",
    "In order to solve the differential equation, we need to evaluate the integral\n",
    "\\begin{align*}\n",
    "\\int dy\\, \\left(\\frac{y}{1-y}\\right)^{1/2}.\n",
    "\\end{align*}\n",
    "This can be done analytically by performing the variable substitution $y=\\sin^{2}\\theta$, so that $dy=2\\sin\\theta\\cos\\theta d\\theta$\n",
    "\\begin{align*}\n",
    "\\int dy\\, \\left(\\frac{y}{1-y}\\right)^{1/2}\n",
    "&= \\int 2\\sin\\theta\\cos\\theta d\\theta \n",
    "\\left(\\frac{\\sin^{2}\\theta}{1-\\sin^{2}\\theta}\\right)^{1/2}\n",
    "\\\\\n",
    "&= \\int 2\\sin\\theta\\cos\\theta d\\theta \n",
    "\\left(\\frac{\\sin^{2}\\theta}{\\cos^{2}\\theta}\\right)^{1/2}\n",
    "\\\\\n",
    "&= \\int 2\\sin\\theta\\cos\\theta d\\theta \n",
    "\\frac{\\sin\\theta}{\\cos\\theta}\n",
    "= 2\\int \\sin^2\\theta d\\theta\n",
    "\\\\\n",
    "&= \\int d\\theta (1-\\cos 2\\theta)\n",
    "= \\theta - \\frac{1}{2}\\sin 2\\theta + C\n",
    "\\\\\n",
    "&= \\theta - \\sin\\theta\\cos\\theta + C\n",
    "\\\\\n",
    "&= \\theta - \\sin\\theta (1-\\sin^2\\theta)^{1/2} + C\n",
    "\\\\\n",
    "&= \\arcsin\\,y^{1/2} - [y (1-y)]^{1/2} + C\n",
    "\\end{align*}\n",
    "\n",
    "We can also try to get `sympy` to perform the integral for us.  Here we see that we need to do some manipulation before we can get it to output a useful answer."
   ]
  },
  {
   "cell_type": "code",
   "execution_count": 10,
   "metadata": {},
   "outputs": [
    {
     "data": {
      "text/latex": [
       "$\\displaystyle \\begin{cases} - i \\sqrt{y} \\sqrt{y - 1} - i \\operatorname{acosh}{\\left(\\sqrt{y} \\right)} & \\text{for}\\: \\left|{y}\\right| > 1 \\\\\\frac{y^{\\frac{3}{2}}}{\\sqrt{1 - y}} - \\frac{\\sqrt{y}}{\\sqrt{1 - y}} + \\operatorname{asin}{\\left(\\sqrt{y} \\right)} & \\text{otherwise} \\end{cases}$"
      ],
      "text/plain": [
       "Piecewise((-I*sqrt(y)*sqrt(y - 1) - I*acosh(sqrt(y)), Abs(y) > 1), (y**(3/2)/sqrt(1 - y) - sqrt(y)/sqrt(1 - y) + asin(sqrt(y)), True))"
      ]
     },
     "execution_count": 10,
     "metadata": {},
     "output_type": "execute_result"
    }
   ],
   "source": [
    "import sympy as sp\n",
    "\n",
    "y = sp.symbols('y')\n",
    "sp.integrate(sp.sqrt(y/(1-y)), y)\n",
    "\n",
    "sp.integrate(1/sp.sqrt(1/y-1),y)"
   ]
  },
  {
   "cell_type": "markdown",
   "metadata": {},
   "source": [
    "The solution of the differential equation is then\n",
    "\\begin{align*}\n",
    "  \\arcsin y^{1/2}\n",
    "  - [y(1-y)]^{1/2} &= x + C\n",
    "%    \\arctan \\left(\\frac{y}{1-y}\\right)^{1/2}\n",
    "%  - [y(1-y)]^{1/2} &= x + C\n",
    "\\end{align*}\n",
    "where $C$ is an integration constant.  The value of the integration\n",
    "constant can be determined from the\n",
    "\\begin{align*}\n",
    "  0 + C\n",
    "  &=\n",
    "  \\arcsin \\left(\\frac{p_0}{p_1}\\right)^{1/2}\n",
    "  - [(1-p_0/p_1)p_0/p_1]^{1/2}\n",
    "  \\\\\n",
    "  C &=\n",
    "  \\arcsin \\left(\\frac{p_0}{p_1}\\right)^{1/2}\n",
    "  - [(1-p_0/p_1)p_0/p_1]^{1/2}\n",
    "\\end{align*}\n",
    "\n",
    "The rocket will stop functioning when $y(t)=1$, which is when the\n",
    "pressure within the bottle is equal to the external atmospheric\n",
    "pressure (i.e. $p(t)=p_0$).\n",
    "\\begin{align*}\n",
    "  \\frac{\\pi}{2} &= x_f + C\n",
    "  \\\\\n",
    "  x_f &= \\frac{\\pi}{2} -   \\arcsin\\left(\\frac{p_0}{p_1}\\right)^{1/2}\n",
    "  + [(1-p_0/p_1)p_0/p_1]^{1/2}\n",
    "\\end{align*}"
   ]
  },
  {
   "cell_type": "code",
   "execution_count": 6,
   "metadata": {},
   "outputs": [
    {
     "data": {
      "image/png": "[encoded data removed]",
      "text/plain": [
       "<Figure size 432x288 with 1 Axes>"
      ]
     },
     "metadata": {
      "needs_background": "light"
     },
     "output_type": "display_data"
    },
    {
     "data": {
      "image/png": "[encoded data removed]",
      "text/plain": [
       "<Figure size 432x288 with 1 Axes>"
      ]
     },
     "metadata": {
      "needs_background": "light"
     },
     "output_type": "display_data"
    }
   ],
   "source": [
    "import numpy as np\n",
    "import pylab as plt\n",
    "\n",
    "\n",
    "p1 = (2.0+1.0)*1.0e5 # initial pressure / Pa\n",
    "y0 = p0 / p1\n",
    "\n",
    "def get_x(y):\n",
    "    C = np.arcsin(y0) - np.sqrt(y0*(1-y0))\n",
    "    return np.arcsin(y) - np.sqrt(y*(1-y)) - C\n",
    "\n",
    "npoints = 100\n",
    "dy = (1.0-y0) / npoints\n",
    "y_data = np.arange(y0, 1.0, dy)\n",
    "x_data = [get_x(y) for y in y_data]\n",
    "yinv_data = [1.0/y for y in y_data]\n",
    "\n",
    "#plt.plot(x_data, y_data)\n",
    "#plt.xlabel(r'$t/\\tau$')\n",
    "#plt.ylabel(r'$p_0/p(t)$')\n",
    "#plt.show()\n",
    "\n",
    "\n",
    "plt.plot(x_data, yinv_data)\n",
    "plt.xlabel(r'$t/\\tau$')\n",
    "plt.ylabel(r'$p(t)/p_0$')\n",
    "plt.show()\n",
    "\n",
    "F_data = [(1-y)/y for y in y_data]\n",
    "plt.plot(x_data, F_data)\n",
    "plt.xlabel(r'$t / \\tau$')\n",
    "plt.ylabel(r'$F/F_0$')\n",
    "plt.show()"
   ]
  },
  {
   "cell_type": "code",
   "execution_count": null,
   "metadata": {},
   "outputs": [],
   "source": []
  },
  {
   "cell_type": "code",
   "execution_count": null,
   "metadata": {},
   "outputs": [],
   "source": []
  },
  {
   "cell_type": "markdown",
   "metadata": {},
   "source": [
    "## Question 2"
   ]
  },
  {
   "cell_type": "markdown",
   "metadata": {},
   "source": [
    "A pollutant species is found to undergo a first order decomposition\n",
    "reaction, where the rate of decay of its concentration $c$ is\n",
    "proportional\n",
    "\\begin{align*}\n",
    "  \\frac{dc}{dt} = - k c\n",
    "\\end{align*}\n",
    "where $k$ is a rate constant that has the units of inverse time.\n",
    "Experimental measurements on the system are given in the table below:\n",
    "\n",
    "    \n",
    "|  $t / {\\rm s}$ |$0     $|$ 10    $|$ 20    $|$ 30    $|$ 40$    |\n",
    "| :-- | --: | --: | --: | --: | --: |\n",
    "|  $c / {\\rm M}$ |$0.167 $|$ 0.126 $|$ 0.095 $|$ 0.072 $|$ 0.054$ |\n",
    "\n",
    "\n",
    "\n",
    "1. Determine how the concentration of the pollutant species is expected to vary with time (i.e. find the function $c(t)$).  Assume that the concentration of the species at time $t=0$ is $c_0$.\n",
    "\n",
    "2. Graph the experimental data in the table above in a form to\n",
    "  obtain a linear relation that can be used to obtain an estimate for\n",
    "  $k$ (Hint: Use a semilog plot).\n",
    "  \n",
    "3. A $0.2\\,{\\rm M}$ solution is fed to a tubular reactor of inner\n",
    "  radius $R=1\\,{\\rm mm}$ and length $L=1\\,{\\rm m}$.  The velocity profile\n",
    "  within the reactor is given by\n",
    "  \\begin{align*}\n",
    "    v(r) &= 2v_0\\left(1-\\frac{r^2}{R^2}\\right)\n",
    "  \\end{align*}\n",
    "  where $r$ is the distance from the center-line of the tube, and\n",
    "  $v_0=1\\,{\\rm cm\\,s}^{-1}$.  Determine the (mean) concentration of\n",
    "  the solution that exits the reactor.  (Hint: First determine the\n",
    "  concentration profile across the cross-section of the exiting plane\n",
    "  of the reactor and then use the trapezoid rule to estimate the\n",
    "  average).\n",
    "  \n"
   ]
  },
  {
   "cell_type": "markdown",
   "metadata": {},
   "source": [
    "## Model solution for Q2\n",
    "\n",
    "### Part 1:\n",
    "\n",
    "This is a simple separable differential equation, which we solve by first multiplying both sides of the equation by $dt$ and then isolating variables:\n",
    "\\begin{align*}\n",
    "dc &= - kcdt\n",
    "\\\\\n",
    "\\frac{dc}{c} &= -k dt\n",
    "\\\\\n",
    "\\ln c &= -k t + C\n",
    "\\end{align*}\n",
    "where $C$ is an unknown integration constant, which can be determined from the initial condition (i.e. $c(0)=c_0$).  From this, we find\n",
    "\\begin{align*}\n",
    "\\ln c_0 &= -k (0) + C\n",
    "\\\\\n",
    "C &= \\ln c_0\n",
    "\\end{align*}\n",
    "Substituting this back into the solution for the differential equation, we arrive at:\n",
    "\\begin{align*}\n",
    "\\ln c(t) &= -k t + \\ln c_0\n",
    "\\\\\n",
    "c(t) &= c_0 e^{-k t}.\n",
    "\\end{align*}\n"
   ]
  },
  {
   "cell_type": "markdown",
   "metadata": {},
   "source": [
    "### Part 2:\n",
    "\n",
    "From our expression for the variation of the pollutant concentration with time, we find:\n",
    "\\begin{align*}\n",
    "\\ln c(t) &= \\ln c_0 - k t\n",
    "\\end{align*}\n",
    "This means that if we plot the logarithm of the pollutant concentration with time, this should yield a straight line with intercept $\\ln c_0$ and slope $-k$.  Let's plot the concentration of the pollutant  against time on a semilog plot."
   ]
  },
  {
   "cell_type": "code",
   "execution_count": 16,
   "metadata": {
    "scrolled": true
   },
   "outputs": [
    {
     "data": {
      "image/png": "[encoded data removed]",
      "text/plain": [
       "<Figure size 432x288 with 1 Axes>"
      ]
     },
     "metadata": {
      "needs_background": "light"
     },
     "output_type": "display_data"
    }
   ],
   "source": [
    "import pylab as plt\n",
    "\n",
    "t_data = [0     , 10    , 20    , 30    , 40    ]\n",
    "c_data = [0.167 , 0.126 , 0.095 , 0.072 , 0.054 ]\n",
    "\n",
    "plt.plot(t_data, c_data, 'o')\n",
    "\n",
    "plt.xlabel('time / seconds')\n",
    "plt.ylabel('$c(t)$ / M')\n",
    "plt.yscale('log')\n",
    "\n",
    "plt.show()"
   ]
  },
  {
   "cell_type": "markdown",
   "metadata": {},
   "source": [
    "This looks suspiciously linear... must be a setup.  In any case, we can try to fit a line through these data to find a value for the reaction rate constant $k$:\n"
   ]
  },
  {
   "cell_type": "code",
   "execution_count": 17,
   "metadata": {},
   "outputs": [
    {
     "name": "stdout",
     "output_type": "stream",
     "text": [
      "k = 0.028176353196403853 s^-1\n"
     ]
    }
   ],
   "source": [
    "from scipy.stats import linregress\n",
    "\n",
    "lnc_data = [np.log(c) for c in c_data]\n",
    "\n",
    "slope, intercept, r_value, p_value, std_err = linregress(t_data, lnc_data)\n",
    "k = -slope\n",
    "print(f'k = {k} s^{-1}')"
   ]
  },
  {
   "cell_type": "markdown",
   "metadata": {},
   "source": [
    "### Part 3:\n",
    "\n",
    "The concentration of pollutant decreases with time.  The time that a solution spends in the reactor depends on $r$, its distance from the center of the pipe.  This time is equal to $t=L/v(r)$, where $L$ is the length of the reactor.  The corresponding exit concentration is then $c(t)=c_0e^{-kL/v(r)}$, which is the concentration profile exiting the pipe.  So then this allows us to get the concentration profile of the pollutant across the pipe at its exit:\n",
    "\\begin{align*}\n",
    "c(r) &= c_0e^{-kL/v(r)}\n",
    ".\n",
    "\\end{align*}\n",
    "\n",
    "\n",
    "\n",
    "\n"
   ]
  },
  {
   "cell_type": "code",
   "execution_count": 18,
   "metadata": {},
   "outputs": [
    {
     "data": {
      "image/png": "[encoded data removed]",
      "text/plain": [
       "<Figure size 432x288 with 1 Axes>"
      ]
     },
     "metadata": {
      "needs_background": "light"
     },
     "output_type": "display_data"
    }
   ],
   "source": [
    "import numpy as np\n",
    "import pylab as plt\n",
    "\n",
    "def v(r):\n",
    "    v0 = 1.0e-2\n",
    "    x = r/R\n",
    "    return 2.0*v0*(1.0-x**2)\n",
    "\n",
    "def c(r):\n",
    "    c0 = 0.2\n",
    "    L = 1.0\n",
    "    t = k*L/v(r)\n",
    "    #print(t)\n",
    "    return c0*np.exp(-t)\n",
    "\n",
    "R = 1.0e-3\n",
    "npoints = 100.0\n",
    "dr = R / npoints\n",
    "r_data = np.arange(0.0, R, dr)\n",
    "c_data = [c(r) for r in r_data]\n",
    "\n",
    "\n",
    "plt.plot(r_data, c_data)\n",
    "plt.show()"
   ]
  },
  {
   "cell_type": "markdown",
   "metadata": {},
   "source": [
    "## Question 3\n",
    "\n",
    "Solve the following differential equations:\n",
    "\n",
    "1.\n",
    "  $\\displaystyle\n",
    "    \\frac{dy}{dx} = \\frac{y}{x} + \\tan\\left(\\frac{y}{x}\\right)\n",
    "  $\n",
    "  \n",
    "2.\n",
    "  $\\displaystyle\n",
    "    \\frac{dy}{dx} = \\frac{x+y}{x-y}\n",
    "  $\n",
    "  \n",
    "3.\n",
    "  $\\displaystyle \n",
    "\\frac{dy}{dx} = \\frac{y(x+y)}{x(x-y)}\n",
    "  $\n",
    "  \n",
    "4.\n",
    "  $\\displaystyle\n",
    "\\frac{dy}{dx} = \\frac{2y}{x} + \\frac{x}{y}\n",
    "  $\n",
    "  where $y(1)=2$.  Plot a comparison between your analytical solution and a numerical solution.\n"
   ]
  },
  {
   "cell_type": "markdown",
   "metadata": {},
   "source": [
    "## Model solution for Q3\n",
    "\n",
    "All these equations are \"homogeneous\" first order differential equations, which are of the general form\n",
    "\\begin{align*}\n",
    "\\frac{dy}{dx} &= f\\left(\\frac{y}{x}\\right)\n",
    "\\end{align*}\n",
    "The method to solve these is to make the substitution:\n",
    "\\begin{align*}\n",
    "v(x) &= \\frac{y(x)}{x},\n",
    "\\end{align*}\n",
    "which implies \n",
    "\\begin{align*}\n",
    "y(x) &= \n",
    "\\\\\n",
    "\\frac{dy}{dx} &= v(x) + x\\frac{dv}{dx}.\n",
    "\\end{align*}\n",
    "This then leads to\n",
    "\\begin{align*}\n",
    "v(x) + x\\frac{dv}{dx} &= f(v)\n",
    "\\\\\n",
    "\\frac{1}{f(v)-v} \\frac{dv}{dx} &= \\frac{1}{x}\n",
    "\\end{align*}\n",
    "which is separable:\n",
    "\\begin{align*}\n",
    "\\frac{dv}{f(v)-v} &= \\frac{dx}{x}\n",
    ".\n",
    "\\end{align*}\n",
    "\n",
    "### Part 1:\n",
    "\n",
    "In this case, we find\n",
    "\\begin{align*}\n",
    "f(v) &= v + \\tan v\n",
    "\\\\\n",
    "f(v) - v &= \\tan v\n",
    "\\end{align*}\n",
    "We then need to integrate\n",
    "\\begin{align*}\n",
    "\\frac{dv}{\\tan v} &= \\frac{dx}{x}\n",
    "\\\\\n",
    "\\ln |\\sin v| &= \\ln |x| + C\n",
    "\\\\\n",
    "\\ln \\left|\\sin\\frac{y(x)}{x}\\right| &= \\ln|x| + C\n",
    "\\end{align*}"
   ]
  },
  {
   "cell_type": "markdown",
   "metadata": {},
   "source": [
    "### Part 2:\n",
    "\n",
    "In this case, we find\n",
    "\\begin{align*}\n",
    "f(v) &= \\frac{1+v}{1-v}\n",
    "\\\\\n",
    "f(v) - v &= \\frac{1+v}{1-v} - v \n",
    "= \\frac{1+v - (1-v)v}{1-v}\n",
    "= \\frac{1-v^2}{1-v} = 1+v\n",
    "\\end{align*}\n",
    "We then need to integrate\n",
    "\\begin{align*}\n",
    "\\frac{dv}{1+v} &= \\frac{dx}{x}\n",
    "\\\\\n",
    "\\ln |1+v| &= \\ln |x| + C\n",
    "\\\\\n",
    "\\ln \\left|1+\\frac{y(x)}{x}\\right| &= \\ln|x| + C\n",
    "\\\\\n",
    "\\left|1+\\frac{y(x)}{x}\\right| &= |x| e^C\n",
    "\\end{align*}"
   ]
  },
  {
   "cell_type": "markdown",
   "metadata": {},
   "source": [
    "### Part 3:\n",
    "\n",
    "In this case, we find\n",
    "\\begin{align*}\n",
    "f(v) &= v + \\frac{v(1+v)}{1-v}\n",
    "\\\\\n",
    "f(v) - v &= \\frac{v(1+v)}{1-v} -v\n",
    "=  \\frac{v(1+v)-v(1-v)}{1-v}\n",
    "= \\frac{2v^2}{1-v}\n",
    "\\end{align*}\n",
    "We then need to integrate\n",
    "\\begin{align*}\n",
    "(1-v)\\frac{dv}{2v^2} &= \\frac{dx}{x}\n",
    "\\\\\n",
    "\\frac{1}{2}(-v^{-1} - \\ln|v|) &= \\ln |x| + C\n",
    "\\\\\n",
    "-\\frac{x}{y} - \\ln \\left|y(x)\\right| &=  C\n",
    "\\end{align*}"
   ]
  },
  {
   "cell_type": "markdown",
   "metadata": {},
   "source": [
    "### Part 4:\n",
    "\n",
    "In this case, we find\n",
    "\\begin{align*}\n",
    "f(v) &= 2v + v^{-1}\n",
    "\\\\\n",
    "f(v) - v &= v + v^{-1}\n",
    "\\end{align*}\n",
    "We then need to integrate\n",
    "\\begin{align*}\n",
    "\\frac{dv}{v+v^{-1}} &= \\frac{dx}{x}\n",
    "\\\\\n",
    "\\frac{vdv}{v^2+1} &= \\frac{dx}{x}\n",
    "\\\\\n",
    "\\frac{1}{2}\\ln |v^2+1| &= \\ln |x| + C\n",
    "\\\\\n",
    "\\frac{1}{2}\\ln \\left|(y/x)^2+1\\right| &= \\ln|x| + C\n",
    "\\end{align*}\n",
    "Using the initial condition $y(1)=2$, we find\n",
    "\\begin{align*}\n",
    "\\frac{1}{2}\\ln \\left|(2/1)^2+1\\right| &= \\ln|1| + C\n",
    "\\\\\n",
    "C &= \\frac{1}{2}\\ln 5 .\n",
    "\\end{align*}\n",
    "Finally, we get\n",
    "\\begin{align*}\n",
    "\\frac{1}{2}\\ln \\left|(y/x)^2+1\\right| &= \\ln|x| + \\frac{1}{2}\\ln 5\n",
    "\\\\\n",
    "\\ln \\left|(y/x)^2+1\\right| &= 2\\ln|x| + \\ln 5\n",
    "\\\\\n",
    "(y/x)^2 + 1 &= 5 x^2\n",
    "\\\\\n",
    "y(x) &= x(5x^2-1)^{1/2}.\n",
    "\\end{align*}\n"
   ]
  },
  {
   "cell_type": "code",
   "execution_count": 2,
   "metadata": {},
   "outputs": [
    {
     "ename": "ModuleNotFoundError",
     "evalue": "No module named 'pylab'",
     "output_type": "error",
     "traceback": [
      "\u001b[0;31m---------------------------------------------------------------------------\u001b[0m",
      "\u001b[0;31mModuleNotFoundError\u001b[0m                       Traceback (most recent call last)",
      "\u001b[0;32m<ipython-input-2-226df9a1d9ff>\u001b[0m in \u001b[0;36m<module>\u001b[0;34m\u001b[0m\n\u001b[1;32m     18\u001b[0m \u001b[0;34m\u001b[0m\u001b[0m\n\u001b[1;32m     19\u001b[0m \u001b[0;34m\u001b[0m\u001b[0m\n\u001b[0;32m---> 20\u001b[0;31m \u001b[0;32mimport\u001b[0m \u001b[0mpylab\u001b[0m \u001b[0;32mas\u001b[0m \u001b[0mplt\u001b[0m\u001b[0;34m\u001b[0m\u001b[0;34m\u001b[0m\u001b[0m\n\u001b[0m\u001b[1;32m     21\u001b[0m \u001b[0;34m\u001b[0m\u001b[0m\n\u001b[1;32m     22\u001b[0m \u001b[0;34m\u001b[0m\u001b[0m\n",
      "\u001b[0;31mModuleNotFoundError\u001b[0m: No module named 'pylab'"
     ]
    }
   ],
   "source": [
    "x_data = [1.0]\n",
    "y_data = [2.0]\n",
    "\n",
    "\n",
    "dx = 0.01\n",
    "xmax = 5.0\n",
    "nsteps = int((xmax-1.0)/dx)\n",
    "\n",
    "xold = 1.0\n",
    "yold = 1.0\n",
    "for step in range(nsteps):\n",
    "    xnew = xold + dx\n",
    "    ynew = yold + (2*yold/xold+xold/yold)*dx\n",
    "    x_data.append(xnew)\n",
    "    y_data.append(ynew)\n",
    "    xold = xnew\n",
    "    yold = ynew\n",
    "\n",
    "    \n",
    "import pylab as plt\n",
    "\n",
    "\n",
    "plt.plot(x_data, y_data, 'o', label='numerical')\n",
    "\n",
    "y_analytical = [x*np.sqrt(5*x*x-1) for x in x_data]\n",
    "plt.plot(x_analytical, y_analytical, label='analytical')\n",
    "\n",
    "plt.legend()\n",
    "plt.xlabel(r'$x$')\n",
    "plt.ylabel(r'$y$')\n",
    "\n",
    "plt.show()"
   ]
  },
  {
   "cell_type": "code",
   "execution_count": null,
   "metadata": {},
   "outputs": [],
   "source": []
  },
  {
   "cell_type": "code",
   "execution_count": null,
   "metadata": {},
   "outputs": [],
   "source": []
  }
 ],
 "metadata": {
  "kernelspec": {
   "display_name": "Python 3",
   "language": "python",
   "name": "python3"
  },
  "language_info": {
   "codemirror_mode": {
    "name": "ipython",
    "version": 3
   },
   "file_extension": ".py",
   "mimetype": "text/x-python",
   "name": "python",
   "nbconvert_exporter": "python",
   "pygments_lexer": "ipython3",
   "version": "3.9.0"
  }
 },
 "nbformat": 4,
 "nbformat_minor": 4
}
