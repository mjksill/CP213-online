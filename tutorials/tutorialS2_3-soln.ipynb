{
 "cells": [
  {
   "cell_type": "markdown",
   "metadata": {},
   "source": [
    "# CP213: Tutorial Notebook S2 Week 3"
   ]
  },
  {
   "cell_type": "markdown",
   "metadata": {},
   "source": [
    "## Question 1\n",
    "\n",
    "Given the function $f(x,y,z)=x+2y-2z$, subject to the constraint, $x^2 +2y^2 +4z^2=1$, determine the associated maxima/minima.\n"
   ]
  },
  {
   "attachments": {},
   "cell_type": "markdown",
   "metadata": {},
   "source": [
    "## Model solution for Q1\n",
    "\n",
    "Maxima/minima must satisfy $\\nabla f(x,y,z)=\\lambda \\nabla g(x,y,z)$.\n",
    "\n",
    "The gradient of the objective function $f(x,y,z)=x+2y-2z$ is given by\n",
    "$$$$\\begin{align*}\n",
    "    \\nabla f &=\\dfrac{\\partial f}{\\partial x}\\hat{\\imath}+\\dfrac{\\partial f}{\\partial y}\\hat{\\jmath}+\\dfrac{\\partial f}{\\partial z}\\hat{k}\\\\\n",
    "    \\nabla f &= \\hat{\\imath} + 2\\hat{\\jmath} -2\\hat{k}\n",
    "\\end{align*}$$\n",
    "The gradient of the constraint function $g(x,y,z)= x^2 +2y^2 +4z^2 -1$ is given by\n",
    "$$\\begin{align*}\n",
    "    \\nabla g &=\\dfrac{\\partial g}{\\partial x}\\hat{\\imath}+\\dfrac{\\partial g}{\\partial y}\\hat{\\jmath}+\\dfrac{\\partial g}{\\partial z}\\hat{k}\n",
    "    \\\\\n",
    "    \\nabla g &= 2x\\hat{\\imath} + 4y\\hat{\\jmath} +8z\\hat{k}\n",
    "    .\n",
    "\\end{align*}$$\n",
    "We obtain the following set of equations to be solved:\n",
    "$$\\begin{align*}\n",
    "    1 &= 2 \\lambda x \\\\\n",
    "    2 &= 4 \\lambda y \\\\\n",
    "    -2 &= 8 \\lambda z \\\\\n",
    "    x^2 +2y^2 +4z^2 &= 1\n",
    "\\end{align*}$$\n",
    "Rearranging each of the first three for $x$, $y$ and $z$, respectively, gives:\n",
    "$$\\begin{align*}\n",
    "    \\frac{1}{2\\lambda} &= x \\\\\n",
    "    \\frac{1}{2\\lambda} &= y \\\\\n",
    "    -\\frac{1}{4\\lambda} &= z \\\\\n",
    "\\end{align*}$$\n",
    "Substituting these expressions into our constraint gives:\n",
    "$$\\begin{align*}\n",
    "    \\left(\\frac{1}{2\\lambda}\\right)^2 + 2\\left( \\frac{1}{2\\lambda}\\right)^2 + 4\\left( \\frac{1}{4\\lambda}\\right)^2&=1\n",
    "\\end{align*}$$\n",
    "Rearranging, we find $\\lambda =\\pm 1$.\n",
    "\n",
    "From the system of equations, when $\\lambda = 1$: $x=1/2$, $y=1/2$, $z=-1/4$, and When $\\lambda = -1$: $x=-1/2$, $y=-1/2$, $z=1/4$.\n",
    "\n",
    "The values of the objective function that correspond to these respective points are:\n",
    "$$\\begin{align*}\n",
    "    f(1/2,1/2,-1/4)&=2\n",
    "    \\\\\n",
    "    f(-1/2,-1/2,1/4)&=-2\n",
    "\\end{align*}$$\n",
    "Hence, the maximum occurs at $(1/2,1/2,-1/4,2)$, and the minimum occurs at $(-1/2,-1/2,1/4,-2)$.\n"
   ]
  },
  {
   "cell_type": "markdown",
   "metadata": {},
   "source": [
    "We can use Python to solve this problem by\n",
    "\n",
    "[SciPy manual](https://docs.scipy.org/doc/scipy/reference/generated/scipy.optimize.minimize.html)"
   ]
  },
  {
   "cell_type": "code",
   "execution_count": null,
   "metadata": {},
   "outputs": [],
   "source": [
    "from scipy.optimize import minimize\n",
    "\n",
    "def f(var):\n",
    "    x, y, z = var\n",
    "    return x + 2*y - 2*z\n",
    "    \n",
    "def g(var):\n",
    "    x, y, z = var\n",
    "    return x**2 + 2*y**2 + 4*z**2 - 1\n",
    "    \n",
    "constraint_list = [{'type': 'eq', 'fun':g}]\n",
    "\n",
    "guess = [1, 0, 0]\n",
    "opt = minimize(f, guess, constraints=constraint_list)\n",
    "\n",
    "print(opt)"
   ]
  },
  {
   "cell_type": "markdown",
   "metadata": {},
   "source": [
    "## Question 2\n",
    "\n",
    "By using the programmer's best friend, namely searching online, find relevant python code and adapt this to present:\n",
    "1. A 3d plot of the 'irn-bru hill' function presented in class, given by $f(x,y)=x^2-y^2$\n",
    "2. A contour of the above function, and add to this diagram the constraint $g(x,y)=x^2+y^2=4$"
   ]
  },
  {
   "cell_type": "markdown",
   "metadata": {},
   "source": [
    "## Model solution for Q2\n",
    "\n",
    "\n",
    "\n",
    "[mplot3d examples](https://matplotlib.org/mpl_toolkits/mplot3d/tutorial.html)"
   ]
  },
  {
   "cell_type": "code",
   "execution_count": null,
   "metadata": {
    "scrolled": true
   },
   "outputs": [],
   "source": [
    "from mpl_toolkits.mplot3d import axes3d\n",
    "import matplotlib.pyplot as plt\n",
    "import numpy as np\n",
    "\n",
    "%matplotlib inline\n",
    "\n",
    "\n",
    "x = np.arange(-5,5,0.1)\n",
    "y = np.arange(-5,5,0.1)\n",
    "X,Y = np.meshgrid(x,y)\n",
    "Z = X**2 - Y**2\n",
    "\n",
    "fig = plt.figure(figsize=(6,6))\n",
    "ax = fig.add_subplot(111, projection='3d')\n",
    "\n",
    "# Plot a 3D surface\n",
    "ax.plot_surface(X, Y, Z)\n",
    "\n",
    "plt.show()"
   ]
  },
  {
   "cell_type": "markdown",
   "metadata": {},
   "source": [
    "We can also try to use a contour plot.\n",
    "\n",
    "- [Matplotlib](https://matplotlib.org/3.1.1/gallery/images_contours_and_fields/contour_label_demo.html#sphx-glr-gallery-images-contours-and-fields-contour-label-demo-py)\n",
    "- [StackOverflow](https://stackoverflow.com/questions/17431441/matplotlib-scatter-plot-to-foreground-on-top-of-a-contour-plot)"
   ]
  },
  {
   "cell_type": "code",
   "execution_count": null,
   "metadata": {},
   "outputs": [],
   "source": [
    "import numpy as np\n",
    "import matplotlib.pyplot as plt\n",
    "# if using a Jupyter notebook, include:\n",
    "%matplotlib inline\n",
    "\n",
    "\n",
    "x = np.arange(-3.0, 3.0, 0.1)\n",
    "y = np.arange(-3.0, 3.0, 0.1)\n",
    "X, Y = np.meshgrid(x, y)\n",
    "\n",
    "Z = X**2 - Y**2\n",
    "G = X**2 + Y**2\n",
    "\n",
    "fig, ax = plt.subplots(figsize=(10,10))\n",
    "\n",
    "z = ax.contour(X, Y, Z, 4)            # 4 here means 4 contour lines \n",
    "g = ax.contour(X, Y, G, [4])          #[4] means G = 4\n",
    "ax.clabel(z, inline=True, fontsize=10)\n",
    "ax.clabel(g, inline=True, fontsize=10)\n",
    "\n",
    "plt.show()"
   ]
  },
  {
   "cell_type": "code",
   "execution_count": null,
   "metadata": {},
   "outputs": [],
   "source": [
    "from scipy.optimize import minimize\n",
    "\n",
    "def f(var):\n",
    "    x, y = var\n",
    "    return x**2 - y**2\n",
    "    \n",
    "def g(var):\n",
    "    x, y = var\n",
    "    return x**2 + y**2 - 4\n",
    "    \n",
    "constraint_list = [{'type': 'eq', 'fun':g}]\n",
    "\n",
    "guess = [1, 0]\n",
    "opt = minimize(f, guess, constraints=constraint_list)\n",
    "\n",
    "print(opt)"
   ]
  },
  {
   "cell_type": "markdown",
   "metadata": {},
   "source": [
    "## Question 3\n",
    "\n",
    "Find all points on the surface $xy−z^2+1=0$ that are closest to the origin. \n",
    "\n",
    "Answer: $(0,0,1)$ and $(0,0,−1)$"
   ]
  },
  {
   "attachments": {},
   "cell_type": "markdown",
   "metadata": {},
   "source": [
    "## Model solution for Q3\n",
    "\n",
    "Function to be minimized is the distance from the origin to the value of $x$, $y$, and $z$.\n",
    "$$$$\\begin{align*}\n",
    "    D(x,y,z) &= \\sqrt{x^2+y^2+z^2}\n",
    "\\end{align*}$$\n",
    "Minima will satisfy $\\nabla D(x,y,z)=\\lambda \\nabla h(x,y,z)$,\n",
    "where $h(x,y,z)=xy-z^2+1$\n",
    "$$\\begin{align*}\n",
    "    \\nabla D(x,y,z) &= \\frac{x}{\\sqrt{x^2+y^2+z^2}}\\hat{\\imath} + \\frac{y}{\\sqrt{x^2+y^2+z^2}}\\hat{\\jmath} + \\frac{z}{\\sqrt{x^2+y^2+z^2}}\\hat{k}\n",
    "\\end{align*}$$\n",
    "The gradient of the constraint function $h$ is\n",
    "$$\\begin{align*}\n",
    "    \\nabla h(x,y,z) &= y\\hat{\\imath} + x\\hat{\\jmath} -2z\\hat{k}\n",
    "\\end{align*}$$\n",
    "We obtain the following set of equations to be solved:\n",
    "$$\\begin{align*}\n",
    "    \\frac{x}{\\sqrt{x^2+y^2+z^2}} &= \\lambda y \\\\\n",
    "    \\frac{y}{\\sqrt{x^2+y^2+z^2}} &= \\lambda x \\\\\n",
    "    \\frac{z}{\\sqrt{x^2+y^2+z^2}} &= -2 \\lambda z \\\\\n",
    "    xy-z^2+1 &=0\n",
    "\\end{align*}$$\n",
    "By inspection, considering the third equation, if we assume $z\\neq 0$ then:\n",
    "$$\\begin{align*}\n",
    "    \\lambda &=-\\frac{1}{2\\sqrt{x^2+y^2+z^2}}\n",
    "\\end{align*}$$\n",
    "The first equation reduces to:\n",
    "$$\\begin{align*}\n",
    "    \\frac{x}{\\sqrt{x^2+y^2+z^2}} &=  -\\frac{y}{2\\sqrt{x^2+y^2+z^2}}\\\\\n",
    "    y &= -2x\n",
    "\\end{align*}$$\n",
    "The second equation becomes \n",
    "$$\\begin{align*}\n",
    "    \\frac{y}{\\sqrt{x^2+y^2+z^2}} &=  -\\frac{x}{2\\sqrt{x^2+y^2+z^2}}\\\\\n",
    "    x &= -2y\n",
    "\\end{align*}$$\n",
    "For $y=-2x$ and $x=-2y$ to be satisifed, $x=0$ and $y=0$. Hence, from the constraint we find:\n",
    "$$\\begin{align*}\n",
    "    -z^2+1&=0\\\\\n",
    "    z &=\\pm 1\n",
    "\\end{align*}$$"
   ]
  },
  {
   "cell_type": "code",
   "execution_count": null,
   "metadata": {},
   "outputs": [],
   "source": [
    "from mpl_toolkits.mplot3d import axes3d\n",
    "import matplotlib.pyplot as plt\n",
    "import numpy as np\n",
    "\n",
    "%matplotlib inline\n",
    "\n",
    "\n",
    "x = np.arange(-3,3,0.01)\n",
    "y = np.arange(-3,3,0.01)\n",
    "X,Y = np.meshgrid(x,y)\n",
    "Z1 = np.sqrt((1 + X*Y))\n",
    "Z2 = -np.sqrt((1 + X*Y))\n",
    "\n",
    "fig = plt.figure(figsize=(6,6))\n",
    "ax = fig.add_subplot(111, projection='3d')\n",
    "\n",
    "# Plot a 3D surface\n",
    "ax.plot_surface(X, Y, Z1, color ='green')\n",
    "ax.plot_surface(X, Y, Z2, color = 'green')\n",
    "#ax.view_init(0, 90)\n",
    "\n",
    "plt.show()"
   ]
  },
  {
   "cell_type": "markdown",
   "metadata": {},
   "source": [
    "## Question 4\n",
    "\n",
    "Orientated towards sustainability (and cost reduction), a cereal manufacturer is looking for ways by which material usage for packaging of cereal boxes can be reduced. Currently their cereal boxes have dimensions of $8\\,\\text{cm}$ by $20\\,\\text{cm}$ by $30\\,\\text{cm}$. They wish to determine dimensions which would optimise the material usage. Determine the optimal dimensions for reducing packaging of the cereal boxed, clearly stating any assumptions. Comment on the practicalities of your optimised dimensions."
   ]
  },
  {
   "attachments": {},
   "cell_type": "markdown",
   "metadata": {},
   "source": [
    "## Model solution for Q4\n",
    "\n",
    "\n",
    "We have a box, therefore the volume is given by $V=xyz$. Our dimensions are stated as $x=8\\,\\text{cm}$ by $y=20\\,\\text{cm}$ by $z=30\\,\\text{cm}$, hence our volume (i.e. our constraint) is:\n",
    "$$\\begin{align*}\n",
    "   V(x,y,z) &= xyz=4800\\, \\text{cm}^3\n",
    "\\end{align*}$$\n",
    "Assuming negligible material required for gluing our box together (compared to the walls of the box, then our surface area (function) is given by:\n",
    "$$\\begin{align*}\n",
    "   S(x,y,z) &= 2xy + 2xz + 2yz\n",
    "\\end{align*}$$\n",
    "Again, we are dealing with a constrained optimisation. Although there are multiple ways to solve this, let's use the method of Lagrange multipliers.  The minimum will have to satisfy: $\\nabla S (x,y,z) = \\lambda \\nabla V (x,y,z)$, where $V(x,y,z) = xyz-4800$.\n",
    "$$\\begin{align*}\n",
    "   \\nabla S(x,y,z) &= 2\\left(y+z\\right)\\hat{\\imath} + 2\\left(x+z\\right)\\hat{\\jmath} + 2\\left(x+y\\right)\\hat{k}\\\\\n",
    "   \\nabla V(x,y,z) &= yz\\hat{\\imath} + xz\\hat{\\jmath} + xy\\hat{k}\n",
    "\\end{align*}$$\n",
    "This yields the following systems of equations to be solved:\n",
    "$$\\begin{align*}\n",
    "    2\\left(y+z\\right) &= \\lambda yz \\\\\n",
    "    2\\left(x+z\\right) &= \\lambda xz \\\\\n",
    "    2\\left(x+y\\right) &= \\lambda xy \\\\\n",
    "    xyz-4800 &=0\n",
    "\\end{align*}$$\n",
    "We can obtain expressions for $\\lambda$ from the first three equations:\n",
    "\n",
    "$$\\begin{align*}\n",
    "    \\lambda &= \\frac{2\\left(y+z\\right)}{yz} =\n",
    "    \\frac{2\\left(x+z\\right)}{xz} =\n",
    "    \\frac{2\\left(x+y\\right)}{xy}\n",
    "\\end{align*}$$\n",
    "Considering the first pair of expressions, cross multiplying yields:\n",
    "$$\\begin{align*}\n",
    "    2(y+z)xz &= 2(x+z)yz\\\\\n",
    "    2xyz +2xz^2&=2xyz+2yz^2\\\\\n",
    "    x &= y\n",
    "\\end{align*}$$\n",
    "A similar result can be found for another pair of the expressions, which give us $x=y=z$. Therefore the dimensions which minimise surface area is $x=y=z=4800^{1/3}\\approx 16.87\\,\\text{cm}$.\n",
    "\n",
    "A cube minimizes the material usage! Not exactly the most practical shape to shake out your cereal from in the mornings...\n"
   ]
  },
  {
   "cell_type": "markdown",
   "metadata": {},
   "source": [
    "We can also use the `minimize` function from the `scipy.optimize` module to solve this problem."
   ]
  },
  {
   "cell_type": "code",
   "execution_count": null,
   "metadata": {},
   "outputs": [],
   "source": [
    "from scipy.optimize import minimize\n",
    "\n",
    "def surface_area(var):\n",
    "    x, y, z = var\n",
    "    return 2*(x*y+x*z+y*z)\n",
    "\n",
    "def volume(var):\n",
    "    x, y, z = var\n",
    "    return x*y*z\n",
    "\n",
    "def volume_constraint(var):\n",
    "    return volume(var)-V0\n",
    "\n",
    "var0 = [8, 20, 30]\n",
    "V0 = volume(var0)\n",
    "S0 = surface_area(var0)\n",
    "print(f'volume = {V0} cm^3 and surface area = {S0} cm^2')\n",
    "\n",
    "constraint_list = [{'type': 'eq', 'fun':volume_constraint}]\n",
    "bounds = [(0, 100), (0, 100), (0, 100)]\n",
    "\n",
    "opt = minimize(surface_area, var0, \n",
    "               constraints=constraint_list,\n",
    "               bounds=bounds)\n",
    "\n",
    "print(opt)\n"
   ]
  },
  {
   "cell_type": "code",
   "execution_count": null,
   "metadata": {},
   "outputs": [],
   "source": []
  }
 ],
 "metadata": {
  "kernelspec": {
   "display_name": "Python 3",
   "language": "python",
   "name": "python3"
  },
  "language_info": {
   "codemirror_mode": {
    "name": "ipython",
    "version": 3
   },
   "file_extension": ".py",
   "mimetype": "text/x-python",
   "name": "python",
   "nbconvert_exporter": "python",
   "pygments_lexer": "ipython3",
   "version": "3.9.7"
  }
 },
 "nbformat": 4,
 "nbformat_minor": 4
}
