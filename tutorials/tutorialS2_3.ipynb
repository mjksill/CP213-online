{
 "cells": [
  {
   "cell_type": "markdown",
   "metadata": {},
   "source": [
    "# CP213: Tutorial Notebook S2 Week 3"
   ]
  },
  {
   "cell_type": "markdown",
   "metadata": {},
   "source": [
    "## Question 1\n",
    "\n",
    "Given the function $f(x,y,z)=x+2y-2z$, subject to the constraint, $x^2 +2y^2 +4z^2=1$, determine the associated maxima/minima.\n"
   ]
  },
  {
   "cell_type": "code",
   "execution_count": null,
   "metadata": {},
   "outputs": [],
   "source": []
  },
  {
   "cell_type": "markdown",
   "metadata": {},
   "source": [
    "## Question 2\n",
    "\n",
    "By using the programmer's best friend, namely searching online, find relevant python code and adapt this to present:\n",
    "1. A 3d plot of the 'irn-bru hill' function presented in class, given by $f(x,y)=x^2-y^2$\n",
    "2. A contour of the above function, and add to this diagram the constraint $g(x,y)=x^2+y^2=4$"
   ]
  },
  {
   "cell_type": "code",
   "execution_count": null,
   "metadata": {},
   "outputs": [],
   "source": []
  },
  {
   "cell_type": "markdown",
   "metadata": {},
   "source": [
    "## Question 3\n",
    "\n",
    "Find all points on the surface $xy−z^2+1=0$ that are closest to the origin. \n",
    "\n",
    "Answer: $(0,0,1)$ and $(0,0,−1)$"
   ]
  },
  {
   "cell_type": "code",
   "execution_count": null,
   "metadata": {},
   "outputs": [],
   "source": []
  },
  {
   "cell_type": "markdown",
   "metadata": {},
   "source": [
    "## Question 4\n",
    "\n",
    "Orientated towards sustainability (and cost reduction), a cereal manufacturer is looking for ways by which material usage for packaging of cereal boxes can be reduced. Currently their cereal boxes have dimensions of $8\\,\\text{cm}$ by $20\\,\\text{cm}$ by $30\\,\\text{cm}$. They wish to determine dimensions which would optimise the material usage. Determine the optimal dimensions for reducing packaging of the cereal boxed, clearly stating any assumptions. Comment on the practicalities of your optimised dimensions."
   ]
  },
  {
   "cell_type": "code",
   "execution_count": null,
   "metadata": {},
   "outputs": [],
   "source": []
  },
  {
   "cell_type": "code",
   "execution_count": null,
   "metadata": {},
   "outputs": [],
   "source": []
  }
 ],
 "metadata": {
  "kernelspec": {
   "display_name": "Python 3",
   "language": "python",
   "name": "python3"
  },
  "language_info": {
   "codemirror_mode": {
    "name": "ipython",
    "version": 3
   },
   "file_extension": ".py",
   "mimetype": "text/x-python",
   "name": "python",
   "nbconvert_exporter": "python",
   "pygments_lexer": "ipython3",
   "version": "3.9.1"
  }
 },
 "nbformat": 4,
 "nbformat_minor": 4
}
