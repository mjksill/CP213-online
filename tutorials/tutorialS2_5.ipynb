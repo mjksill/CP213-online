{
 "cells": [
  {
   "cell_type": "markdown",
   "metadata": {},
   "source": [
    "# CP213: Tutorial Notebook S2 Week 5"
   ]
  },
  {
   "cell_type": "markdown",
   "metadata": {},
   "source": [
    "## Question 1\n",
    "\n",
    "Consider a laminate  bounded by $x^2+y^2=1\\,\\mathrm{m}$ with density function $\\rho(x,y) = \\sqrt{x^2+y^2}$, in units of $\\mathrm{g\\,m^{-2}}$.\n",
    "1. Determine the mass of the laminate\n",
    "2. Determine the moment of inertia about the origin.\n",
    "\n"
   ]
  },
  {
   "cell_type": "code",
   "execution_count": null,
   "metadata": {},
   "outputs": [],
   "source": []
  },
  {
   "cell_type": "markdown",
   "metadata": {},
   "source": [
    "## Question 2\n",
    "\n",
    "For the remaining questions, please refer to the formula sheet  which can be found under the learning materials on the class site for the Taylor series.\n",
    "\n",
    "Differentiate the Maclaurin series of $\\sin{x}$ and show that the result is equivalent to the Taylor series for $\\cos{x}$."
   ]
  },
  {
   "cell_type": "code",
   "execution_count": null,
   "metadata": {},
   "outputs": [],
   "source": []
  },
  {
   "cell_type": "markdown",
   "metadata": {},
   "source": [
    "## Question 3\n",
    "\n",
    "\n",
    "A useful application of Taylor series is that we can determine the limit a function approaches as x tends to a particular point. \n",
    "\\begin{align*}\n",
    "    \\lim_{x\\to 0} \\frac{e^x - 1 - x}{x^2}\n",
    "\\end{align*}\n",
    "As a starting point attempt try evaluating the expression with a calculator at values close to $x=0$ (you may be surprised by the result). Then, using appropriate Taylor series substitutions determine evaluate the above expression.\n",
    "\n"
   ]
  },
  {
   "cell_type": "code",
   "execution_count": null,
   "metadata": {},
   "outputs": [],
   "source": []
  },
  {
   "cell_type": "markdown",
   "metadata": {},
   "source": [
    "## Question 4\n",
    "\n",
    "Find an approximate value for\n",
    "\\begin{align*}\n",
    "    \\int_0^1 \\cos({x^2})\\, dx\n",
    "\\end{align*}\n",
    "giving your answer to three decimal points by finding the first three non-zero terms of the Maclaurin series for $\\cos({x^2})$. Using the fourth non-zero Maclaurin series term, explain why the error in using this estimate is less than 0.001."
   ]
  },
  {
   "cell_type": "code",
   "execution_count": null,
   "metadata": {},
   "outputs": [],
   "source": []
  },
  {
   "cell_type": "markdown",
   "metadata": {},
   "source": [
    "## Bonus Python question\n",
    "\n",
    "Try to follow this excellent resource for [Taylor Series in Python}](https://pythonforundergradengineers.com/creating-taylor-series-functions-with-python.html) by Peter Kazarinoff. Copy the code blocks 14 and 18, which relate to $\\cos{x}$, into the notebook and try to adapt the code for $\\sin{x}$.\n",
    "\n",
    "NB. It may be helpful to note that summation form of the taylor expansion for $\\sin{x}$ is given by:\n",
    "\\begin{align*}\n",
    "    \\sin \\left( x \\right) \\approx \\sum\\limits_{n = 0}^\\infty  {{{\\left( { - 1} \\right)}^n}\\frac{{{x^{2n+1}}}}{{\\left( {2n+1} \\right)!}}}\n",
    "\\end{align*}"
   ]
  },
  {
   "cell_type": "code",
   "execution_count": null,
   "metadata": {},
   "outputs": [],
   "source": []
  }
 ],
 "metadata": {
  "kernelspec": {
   "display_name": "Python 3",
   "language": "python",
   "name": "python3"
  },
  "language_info": {
   "codemirror_mode": {
    "name": "ipython",
    "version": 3
   },
   "file_extension": ".py",
   "mimetype": "text/x-python",
   "name": "python",
   "nbconvert_exporter": "python",
   "pygments_lexer": "ipython3",
   "version": "3.9.1"
  }
 },
 "nbformat": 4,
 "nbformat_minor": 4
}
