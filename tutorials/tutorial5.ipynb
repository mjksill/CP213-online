{
 "cells": [
  {
   "cell_type": "markdown",
   "metadata": {},
   "source": [
    "# CP213: Tutorial Notebook 5\n",
    "\n"
   ]
  },
  {
   "cell_type": "markdown",
   "metadata": {},
   "source": [
    "## Question 1\n",
    "\n",
    "A brine solution (a mixture of salt and water) begins to flow at a\n",
    "constant rate of $\\dot{V}_{\\rm brine}=6\\,{\\rm L\\,min}^{-1}$ into a\n",
    "large tank that initially holds $V_0=1000\\,{\\rm L}$ of pure water.\n",
    "The solution inside the tank is kept well stirred and flows out of the\n",
    "tank at a constant rate of $\\dot{V}_{\\rm out}=5\\,{\\rm L\\,min}^{-1}$.\n",
    "If the concentration of salt in the brine entering the tank is\n",
    "$c_{\\rm brine}=0.1\\,{\\rm kg\\,L}^{-1}$, determine the concentration of\n",
    "the salt in the tank as a function of time.\n"
   ]
  },
  {
   "cell_type": "code",
   "execution_count": null,
   "metadata": {},
   "outputs": [],
   "source": []
  },
  {
   "cell_type": "markdown",
   "metadata": {},
   "source": [
    "## Question 2\n",
    "\n",
    "A cylindrical tank of diameter $D=1.5\\,{\\rm m}$ is being filled with\n",
    "water at a rate of $\\dot{V}=1\\,{\\rm L\\,min^{-1}}$.  In addition,\n",
    "water exits the tank through an outlet with cross-sectional area\n",
    "$A_0=25\\,{\\rm cm}^2$ with a velocity $v=\\sqrt{2gh}$, where $h$ is the\n",
    "height of the liquid above the outlet and $g=9.81\\,{\\rm m\\,s^{-2}}$ is\n",
    "the acceleration due to gravity.  The initial water depth is\n",
    "$1.6\\,{\\rm m}$ at $t = 0\\,{\\rm s}$.\n",
    "\n",
    "1. Derive a differential equation that governs the height $h$ of\n",
    "   the liquid level in the tank with time.\n",
    "\n",
    "2. What is the steady state height of the tank?\n",
    "\n",
    "3. Plot the graph of $h$ against $t$.\n",
    "\n",
    "4. The initial temperature of the water in the tank is\n",
    "  $20^\\circ{\\rm C}$, and the temperature of the inlet water is\n",
    "  $T=80^\\circ{\\rm C}$.  Derive a differential equation that governs\n",
    "  the temperature $T$ of the water in the tank varies with time.\n",
    "  Assume that the tank is well mixed, and that\n",
    "  $C_v\\approx C_p\\approx4.2\\,{\\rm J\\,g^{-1}\\,K^{-1}}$.\n",
    "\n",
    "5. What is the steady state temperature of the water in the tank?\n",
    "\n",
    "6. Plot the graph of the temperature $T$ of the water in the tank\n",
    "  with time $t$.\n",
    "\n"
   ]
  },
  {
   "cell_type": "code",
   "execution_count": null,
   "metadata": {},
   "outputs": [],
   "source": []
  },
  {
   "cell_type": "markdown",
   "metadata": {},
   "source": [
    "## Question 3\n",
    "\n",
    "Solve the following differential equations:\n",
    "\n",
    "\n",
    "1.\n",
    "  $\\displaystyle\n",
    "    x^2(y+1)+y^2(x-1)\\frac{dy}{dx} = 0\n",
    "  $\n",
    "\n",
    "2.\n",
    "  $\\displaystyle\n",
    "    \\frac{dy}{dx} = \\frac{y}{1+y}\n",
    "  $\n",
    "  \n",
    "3.\n",
    "  $\\displaystyle\n",
    "    x\\tan y + (x^2+1)\\frac{dy}{dx} = 0\n",
    "  $\n",
    "\n",
    "4.\n",
    "  $\\displaystyle\n",
    "  xy^3\\frac{dy}{dx} = (1+x^2)(1+y^2)  \n",
    "  $\n",
    "  where $y(1)=1$.  Plot a comparison between your analytical solution and a numerical solution obtaned by the \"odeint\" function in scipy.integrate.\n",
    "  \n",
    "  "
   ]
  },
  {
   "cell_type": "code",
   "execution_count": null,
   "metadata": {},
   "outputs": [],
   "source": []
  }
 ],
 "metadata": {
  "kernelspec": {
   "display_name": "Python 3",
   "language": "python",
   "name": "python3"
  },
  "language_info": {
   "codemirror_mode": {
    "name": "ipython",
    "version": 3
   },
   "file_extension": ".py",
   "mimetype": "text/x-python",
   "name": "python",
   "nbconvert_exporter": "python",
   "pygments_lexer": "ipython3",
   "version": "3.8.5"
  }
 },
 "nbformat": 4,
 "nbformat_minor": 4
}
