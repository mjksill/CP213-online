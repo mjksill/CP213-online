{
 "cells": [
  {
   "cell_type": "markdown",
   "metadata": {},
   "source": [
    "# CP213: Tutorial Notebook Week 1\n",
    "\n"
   ]
  },
  {
   "cell_type": "markdown",
   "metadata": {},
   "source": [
    "## Question 1\n",
    "\n",
    "Consider the gas-water shift reaction\n",
    "\\begin{align*}\n",
    "{\\rm \n",
    "CO(g) + H_2O(g) \\leftrightarrows CO_2(g) + H_2(g)\n",
    "}\n",
    "\\end{align*}\n",
    "\n",
    "| gas       | $M_w$        | $H_f$         | $G_f$         |\n",
    "| :--       | --:        | --:           | --:           |\n",
    "|           | g mol$^{-1}$ | kJ mol$^{-1}$ | kJ mol$^{-1}$ |\n",
    "| CO(g)     | $28.01$    | $ -110.5$     | $ -137.2$     |\n",
    "| CO$_2$(g) | $44.01$    | $ -393.3$     | $ -394.6$     |\n",
    "| H$_2$(g)  | $ 2.02$    | $    0.0$     | $    0.0$     |\n",
    "| H$_2$O(g) | $18.02$    | $ -241.8$     | $ -228.4$     |\n",
    "|           |            |               |               |\n",
    "\n",
    "\n",
    "\n",
    "\n",
    "\n",
    "\n",
    "\n",
    "\n"
   ]
  },
  {
   "cell_type": "markdown",
   "metadata": {},
   "source": [
    "The data in the table have been summarized in the dictionary `data`.  The stoichiometric coefficients (symbol $\\nu$) of the reaction are held in the dictionary `nu`."
   ]
  },
  {
   "cell_type": "code",
   "execution_count": null,
   "metadata": {},
   "outputs": [],
   "source": [
    "R = 8.314e-3  # ideal gas constant / kJ mol^{-1} K^{-1}\n",
    "T0 = 298.15   # reference temperature / K\n",
    "p0 = 1.0e5    # reference pressure / Pa\n",
    "\n",
    "\n",
    "# Data about the gases: \n",
    "#  Mw - molecular weight g/mol\n",
    "#  Hf - heat of formation \n",
    "#  Gf - Gibbs free energy \n",
    "data = {}\n",
    "data['CO']  = {'Mw':28.01, 'Hf':-110.5, 'Gf':-137.2 }\n",
    "data['CO2'] = {'Mw':44.01, 'Hf':-393.3, 'Gf':-394.6 }\n",
    "data['H2']  = {'Mw': 2.02, 'Hf':   0.0, 'Gf':   0.0 }\n",
    "data['H2O'] = {'Mw':18.02, 'Hf':-241.8, 'Gf':-228.4 }\n",
    "\n",
    "\n",
    "# stoichiometric coefficients\n",
    "nu = {} \n",
    "nu['CO']  = -1.0\n",
    "nu['CO2'] =  1.0 \n",
    "nu['H2']  =  1.0\n",
    "nu['H2O'] = -1.0"
   ]
  },
  {
   "cell_type": "markdown",
   "metadata": {},
   "source": [
    "## Part 1: reaction enthalpy, and Gibbs free energy\n",
    "\n",
    "Calculate the standard enthalpy of reaction and the standard Gibbs energy of reaction."
   ]
  },
  {
   "cell_type": "code",
   "execution_count": null,
   "metadata": {},
   "outputs": [],
   "source": [
    "Hrxn = 0.0 # Heat of reaction\n",
    "Grxn = 0.0 # Gibbs free energy of reaction\n",
    "for gas, coeff in nu.items():\n",
    "    # TODO sum up Hrxn and Grxn here <---------------------------------\n",
    "\n",
    "print(f'Heat of reaction {Hrxn} / J/mol')    \n",
    "print(f'Gibbs free energy change reaction {Grxn} / J/mol')"
   ]
  },
  {
   "cell_type": "markdown",
   "metadata": {},
   "source": [
    "## Part 2: conversion between moles and mole fractions\n",
    "\n",
    "Create a function that will take a dictionary with the mole numbers and returns a dictionary of mole fractions."
   ]
  },
  {
   "cell_type": "code",
   "execution_count": null,
   "metadata": {},
   "outputs": [],
   "source": [
    "# some test data - mole numbers of some gases\n",
    "mole0 = {}\n",
    "mole0['CO']  = 1.0\n",
    "mole0['CO2'] = 1.0 \n",
    "mole0['H2']  = 1.0\n",
    "mole0['H2O'] = 1.0\n",
    "\n",
    "\n",
    "def get_x(mole):\n",
    "    # a function taking in a dictionary of gas-name to mole numbers,\n",
    "    # returning a new dictionary containing mole fractions linked to gas name keys\n",
    "    x_dict = {}\n",
    "    \n",
    "    # TODO main body goes here <-----------------------------\n",
    "    \n",
    "    return x_dict\n",
    "\n",
    "\n",
    "print(get_x(mole0))"
   ]
  },
  {
   "cell_type": "markdown",
   "metadata": {},
   "source": [
    "## Part 3: equilibrium\n",
    "\n",
    "Let us derive an equation deciding the equilibrium state for the reaction at a given temperature and pressure.\n",
    "\n",
    "The general condition for equilibirum is given by\n",
    "\\begin{align*}\n",
    "\\Pi_k \\left(\\frac{p_k}{p_0}\\right)^{\\nu_k} \n",
    "&= K(T)\n",
    "\\end{align*}\n",
    "where $p_k$ is the partial pressure of species $k$, $p_0$ is a reference pressure, typically taken to be $1\\,{\\rm bar}$, and $K(T)$ is the equilibrium constant, given by $\\ln K(T) = -\\Delta G_{\\rm rxn}(T)/(RT)$ for ideal gases. $\\Pi$ denotes product over all values of $k$, where $k$ is the gas species. You can think of $k$ as a list of gases, like the keys in the `data` dictionary.\n",
    "\n",
    "We can sub in mol fraction for the partial pressures using the relation:\n",
    "\n",
    "\\begin{align*}\n",
    "p_k = x_k p\n",
    "\\end{align*}\n",
    "\n",
    "where $p$ is the total pressure and $x_k$ is the mol fraction of component $k$. Substituting this in to the equilibrium equation gives:\n",
    "\n",
    "\\begin{align*}\n",
    "\\Pi_k \\left( x_k \\frac{p}{p_0}\\right)^{\\nu_k}\n",
    "&= K(T)\n",
    "\\end{align*}\n",
    "\n",
    "Taking the log of both sides of the equation,\n",
    "\\begin{align*}\n",
    "\\sum_k {\\nu_k}\\ln x_k\n",
    "+ \\nu\\ln\\left(\\frac{p}{p_0}\\right)\n",
    "&= \\ln K(T)\n",
    "\\end{align*}\n",
    "where $\\nu=\\sum_k \\nu_k$, and $\\sum_k(f_k)$ represents a sum of $f_k$ for all values of $k$.\n",
    "\n",
    "To solve the equation using Python, we need to put it in a form $f(x)=0$:\n",
    "\\begin{align*}\n",
    "\\sum_k {\\nu_k}\\ln x_k\n",
    "+ \\nu\\ln\\left(\\frac{p}{p_0}\\right)\n",
    "- \\ln K(T)\n",
    "&= 0\n",
    "\\end{align*}\n",
    "\n",
    "<div style=\"text-align: right\"> Equation 1 </div>\n",
    "\n",
    "The number of moles of species $k$, $N_k$, at the current extent of reaction $\\alpha$ is given by\n",
    "\\begin{align*}\n",
    "N_k &= N_k^{(0)} + \\nu_k \\alpha \n",
    "\\end{align*}\n",
    "<div style=\"text-align: right\"> Equation 2 </div>\n",
    "\n",
    "where $N_k^{(0)}$ is the initial number of moles of $k$ and $\\nu$ (nu) is the stoichiometric coeffcient for $k$ in the current reaction.\n",
    "\n",
    "\n",
    "\n",
    "**Task:** Use the function `bisect` from `scipy.optimize` to solve for the extent $\\alpha$, given the initial moles in the system.\n",
    "\n",
    "First, let's define a small function to get the logarithm of the equilibrium constant $K^{(0)} = -\\Delta G_{rxn}(T^{(0)})/(R T^{(0)})$:"
   ]
  },
  {
   "cell_type": "code",
   "execution_count": null,
   "metadata": {},
   "outputs": [],
   "source": [
    "# R, T0, and Grxn were defined previously, so you don't need to\n",
    "# create them again.\n",
    "\n",
    "# If this cell doesn't run properly (\"NameError Grxn not found\" or \n",
    "# similar), try re-running the above cells.\n",
    "\n",
    "def get_lnK0():\n",
    "    # TODO calculation goes here <-------------------------------------\n",
    "\n",
    "print(f'lnK0 = {get_lnK0()}')"
   ]
  },
  {
   "cell_type": "markdown",
   "metadata": {},
   "source": [
    "Check the value above, does it give you the number you expect? Try comparing it with a hand-calculated number.\n",
    "\n",
    "Next, we're going to use a *function solver* to solve the pair of equations (1 and 2) we derived above. We need to define a so-called ***residual*** function, which takes in a guess at the solution, and calculates how wrong that guess was. The solver uses this measurement of *wrongness* to calculate how best to change the guess in order to get a pretty good idea of the correct answer.\n",
    "\n",
    "To guage wrongness, we calculate the LHS of Equation 1 for a guess of $\\alpha$, which should come to $0$ for a correct answer, and be a non-zero number on a wrong answer.\n",
    "\n",
    "We're looking for an answer to the value of $\\alpha$, so that's the guess parameter the residual takes in. On top, we need some data about the reaction we're doing, as well as pressure and temperature.\n",
    "\n",
    "Here's a skeleton, you'll need to fill in the details:"
   ]
  },
  {
   "cell_type": "code",
   "execution_count": null,
   "metadata": {},
   "outputs": [],
   "source": [
    "def residual(alpha, mole0, p, lnK):\n",
    "\n",
    "    # given alpha, calculate the number of moles for\n",
    "    # each component using the stoichiometry and\n",
    "    # Equation 2\n",
    "    mole = # TODO get number of moles here <-------------------------------\n",
    "    \n",
    "    # we need mole fractions, use the function you created \n",
    "    # earlier to calculate mole fractions from mole numer\n",
    "    x_dict = get_x(mole)\n",
    "    \n",
    "    # Finally, we calculate the LHS of Equation 1\n",
    "    lhs = 0.0\n",
    "    for component in nu.keys():\n",
    "        # TODO calculate the sum in Eq1 <--------------------\n",
    "    \n",
    "    # TODO calculate the rest of Eq1 <----------------------\n",
    "\n",
    "    return lhs"
   ]
  },
  {
   "cell_type": "markdown",
   "metadata": {},
   "source": [
    "Let's plot the residual, so see how it behaves:"
   ]
  },
  {
   "cell_type": "code",
   "execution_count": null,
   "metadata": {},
   "outputs": [],
   "source": [
    "import pylab as plt\n",
    "\n",
    "# x data for the plot: a bunch of alpha values between 0 and 1\n",
    "alpha_data = np.arange(0.0, 1.0, 0.001)\n",
    "\n",
    "# for every x data point, calculate a corresponding y data point\n",
    "y_data = [residual(alpha, mole0, p, lnK) for alpha in alpha_data]\n",
    "\n",
    "# plot!\n",
    "plt.plot(alpha_data, y_data)\n",
    "plt.show()"
   ]
  },
  {
   "cell_type": "markdown",
   "metadata": {},
   "source": [
    "Finally we solve the system of equations. We'll use `bisect` from `scipy.optimize`. Remember how to import?\n",
    "\n",
    "Run the solver over a range of $\\alpha$ from 0 to 0.9999."
   ]
  },
  {
   "cell_type": "code",
   "execution_count": null,
   "metadata": {},
   "outputs": [],
   "source": [
    "# TODO import bisect here <-----------------------\n",
    "\n",
    "p = 1.0e5\n",
    "lnK = get_lnK0()\n",
    "\n",
    "# the syntax is bisect(<residual function>, <min-guess>, <max-guess>, <extra residual arguments>)\n",
    "alpha = # TODO use `bisect` to solve for alpha here <---------------------------------------------------\n",
    "\n",
    "print(f'Reaction extent = {alpha}')\n",
    "\n",
    "moles = {gas: N0 + nu[gas]* alpha for gas, N0 in mole0.items()}\n",
    "for gas, mole in moles.items():\n",
    "    print(f'n_{gas} = {mole:.2f} mol')"
   ]
  },
  {
   "cell_type": "markdown",
   "metadata": {},
   "source": [
    "## part 4\n",
    "\n",
    "The heat capacity of the gases can be described by the equation\n",
    "\\begin{align*}\n",
    "\\frac{C_p}{R}\n",
    "&= a_0 + a_1 T + a_2 T^2 + a_3 T^3 + a_4 T^4\n",
    "\\end{align*}\n",
    "where $T$ is the absolute temperature in kelvin,\n",
    "$R=8.314$\\,J$^{-1}$\\,mol\\,K$^{-1}$ is the ideal gas constant, and the\n",
    "coefficients $a_k$ are given in the table below.\n",
    "\n",
    "\n",
    "| gas       | $a_0$   | $a_1\\times10^3$ | $a_2\\times10^5$ | $a_3\\times10^8$ | $a_4\\times10^{11}$ |\n",
    "| :--       | --:     | --:             | --:             | --:             | --:                |\n",
    "|           |         | K$^{-1}$        | K$^{-2}$        | K$^{-3}$        |  K$^{-4}$                   |\n",
    "| CO(g)     | $3.912$ | $ -3.913$| $1.182$  | $ -1.302$       | $  0.515$          |\n",
    "| CO$_2$(g) | $3.259$ | $  1.356$| $1.502$  | $ -2.374$       | $  1.056$          |\n",
    "| H$_2$(g)  | $2.883$ | $  3.681$| $-0.772$ | $  0.692$       | $ -0.213$          |\n",
    "| H$_2$O(g) | $4.395$ | $ -4.186$| $1.405$ | $ -1.564$       | $  0.632$          |\n",
    "\n",
    "\n",
    "The coefficients of the heat capacity have been added to the dictionary \"data\" (see below)."
   ]
  },
  {
   "cell_type": "code",
   "execution_count": null,
   "metadata": {},
   "outputs": [],
   "source": [
    "data['CO'] ['Cp_coeff'] = [3.912, -3.913e-3,  1.182e-5, -1.302e-8,  0.515e-11]      \n",
    "data['CO2']['Cp_coeff'] = [3.259,  1.356e-3,  1.502e-5, -2.374e-8,  1.056e-11]      \n",
    "data['H2'] ['Cp_coeff'] = [2.883,  3.681e-3, -0.772e-5,  0.692e-8, -0.213e-11]      \n",
    "data['H2O']['Cp_coeff'] = [4.395, -4.186e-3,  1.405e-5, -1.564e-8,  0.632e-11]\n",
    "\n",
    "R = 8.314  # J mol^{-1} K^{-1}\n",
    "\n",
    "def get_Cp(T, moles):\n",
    "    Cp_sum = 0.0\n",
    "    \n",
    "    for name, N in moles.items():\n",
    "        \n",
    "        Cp = 0.0\n",
    "        for k, aa in enumerate(data[name]['Cp_coeff']):\n",
    "            Cp += aa*T**k\n",
    "        Cp *= N\n",
    "            \n",
    "        Cp_sum += Cp \n",
    "    \n",
    "    return Cp_sum\n",
    "\n",
    "moles = {'CO':1, 'CO2':2, 'H2':0, 'H2O':1}\n",
    "T = 900.0\n",
    "get_Cp(T, moles)"
   ]
  },
  {
   "cell_type": "markdown",
   "metadata": {},
   "source": [
    "## part 5\n",
    "\n",
    "The enthalpy can be determined from the heat capacity:\n",
    "\\begin{align*}\n",
    "H(T) &= H_f + \\int_{T_f}^{T} dT' C_p(T')\n",
    "\\end{align*}\n",
    "\n",
    "The Gibbs energy can be determined from the enthalpy:\n",
    "\\begin{align*}\n",
    "\\frac{G(T)}{RT}\n",
    "%&= \\frac{G_f}{RT_f}\n",
    "%+ \\int_{T_f}^{T} d\\frac{1}{RT'} H(T')\n",
    "%\\\\\n",
    "&= \\frac{G_f}{RT_f}\n",
    "- \\int_{T_f}^{T} dT'\\, \\frac{H(T')}{RT'^2} \n",
    "\\end{align*}\n",
    "where $T_f=298.15\\,{\\rm K}$.\n",
    "\n",
    "Create a function that will return the logarithm of the equilibrium constant given a temperature."
   ]
  },
  {
   "cell_type": "code",
   "execution_count": null,
   "metadata": {},
   "outputs": [],
   "source": [
    "\n",
    "arxn = [0.0, 0.0, 0.0, 0.0, 0.0]\n",
    "for name, coeff in nu.items():\n",
    "    for k, a in enumerate(data[name]['Cp_coeff']):\n",
    "        arxn[k] += coeff*a\n",
    "print(arxn)\n"
   ]
  },
  {
   "cell_type": "code",
   "execution_count": null,
   "metadata": {},
   "outputs": [],
   "source": [
    "def get_lnK(T):\n",
    "    \n",
    "    x = T/T0\n",
    "    arg = 1.0/x - 1.0\n",
    "    lnK = Grxn/(R*T0) + Hrxn/(R*T0)*arg\n",
    "    lnK -= arxn[0] * (np.log(x) + arg)\n",
    "    lnK -= arxn[1]/2.0 * (x - 1.0 + arg)\n",
    "    lnK -= arxn[2]/3.0 * ((x**2 - 1.0)/2.0 + arg)\n",
    "    lnK -= arxn[3]/4.0 * ((x**3 - 1.0)/3.0 + arg)\n",
    "    lnK -= arxn[4]/5.0 * ((x**4 - 1.0)/4.0 + arg)\n",
    "    \n",
    "    return -lnK\n",
    "\n",
    "lnK = get_lnK(298.15)\n",
    "print(lnK)"
   ]
  },
  {
   "cell_type": "markdown",
   "metadata": {},
   "source": [
    "## part 6\n",
    "\n",
    "plot the "
   ]
  },
  {
   "cell_type": "code",
   "execution_count": null,
   "metadata": {},
   "outputs": [],
   "source": [
    "T_data = np.arange(300.0, 400.0, 10.0)\n",
    "\n",
    "from scipy.optimize import fsolve\n",
    "from scipy.optimize import bisect\n",
    "\n",
    "\n",
    "for T in T_data:\n",
    "    lnK= get_lnK(T)\n",
    "    sol = bisect(residual, -0.5, 0.9999999, args=(mole0,p,lnK))\n",
    "    print(T,sol)\n",
    "    alpha = sol\n",
    "    mole = {gas: N0 + nu[gas]* alpha for gas, N0 in mole0.items()}\n",
    "#    print(mole)"
   ]
  },
  {
   "cell_type": "code",
   "execution_count": null,
   "metadata": {},
   "outputs": [],
   "source": []
  }
 ],
 "metadata": {
  "kernelspec": {
   "display_name": "Python 3",
   "language": "python",
   "name": "python3"
  },
  "language_info": {
   "codemirror_mode": {
    "name": "ipython",
    "version": 3
   },
   "file_extension": ".py",
   "mimetype": "text/x-python",
   "name": "python",
   "nbconvert_exporter": "python",
   "pygments_lexer": "ipython3",
   "version": "3.8.5"
  }
 },
 "nbformat": 4,
 "nbformat_minor": 4
}
