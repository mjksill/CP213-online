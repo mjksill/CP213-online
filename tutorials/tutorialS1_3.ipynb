{
 "cells": [
  {
   "cell_type": "markdown",
   "id": "041af982",
   "metadata": {},
   "source": [
    "# CP213: Tutorial Notebook 3"
   ]
  },
  {
   "cell_type": "markdown",
   "id": "voluntary-republic",
   "metadata": {},
   "source": [
    "## Question 1"
   ]
  },
  {
   "cell_type": "markdown",
   "id": "e3512ad9",
   "metadata": {},
   "source": [
    "A brine solution (i.e. a mixture of salt and water) with a salt\n",
    "concentration of $0.1\\,{\\rm kg\\,L}^{-1}$ begins to flow at a constant\n",
    "rate of $6\\,{\\rm L\\,min}^{-1}$ into a large tank that initially holds\n",
    "$1000\\,{\\rm L}$ of pure water.  The solution inside the tank is kept\n",
    "well stirred and flows out of the tank at a rate of $6\\,{\\rm\n",
    "L\\,min}^{-1}$.  Determine the time at which the concentration of salt\n",
    "in the tank reaches $0.05\\,{\\rm kg\\,L}^{-1}$.\n",
    "\n",
    "Hint: ${\\rm rate~of~change} = {\\rm input~rate} - {\\rm output~rate}$.\n"
   ]
  },
  {
   "cell_type": "code",
   "execution_count": null,
   "id": "22f0ef88",
   "metadata": {},
   "outputs": [],
   "source": []
  },
  {
   "cell_type": "markdown",
   "id": "44d9b570",
   "metadata": {},
   "source": [
    "## Question 2"
   ]
  },
  {
   "cell_type": "markdown",
   "id": "5c6751a6",
   "metadata": {},
   "source": [
    "A brine solution (a mixture of salt and water) begins to flow at a\n",
    "constant rate of $\\dot{V}_{\\rm brine}=6\\,{\\rm L\\,min}^{-1}$ into a\n",
    "large tank that initially holds $V_0=1000\\,{\\rm L}$ of pure water.\n",
    "The solution inside the tank is kept well stirred and flows out of the\n",
    "tank at a constant rate of $\\dot{V}_{\\rm out}=5\\,{\\rm L\\,min}^{-1}$.\n",
    "If the concentration of salt in the brine entering the tank is\n",
    "$c_{\\rm brine}=0.1\\,{\\rm kg\\,L}^{-1}$, determine the concentration of\n",
    "the salt in the tank as a function of time.\n"
   ]
  },
  {
   "cell_type": "code",
   "execution_count": null,
   "id": "4dad6ab4",
   "metadata": {},
   "outputs": [],
   "source": []
  },
  {
   "cell_type": "markdown",
   "id": "bec0d398",
   "metadata": {},
   "source": [
    "## Question 3"
   ]
  },
  {
   "cell_type": "markdown",
   "id": "6d3819ee",
   "metadata": {},
   "source": [
    "Fluid flows through a pipe with a circular cross-section of radius\n",
    "$R$.\n",
    "1. Find an expression for the volumetric flow rate $Q$ through the\n",
    "  pipe if the fluid velocity within it is $v=\\mbox{const}$.\n",
    "2. What is the volumetric flow rate $\\Delta Q$ through a circular\n",
    "  annulus of inner radius $r$ and outer radius $r+\\Delta r$ if the\n",
    "  velocity of the fluid within the annulus is $v=\\mbox{const}$?\n",
    "  \n",
    "3. Find an expression for $Q$ for the case of laminar flow within\n",
    "  the pipe, where the velocity profile is given by\n",
    "\\begin{align*}\n",
    "v(r) &= \\frac{\\Delta p}{4\\mu L}(R^2-r^2)\n",
    "\\end{align*}\n",
    "where $v(r)$ is the velocity of the fluid at a distance $r$ from the\n",
    "center of the pipe, $\\Delta p$ is the pressure drop along the pipe,\n",
    "$L$ is the length of the pipe, and $\\mu$ is the dynamic viscosity of\n",
    "the fluid.  What is the mean velocity of the fluid in the pipe?\n",
    "\n",
    "4. Plot the velocity profile in the pipe for parts (1) and (3)."
   ]
  },
  {
   "cell_type": "code",
   "execution_count": null,
   "id": "assigned-basement",
   "metadata": {},
   "outputs": [],
   "source": []
  },
  {
   "cell_type": "markdown",
   "id": "fitting-settle",
   "metadata": {},
   "source": [
    "## Question 4"
   ]
  },
  {
   "cell_type": "markdown",
   "id": "antique-appreciation",
   "metadata": {},
   "source": [
    "Evaluate the following integrals analytically (possibly with help from an integral table) and using sympy:\n",
    "\n",
    "1. $\\displaystyle\n",
    "\\int \\frac{dx}{x^2 + 16}  \n",
    "$\n",
    "\n",
    "2. $\\displaystyle\n",
    "\\int \\frac{dx}{x^2 - 16}  \n",
    "$\n",
    "\n",
    "3. $\\displaystyle\n",
    "\\int \\frac{dx}{x^2 + 5x}  \n",
    "$\n",
    "\n",
    "4. $\\displaystyle\n",
    "\\int dx\\,\\frac{(2x+1)}{(x+1)(x+2)}  \n",
    "$\n",
    "\n",
    "5. $\\displaystyle\n",
    "\\int dx\\,\\frac{x^2}{x + 7}  \n",
    "$\n",
    "\n",
    "6. $\\displaystyle\n",
    "\\int dx\\,x\\sqrt{3x+4}\n",
    "$\n",
    "\n",
    "7. $\\displaystyle\n",
    "\\int dx\\,\\frac{x}{\\sqrt{3x+4}}\n",
    "$"
   ]
  },
  {
   "cell_type": "code",
   "execution_count": null,
   "id": "enhanced-vanilla",
   "metadata": {},
   "outputs": [],
   "source": []
  }
 ],
 "metadata": {
  "kernelspec": {
   "display_name": "Python 3",
   "language": "python",
   "name": "python3"
  },
  "language_info": {
   "codemirror_mode": {
    "name": "ipython",
    "version": 3
   },
   "file_extension": ".py",
   "mimetype": "text/x-python",
   "name": "python",
   "nbconvert_exporter": "python",
   "pygments_lexer": "ipython3",
   "version": "3.9.6"
  }
 },
 "nbformat": 4,
 "nbformat_minor": 5
}
