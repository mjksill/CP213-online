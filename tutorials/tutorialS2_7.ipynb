{
 "cells": [
  {
   "cell_type": "markdown",
   "metadata": {},
   "source": [
    "# CP213: Tutorial Notebook S2 Week 7\n",
    "## Question 1\n",
    "Let $\\boldsymbol{A}=\\begin{pmatrix} 1&2&5\\\\4&6&9\\end{pmatrix}$, $\\boldsymbol{B}=\\begin{pmatrix} 2 & 5 & 6\\\\1 & 7 & 2\\\\9 & 6 & 1\\end{pmatrix}$, and $\\boldsymbol{C}=\\begin{pmatrix} 5 & 4 & 9\\\\7 & 4 & 0\\\\6 & 9 & 8\\end{pmatrix}$\n",
    "\n",
    "Compute the following:\n",
    "\n",
    "1. $\\boldsymbol{B} + \\boldsymbol{C}$\n",
    "2. $3\\boldsymbol{B} + 2\\boldsymbol{C}$\n",
    "3. $\\boldsymbol{A} + \\boldsymbol{B}$\n",
    "4. $\\boldsymbol{AB}$\n",
    "5. $\\boldsymbol{BA}$"
   ]
  },
  {
   "cell_type": "code",
   "execution_count": null,
   "metadata": {},
   "outputs": [],
   "source": []
  },
  {
   "cell_type": "markdown",
   "metadata": {},
   "source": [
    "## Question 2\n",
    "Let $\\boldsymbol{H}= \\begin{pmatrix} 1 & 1 & 1.5 & 2 & 2\\\\2 & 4 & 5 & 4 & 2\\end{pmatrix}$ be the matrix representing the sequence of vertices PQRST of a figure represented on the x-y plane.\n",
    "\n",
    "1. Determine the shape of the figure represented by $\\boldsymbol{H}$. \n",
    "2. Let $\\boldsymbol{A} = \\begin{pmatrix} 0 & 1\\\\1 & 0\\end{pmatrix}$. Determine the image of the figure under the transformation represented by $\\boldsymbol{AH}$. Illustrate and describe what effect this transformation has.\n"
   ]
  },
  {
   "cell_type": "code",
   "execution_count": null,
   "metadata": {},
   "outputs": [],
   "source": []
  },
  {
   "cell_type": "markdown",
   "metadata": {},
   "source": [
    "## Question 3\n",
    "Let $\\boldsymbol{A}$ represent the triangle with vertices $P(2,2)$, $Q(2,5)$ and $R(4,2)$.\n",
    "\n",
    "1. Write the matrix $\\boldsymbol{A}$\n",
    "2. Determine the image of the triangle under the transformation represented by the matrix multiplication $\\boldsymbol{BA}$, where $\\boldsymbol{B}=\\begin{pmatrix}1&0\\\\0&-1\\end{pmatrix}$. Hence, illustrate and describe what effect this transformation has.\n",
    "3. Determine the image of the triangle under the transformation represented by the matrix multiplication $\\boldsymbol{CA}$, where $\\boldsymbol{C}=\\begin{pmatrix}0&-1\\\\1&0\\end{pmatrix}$. Hence, illustrate and describe what effect this transformation has."
   ]
  },
  {
   "cell_type": "code",
   "execution_count": null,
   "metadata": {},
   "outputs": [],
   "source": []
  },
  {
   "cell_type": "markdown",
   "metadata": {},
   "source": [
    "## Question 4\n",
    "Let $\\boldsymbol{A}=\\begin{pmatrix} 7 & 9 \\\\ 5 & 7 \\end{pmatrix}$.\n",
    "\n",
    "1. Find $\\boldsymbol{A}^{-1}$\n",
    "2. Check that $\\boldsymbol{A}^{-1}$ is the inverse matrix of $\\boldsymbol{A}$"
   ]
  },
  {
   "cell_type": "code",
   "execution_count": null,
   "metadata": {},
   "outputs": [],
   "source": []
  },
  {
   "cell_type": "markdown",
   "metadata": {},
   "source": [
    "## Question 5\n",
    "Consider two continuously-stirred tanks filled with brine solutions connected with flows feeding into one another.\n",
    "\n",
    "<img src=\"tank-recycle.png\" width=\"300\">\n",
    "\n",
    "The first tank is charged with $40 \\ \\rm{L}$ water and $5\\ \\rm{kg}$ salt and the second with $20\\ \\rm{L}$ water and $4\\ \\rm{kg}$ salt. The flow rates into each of the tanks from the other are equivalent at $10\\ \\rm{L\\ min^{-1}}$. Let $x_1$ and $x_2$ be the mass of salt in tanks 1 and 2, respectively, at anytime $t$.  \n",
    "\n",
    "By performing a differential balance on each the tanks show that the resulting differential equations can be written in matrix form as\n",
    "\n",
    "$$\\begin{align*}\n",
    "    \\frac{d}{dt}\\begin{pmatrix}x_1\\\\x_2\\end{pmatrix}= \n",
    "    \\begin{pmatrix}a&b\\\\c&d\\end{pmatrix}\n",
    "    \\begin{pmatrix}x_1\\\\x_2\\end{pmatrix}\n",
    "\\end{align*}$$\n",
    "\n",
    "What are the values of $a$, $b$, $c$ and $d$?\n",
    "\n",
    "Please note: you are not being asked to solve the differential equations, but we will look at how we can do that over the next few weeks. This is another application of linear algebra - solving systems of linear differential equations."
   ]
  },
  {
   "cell_type": "code",
   "execution_count": null,
   "metadata": {},
   "outputs": [],
   "source": []
  }
 ],
 "metadata": {
  "kernelspec": {
   "display_name": "Python 3",
   "language": "python",
   "name": "python3"
  },
  "language_info": {
   "codemirror_mode": {
    "name": "ipython",
    "version": 3
   },
   "file_extension": ".py",
   "mimetype": "text/x-python",
   "name": "python",
   "nbconvert_exporter": "python",
   "pygments_lexer": "ipython3",
   "version": "3.8.5"
  }
 },
 "nbformat": 4,
 "nbformat_minor": 4
}
