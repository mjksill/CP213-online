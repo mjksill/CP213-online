{
 "cells": [
  {
   "cell_type": "markdown",
   "metadata": {},
   "source": [
    "# CP213: Model Solutions for S2 Tutorial 8\n",
    "## Question 1\n",
    "To meet regulations, biodiesel must contain less than $1\\%$ impurity by weight. Pure water is used to extract these impurities in a continuous liquid-liquid extraction column. The basic flow diagram is provided with weight percentage composition of each stream.\n",
    "\n",
    "<img src=\"extractor.png\" width=\"800\">\n",
    "\n",
    "1. Perform material balances around the extractor. How many balances are required to solve for $F,E \\text{ and } P$?\n",
    "2. Represent your material balances in matrix form: $\\mathbf{A\\cdot X}=\\mathbf{B}$\n",
    "3. Find the inverse matrix $\\mathbf{A^{-1}}$ by EROs OR the adjugate matrix\n",
    "4. Hence solve for $\\mathbf{X}$"
   ]
  },
  {
   "cell_type": "markdown",
   "metadata": {},
   "source": [
    "## Question 2\n",
    "Repeat Question 1, now using python to obtain the inverse matrix and solve the system of equations. Remember, it is okay (in fact it is encouraged) to search online and adapt code."
   ]
  },
  {
   "cell_type": "code",
   "execution_count": null,
   "metadata": {},
   "outputs": [],
   "source": []
  },
  {
   "cell_type": "markdown",
   "metadata": {},
   "source": [
    "## Question 3\n",
    "\n",
    "Determine the eigenvalues and eigenvectors of the following matrices and then verify using some python code.\n",
    "\n",
    "1. $\\boldsymbol{A} =\\begin{pmatrix} 5 & 4\\\\ 1 & 2 \\end{pmatrix}$\n",
    "2. $\\boldsymbol{B} =\\begin{pmatrix}-0.25 & 0.5\\\\0.25&-0.5\\end{pmatrix}$ \n",
    "\n",
    "(nb: this is the matrix from the tank-recycle question in tutorial 7)\n",
    "\n",
    "3. $\\boldsymbol{C} =\\begin{pmatrix} -1 & 0 & 2\\\\ 0 & 2 & 0\\\\ -4 & 0 & 5 \\end{pmatrix}$"
   ]
  },
  {
   "cell_type": "code",
   "execution_count": null,
   "metadata": {},
   "outputs": [],
   "source": []
  },
  {
   "cell_type": "code",
   "execution_count": null,
   "metadata": {},
   "outputs": [],
   "source": []
  },
  {
   "cell_type": "code",
   "execution_count": null,
   "metadata": {},
   "outputs": [],
   "source": []
  },
  {
   "cell_type": "markdown",
   "metadata": {},
   "source": [
    "## Question 4\n",
    "\n",
    "Consider a system of $N$ tanks that are connected in series, as shown\n",
    "in the figure below.  Each tank initially contains $V=1\\,{\\rm m}^3$ of\n",
    "water, which is fully mixed, and has two inlet streams and two outlet\n",
    "streams.  Water at temperature $T_{R, {\\rm in}}$ enters tank 1 at a\n",
    "volumetric flow rate $\\dot{V}_{R,{\\rm in}}$, and water at temperature\n",
    "$T_{L, {\\rm in}}$ enters tank 1 at a volumetric flow rate\n",
    "$\\dot{V}_{L,{\\rm in}}$.\n",
    "\n",
    "<img src=\"tank-series.png\" width=\"800\">\n",
    "\n",
    "For the questions below, you can consider that the flows are such that\n",
    "the liquid volume in each of the tanks remains constant.  Assume that water has a density $\\rho=1000\\,{\\rm kg m^{-3}}$ and heat capacity\n",
    "$C=4.2\\,{\\rm kJ\\,kg}^{-1}$.\n",
    "\n",
    "1. Perform a differential energy balance around the first tank\n",
    "   (i.e. tank 1), the final tank (i.e. tank $N$), and an intermediate\n",
    "   tank tank $k$, where $1<k<N$, to develop the differential equations\n",
    "   that govern the temperature of the water in each of the tanks.\n",
    "\n",
    "2. Write the differential equations obtained above in matrix form for the case of 3 tanks and for the case of 5 tanks.\n",
    "\n",
    "3. Consider the case where $\\dot{V}_{R,{\\rm in}}=\\dot{V}_{L,{\\rm in}}=\\dot{V}_{R,{\\rm out}}=\\dot{V}_{L,{\\rm out}}=0.1\\,{\\rm m^3\\,s^{-1}}$, $\\dot{v}_R=\\dot{v}_L=0.1\\,{\\rm m^3\\,s^{-1}}$, $T_{R,{\\rm in}}=80^\\circ{\\rm C}$, and $T_{L,{\\rm in}}=10^\\circ{\\rm C}$.  In the case of 5 tanks, determine the eigenvalues and corresponding eigenvectors of the matrix that appears in the energy balance.  If the initial temperature of the water in all of the tanks is $60^\\circ{\\rm C}$, what is the temperature in each tank at steady state?  Note that the matrix is singular. What does this mean in terms of the steady state solution?\n",
    "4. Consider the case where $\\dot{V}_{R,{\\rm in}}=\\dot{V}_{L,{\\rm in}}=\\dot{V}_{R,{\\rm out}}=\\dot{V}_{L,{\\rm out}}=0$ and $\\dot{v}_R=\\dot{v}_L=0.1\\,{\\rm m^3\\,s^{-1}}$.  In the case of 5 tanks, determine the eigenvalues and corresponding eigenvectors of the matrix that appears in the energy balance.  If the initial temperature of tank 3 is $80^\\circ{\\rm C}$ and the initial temperature of the other tanks is $10^\\circ{\\rm C}$, determine the steady state temperatures of each of the tanks.   \n",
    "\n",
    "5. Consider the case where $\\dot{V}_{R,{\\rm in}}=\\dot{V}_{R,{\\rm out}}=0.1\\,{\\rm m^3\\,s^{-1}}$, $\\dot{V}_{L,{\\rm in}}=\\dot{V}_{L,{\\rm out}}=0$, $\\dot{v}_R=0.2\\,{\\rm m^3\\,s^{-1}}$, and $\\dot{v}_L=0.1\\,{\\rm m^3\\,s^{-1}}$.  In the case of 5 tanks, determine the eigenvalues and corresponding eigenvectors of the matrix that appears in the energy balance.  If the initial temperature of tank 3 is $80^\\circ{\\rm C}$ and the initial temperature of the other tanks is $10^\\circ{\\rm C}$, determine the steady state temperatures of each of the tanks.   \n",
    "\n",
    "\n",
    "\n"
   ]
  },
  {
   "cell_type": "code",
   "execution_count": null,
   "metadata": {},
   "outputs": [],
   "source": []
  },
  {
   "cell_type": "code",
   "execution_count": null,
   "metadata": {},
   "outputs": [],
   "source": []
  },
  {
   "cell_type": "code",
   "execution_count": null,
   "metadata": {},
   "outputs": [],
   "source": []
  }
 ],
 "metadata": {
  "kernelspec": {
   "name": "python3",
   "display_name": "Python 3.9.2 64-bit",
   "metadata": {
    "interpreter": {
     "hash": "ac59ebe37160ed0dfa835113d9b8498d9f09ceb179beaac4002f036b9467c963"
    }
   }
  },
  "language_info": {
   "codemirror_mode": {
    "name": "ipython",
    "version": 3
   },
   "file_extension": ".py",
   "mimetype": "text/x-python",
   "name": "python",
   "nbconvert_exporter": "python",
   "pygments_lexer": "ipython3",
   "version": "3.9.2-final"
  }
 },
 "nbformat": 4,
 "nbformat_minor": 4
}