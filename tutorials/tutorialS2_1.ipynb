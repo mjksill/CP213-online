{
 "cells": [
  {
   "cell_type": "markdown",
   "metadata": {},
   "source": [
    "# CP213: Tutorial Notebook S2 Week 1"
   ]
  },
  {
   "attachments": {},
   "cell_type": "markdown",
   "metadata": {},
   "source": [
    "## Question 1\n",
    "\n",
    "Consider the ideal gas equation $PV=RT$ and evaluate the expression:\n",
    "\\begin{equation*}\n",
    " \\left(\\frac{\\partial P}{\\partial T}\\right)_V\n",
    "  \\left(\\frac{\\partial T}{\\partial V}\\right)_P\n",
    "   \\left(\\frac{\\partial V}{\\partial P}\\right)_T\n",
    "\\end{equation*}\n",
    "Comment on the result - does it seem intuitive?"
   ]
  },
  {
   "cell_type": "code",
   "execution_count": null,
   "metadata": {},
   "outputs": [],
   "source": []
  },
  {
   "cell_type": "markdown",
   "metadata": {},
   "source": [
    "## Question 2\n",
    "\n",
    "The equation involving specific heats $C_p$ (specific heat at\n",
    "constant pressure) and $C_V$ (specific heat at constant volume) is\n",
    "defined as:\n",
    "\\begin{align*}\n",
    "  C_p-C_V &= T\\left(\\frac{\\partial V}{\\partial T}\\right)_P\n",
    "            \\left(\\frac{\\partial P}{\\partial T}\\right)_V\n",
    "\\end{align*}.\n",
    "Using the ideal gas equation, $PV=RT$, show that $C_p-C_V=R$.\n",
    "\n",
    "    \n",
    " "
   ]
  },
  {
   "cell_type": "code",
   "execution_count": null,
   "metadata": {},
   "outputs": [],
   "source": []
  },
  {
   "attachments": {},
   "cell_type": "markdown",
   "metadata": {},
   "source": [
    "## Question 3\n",
    "\n",
    "The displacement $u(x,t)$ of a rod is a function of position $x$ and time $t$:\n",
    "\\begin{align*}\n",
    "u(x,t)          \n",
    "&= \\left[ A\\sin(\\omega x/\\alpha) + B \\cos(\\omega x/\\alpha) \\right]\n",
    "            [C\\sin(\\omega t)+D\\cos(\\omega t)]\n",
    "\\end{align*}\n",
    "where $\\alpha=(E/\\rho)^{1/2}$, $E$ is modulus of elasticity, $\\rho$ is\n",
    "density of rod, and $\\omega$ is the natural frequency of vibration.  Show that $u(x,t)$ satisfies the wave equation:\n",
    "\\begin{align*}\n",
    "        \\frac{\\partial^2u}{\\partial t^2} &=  \\alpha^2\\frac{\\partial^2u}{\\partial x^2}\n",
    "\\end{align*}"
   ]
  },
  {
   "cell_type": "code",
   "execution_count": null,
   "metadata": {},
   "outputs": [],
   "source": []
  },
  {
   "attachments": {},
   "cell_type": "markdown",
   "metadata": {},
   "source": [
    "## Question 4\n",
    "Show that $f_{xy}=f_{yx}$ when\n",
    "\\begin{align*}\n",
    "f = \\frac{xy}{x^2+y^2}\n",
    "       .\n",
    "\\end{align*}"
   ]
  },
  {
   "cell_type": "code",
   "execution_count": null,
   "metadata": {},
   "outputs": [],
   "source": []
  },
  {
   "cell_type": "code",
   "execution_count": null,
   "metadata": {},
   "outputs": [],
   "source": []
  },
  {
   "attachments": {},
   "cell_type": "markdown",
   "metadata": {},
   "source": [
    "## Question 5\n",
    "\n",
    "The lift $L$ of a body in a fluid of density $\\rho$ is given by:\n",
    "\\begin{align*}\n",
    "          L = \\frac{1}{2} C \\rho v^2  A \n",
    "\\end{align*}\n",
    "where $C$ is the lift coefficient, $v$ is the free stream velocity,\n",
    "and $A$ is the area.  If $C$ can be measured to within $1$\\%, $\\rho$\n",
    "to within $0.5$\\%, $v$ to within $0.6$\\%, and $A$ to within $0.1$\\%,\n",
    "approximate the maximum percentage error in the value of $L$. Note:\n",
    "\n",
    "\\begin{align*}\n",
    "df &= \\frac{\\partial f}{\\partial x} dx + \\frac{\\partial f}{\\partial y} dy  \n",
    "\\\\\n",
    "\\Delta f &\\approx \\frac{\\partial f}{\\partial x} \\Delta x\n",
    "   + \\frac{\\partial f}{\\partial y} \\Delta y  \n",
    "\\end{align*}"
   ]
  },
  {
   "cell_type": "code",
   "execution_count": null,
   "metadata": {},
   "outputs": [],
   "source": []
  },
  {
   "cell_type": "code",
   "execution_count": null,
   "metadata": {},
   "outputs": [],
   "source": []
  }
 ],
 "metadata": {
  "kernelspec": {
   "display_name": "Python 3",
   "language": "python",
   "name": "python3"
  },
  "language_info": {
   "codemirror_mode": {
    "name": "ipython",
    "version": 3
   },
   "file_extension": ".py",
   "mimetype": "text/x-python",
   "name": "python",
   "nbconvert_exporter": "python",
   "pygments_lexer": "ipython3",
   "version": "3.9.0"
  }
 },
 "nbformat": 4,
 "nbformat_minor": 4
}
