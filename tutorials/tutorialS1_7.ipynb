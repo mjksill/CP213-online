{
 "cells": [
  {
   "cell_type": "markdown",
   "id": "voluntary-republic",
   "metadata": {},
   "source": [
    "# CP213: Tutorial Notebook 7\n"
   ]
  },
  {
   "cell_type": "markdown",
   "id": "7bb4c925",
   "metadata": {},
   "source": [
    "## Question 1"
   ]
  },
  {
   "cell_type": "markdown",
   "id": "89789d6a",
   "metadata": {},
   "source": [
    "A pollutant species is found to undergo a first order decomposition\n",
    "reaction, where the rate of decay of its concentration $c$ is\n",
    "proportional\n",
    "\\begin{align*}\n",
    "  \\frac{dc}{dt} = - k c\n",
    "\\end{align*}\n",
    "where $k$ is a rate constant that has the units of inverse time.\n",
    "Experimental measurements on the system are given in the table below:\n",
    "\n",
    "    \n",
    "|  $t / {\\rm s}$ |$0     $|$ 10    $|$ 20    $|$ 30    $|$ 40$    |\n",
    "| :-- | --: | --: | --: | --: | --: |\n",
    "|  $c / {\\rm M}$ |$0.167 $|$ 0.126 $|$ 0.095 $|$ 0.072 $|$ 0.054$ |\n",
    "\n",
    "\n",
    "\n",
    "1. Determine how the concentration of the pollutant species is expected to vary with time (i.e. find the function $c(t)$).  Assume that the concentration of the species at time $t=0$ is $c_0$.\n",
    "\n",
    "2. Graph the experimental data in the table above in a form to\n",
    "  obtain a linear relation that can be used to obtain an estimate for\n",
    "  $k$ (Hint: Use a semilog plot).\n",
    "  \n",
    "3. A $0.2\\,{\\rm M}$ solution is fed to a tubular reactor of inner\n",
    "  radius $R=1\\,{\\rm mm}$ and length $L=1\\,{\\rm m}$.  The velocity profile\n",
    "  within the reactor is given by\n",
    "  \\begin{align*}\n",
    "    v(r) &= 2v_0\\left(1-\\frac{r^2}{R^2}\\right)\n",
    "  \\end{align*}\n",
    "  where $r$ is the distance from the center-line of the tube, and\n",
    "  $v_0=1\\,{\\rm cm\\,s}^{-1}$.  Determine the (mean) concentration of\n",
    "  the solution that exits the reactor.  (Hint: First determine the\n",
    "  concentration profile across the cross-section of the exiting plane\n",
    "  of the reactor and then use the trapezoid rule to estimate the\n",
    "  average).\n"
   ]
  },
  {
   "cell_type": "markdown",
   "id": "original-zoning",
   "metadata": {},
   "source": [
    "## Question 2\n",
    "\n"
   ]
  },
  {
   "cell_type": "markdown",
   "id": "5cd2e771",
   "metadata": {},
   "source": [
    "This question tries to analyze and understand the processes that occur when a meteorite falls through the earth's atmostphere (see [TOP 5 METEORITE FALLS](https://www.youtube.com/watch?v=olgJuoxr2Lo)).\n",
    "\n",
    "A spherical meteorite of radius $R=5\\,{\\rm m}$ enters the Earth's\n",
    "atmosphere at an initial velocity of $v_0=20\\,{\\rm km\\,s}^{-1}$.  It is\n",
    "accelerated towards the ground by gravity $g=9.81\\,{\\rm m\\,s}^{-1}$\n",
    "but is decelerated by air friction, which is given by\n",
    "\\begin{align*}\n",
    "  F_d = C_d A \\frac{1}{2} \\rho v^2\n",
    "\\end{align*}\n",
    "where $C_d=0.90$ is the drag coefficient, $A$ is the cross-sectional\n",
    "area of meteor (i.e.\\ $\\pi R^2$), $\\rho=1.2\\,{\\rm kg\\,m}^{-3}$ is the\n",
    "density of the surrounding atmosphere, and $v$ is its speed.\n",
    "\n",
    "Assume that the meteorite is made of solid iron (which has density\n",
    "$7874\\,{\\rm kg\\,m}^{-3}$ and heat capacity\n",
    "$0.45\\,{\\rm J\\,g^{-1}\\,K}^{-1}$).\n",
    "\n",
    "1. What is the terminal velocity of the meteor?\n",
    "\n",
    "2. Develop an expression that describes how the velocity of the\n",
    "  meteorite changes with time.  Over what order of magnitude does it take the meteorite to nearly reach its terminal velocity?  Sketch this on a graph.\n",
    "\n",
    "3. Develop an expression for how the temperature of the meteor\n",
    "  changes with time, assuming that it has reached terminal velocity.\n",
    "  What is the steady state temperature of the meteorite?  How long does it take to reach $1810\\,{\\rm K}$, the melting point of iron?\n",
    "\n",
    "  Note that the meteor gains heats due to the drag of the atmosphere,\n",
    "  and it cools due to radiation, according to the Stefan-Boltzmann law:\n",
    "  \\begin{align*}\n",
    "    \\dot{Q} = S \\sigma T^4\n",
    "  \\end{align*}\n",
    "  where $S$ is the surface area of the meteorite,\n",
    "  $\\sigma=5.670374419\\times10^{-8}\\,{\\rm W\\,m^{-2}\\,K^{-1}}$ is the\n",
    "  Stefan-Boltzmann constant, and $T$ is the absolute temperature of\n",
    "  the meteorite.\n",
    "    \n"
   ]
  },
  {
   "cell_type": "code",
   "execution_count": null,
   "id": "exempt-civilization",
   "metadata": {},
   "outputs": [],
   "source": []
  },
  {
   "cell_type": "markdown",
   "id": "antique-appreciation",
   "metadata": {},
   "source": [
    "## Question 3\n",
    "\n"
   ]
  },
  {
   "cell_type": "markdown",
   "id": "e1a2da39",
   "metadata": {},
   "source": [
    "Solve the following differential equations:\n",
    "1. $ \\displaystyle\n",
    "  (1-x^2) \\frac{dy}{dx} - xy = 3\n",
    "$\n",
    "where $y(0)=1$.  Plot a comparison between your analytical solution and a numerical solution.\n",
    "  \n",
    "2. $ \\displaystyle\n",
    "  x\\frac{dy}{dx} + 2y = x^2\n",
    "$\n",
    "  where $y(1)=0$.  Plot a comparison between your analytical solution and a numerical solution.\n",
    "  \n",
    "3. $ \\displaystyle\n",
    "  x \\frac{dy}{dx} = \\sin x - 2y   \n",
    "$\n",
    "  where $y(\\pi/2)=0$.  Plot a comparison between your analytical solution and a numerical solution.\n",
    "  \n",
    "4. $ \\displaystyle\n",
    "  x(x+1)\\frac{dy}{dx} + y =    2\n",
    "$\n",
    "  where $y\\to1$ as $x\\to\\infty$.\n",
    "\n"
   ]
  },
  {
   "cell_type": "code",
   "execution_count": null,
   "id": "facial-refund",
   "metadata": {},
   "outputs": [],
   "source": []
  },
  {
   "cell_type": "code",
   "execution_count": null,
   "id": "acting-highway",
   "metadata": {},
   "outputs": [],
   "source": []
  }
 ],
 "metadata": {
  "kernelspec": {
   "display_name": "Python 3",
   "language": "python",
   "name": "python3"
  },
  "language_info": {
   "codemirror_mode": {
    "name": "ipython",
    "version": 3
   },
   "file_extension": ".py",
   "mimetype": "text/x-python",
   "name": "python",
   "nbconvert_exporter": "python",
   "pygments_lexer": "ipython3",
   "version": "3.9.6"
  }
 },
 "nbformat": 4,
 "nbformat_minor": 5
}
