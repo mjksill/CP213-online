{
 "cells": [
  {
   "cell_type": "markdown",
   "metadata": {},
   "source": [
    "# CP213: Tutorial Notebook S2 Week 6"
   ]
  },
  {
   "cell_type": "markdown",
   "metadata": {},
   "source": [
    "## Question 1\n",
    "Derive the Maclaurin series expansion for $\\ln{(1+x)}$ and hence evaluate\n",
    "\n",
    "\\begin{align*}\n",
    "    \\lim_{x\\to 0} \\frac{x - \\ln{(x+1)}}{x^2}.\n",
    "\\end{align*}"
   ]
  },
  {
   "cell_type": "code",
   "execution_count": null,
   "metadata": {},
   "outputs": [],
   "source": []
  },
  {
   "cell_type": "markdown",
   "metadata": {},
   "source": [
    "## Question 2\n",
    "Determine the taylor polynomial of $f(x)=\\sqrt[3]{x^2}$ centred at $a=1$ up to the third order term. Hence, approximate the value $=\\sqrt[3]{(1.2)^2}$ and the associated maximum error."
   ]
  },
  {
   "cell_type": "code",
   "execution_count": null,
   "metadata": {},
   "outputs": [],
   "source": []
  },
  {
   "cell_type": "markdown",
   "metadata": {},
   "source": [
    "## Question 3\n",
    "Find the mass of a laminate with surface density given by $\\rho = \\sqrt{x}$ that is bounded by $x=y^2$ and $y=x^2$."
   ]
  },
  {
   "cell_type": "code",
   "execution_count": null,
   "metadata": {},
   "outputs": [],
   "source": []
  },
  {
   "cell_type": "markdown",
   "metadata": {},
   "source": [
    "## Question 4\n",
    "A company specialising in $350 \\ \\rm{ml}$ cans for soft-drinks wishes to explore whether alternative dimensions to reduce material usage. Determine the dimensions of cans that would minimise material usage, stating any assumptions you have made."
   ]
  },
  {
   "cell_type": "code",
   "execution_count": null,
   "metadata": {},
   "outputs": [],
   "source": []
  }
 ],
 "metadata": {
  "kernelspec": {
   "display_name": "Python 3",
   "language": "python",
   "name": "python3"
  },
  "language_info": {
   "codemirror_mode": {
    "name": "ipython",
    "version": 3
   },
   "file_extension": ".py",
   "mimetype": "text/x-python",
   "name": "python",
   "nbconvert_exporter": "python",
   "pygments_lexer": "ipython3",
   "version": "3.8.5"
  }
 },
 "nbformat": 4,
 "nbformat_minor": 4
}
