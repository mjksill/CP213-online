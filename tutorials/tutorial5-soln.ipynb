{
 "cells": [
  {
   "cell_type": "markdown",
   "metadata": {},
   "source": [
    "# CP213: Model Solutions for Tutorial Sheet 5\n",
    "\n"
   ]
  },
  {
   "cell_type": "markdown",
   "metadata": {},
   "source": [
    "## Question 1\n",
    "\n",
    "A brine solution (a mixture of salt and water) begins to flow at a\n",
    "constant rate of $\\dot{V}_{\\rm brine}=6\\,{\\rm L\\,min}^{-1}$ into a\n",
    "large tank that initially holds $V_0=1000\\,{\\rm L}$ of pure water.\n",
    "The solution inside the tank is kept well stirred and flows out of the\n",
    "tank at a constant rate of $\\dot{V}_{\\rm out}=5\\,{\\rm L\\,min}^{-1}$.\n",
    "If the concentration of salt in the brine entering the tank is\n",
    "$c_{\\rm brine}=0.1\\,{\\rm kg\\,L}^{-1}$, determine the concentration of\n",
    "the salt in the tank as a function of time.\n"
   ]
  },
  {
   "cell_type": "markdown",
   "metadata": {},
   "source": [
    "## Model solution for Q1\n",
    "\n",
    "First we perform a balance on the volume of liquid in the tank over\n",
    "the time interval from $t$ to $t+\\Delta t$:\n",
    "\\begin{align*}\n",
    "V(t+\\Delta t) - V(t) \n",
    "&\\approx \\dot{V}_{\\rm brine}\\Delta t\n",
    "- \\dot{V}_{\\rm out} \\Delta t\n",
    "\\\\\n",
    "\\frac{V(t+\\Delta t) - V(t) }{\\Delta t}\n",
    "&\\approx \\dot{V}_{\\rm brine} - \\dot{V}_{\\rm out} \n",
    "\\\\\n",
    "\\frac{dV}{dt} &= \\dot{V}_{\\rm brine} - \\dot{V}_{\\rm out} \n",
    "\\end{align*}\n",
    "This differential equation can be directly integrated to give us the\n",
    "volume of liquid in the tank as a function of time:\n",
    "\\begin{align*}\n",
    "V(t) = V_0 + \n",
    "(\\dot{V}_{\\rm brine} - \\dot{V}_{\\rm out} ) t\n",
    ".\n",
    "\\end{align*}\n",
    "This just states that the volume of the liquid in the tank increases\n",
    "linearly with the difference between the inlet and outlet flowrates; \n",
    "we could have guessed this solution immediately.\n",
    "\n",
    "Next, we perform a balance on the total amount of brine in the \n",
    "tank between the time interval from $t$ to $t+\\Delta t$:\n",
    "\\begin{align*}\n",
    "V(t+\\Delta t) c(t+\\Delta t) - V(t) c(t)\n",
    "&\\approx \\dot{V}_{\\rm brine}\\Delta t c_{\\rm brine}\n",
    "- \\dot{V}_{\\rm out} \\Delta t c(t)\n",
    "\\\\\n",
    "\\frac{V(t+\\Delta t) c(t+\\Delta t) - V(t) c(t)}{ \\Delta t}\n",
    "&\\approx \\dot{V}_{\\rm brine} c_{\\rm brine}\n",
    "- \\dot{V}_{\\rm out} c(t)\n",
    "\\\\\n",
    "\\frac{d}{dt}[ V(t) c(t)]\n",
    "&= \\dot{V}_{\\rm brine} c_{\\rm brine}\n",
    "- \\dot{V}_{\\rm out} c(t)\n",
    "\\\\\n",
    "\\frac{dV}{dt} c(t) + V(t)\\frac{dc}{dt}\n",
    "&= \\dot{V}_{\\rm brine} c_{\\rm brine}\n",
    "- \\dot{V}_{\\rm out} c(t)\n",
    "\\\\\n",
    "(\\dot{V}_{\\rm brine} - \\dot{V}_{\\rm out}) c(t) \n",
    "+ V(t)\\frac{dc}{dt}\n",
    "&= \\dot{V}_{\\rm brine} c_{\\rm brine}\n",
    "- \\dot{V}_{\\rm out} c(t)\n",
    "\\\\\n",
    "V(t)\\frac{dc}{dt} \n",
    "+ \\dot{V}_{\\rm brine}c(t) \n",
    "&= \\dot{V}_{\\rm brine} c_{\\rm brine}\n",
    "\\\\\n",
    "V(t)\\frac{dc}{dt} \n",
    "&= - \\dot{V}_{\\rm brine} [c(t) -c_{\\rm brine}]\n",
    "\\end{align*}\n",
    "with the initial condition $c(0)=0$.  We can solve this\n",
    "equation by isolating variables:\n",
    "\\begin{align*}\n",
    "\\frac{dc}{c_{\\rm brine}-c(t)} \n",
    "&= \\frac{\\dot{V}_{\\rm brine} dt}{V(t)}\n",
    "= \\frac{\\dot{V}_{\\rm brine} dt}{V_0 + (\\dot{V}_{\\rm brine} - \\dot{V}_{\\rm out}) t}\n",
    "\\\\\n",
    "- \\ln|c_{\\rm brine}-c|\n",
    "&= \\frac{\\dot{V}_{\\rm brine} dt}{\\dot{V}_{\\rm brine} - \\dot{V}_{\\rm out}}\n",
    "\\ln[V_0 + (\\dot{V}_{\\rm brine} - \\dot{V}_{\\rm out}) t]\n",
    "+ C\n",
    "\\end{align*}\n",
    "where $C$ is an unknown integration constant.  We can obtain the value of this\n",
    "integration constant by using the initial condition $c(0)=0$: \n",
    "\\begin{align*}\n",
    "-\\ln|c_{\\rm brine}-0|\n",
    "&= \\frac{\\dot{V}_{\\rm brine} }{\\dot{V}_{\\rm brine} - \\dot{V}_{\\rm out}}\n",
    "\\ln[V_0 + (\\dot{V}_{\\rm brine} - \\dot{V}_{\\rm out}) (0)]\n",
    "+ C\n",
    "\\\\\n",
    "- \\ln c_{\\rm brine}\n",
    "&= \\frac{\\dot{V}_{\\rm brine} }{\\dot{V}_{\\rm brine} - \\dot{V}_{\\rm out}}\n",
    "\\ln V_0\n",
    "+ C\n",
    "\\end{align*}\n",
    "\n",
    "Substituting this back into the solution, we find an expression for the \n",
    "concentration of brine in the tank as a function of time:\n",
    "\\begin{align*}\n",
    "- \\ln\\frac{c_{\\rm brine}- c(t)}{c_{\\rm brine}}\n",
    "&= \\frac{\\dot{V}_{\\rm brine}}{\\dot{V}_{\\rm brine} - \\dot{V}_{\\rm out}}\n",
    "\\ln\\frac{V_0 + (\\dot{V}_{\\rm brine} - \\dot{V}_{\\rm out}) t}{V_0}\n",
    "\\\\\n",
    "\\frac{c_{\\rm brine}- c(t)}{c_{\\rm brine}}\n",
    "&= \n",
    "\\left[1 +\\frac{(\\dot{V}_{\\rm brine} - \\dot{V}_{\\rm out}) t}{V_0}\\right]\n",
    "^{-\\dot{V}_{\\rm brine}/(\\dot{V}_{\\rm brine} - \\dot{V}_{\\rm out})}\n",
    "\\\\\n",
    "c(t)\n",
    "&= c_{\\rm brine}  \n",
    "- c_{\\rm brine} \n",
    "\\left[1 +\\frac{(\\dot{V}_{\\rm brine} - \\dot{V}_{\\rm out}) t}{V_0}\\right]^{-\\dot{V}_{\\rm brine}/(\\dot{V}_{\\rm brine} - \\dot{V}_{\\rm out})}\n",
    "\\end{align*}\n",
    "\n",
    "\n",
    "\n"
   ]
  },
  {
   "cell_type": "code",
   "execution_count": 1,
   "metadata": {},
   "outputs": [
    {
     "data": {
      "image/png": "[encoded data removed]",
      "text/plain": [
       "<Figure size 432x288 with 1 Axes>"
      ]
     },
     "metadata": {
      "needs_background": "light"
     },
     "output_type": "display_data"
    }
   ],
   "source": [
    "import pylab as plt\n",
    "import numpy as np\n",
    "\n",
    "cbrine = 0.1  # kg L^{-1}\n",
    "dotVbrine = 6.0  # L min^{-1}\n",
    "dotVout = 5.0    # L min^{-1}\n",
    "V0 = 1000.0      # L\n",
    "tau = V0 / (dotVbrine-dotVout)\n",
    "\n",
    "t_data = np.arange(0.0, 2.0*tau, 0.01*tau)\n",
    "c_data = [cbrine-cbrine*(1.0+t/tau)**(-dotVbrine/(dotVbrine-dotVout)) for t in t_data]\n",
    "\n",
    "plt.plot(t_data, c_data)\n",
    "\n",
    "plt.xlabel(r'time / min')\n",
    "plt.ylabel(r'c(t) / kg L$^{-1}$')\n",
    "plt.show()\n"
   ]
  },
  {
   "cell_type": "markdown",
   "metadata": {},
   "source": [
    "## Question 2\n",
    "\n",
    "A cylindrical tank of diameter $D=1.5\\,{\\rm m}$ is being filled with\n",
    "water at a rate of $\\dot{V}=1000\\,{\\rm L\\,min^{-1}}$.  In addition,\n",
    "water exits the tank through an outlet with cross-sectional area\n",
    "$A_0=25\\,{\\rm cm}^2$ with a velocity $v=\\sqrt{2gh}$, where $h$ is the\n",
    "height of the liquid above the outlet and $g=9.81\\,{\\rm m\\,s^{-2}}$ is\n",
    "the acceleration due to gravity.  The initial water depth is\n",
    "$1.6\\,{\\rm m}$ at $t = 0\\,{\\rm s}$.\n",
    "\n",
    "1. Derive a differential equation that governs the height $h$ of\n",
    "   the liquid level in the tank with time.\n",
    "\n",
    "2. What is the steady state height of the tank?\n",
    "\n",
    "3. Plot the graph of $h$ against $t$.\n",
    "\n",
    "4. The initial temperature of the water in the tank is\n",
    "  $20^\\circ{\\rm C}$, and the temperature of the inlet water is\n",
    "  $T=80^\\circ{\\rm C}$.  Derive a differential equation that governs\n",
    "  the temperature $T$ of the water in the tank varies with time.\n",
    "  Assume that the tank is well mixed, and that\n",
    "  $C_v\\approx C_p\\approx4.2\\,{\\rm J\\,g^{-1}\\,K^{-1}}$.\n",
    "\n",
    "5. What is the steady state temperature of the water in the tank?\n",
    "\n",
    "6. Plot the graph of the temperature $T$ of the water in the tank\n",
    "  with time $t$.\n",
    "\n"
   ]
  },
  {
   "cell_type": "markdown",
   "metadata": {},
   "source": [
    "## Model solution for Q2\n",
    "\n",
    "### Part 1:\n",
    "\n",
    "We perform a mass balance over a time interval starting at $t$ and ending\n",
    "at $t+\\Delta t$.  For this problem, there is no generation of mass, so the  \n",
    "accumulation of water in the tank is given by the difference between the \n",
    "inflow and outflow of water:\n",
    "\\begin{align*}\n",
    "\\rho A h(t+\\Delta t) - \\rho A h(t)\n",
    "&\\approx \\rho \\dot{V} \\Delta t - \\rho A_0 v \\Delta t\n",
    "\\\\\n",
    "&\\approx \\rho \\dot{V} \\Delta t - \\rho A_0 \\sqrt{2gh(t)} \\Delta t\n",
    "\\end{align*}\n",
    "Dividing both sides of the equation by $A\\Delta t$ and taking the limit as\n",
    "$\\Delta t$ becomes vanishingly small (i.e. a very narrow time interval), we\n",
    "find\n",
    "\\begin{align*}\n",
    "\\frac{h(t+\\Delta t) - h(t)}{\\Delta t}\n",
    "&\\approx \\frac{\\dot{V} }{A}\\left[1 - \\frac{A_0}{\\dot{V}} \\sqrt{2gh(t)}\\right]\n",
    "\\\\\n",
    "\\frac{dh}{dt}\n",
    "&= \\frac{\\dot{V} }{A}\\left[1 - \\frac{A_0}{\\dot{V}} \\sqrt{2gh(t)}\\right]\n",
    "\\end{align*}\n",
    "This is the differential equation that governs the variation of the height of the \n",
    "water level in the tank with time.\n"
   ]
  },
  {
   "cell_type": "markdown",
   "metadata": {},
   "source": [
    "### Part 2:\n",
    "\n",
    "At steady state, the height of the water level in the tank will not change \n",
    "with time, which implies that $dh/dt=0$.  We notice that this will occur at a \n",
    "specific value of the height $h$, which we will call $h_\\infty$, that we can\n",
    "obtain by setting the right side of the differential equation to zero:\n",
    "\\begin{align*}\n",
    "\\frac{\\dot{V} }{A}\\left[1 - \\frac{A_0}{\\dot{V}} \\sqrt{2gh_\\infty}\\right] &= 0\n",
    "\\\\\n",
    "1 - \\frac{A_0}{\\dot{V}} \\sqrt{2gh_\\infty} &= 0\n",
    "\\\\\n",
    "1 &= \\frac{A_0}{\\dot{V}} \\sqrt{2gh_\\infty} \n",
    "\\\\\n",
    "\\sqrt{2gh_\\infty} &= \\frac{\\dot{V}}{A_0}\n",
    "\\\\\n",
    "h_\\infty &= \\frac{1}{2g}\\left(\\frac{\\dot{V}}{A_0}\\right)^2\n",
    "\\end{align*}\n",
    "Plugging in the values given to us in the problem statement, we find:"
   ]
  },
  {
   "cell_type": "code",
   "execution_count": 40,
   "metadata": {},
   "outputs": [
    {
     "name": "stdout",
     "output_type": "stream",
     "text": [
      "steady state water level = 2.2652622041001242 m\n"
     ]
    }
   ],
   "source": [
    "import numpy as np\n",
    "\n",
    "D = 1.5\n",
    "dotV = 1.0 / 60.0  # m^3 s^{-1}\n",
    "A0 = 25.0e-4  # m^{-2}\n",
    "g = 9.81  # m s^{-2}\n",
    "h0 = 1.6\n",
    "C = 4.2e3  # J kg^{-1} K^{-1}\n",
    "\n",
    "\n",
    "A = np.pi * D**2 / 4.0\n",
    "\n",
    "\n",
    "h_inf = (dotV/A0)**2 / (2.0*g)\n",
    "print(f'steady state water level = {h_inf} m')\n",
    "\n"
   ]
  },
  {
   "cell_type": "markdown",
   "metadata": {},
   "source": [
    "We note that this value is greater than the initial water level in the tank, so \n",
    "we expect that the level in the tank will slowly increase over time to approach\n",
    "the steady state value.\n"
   ]
  },
  {
   "cell_type": "markdown",
   "metadata": {},
   "source": [
    "### Part 3:\n",
    "\n",
    "Before we start solving the equation, let's recast it in dimensionless\n",
    "form to make things easier.  The first thing that we notice is that the steady\n",
    "state height of the system makes a convenient length scale to measure the\n",
    "height of the liquid level in the tank.  If we define a new dimensionless\n",
    "height $y=h(t)/h_\\infty$, then we find we can greatly simplify the equation:\n",
    "\\begin{align*}\n",
    "\\frac{dh}{dt}\n",
    "&= \\frac{\\dot{V} }{A}\\left[1 - \\frac{A_0}{\\dot{V}} \\sqrt{2gh(t)}\\right]\n",
    "\\\\\n",
    "h_\\infty \\frac{dy}{dt}\n",
    "&= \\frac{\\dot{V} }{A}(1 - y^{1/2})\n",
    "\\\\\n",
    "\\frac{Ah_\\infty}{\\dot{V} } \\frac{dy}{dt}\n",
    "&= 1 - y^{1/2}\n",
    "\\end{align*}\n",
    "Notice that the factor multiplying the derivative on the left side of the \n",
    "equation has units of time.  This provides a scale by which to measure\n",
    "time in our system.  We define $\\tau=Ah_\\infty/\\dot{V}$, and also define\n",
    "a dimensionless time $x=t/\\tau$.  This then gives us our differential mass \n",
    "balance in dimensionless form:\n",
    "\\begin{align*}\n",
    "\\frac{dy}{dx} &= 1 - y^{1/2}\n",
    "\\end{align*}"
   ]
  },
  {
   "cell_type": "code",
   "execution_count": 41,
   "metadata": {},
   "outputs": [
    {
     "name": "stdout",
     "output_type": "stream",
     "text": [
      "tau = 240.18292458637558 s\n",
      "y0 = 0.7063200000000002\n"
     ]
    }
   ],
   "source": [
    "tau = A*h_inf / dotV\n",
    "print(f'tau = {tau} s')\n",
    "\n",
    "y0 = h0 / h_inf\n",
    "print(f'y0 = {y0}')"
   ]
  },
  {
   "cell_type": "markdown",
   "metadata": {},
   "source": [
    "Now there are two different ways that we can solve this equation: analytically\n",
    "and numerically.  \n",
    "\n",
    "To analytically solve the differential equation, we multiply both sides by $dx$ and\n",
    "the isolate the variables:\n",
    "\\begin{align*}\n",
    "\\frac{dy}{1 - y^{1/2}} &= dx\n",
    "\\end{align*}\n",
    "In order to perform the integral over $y$, we make the substitution $z=y^{1/2}$, \n",
    "which implies that $y=z^2$ and $dy=2zdz$.  This then allows us to perform the\n",
    "integral\n",
    "\\begin{align*}\n",
    "\\int \\frac{dy}{1 - y^{1/2}}\n",
    "&= \\int \\frac{2zdz}{1 - z}\n",
    "= \\int \\frac{-2(1-z-1)dz}{1 - z}\n",
    "= -2\\int dz \\left(1-\\frac{1}{1 - z}\\right)\n",
    "\\\\\n",
    "&= -2 z - 2\\ln(1 - z)\n",
    "\\\\\n",
    "&= -2y^{1/2} - 2\\ln(1 - y^{1/2})\n",
    "\\end{align*}\n",
    "Integrating both sides of the differential equation, we then find:\n",
    "\\begin{align*}\n",
    "\\frac{dy}{1 - y^{1/2}} &= dx\n",
    "\\\\\n",
    "-2y^{1/2} - 2\\ln(1 - y^{1/2}) &= x + C\n",
    "\\end{align*}\n",
    "where $C$ is an unknown integration constant.  We can obtain its value by using\n",
    "the initial condition $y(0)=y_0$ when $x=0$.  From this, we find\n",
    "\\begin{align*}\n",
    "-2y_0^{1/2} - \\ln(1 - y_0^{1/2}) &= (0) + C\n",
    "\\\\\n",
    "C &= -2y_0^{1/2} - 2\\ln(1 - y_0^{1/2})\n",
    "\\end{align*}\n",
    "Substituting this back into the previous equation, we find:\n",
    "\\begin{align*}\n",
    "-2\\left[y^{1/2}-y^{1/2} +\\ln\\frac{1 - y^{1/2}}{1 - y_0^{1/2}}\\right] &= x\n",
    "\\end{align*}\n",
    "which tells us the (dimensionless) time at which the (dimensionless) water level takes on\n",
    "specific values.\n"
   ]
  },
  {
   "cell_type": "code",
   "execution_count": 42,
   "metadata": {
    "scrolled": true
   },
   "outputs": [
    {
     "data": {
      "image/png": "[encoded data removed]",
      "text/plain": [
       "<Figure size 432x288 with 1 Axes>"
      ]
     },
     "metadata": {
      "needs_background": "light"
     },
     "output_type": "display_data"
    }
   ],
   "source": [
    "import numpy as np\n",
    "import pylab as plt\n",
    "\n",
    "dy = abs(1.0-y0)/200.0\n",
    "y_analytical = np.arange(y0, 1.0, dy)\n",
    "x_analytical = [-2.0*(np.sqrt(y)-np.sqrt(y0)+np.log((1.0-np.sqrt(y))/(1.0-np.sqrt(y0)))) for y in y_analytical]\n",
    "\n",
    "plt.plot(x_analytical, y_analytical)\n",
    "\n",
    "plt.xlabel(r'$t/\\tau$')\n",
    "plt.ylabel(r'$h(t)/h_\\infty$')\n",
    "plt.show()"
   ]
  },
  {
   "cell_type": "code",
   "execution_count": 43,
   "metadata": {
    "scrolled": true
   },
   "outputs": [
    {
     "data": {
      "image/png": "[encoded data removed]",
      "text/plain": [
       "<Figure size 432x288 with 1 Axes>"
      ]
     },
     "metadata": {
      "needs_background": "light"
     },
     "output_type": "display_data"
    }
   ],
   "source": [
    "t_analytical = [x*tau for x in x_analytical]\n",
    "h_analytical = [y*h_inf for y in y_analytical]\n",
    "\n",
    "\n",
    "plt.plot(t_analytical, h_analytical)\n",
    "\n",
    "plt.xlabel(r'$t$ / seconds')\n",
    "plt.ylabel(r'$h(t)$ / m')\n",
    "plt.show()"
   ]
  },
  {
   "cell_type": "markdown",
   "metadata": {},
   "source": [
    "To numerically solve the equation, we simply  approximate the derivative\n",
    "by using a finite difference:\n",
    "\\begin{align*}\n",
    "\\frac{dy}{dx} &= 1-y^{1/2}\n",
    "\\\\\n",
    "\\frac{y(x+\\Delta x)-y(x)}{\\Delta x} &\\approx 1-y^{1/2}(x)\n",
    "\\\\\n",
    "y(x+\\Delta x) &\\approx y(x) + [1-y^{1/2}(x)] \\Delta x\n",
    "\\end{align*}\n",
    "This approximate equation allows us to determine the (dimensionless) water\n",
    "level in the tank at a subsequent (dimensionless) time $x+\\Delta x$, if we\n",
    "know the water level at an initial time $y(x)$.\n"
   ]
  },
  {
   "cell_type": "code",
   "execution_count": 44,
   "metadata": {},
   "outputs": [],
   "source": [
    "\n",
    "dx = 0.01\n",
    "nsteps = int(10.0/dx)\n",
    "\n",
    "y0 = h0 / h_inf\n",
    "x_data = [0.0]\n",
    "y_data = [y0]\n",
    "\n",
    "xold = 0.0\n",
    "yold = y0\n",
    "for step in range(nsteps):\n",
    "    xnew = xold + dx\n",
    "    ynew = yold + (1.0-np.sqrt(yold))*dx\n",
    "    x_data.append(xnew)\n",
    "    y_data.append(ynew)\n",
    "    xold = xnew\n",
    "    yold = ynew\n",
    "    \n"
   ]
  },
  {
   "cell_type": "code",
   "execution_count": 45,
   "metadata": {
    "scrolled": true
   },
   "outputs": [
    {
     "data": {
      "image/png": "[encoded data removed]",
      "text/plain": [
       "<Figure size 432x288 with 1 Axes>"
      ]
     },
     "metadata": {
      "needs_background": "light"
     },
     "output_type": "display_data"
    }
   ],
   "source": [
    "import pylab as plt\n",
    "\n",
    "plt.plot(x_data, y_data, 'o')\n",
    "\n",
    "plt.plot(x_analytical, y_analytical)\n",
    "\n",
    "plt.xlabel(r'$t/\\tau$')\n",
    "plt.ylabel(r'$h(t)/h_\\infty$')\n",
    "\n",
    "plt.show()\n"
   ]
  },
  {
   "cell_type": "code",
   "execution_count": 46,
   "metadata": {},
   "outputs": [
    {
     "data": {
      "image/png": "[encoded data removed]",
      "text/plain": [
       "<Figure size 432x288 with 1 Axes>"
      ]
     },
     "metadata": {
      "needs_background": "light"
     },
     "output_type": "display_data"
    }
   ],
   "source": [
    "import pylab as plt\n",
    "\n",
    "t_data = [x*tau for x in x_data]\n",
    "h_data = [y*h_inf for y in y_data]\n",
    "\n",
    "\n",
    "plt.plot(t_data, h_data, 'o')\n",
    "plt.plot(t_analytical, h_analytical)\n",
    "\n",
    "plt.xlabel(r'$t$ / seconds')\n",
    "plt.ylabel(r'$h(t)$ / m')\n",
    "plt.show()"
   ]
  },
  {
   "cell_type": "markdown",
   "metadata": {},
   "source": [
    "### Part 4:\n",
    "\n",
    "We perform an energy balance over a time interval starting at $t$ and ending\n",
    "at $t+\\Delta t$.  For this problem, there is no generation of energy, so the  \n",
    "accumulation of energy in the tank is given by the difference between the \n",
    "inflow and outflow of energy.  This can be written as\n",
    "\\begin{align*}\n",
    "m(t+\\Delta t) U(t+\\Delta t) - m(t) U(t)\n",
    "&\\approx \\rho \\dot{V} \\Delta t H(T_{\\rm in}) \n",
    "- \\rho A_0 v \\Delta t H(T)\n",
    "\\\\\n",
    "\\frac{m(t+\\Delta t) U(t+\\Delta t) - m(t) U(t)}{\\Delta t}\n",
    "&\\approx \\rho \\dot{V} H(T_{\\rm in}) \n",
    "- \\rho A_0 v H(T)\n",
    "\\end{align*}\n",
    "where $m$ is the mass of water in the system, $U$ is the specific internal \n",
    "energy of water, and $H(T)$ is the specific enthalpy of water at a temperature $T$.\n",
    "Taking the limit as $\\Delta t\\to0$, we find\n",
    "\\begin{align*}\n",
    "\\frac{d}{dt}(mU)\n",
    "&= \\rho \\dot{V} H(T_{\\rm in}) \n",
    "- \\rho A_0 v H(T)\n",
    "\\end{align*}\n",
    "We apply the product rule to the right side of the equation to obtain\n",
    "\\begin{align*}\n",
    "m\\frac{dU}{dt} + U(T)\\frac{dm}{dt}\n",
    "&= \\rho \\dot{V} H(T_{\\rm in}) \n",
    "- \\rho A_0 v H(T)\n",
    "\\\\\n",
    "m\\frac{dU}{dt}\n",
    "&= \\rho \\dot{V} H(T_{\\rm in})\n",
    "- \\rho A_0 v H(T)\n",
    "- U(T)\\frac{dm}{dt}\n",
    "\\end{align*}\n",
    "\n",
    "We note that the balance equation for the mass of water in the tank can be\n",
    "expressed as\n",
    "\\begin{align*}\n",
    "\\frac{dm}{dt} &= \\rho \\dot{V} - \\rho A_0 v\n",
    "\\end{align*}\n",
    "\\begin{align*}\n",
    "m\\frac{dU}{dt}\n",
    "&= \\rho \\dot{V} H(T_{\\rm in})\n",
    "- \\rho A_0 v H(T)\n",
    "- U(T) (\\rho \\dot{V} - \\rho A_0 v)\n",
    "\\\\\n",
    "&= \\rho \\dot{V} [H(T_{\\rm in})-U(T)]\n",
    "- \\rho A_0 v [H(T)- U(T)]\n",
    "\\end{align*}\n",
    "If we note that \n",
    "\\begin{align*}\n",
    "\\Delta U &= C\\Delta T \n",
    "\\\\\n",
    "\\Delta H &= C\\Delta T \n",
    "\\end{align*}\n",
    "then we find\n",
    "\\begin{align*}\n",
    "mC\\frac{dT}{dt}\n",
    "&= \\rho \\dot{V} C(T_{\\rm in}-T)\n",
    "\\\\\n",
    "\\rho A h C\\frac{dT}{dt}\n",
    "&= \\rho \\dot{V} C(T_{\\rm in}-T)\n",
    "\\\\\n",
    "A h \\frac{dT}{dt}\n",
    "&= - \\dot{V} (T-T_{\\rm in})\n",
    "\\end{align*}\n",
    "Note that if we use our dimensionless water level $y/h/h_\\infty$ and\n",
    "time $x=t/\\tau$, this equation then simplifies to:\n",
    "\\begin{align*}\n",
    "y(x) \\frac{dT}{dx}\n",
    "&= - (T-T_{\\rm in})\n",
    "\\end{align*}\n",
    "\n",
    "\n"
   ]
  },
  {
   "cell_type": "markdown",
   "metadata": {},
   "source": [
    "### Part 5:\n",
    "\n",
    "We note that the temperature no longer changes (i.e. $dT/dt=0$) when \n",
    "the water temperature equals $T_{\\rm in}$.  This implies that the steady\n",
    "state temperature of the water in the tank is equal to the inlet \n",
    "water temperature."
   ]
  },
  {
   "cell_type": "markdown",
   "metadata": {},
   "source": [
    "### Part 6:\n",
    "\n",
    "We can solve the differential equation by isolation of variables, however,\n",
    "it will be a little tricky, since we do not have an explicit expression of \n",
    "$y$ in terms of $x$.  However, we can get around this problem:\n",
    "\\begin{align*}\n",
    "y(x) \\frac{dT}{dx}\n",
    "&= - (T-T_{\\rm in})\n",
    "\\\\\n",
    " \\frac{dT}{T-T_{\\rm in}}\n",
    "&= - \\frac{dx}{y(x)}\n",
    "= - \\frac{dx}{dy}\\frac{dy}{y(x)}\n",
    "\\\\\n",
    "&= - \\frac{1}{1-y^{1/2}}\\frac{dy}{y}\n",
    "\\end{align*}\n",
    "where we have used the relation $dy/dx=1-y^{1/2}$. To integrate the left \n",
    "side of the equation, we use the subsitution $z=y^{1/2}$, which gives\n",
    "$y=z^2$ and $dy=2zdz$:\n",
    "\\begin{align*}\n",
    "\\int \\frac{1}{1-y^{1/2}}\\frac{dy}{y}\n",
    "&= \\int \\frac{1}{1-z}\\frac{2zdz}{z^2}\n",
    "= 2 \\int \\frac{dz}{z(1-z)}\n",
    "\\\\\n",
    "&= 2 \\int \\left(\\frac{1}{z} + \\frac{1}{1-z}\\right)dz\n",
    "\\\\\n",
    "&= 2 \\left(\\ln|z| - \\ln|1-z|\\right) + C\n",
    "\\\\\n",
    "&= 2 \\ln\\frac{z}{1-z} + C\n",
    "\\\\\n",
    "&= 2 \\ln\\frac{y^{1/2}}{1-y^{1/2}} + C\n",
    "\\\\\n",
    "&= \\ln\\frac{y}{(1-y^{1/2})^2} + C\n",
    "\\end{align*}\n",
    "\n",
    "\n",
    "Integrating both sides of the equation, we find\n",
    "\\begin{align*}\n",
    "\\ln(T-T_{\\rm in})\n",
    "&= -\\ln\\frac{y}{(1-y^{1/2})^2} + C\n",
    "\\end{align*}\n",
    "where $C$ is an integration constant that we can obtain by using the \n",
    "initial condition $T(0)=T_0$.  This gives:\n",
    "\\begin{align*}\n",
    "\\ln(T_0-T_{\\rm in})\n",
    "&= -\\ln\\frac{y_0}{(1-y_0^{1/2})^2} + C\n",
    "\\end{align*}\n",
    "So finally, we arrive at an expression that gives the temperature of\n",
    "the water in the tank in terms of the height of the water level in\n",
    "the tank:\n",
    "\\begin{align*}\n",
    "\\ln\\frac{T-T_{\\rm in}}{T_0-T_{\\rm in}}\n",
    "&= -\\ln\\frac{y}{(1-y^{1/2})^2}\\frac{(1-y_0^{1/2})^2}{y_0}\n",
    "  \\\\\n",
    "\\frac{T-T_{\\rm in}}{T_0-T_{\\rm in}}\n",
    "  &= \\frac{y_0}{y}\\frac{(1-y^{1/2})^2}{(1-y_0^{1/2})^2}\n",
    "    \\\\\n",
    "  T  &= T_{\\rm in}\n",
    "  +  (T_0-T_{\\rm in})\\frac{y_0}{y}\\frac{(1-y^{1/2})^2}{(1-y_0^{1/2})^2}\n",
    "\\end{align*}\n",
    "In the previous part of the question, we obtained an expression for\n",
    "the time required for the water level to reach different values.  This\n",
    "allows us to plot the variation temperature of the water in the tank with\n",
    "time.\n",
    "\n",
    "\n"
   ]
  },
  {
   "cell_type": "code",
   "execution_count": 52,
   "metadata": {},
   "outputs": [
    {
     "data": {
      "image/png": "[encoded data removed]",
      "text/plain": [
       "<Figure size 432x288 with 1 Axes>"
      ]
     },
     "metadata": {
      "needs_background": "light"
     },
     "output_type": "display_data"
    }
   ],
   "source": [
    "\n",
    "T0 = 20.0\n",
    "Tin = 80.0\n",
    "\n",
    "T_analytical = []\n",
    "for y in y_analytical:\n",
    "    T = Tin + (T0-Tin)*y0*(1.0-np.sqrt(y))**2/(y*(1.0-np.sqrt(y0))**2)\n",
    "    T_analytical.append(T)\n",
    "    \n",
    "plt.plot(x_analytical, T_analytical)\n",
    "\n",
    "plt.xlabel(r'$t/\\tau$')\n",
    "plt.ylabel(r'T / $^\\circ$C')\n",
    "plt.show()"
   ]
  },
  {
   "cell_type": "markdown",
   "metadata": {},
   "source": [
    "We can also solve this equation numerically by approximating the derivative of\n",
    "the temperature with a finite difference.  This will give us the\n",
    "approximate relation\n",
    "\\begin{align*}\n",
    "T(x+\\Delta x)\n",
    "&= T(x) - [T(x)-T_{\\rm in}] \\frac{\\Delta x}{y(x)} \n",
    "\\end{align*}\n",
    "Note that the values of $y(x)$ are known from the solution of the previous\n",
    "part of the problem.\n"
   ]
  },
  {
   "cell_type": "code",
   "execution_count": 53,
   "metadata": {},
   "outputs": [
    {
     "data": {
      "image/png": "[encoded data removed]",
      "text/plain": [
       "<Figure size 432x288 with 1 Axes>"
      ]
     },
     "metadata": {
      "needs_background": "light"
     },
     "output_type": "display_data"
    }
   ],
   "source": [
    "\n",
    "T0 = 20.0\n",
    "Tin = 80.0\n",
    "T_data = [T0]\n",
    "\n",
    "\n",
    "Told = T0\n",
    "for y in y_data[1:]:\n",
    "    Tnew = Told - (Told - Tin) * dx / y\n",
    "    T_data.append(Tnew)\n",
    "    Told = Tnew\n",
    "    \n",
    "plt.plot(x_data, T_data, 'o')\n",
    "\n",
    "plt.plot(x_analytical, T_analytical)\n",
    "\n",
    "plt.xlabel(r'$t/\\tau$')\n",
    "plt.ylabel(r'T / $^\\circ$C')\n",
    "plt.show()\n",
    "    "
   ]
  },
  {
   "cell_type": "markdown",
   "metadata": {},
   "source": [
    "## Question 3\n",
    "\n",
    "Solve the following differential equations:\n",
    "\n",
    "\n",
    "1.\n",
    "  $\\displaystyle\n",
    "    x^2(y+1)+y^2(x-1)\\frac{dy}{dx} = 0\n",
    "  $\n",
    "\n",
    "2.\n",
    "  $\\displaystyle\n",
    "    \\frac{dy}{dx} = \\frac{y}{1+y}\n",
    "  $\n",
    "  \n",
    "3.\n",
    "  $\\displaystyle\n",
    "    x\\tan y + (x^2+1)\\frac{dy}{dx} = 0\n",
    "  $\n",
    "\n",
    "4.\n",
    "  $\\displaystyle\n",
    "  xy^3\\frac{dy}{dx} = (1+x^2)(1+y^2)  \n",
    "  $\n",
    "  where $y(1)=1$.  Plot a comparison between your analytical solution and a numerical solution obtaned by the \"odeint\" function in scipy.integrate.\n",
    "  \n",
    "  "
   ]
  },
  {
   "cell_type": "markdown",
   "metadata": {},
   "source": [
    "## Model solutions for Q3\n",
    "\n",
    "### Part 1:\n",
    "\n",
    "\n",
    "\\begin{align*}\n",
    "x^2(y+1)+y^2(x-1)\\frac{dy}{dx} &= 0\n",
    "\\\\\n",
    "y^2(x-1)\\frac{dy}{dx} &= - x^2(y+1)\n",
    "\\\\\n",
    "\\frac{y^2}{(y+1)}\\frac{dy}{dx} &= - \\frac{x^2}{(x-1)}\n",
    "\\\\\n",
    "\\frac{y^2dy}{(y+1)} &= - \\frac{x^2 dx}{(x-1)}\n",
    "\\\\\n",
    "\\frac{(y+1-1)^2dy}{(y+1)} &= - \\frac{(x-1+1)^2 dx}{(x-1)}\n",
    "\\\\\n",
    "\\frac{(y+1)^2-2(y+1)+1}{(y+1)}dy &= - \\frac{(x-1)^2+2(x-1)+1}{(x-1)}dx\n",
    "\\\\\n",
    "\\left(y+1 - 2  + \\frac{1}{y+1}\\right)dy \n",
    "&= - \\left(x-1 +2 +\\frac{1}{x-1}\\right)dx\n",
    "\\\\\n",
    "\\frac{y^2}{2}- y  + \\ln|y+1|\n",
    "&= - \\frac{x^2}{2} - x - \\ln|x-1| + C\n",
    "\\end{align*}\n",
    "where $C$ is an integration constant.\n",
    "\n",
    "Now, let's see if we can get `sympy` to solve this equation.  Just using Google, I found a couple of interesting sites:\n",
    "- [StackOverflow](https://stackoverflow.com/questions/28917249/how-to-solve-first-order-linear-differential-equations-analytically-and-numerica)\n",
    "- [Solving Differential Equations In Python In Less Than 5 Minutes (General Solution)](https://www.youtube.com/watch?v=Dkifb6nytao)\n",
    "\n",
    "Ok, let's give this a try:"
   ]
  },
  {
   "cell_type": "code",
   "execution_count": 1,
   "metadata": {
    "scrolled": true
   },
   "outputs": [
    {
     "name": "stdout",
     "output_type": "stream",
     "text": [
      "Eq(x**2/2 + x + y(x)**2/2 - y(x) + log(x - 1) + log(y(x) + 1), C1)\n"
     ]
    }
   ],
   "source": [
    "import sympy as sp\n",
    "\n",
    "x = sp.symbols('x')\n",
    "y = sp.Function('y')(x)\n",
    "y_ = sp.Derivative(y, x)\n",
    "\n",
    "f = x**2*(y+1) + y**2*(x-1)*y_ \n",
    "sol = sp.dsolve(f, y)\n",
    "print(sol)"
   ]
  },
  {
   "cell_type": "markdown",
   "metadata": {},
   "source": [
    "Ok, that is interesting.  `sympy` returns an expression with \"Eq\" that has two arguments.  Comparing it with our solution, it looks like this is an equation where the first argument is equal to the second argument.  This then matches our solution that we obtained analytically.  That is good to know."
   ]
  },
  {
   "cell_type": "markdown",
   "metadata": {},
   "source": [
    "### Part 2:\n",
    "\n",
    "\\begin{align*}\n",
    "\\frac{dy}{dx} &= \\frac{y}{1+y}\n",
    "\\\\\n",
    "\\frac{1+y}{y}\\frac{dy}{dx} &= 1\n",
    "\\\\\n",
    "\\frac{1+y}{y} dy &= dx\n",
    "\\\\\n",
    "\\left(\\frac{1}{y} + 1\\right) dy &= dx\n",
    "\\\\\n",
    "\\ln|y| + y &= x + C\n",
    "\\end{align*}\n",
    "where $C$ is an integration constant.\n",
    "\n",
    "Let's see what `sympy` gives us:"
   ]
  },
  {
   "cell_type": "code",
   "execution_count": 2,
   "metadata": {},
   "outputs": [
    {
     "name": "stdout",
     "output_type": "stream",
     "text": [
      "Eq(y(x), LambertW(C1*exp(x)))\n"
     ]
    }
   ],
   "source": [
    "import sympy as sp\n",
    "\n",
    "x = sp.symbols('x')\n",
    "y = sp.Function('y')(x)\n",
    "y_ = sp.Derivative(y, x)\n",
    "\n",
    "f = y_ - y/(1+y) \n",
    "sol = sp.dsolve(f, y)\n",
    "print(sol)"
   ]
  },
  {
   "cell_type": "markdown",
   "metadata": {},
   "source": [
    "Ok, `sympy` has given us an \"Eq\" expression again with two arguments: the first is $y(x)$, the function we are solving for, and the second is the LambertW function.  So that means that our solution is the LambertW function of $C_1e^x$.  What the heck is a LambertW function?  It is no good giving that as our answer if we do not know what it is.  \n",
    "\n",
    "From [Wikipedia](https://en.wikipedia.org/wiki/Lambert_W_function), we find that the Lambert W function $W(x)$ is the inverse function of $we^w$.  That is\n",
    "\\begin{align*}\n",
    "W(x)e^{W(x)} = x\n",
    ".\n",
    "\\end{align*}\n",
    "Does that match up with our analytical solution?\n",
    "\n",
    "\\begin{align*}\n",
    "\\ln|y| + y &= x + C\n",
    "\\\\\n",
    "ye^{y} &= e^{x+C} = C_1 e^x\n",
    "\\end{align*}\n",
    "where $C_1=e^C$ is an integration constant.  So we see that actually `sympy` did give us the correct answer:\n",
    "\\begin{align*}\n",
    "y(x) &= W(C_1 e^{x}),\n",
    "\\end{align*}\n",
    "where $W$ is the Lambert W function."
   ]
  },
  {
   "cell_type": "markdown",
   "metadata": {},
   "source": [
    "### Part 3:\n",
    "\n",
    "\\begin{align*}\n",
    "    x\\tan y + (x^2+1)\\frac{dy}{dx} &= 0\n",
    "\\\\\n",
    "(x^2+1)\\frac{dy}{dx} &= - x\\tan y \n",
    "\\\\\n",
    "\\frac{1}{\\tan y}\\frac{dy}{dx} &= - \\frac{x}{(x^2+1)}\n",
    "\\\\\n",
    "\\frac{dy}{\\tan y} &= - \\frac{xdx}{(x^2+1)}\n",
    "\\\\\n",
    "\\ln|\\sin y| &=  - \\frac{1}{2}\\ln|x^2+1| + C\n",
    "\\\\\n",
    "\\ln|\\sin y| &=  \\ln|x^2+1|^{-1/2} + C\n",
    "\\\\\n",
    "\\sin y &=  e^C |x^2+1|^{-1/2} \n",
    "\\end{align*}\n",
    "where $C$ is an integration constant."
   ]
  },
  {
   "cell_type": "code",
   "execution_count": 3,
   "metadata": {
    "scrolled": true
   },
   "outputs": [
    {
     "name": "stdout",
     "output_type": "stream",
     "text": [
      "[Eq(y(x), pi - asin(C1/sqrt(x**2 + 1))), Eq(y(x), asin(C1/sqrt(x**2 + 1)))]\n"
     ]
    }
   ],
   "source": [
    "import sympy as sp\n",
    "\n",
    "x = sp.symbols('x')\n",
    "y = sp.Function('y')(x)\n",
    "y_ = sp.Derivative(y, x)\n",
    "\n",
    "f = x*sp.tan(y) + (x**2+1)*y_\n",
    "sol = sp.dsolve(f, y)\n",
    "print(sol)"
   ]
  },
  {
   "cell_type": "markdown",
   "metadata": {},
   "source": [
    "Ok, it looks like `sympy` gives us two different solutions; however, they are both equivalent to our implicit analytical solution.  This difference is that when we take the inverse sin of both sides of our solution to get an explict expression for $y(x)$.  Both solutions that `sympy` gives us are equivalent to our implicit solution if we take the $\\sin$ of them."
   ]
  },
  {
   "cell_type": "markdown",
   "metadata": {},
   "source": [
    "### Part 4:\n",
    "\n",
    "\n",
    "\\begin{align*}\n",
    "  xy^3\\frac{dy}{dx} &= (1+x^2)(1+y^2)  \n",
    "\\\\\n",
    "  \\frac{y^3}{(1+y^2)  }\\frac{dy}{dx} &= \\frac{1+x^2}{x}\n",
    "\\\\\n",
    "  \\frac{y^3dx}{(1+y^2)} &= \\frac{(1+x^2)dx}{x}\n",
    "\\\\\n",
    "  \\frac{y(1+y^2-1)dy}{(1+y^2)} &= \\left(\\frac{1}{x}+x\\right)dx\n",
    "\\\\\n",
    "\\left(y - \\frac{y dy}{1+y^2}\\right)dy\n",
    "&= \\left(\\frac{1}{x}+x\\right)dx\n",
    "\\\\\n",
    "\\frac{y^2}{2} - \\frac{1}{2}\\ln|1+y^2|\n",
    "&= \\ln|x| + \\frac{x^2}{2}\n",
    "+ C\n",
    "\\end{align*}\n",
    "where $C$ is an unknown integration constant.\n",
    "\n",
    "Just out of curiosity, let's see what `sympy` gives:"
   ]
  },
  {
   "cell_type": "code",
   "execution_count": 4,
   "metadata": {},
   "outputs": [
    {
     "name": "stdout",
     "output_type": "stream",
     "text": [
      "Eq(-x**2/2 + y(x)**2/2 - log(x) - log(y(x)**2 + 1)/2, C1)\n"
     ]
    }
   ],
   "source": [
    "import sympy as sp\n",
    "\n",
    "x = sp.symbols('x')\n",
    "y = sp.Function('y')(x)\n",
    "y_ = sp.Derivative(y, x)\n",
    "\n",
    "f = x*y**3*y_ - (1+x**2)*(1+y**2)\n",
    "sol = sp.dsolve(f, y)\n",
    "print(sol)"
   ]
  },
  {
   "cell_type": "markdown",
   "metadata": {},
   "source": [
    "This is essentially the same as what we obtained analytically.  That is good.\n",
    "\n",
    "We can determine the integration constant\n",
    "by using the initial condition $y(1)=1$:\n",
    "\\begin{align*}\n",
    "\\frac{(1)^2}{2} - \\frac{1}{2}\\ln|1+(1)^2|\n",
    "&= \\ln|1| + \\frac{(1)^2}{2}\n",
    "+ C\n",
    "\\\\\n",
    "\\frac{1}{2} - \\frac{1}{2}\\ln2\n",
    "&= \\frac{1}{2}\n",
    "+ C\n",
    "\\\\\n",
    "C &= -\\frac{\\ln2}{2}\n",
    "\\end{align*}\n",
    "The final solution is then given by\n",
    "\\begin{align*}\n",
    "\\frac{y^2}{2} - \\frac{1}{2}\\ln|1+y^2|\n",
    "&= \\ln|x| + \\frac{x^2}{2}\n",
    "-\\frac{\\ln2}{2}\n",
    "\\\\\n",
    "y^2 - \\ln|1+y^2|\n",
    "&= 2\\ln|x| + x^2\n",
    "-\\ln2\n",
    ".\n",
    "\\end{align*}\n",
    "\n",
    "\n",
    "Note that while we have in principle solved the differential equation,\n",
    "we have obtained it in an implicit form.  This makes it difficult to\n",
    "directly obtain a plot of how $y$ varies with $x$.  In order to do so,\n",
    "we first need to pick a value of $x$; we then need to solve the\n",
    "equation for $y$.  This process needs to be repeated for different\n",
    "values of $x$ in order to obtain the final plot.  Below, we use the\n",
    "`fsolve` function from the `scipy` library to numerically solve the\n",
    "equation of $y$.\n"
   ]
  },
  {
   "cell_type": "code",
   "execution_count": 6,
   "metadata": {},
   "outputs": [
    {
     "data": {
      "image/png": "[encoded data removed]",
      "text/plain": [
       "<Figure size 432x288 with 1 Axes>"
      ]
     },
     "metadata": {
      "needs_background": "light"
     },
     "output_type": "display_data"
    }
   ],
   "source": [
    "import pylab as plt\n",
    "import numpy as np\n",
    "from scipy.optimize import fsolve\n",
    "\n",
    "\n",
    "def residual(y, arg):\n",
    "    return y*y - np.log(1.0+y*y) - arg\n",
    "\n",
    "dx = 0.01\n",
    "xmax = 5.0\n",
    "x_analytical = np.arange(1.0, xmax, dx)\n",
    "y_analytical = []\n",
    "for x in x_analytical:\n",
    "    arg = 2.0*np.log(x) + x*x - np.log(2.0)\n",
    "    y0 = x\n",
    "    y = fsolve(residual, y0, args=(arg,))\n",
    "    y_analytical.append(y)\n",
    "\n",
    "plt.plot(x_analytical, y_analytical)\n",
    "\n",
    "plt.xlabel(r'$x$')\n",
    "plt.ylabel(r'$y$')\n",
    "plt.show()"
   ]
  },
  {
   "cell_type": "markdown",
   "metadata": {},
   "source": [
    "The best starting point for implementing a numerical method is:\n",
    "\\begin{align*}\n",
    "  \\frac{dy}{dx} &= \\frac{(1+x^2)(1+y^2)}{xy^3}  \n",
    "\\\\\n",
    "  \\frac{y(x+\\Delta x)-y(x)}{\\Delta x} &\\approx \\frac{(1+x^2)(1+y^2)  }{xy^3}\n",
    "\\\\\n",
    "y(x+\\Delta x) &\\approx\n",
    "y(x) + \\frac{(1+x^2)(1+y^2) \\Delta x }{xy^3}\n",
    "\\end{align*}\n",
    "with the initial condition $y(1)=1$."
   ]
  },
  {
   "cell_type": "code",
   "execution_count": 7,
   "metadata": {
    "scrolled": true
   },
   "outputs": [
    {
     "data": {
      "image/png": "[encoded data removed]",
      "text/plain": [
       "<Figure size 432x288 with 1 Axes>"
      ]
     },
     "metadata": {
      "needs_background": "light"
     },
     "output_type": "display_data"
    }
   ],
   "source": [
    "x_data = [1.0]\n",
    "y_data = [1.0]\n",
    "\n",
    "\n",
    "dx = 0.01\n",
    "nsteps = int((xmax-1.0)/dx)\n",
    "\n",
    "xold = 1.0\n",
    "yold = 1.0\n",
    "for step in range(nsteps):\n",
    "    xnew = xold + dx\n",
    "    ynew = yold + (1+xold*xold)*(1+yold*yold)*dx/(xold * yold**3)\n",
    "    x_data.append(xnew)\n",
    "    y_data.append(ynew)\n",
    "    xold = xnew\n",
    "    yold = ynew\n",
    "\n",
    "    \n",
    "import pylab as plt\n",
    "\n",
    "\n",
    "plt.plot(x_data, y_data, 'o', label='numerical')\n",
    "\n",
    "\n",
    "plt.plot(x_analytical, y_analytical, label='analytical')\n",
    "\n",
    "plt.legend()\n",
    "plt.xlabel(r'$x$')\n",
    "plt.ylabel(r'$y$')\n",
    "\n",
    "plt.show()\n",
    "    "
   ]
  },
  {
   "cell_type": "markdown",
   "metadata": {},
   "source": []
  },
  {
   "cell_type": "code",
   "execution_count": null,
   "metadata": {},
   "outputs": [],
   "source": []
  }
 ],
 "metadata": {
  "kernelspec": {
   "display_name": "Python 3",
   "language": "python",
   "name": "python3"
  },
  "language_info": {
   "codemirror_mode": {
    "name": "ipython",
    "version": 3
   },
   "file_extension": ".py",
   "mimetype": "text/x-python",
   "name": "python",
   "nbconvert_exporter": "python",
   "pygments_lexer": "ipython3",
   "version": "3.8.5"
  }
 },
 "nbformat": 4,
 "nbformat_minor": 4
}
