{
 "cells": [
  {
   "cell_type": "markdown",
   "metadata": {},
   "source": [
    "# CP213: Tutorial Notebook S2 Week 4"
   ]
  },
  {
   "cell_type": "markdown",
   "metadata": {},
   "source": [
    "## Question 1\n",
    "\n",
    "In statistics we have observed probability density functions (pdfs) relating to one variable, $f_X(x)$. Joint pdfs of the type $f_{XY}(x,y)$ can be defined from which probabilities can be determined as so:\n",
    "\\begin{align*}\n",
    "P(a\\leq X\\leq b,c\\leq Y\\leq d)=\\int_a^b\\int_c^df_{XY}(x,y)dydx\n",
    "\\end{align*}\n",
    "Note that the range, $R_{XY}$, can be shown in the $x-y$ plane.\n",
    "\n",
    "Given the joint pdf:\n",
    "\\begin{equation}\n",
    "\\nonumber f_{XY}(x,y) = \\left\\{\n",
    "\\begin{array}{l l}\n",
    "ky^2+x &  \\quad 0 \\leq x \\leq 1,0 \\leq y \\leq 1  \\\\\n",
    "&  \\quad   \\\\\n",
    "0 &  \\quad \\text{otherwise}\n",
    "\\end{array} \\right.\n",
    "\\end{equation}\n",
    "\n",
    "1. Determine k\n",
    "\n",
    " **Hint.** Think about the properties of single variable pdfs and how these might apply to joint pdfs.\n",
    "\n",
    "2. Determine $P(0\\leq X\\leq\\frac{1}{2},0\\leq Y\\leq\\frac{1}{2})$\n",
    "\n",
    "3. Determine $P(Y\\leq\\frac{X}{2})$ and sketch the region of integration.\n",
    "\n",
    "4. Joint pdfs contain all the information about each individual variable across the range of possible values. Therefore we can define the \\textit{marginal pdf} for each variable, as so:\n",
    "\\begin{align*}\n",
    "f_X(x)&=\\int_{-\\infty}^{\\infty}f_{XY}(x,y)dy \n",
    "\\\\\n",
    "f_Y(y)&=\\int_{-\\infty}^{\\infty}f_{XY}(x,y)dx\n",
    "\\end{align*}\n",
    "Hence determine the marginal pdfs for the above joint pdf.\n",
    "\n",
    "5. What type of correlation exists between $X$ and $Y$?\n",
    "\n",
    " **Hint.**\n",
    "Remember that: \n",
    "\\begin{align*}\n",
    "COV(X,Y)=E(XY)-E(X)E(Y)\n",
    "\\end{align*}\n",
    "and that:\n",
    "\\begin{align*}\n",
    "E(g(X))=\\int_{-\\infty}^{\\infty}g(x)f(x)dx\n",
    "\\end{align*}\n"
   ]
  },
  {
   "cell_type": "code",
   "execution_count": null,
   "metadata": {},
   "outputs": [],
   "source": []
  },
  {
   "cell_type": "markdown",
   "metadata": {},
   "source": [
    "## Question 2\n",
    "\n",
    "Sketch the region of integration and evaluate the integral:\n",
    "\\begin{align*}\n",
    "    \\int_0^6 \\int_{x/3}^2\\,x\\left(y^3+1\\right)^{1/2}\\, dy\\,dx\\\n",
    "\\end{align*}\n",
    "**Hint.** If you are finding this integration difficult to evaluate, think about how you could reinterpret aspects to make it easier to evaluate.\n"
   ]
  },
  {
   "cell_type": "code",
   "execution_count": null,
   "metadata": {},
   "outputs": [],
   "source": []
  },
  {
   "cell_type": "markdown",
   "metadata": {},
   "source": [
    "## Question 3\n",
    "\n",
    "Evaluate the surface integral of the function $f(x,y)=1-x^2-y^2$ over the region bounded by two concentric circles, one being the unit circle and the other a circle with radius of length 2.\n",
    "\n",
    "**Hint.** Think about the shape of the region - this should give you an idea of what needs to be done to proceed with evaluating the integral.\n"
   ]
  },
  {
   "cell_type": "code",
   "execution_count": null,
   "metadata": {},
   "outputs": [],
   "source": []
  }
 ],
 "metadata": {
  "kernelspec": {
   "display_name": "Python 3",
   "language": "python",
   "name": "python3"
  },
  "language_info": {
   "codemirror_mode": {
    "name": "ipython",
    "version": 3
   },
   "file_extension": ".py",
   "mimetype": "text/x-python",
   "name": "python",
   "nbconvert_exporter": "python",
   "pygments_lexer": "ipython3",
   "version": "3.9.1"
  }
 },
 "nbformat": 4,
 "nbformat_minor": 4
}
