{
 "cells": [
  {
   "cell_type": "markdown",
   "metadata": {},
   "source": [
    "# CP213: Tutorial Notebook Week 2"
   ]
  },
  {
   "cell_type": "markdown",
   "metadata": {},
   "source": [
    "## Question 1\n",
    "\n",
    "Use the trapezium rule with (a) four equal intervals and (b)\n",
    "  eight equal intervals to estimate the value of the integral:\n",
    "\\begin{align*}\n",
    "\\int_0^1 dx\\, x^3.\n",
    "\\end{align*}\n",
    "Find the exact value of the integral, and determine the percentage\n",
    "error between the exact value and the value estimated in (a) and (b).\n"
   ]
  },
  {
   "cell_type": "code",
   "execution_count": null,
   "metadata": {},
   "outputs": [],
   "source": []
  },
  {
   "cell_type": "markdown",
   "metadata": {},
   "source": [
    "## Question 2\n",
    "\n",
    "Fluid flows through a pipe with a circular cross-section of radius\n",
    "$R$.\n",
    "1. Find an expression for the volumetric flow rate $Q$ through the\n",
    "  pipe if the fluid velocity within it is $v=\\mbox{const}$.\n",
    "2. What is the volumetric flow rate $\\Delta Q$ through a circular\n",
    "  annulus of inner radius $r$ and outer radius $r+\\Delta r$ if the\n",
    "  velocity of the fluid within the annulus is $v=\\mbox{const}$?\n",
    "  \n",
    "3. Find an expression for $Q$ for the case of laminar flow within\n",
    "  the pipe, where the velocity profile is given by\n",
    "\\begin{align*}\n",
    "v(r) &= \\frac{\\Delta p}{4\\mu L}(R^2-r^2)\n",
    "\\end{align*}\n",
    "where $v(r)$ is the velocity of the fluid at a distance $r$ from the\n",
    "center of the pipe, $\\Delta p$ is the pressure drop along the pipe,\n",
    "$L$ is the length of the pipe, and $\\mu$ is the dynamic viscosity of\n",
    "the fluid.  What is the mean velocity of the fluid in the pipe?\n",
    "\n",
    "4. Plot the velocity profile in the pipe for parts (1) and (3).\n",
    "\n"
   ]
  },
  {
   "cell_type": "code",
   "execution_count": null,
   "metadata": {},
   "outputs": [],
   "source": []
  },
  {
   "cell_type": "code",
   "execution_count": null,
   "metadata": {},
   "outputs": [],
   "source": []
  },
  {
   "cell_type": "code",
   "execution_count": null,
   "metadata": {},
   "outputs": [],
   "source": []
  },
  {
   "cell_type": "code",
   "execution_count": null,
   "metadata": {},
   "outputs": [],
   "source": []
  },
  {
   "cell_type": "markdown",
   "metadata": {},
   "source": [
    "## Question 3\n",
    "\n",
    "A brine solution (i.e.\\ a mixture of salt and water) with a salt\n",
    "concentration of $0.1\\,{\\rm kg\\,L}^{-1}$ begins to flow at a constant\n",
    "rate of $6\\,{\\rm L\\,min}^{-1}$ into a large tank that initially holds\n",
    "$1000\\,{\\rm L}$ of pure water.  The solution inside the tank is kept\n",
    "well stirred and flows out of the tank at a rate of $6\\,{\\rm\n",
    "L\\,min}^{-1}$.  Determine the time at which the concentration of salt\n",
    "in the tank reaches $0.05\\,{\\rm kg\\,L}^{-1}$.\n",
    "\n",
    "\n",
    "Hint: ${\\rm rate~of~change} = {\\rm input~rate} - {\\rm output~rate}$.\n"
   ]
  },
  {
   "cell_type": "code",
   "execution_count": null,
   "metadata": {},
   "outputs": [],
   "source": []
  },
  {
   "cell_type": "markdown",
   "metadata": {},
   "source": [
    "## Question 4\n",
    "\n",
    "Evaluate the integrals:\n",
    "\n",
    "1. $\\displaystyle\n",
    "\\int_a^b dx\\, \\varepsilon x    \n",
    "$\n",
    "\n",
    "2. $\\displaystyle\n",
    "\\int_z^b dx\\, (\\gamma-\\varepsilon x)\n",
    "$\n",
    "\n",
    "3. $\\displaystyle   \n",
    "\\int_a^b dx\\, \\frac{\\varepsilon}{x^2}\n",
    "$\n",
    "\n",
    "4. $\\displaystyle   \n",
    "\\int_a^b dx\\, \\frac{\\varepsilon+x}{x^2}\n",
    "$\n",
    "\n",
    "5. $\\displaystyle   \n",
    "\\int_a^b dx\\, \\frac{\\gamma-x}{(\\varepsilon-x)^2}\n",
    "$\n",
    "\n",
    "6. $\\displaystyle   \n",
    "\\int_1^4 dx\\, x\\, e^x \\qquad \\mbox{Hint: use integration by parts.}\n",
    "$\n",
    "\n",
    "7. $\\displaystyle   \n",
    "\\int_0^1 dx\\, 2^x \\qquad \\mbox{Hint: use substitution.}\n",
    "$ \n",
    "\n"
   ]
  },
  {
   "cell_type": "code",
   "execution_count": null,
   "metadata": {},
   "outputs": [],
   "source": []
  }
 ],
 "metadata": {
  "kernelspec": {
   "display_name": "Python 3",
   "language": "python",
   "name": "python3"
  },
  "language_info": {
   "codemirror_mode": {
    "name": "ipython",
    "version": 3
   },
   "file_extension": ".py",
   "mimetype": "text/x-python",
   "name": "python",
   "nbconvert_exporter": "python",
   "pygments_lexer": "ipython3",
   "version": "3.8.5"
  }
 },
 "nbformat": 4,
 "nbformat_minor": 4
}
