{
 "cells": [
  {
   "source": [
    "# CP213: Tutorial Notebook S2 Week 9\n",
    "This tutorial builds on previous tutorials and you should make sure you understand the relevant solutions prior to beginning this tutorial."
   ],
   "cell_type": "markdown",
   "metadata": {}
  },
  {
   "source": [
    "## Question 1\n",
    "\n",
    "Consider the salt tank recycle question from tutorial 7, the question for which is repeated here:\n",
    "\n",
    "Consider two continuously-stirred tanks filled with brine solutions connected with flows feeding into one another.\n",
    "\n",
    "<img src=\"tank-recycle.png\" width=\"300\">\n",
    "\n",
    "The first tank is charged with $40 \\ \\rm{L}$ water and $5\\ \\rm{kg}$ salt and the second with $20\\ \\rm{L}$ water and $4\\ \\rm{kg}$ salt. The flowrates into each of the tanks from the other are equivelant at $10\\ \\rm{L\\ min^{-1}}$. Let $x_1$ and $x_2$ be the concentrations of salt in tanks 1 and 2, respectively, at anytime $t$.  \n",
    "\n",
    "Solve the system of differential equations and plot the concentration of the tanks with time. If you are uncomfortable with working on python to plot, you can make use of other software that you prefer (e.g. Excel, Matlab etc.)."
   ],
   "cell_type": "markdown",
   "metadata": {}
  },
  {
   "cell_type": "code",
   "execution_count": null,
   "metadata": {},
   "outputs": [],
   "source": []
  },
  {
   "cell_type": "code",
   "execution_count": null,
   "metadata": {},
   "outputs": [],
   "source": []
  },
  {
   "cell_type": "markdown",
   "id": "rising-nightmare",
   "metadata": {},
   "source": [
    "## Question 2\n",
    "\n",
    "Consider a system of $N$ tanks that are connected in series, as shown\n",
    "in the figure below.  Each tank initially contains $V=1\\,{\\rm m}^3$ of\n",
    "water, which is fully mixed, and has two inlet streams and two outlet\n",
    "streams.  Water at temperature $T_{R, {\\rm in}}$ enters tank 1 at a\n",
    "volumetric flow rate $\\dot{V}_{R,{\\rm in}}$, and water at temperature\n",
    "$T_{L, {\\rm in}}$ enters tank 1 at a volumetric flow rate\n",
    "$\\dot{V}_{L,{\\rm in}}$.\n",
    "\n",
    "<img src=\"tank-series.png\" width=\"800\">\n",
    "\n",
    "For the questions below, you can consider that the flows are such that\n",
    "the liquid volume in each of the tanks remains constant.  Assume that water has a density $\\rho=1000\\,{\\rm kg\\, m^{-3}}$ and heat capacity\n",
    "$C=4.2\\,{\\rm kJ\\,kg}^{-1}$.\n",
    "\n",
    "Note that for each of the matrices the set of differential equations that need to be solved can be written \n",
    "in matrix form as\n",
    "\\begin{align*}\n",
    "\\frac{d}{dt} {\\bf T} &= {\\bf A}\\cdot{\\bf T} + {\\bf b}\n",
    ".\n",
    "\\end{align*}\n",
    "\n",
    "This is a system of inhomogenous differential equations. This follows a similar procedure to solve homogenous differential equations, with the addition that the inhomogenous ${\\bf b}$ term must be multiplied by ${\\bf P}^{-1}$ too.\n",
    "\n",
    "1. Consider the case where $\\dot{V}_{R,{\\rm in}}=\\dot{V}_{R,{\\rm out}}=0.1\\,{\\rm m^3\\,s^{-1}}$, $\\dot{V}_{L,{\\rm in}}=\\dot{V}_{L,{\\rm out}}=0$, $\\dot{v}_R=0.2\\,{\\rm m^3\\,s^{-1}}$, $T_{R,{\\rm in}}=80^\\circ{\\rm C}$, and $\\dot{v}_L=0.1\\,{\\rm m^3\\,s^{-1}}$.  In the case of 3 tanks, if the initial temperature of tank 2 is $80^\\circ{\\rm C}$ and the initial temperature of the other tanks is $10^\\circ{\\rm C}$, solve the differential equations and plot the variation of the temperature of each tank with time.\n",
    "\n",
    "2. Consider the case where $\\dot{V}_{R,{\\rm in}}=\\dot{V}_{L,{\\rm in}}=\\dot{V}_{R,{\\rm out}}=\\dot{V}_{L,{\\rm out}}=0.1\\,{\\rm m^3\\,s^{-1}}$, $\\dot{v}_R=\\dot{v}_L=0.1\\,{\\rm m^3\\,s^{-1}}$, $T_{R,{\\rm in}}=80^\\circ{\\rm C}$, and $T_{L,{\\rm in}}=10^\\circ{\\rm C}$.  In the case of 3 tanks, if the initial temperature of the water in all of the tanks is $60^\\circ{\\rm C}$, solve the differential equations and plot the variation of the temperature of each tank with time.\n",
    "\n",
    "3. Consider the case where $\\dot{V}_{R,{\\rm in}}=\\dot{V}_{L,{\\rm in}}=\\dot{V}_{R,{\\rm out}}=\\dot{V}_{L,{\\rm out}}=0$ and $\\dot{v}_R=\\dot{v}_L=0.1\\,{\\rm m^3\\,s^{-1}}$.  In the case of 3 tanks, if the initial temperature of tank 2 is $80^\\circ{\\rm C}$ and the initial temperature of the other tanks is $10^\\circ{\\rm C}$,  solve the differential equations and plot the variation of the temperature of each tank with time. \n"
   ]
  },
  {
   "cell_type": "code",
   "execution_count": null,
   "metadata": {},
   "outputs": [],
   "source": []
  },
  {
   "cell_type": "code",
   "execution_count": null,
   "metadata": {},
   "outputs": [],
   "source": []
  }
 ],
 "metadata": {
  "kernelspec": {
   "name": "python3",
   "display_name": "Python 3.9.2 64-bit",
   "metadata": {
    "interpreter": {
     "hash": "ac59ebe37160ed0dfa835113d9b8498d9f09ceb179beaac4002f036b9467c963"
    }
   }
  },
  "language_info": {
   "codemirror_mode": {
    "name": "ipython",
    "version": 3
   },
   "file_extension": ".py",
   "mimetype": "text/x-python",
   "name": "python",
   "nbconvert_exporter": "python",
   "pygments_lexer": "ipython3",
   "version": "3.9.2-final"
  }
 },
 "nbformat": 4,
 "nbformat_minor": 5
}