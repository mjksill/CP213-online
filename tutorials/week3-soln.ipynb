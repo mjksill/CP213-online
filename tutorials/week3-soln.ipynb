{
 "cells": [
  {
   "cell_type": "markdown",
   "metadata": {},
   "source": [
    "# CP213: Tutorial Worksheet Week 3"
   ]
  },
  {
   "cell_type": "markdown",
   "metadata": {},
   "source": [
    "## Question 1\n",
    "\n",
    "The amount of work $dW$ that is extracted by an engine from a given\n",
    "amount of heat $dQ$ fed to it is\n",
    "\\begin{align*}\n",
    "dW = \\eta\\, dQ  \n",
    "\\end{align*}\n",
    "where $\\eta$ is the engine efficiency.  The maximum theoretical\n",
    "efficiency of an engine is given by the Carnot efficiency\n",
    "\\begin{align*}\n",
    "  \\eta_C = 1 - \\frac{T_C}{T_H}  \n",
    "\\end{align*}\n",
    "where $T_H$ is the temperature at which the heat is absorbed by the\n",
    "engine, and $T_C$ is the temperature at which the heat is rejected.\n",
    "\n",
    "1. Determine the maximum amount of work that can be extracted from\n",
    "  a $250\\,{\\rm mL}$ cup of hot water initially at $60^\\circ{\\rm C}$,\n",
    "  if the surrounding environment is at a fixed temperature of\n",
    "  $20^\\circ{\\rm C}$.  Note that the density of water is approximately\n",
    "  $1\\,{\\rm g\\,mL}^{-1}$, and its heat capacity is approximately\n",
    "  $4.2\\,{\\rm J\\,g^{-1}\\,K^{-1}}$.\n",
    "\n",
    "2. Determine the maximum amount of work that can be extracted from\n",
    "  a $250\\,{\\rm g}$ block of ice initially at $0^\\circ{\\rm C}$, if the\n",
    "  surrounding environment is at a fixed temperature of\n",
    "  $20^\\circ{\\rm C}$.  Note that the heat capacity is approximately\n",
    "  $2.1\\,{\\rm J\\,g^{-1}\\,K}^{-1}$, and the heat of fusion of water is\n",
    "  $334\\,{\\rm J\\,g}^{-1}$.\n",
    "\n",
    "\n"
   ]
  },
  {
   "cell_type": "markdown",
   "metadata": {},
   "source": [
    "## Model solution for Q1\n",
    "\n",
    "\n",
    "### part 1\n",
    "\n",
    "The work $dW$ that can be produced by an engine from heat $dQ_H$\n",
    "supplied to it is given by\n",
    "\\begin{align*}\n",
    "  dW &= \\eta dQ_H\n",
    "\\end{align*}  \n",
    "where $\\eta$ is the efficiency of the engine.  For a Carnot engine,\n",
    "the efficiency is given by $\\eta=1-T_C/T_H$, where $T_H$ is the\n",
    "temperature at which heat is supplied to the engin, and $T_C$ is the\n",
    "temperature at which heat is rejected from the engine.  For this\n",
    "problem, the engine received heat at $T_H$, the temperature of the\n",
    "water in the cup, and rejects heat to the surrounding air, which is at\n",
    "temperature $T_0$.\n",
    "\n",
    "When heat $dQ_H$ is extracted from the cup of water, its temperature\n",
    "decreases by an amount $dT_H$, given by the relation\n",
    "\\begin{align*}\n",
    "  dQ_H &= -mC dT_H\n",
    "\\end{align*}\n",
    "where $m$ is the mass of water in the cup, and $C$ is the heat\n",
    "capacity of water.  \n",
    "\n",
    "Combining these facts, we can determine the total amount of work that\n",
    "can be extracted from the hot cup of water:\n",
    "\\begin{align*}\n",
    "  dW &= \\left(1-\\frac{T_0}{T_H}\\right)(-mC)dT_H\n",
    "  \\\\\n",
    "  W &= \\int_{T_{H1}}^{T_0} \\left(1-\\frac{T_0}{T_H}\\right)(-mC)dT_H\n",
    "  \\\\\n",
    "  &= -mC \\left[T_H-T_0\\ln|T_H|\\right]_{T_{H1}}^{T_0} \n",
    "  \\\\\n",
    "  &= -mC \\left[T_0-T_{H1}-T_0\\ln\\frac{T_0}{T_{H1}}\\right]\n",
    "  \\\\\n",
    "  &= mC \\left[(T_{H1}-T_0)-T_0\\ln\\frac{T_{H1}}{T_0}\\right]\n",
    ".\n",
    "\\end{align*}  \n",
    "\n",
    "\n"
   ]
  },
  {
   "cell_type": "code",
   "execution_count": null,
   "metadata": {},
   "outputs": [],
   "source": [
    "V = 250.0   # mL\n",
    "rho = 1.0   # g mL^{-1}\n",
    "m = rho * V # g\n",
    "C = 4.2     # J g^{-1} K^{-1}\n",
    "TH1 = 60.0+273.15\n",
    "T0 = 20.0+273.15\n",
    "\n",
    "import numpy as np\n",
    "\n",
    "\n",
    "W = m*C*(TH1-T0-T0*np.log(TH1/T0))\n",
    "print(f'work = {W} J')\n",
    "\n",
    "\n"
   ]
  },
  {
   "cell_type": "markdown",
   "metadata": {},
   "source": [
    "### part 2\n",
    "\n",
    "For this problem, the heat supplied to the engine is at the\n",
    "temperature $T_0$ of the surrounding air, and it is rejected at the\n",
    "temperature of the ice/water.  While the ice is melting, its\n",
    "temperature will remain at a temperature of $0^\\circ{\\rm C}$.  When\n",
    "the ice is completely melted, the melt water will gradually increase\n",
    "in temperature until it reaches $T_0$.\n",
    "\n",
    "The work is given by\n",
    "\\begin{align*}\n",
    "  dW\n",
    "  &= \\eta dQ_H\n",
    "  \\\\\n",
    "  &= \\eta (dW + dQ_C)\n",
    "  \\\\\n",
    "  &= \\frac{dQ_C}{1-\\eta}\n",
    "  \\\\\n",
    "  &= \\frac{T_H}{T_C} {dQ_C}\n",
    "\\end{align*}\n",
    "where we have used the energy balance around the engine $dQ_H=dW +dQ_C$.\n",
    "\n",
    "We will divide the process into two stages.  The first is the complete\n",
    "melting of the ice, and the second stage is the heating of the melt\n",
    "water from $0^\\circ{\\rm C}$ to room temperature $T_0$.  The work\n",
    "extracted in the first stage will be denoted by $\\Delta W_1$, and the\n",
    "work extracted in the second stage will be denoted by $\\Delta W_2$.\n",
    "\n",
    "In the first stage, $T_H=T_0$ and $T_C=T_m=0^\\circ{\\rm C}$, the\n",
    "melting temperature of ice.  The heat rejected by engine is the\n",
    "enthalpy of melting of the ice.  This leads to\n",
    "\\begin{align*}\n",
    "\\Delta W_1 &=  \\frac{T_0}{T_m} m\\Delta H\n",
    "\\end{align*}\n",
    "\n",
    "In the second stage, $T_H=T_0$, and $T_C$ changes with time.  The\n",
    "received by the melt water is $dQ_C=mCdT_C$.  This leads to\n",
    "\\begin{align*}\n",
    "  dW_2\n",
    "  &= \\frac{T_0}{T_C} mC dT_C\n",
    "  \\\\\n",
    "  \\Delta W_2\n",
    "  &= \\int_{T_m}^{T_0} \\frac{T_0}{T_C} mC dT_C\n",
    "  \\\\\n",
    "  &= \\left[T_0 mC \\ln T_C\\right]_{T_m}^{T_0} \n",
    "  \\\\\n",
    "  &= mC T_0 \\ln\\frac{T_0}{T_m}\n",
    "\\end{align*}\n",
    "The total amount of work extracted is\n",
    "\\begin{align*}\n",
    "  \\Delta W\n",
    "  &= \\Delta W_1 + \\Delta W_2\n",
    "    .\n",
    "\\end{align*}"
   ]
  },
  {
   "cell_type": "code",
   "execution_count": null,
   "metadata": {},
   "outputs": [],
   "source": [
    "DeltaH = 334.0 # J g^{-1}\n",
    "Tm = 273.15    # K\n",
    "m = 250.0 # mass of ice / g\n",
    "C = 4.2 # J g^{-1} K^{-1}\n",
    "\n",
    "DeltaW1 = T0/Tm * m * DeltaH\n",
    "DeltaW2 = m*C*np.log(T0/Tm)\n",
    "W = DeltaW1 + DeltaW2\n",
    "\n",
    "print(f'work = {W} J')\n"
   ]
  },
  {
   "cell_type": "markdown",
   "metadata": {},
   "source": [
    "## Question 2\n",
    "\n",
    "The heat flux $q$ (heat flow per unit surface area) from the surface\n",
    "of a body can be described by Newton's law of cooling\n",
    "\\begin{align*}\n",
    "  q &= h(T-T_\\infty)\n",
    ",  \n",
    "\\end{align*}\n",
    "where $T$ is the temperature of the body, $T_\\infty$ is the\n",
    "surrounding temperature, and $h$ is the heat transfer coefficient.\n",
    "\n",
    "\n",
    "1. Determine how the temperature of a $250\\,{\\rm mL}$ cup of water\n",
    "  initially at $60^\\circ{\\rm C}$ decreases with time if the\n",
    "  surrounding environment is at a fixed temperature of\n",
    "  $20^\\circ{\\rm C}$.  Assume that the heat transfer coefficient\n",
    "  $h=2\\,{\\rm W\\,m^{-2}\\,K^{-1}}$ and the area for heat transfer\n",
    "  $A=50\\,{\\rm cm}^2$.  Note that the density of water is approximately\n",
    "  $1\\,{\\rm g\\,mL}^{-1}$, and its heat capacity is approximately\n",
    "  $4.2\\,{\\rm J\\,g^{-1}\\,K^{-1}}$.\n",
    "  \n",
    "2. If a Carnot engine is used to extract work from the hot cup of\n",
    "  water, determine how the power output of the engine varies with\n",
    "  time.  Assume that the values of $h$ and $A$ remain the same as\n",
    "  before.\n",
    "\n"
   ]
  },
  {
   "cell_type": "code",
   "execution_count": null,
   "metadata": {},
   "outputs": [],
   "source": []
  },
  {
   "cell_type": "markdown",
   "metadata": {},
   "source": [
    "## Model solutions for Q2\n",
    "\n",
    "### part 1\n",
    "\n",
    "We take the control volume for the energy balance to be the cup of water.  The accumulation of energy $U$ in the cup of water is\n",
    "\\begin{align*}\n",
    "\\frac{dU}{dt}\n",
    "\\end{align*}t/\n",
    "We note that the change in energy of the water is related to the temperature $T$ of the water through\n",
    "\\begin{align*}\n",
    "dU = m C dT,\n",
    "\\end{align*}\n",
    "where $m$ is the mass of water in the cup, and $C$ is the heat capacity.  Dividing both sides by an increment in time, we find\n",
    "an expression for the accumulation of energy in terms of the temperature of the water\n",
    "\\begin{align*}\n",
    "\\frac{dU}{dt} &= mC\\frac{dT}{dt}\n",
    ".\n",
    "\\end{align*}\n",
    "\n",
    "Energy flows out of the cup of water due to convection, which is given by Newton's law of cooling.  The rate of outflow of energy is equal to \n",
    "\\begin{align*}\n",
    "hA(T-T_{\\infty})\n",
    "\\end{align*}\n",
    "where $A$ is the surface area for heat transfer.  \n",
    "\n",
    "The energy balance is then\n",
    "\\begin{align*}\n",
    "mC\\frac{dT}{dt} &= - hA(T-T_{\\infty}).\n",
    "\\end{align*}\n",
    "Note the negative sign in front of the convection term, which reflects the fact that outflow of energy causes the temperature of the water in the cup to decrease.  \n",
    "\n",
    "We can directly solve this equation by isolating variables.  We move all terms involveing the temperature to the left side of the equation and all terms involving time to the right side of the equation.\n",
    "\\begin{align*}\n",
    "mC\\frac{dT}{T-T_{\\infty}} &= - hAdt.\n",
    "\\end{align*}\n",
    "Integrating, both sides we find\n",
    "\\begin{align*}\n",
    "mC\\ln(T-T_{\\infty}) &= - hAt + B\n",
    "\\end{align*}\n",
    "where $B$ is an integration constant.  We can find the value of the integration constant through use of the initial condition $T=T_0$ at $t=0$, where $T_0=60^\\circ{\\rm C}$.\n",
    "\\begin{align*}\n",
    "mC\\ln(T_0-T_{\\infty}) &= - hA(0) + B\n",
    "\\\\\n",
    "mC\\ln(T_0-T_{\\infty}) &= B.\n",
    "\\end{align*}\n",
    "Substituting this back into our original solution, we arrive at:\n",
    "\\begin{align*}\n",
    "mC\\ln(T-T_{\\infty}) &= - hAt + B\n",
    "= - hAt + mC\\ln(T_0-T_{\\infty})\n",
    "\\\\\n",
    "mC\\ln\\frac{T-T_{\\infty}}{T_0-T_\\infty}  &= -hAt\n",
    "\\\\\n",
    "T &= T_\\infty + (T_0-T_\\infty)e^{-t/\\tau},\n",
    "\\end{align*}\n",
    "where $\\tau=hA/(mC)$.\n"
   ]
  },
  {
   "cell_type": "code",
   "execution_count": null,
   "metadata": {},
   "outputs": [],
   "source": [
    "#!/usr/bin/python3\n",
    "\n",
    "C = 4.2 # J g^{-1} K^{-1}\n",
    "m = 250.0  # g\n",
    "A = 50.0 * 1.0e-4 # m^2\n",
    "h = 2.0 # W m^{-2} K^{-1}\n",
    "T0 = 60.0\n",
    "Tinf = 20.0\n",
    "\n",
    "tau = m*C/(h*A)\n",
    "print(f'tau = {tau} s')\n",
    "print(f'tau = {tau/3600.0} h')\n",
    "\n",
    "\n",
    "import pylab as plt\n",
    "import numpy as np\n",
    "\n",
    "t_data = np.arange(0.0, tau*10.0)\n",
    "T_data = [Tinf + (T0-Tinf)*np.exp(-t/tau) for t in t_data]\n",
    "\n",
    "plt.plot(t_data, T_data)\n",
    "plt.xlabel(r'time / seconds')\n",
    "plt.ylabel(r'temperature / $^\\circ{\\rm C}$')\n",
    "plt.show()\n"
   ]
  },
  {
   "cell_type": "markdown",
   "metadata": {},
   "source": [
    "### part 2\n",
    "\n",
    "If we redirect the heat flow out of the water through a Carnot engine, we can generate work.  Not all of this heat can be transformed to work, but a portion $\\eta$, equal to the efficiency of the engine, can be:\n",
    "\\begin{align*}\n",
    "dW &= \\eta dQ = -\\eta dU = -\\eta m C dT\n",
    "\\end{align*}\n",
    "For a Carnot engine, the efficiency is given by\n",
    "\\begin{align*}\n",
    "\\eta &= 1 - \\frac{T_C}{T_H}\n",
    "\\end{align*}\n",
    "where $T_C$ is the temperature of the heat sink, and $T_H$ is the temperature of the heat source.  In this case, the heat sink is the environment surrounding the cup, which has a temperature $T_\\infty$, and the heat source is the water in the cup, which has a temperature $T$, which varies with time.  This gives\n",
    "\\begin{align*}\n",
    "dW &= -\\Bigg(1-\\frac{T_\\infty}{T}\\Bigg) m C dT\n",
    "\\end{align*}\n",
    "\n",
    "The power generated by the engine is simple the work produced by it in an interval of time, which can be obtained simply by dividing both sides of the above equation by $dt$\n",
    "\\begin{align*}\n",
    "\\frac{dW}{dt} &= -\\Bigg(1-\\frac{T_\\infty}{T}\\Bigg) m C \\frac{dT}{dt}\n",
    "\\end{align*}\n",
    "This gives us the power output of the enging in terms of the temperature of the water in the cup, which we know from the previous problem.  \n",
    "\n",
    "We note that\n",
    "\\begin{align*}\n",
    "T(t) &= T_\\infty + (T_0-T_\\infty)e^{-t/\\tau}\n",
    "\\\\\n",
    "\\frac{dT}{dt}\n",
    "&= - \\frac{(T_0-T_\\infty)}{\\tau}e^{-t/\\tau}\n",
    "\\end{align*}\n",
    "therefore, we have\n",
    "\\begin{align*}\n",
    "\\frac{dW}{dt} &= -\\Bigg(1-\\frac{T_\\infty}{T}\\Bigg) m C \\frac{dT}{dt}\n",
    "\\\\\n",
    "&= \\Bigg(1-\\frac{T_\\infty}{T}\\Bigg) \n",
    "hA(T-T_\\infty)\n",
    "\\end{align*}"
   ]
  },
  {
   "cell_type": "code",
   "execution_count": null,
   "metadata": {},
   "outputs": [],
   "source": [
    "dTdt_data = [-(T0-Tinf)/tau*np.exp(-t/tau) for t in t_data]\n",
    "\n",
    "power = [(1.0-(Tinf+273.15)/(T+273.15))*h*A*(T-Tinf) for T in T_data]\n",
    "\n",
    "plt.plot(t_data, power)\n",
    "plt.xlabel('time / seconds')\n",
    "plt.ylabel('power / W')\n",
    "\n",
    "plt.show()"
   ]
  },
  {
   "cell_type": "markdown",
   "metadata": {},
   "source": [
    "## Question 3\n",
    "\n",
    "Evaluate the following integrals:\n",
    "\n",
    "1. $\\displaystyle\n",
    "\\int \\frac{dx}{x^2 + 16}  \n",
    "$\n",
    "\n",
    "2. $\\displaystyle\n",
    "\\int \\frac{dx}{x^2 - 16}  \n",
    "$\n",
    "\n",
    "3. $\\displaystyle\n",
    "\\int \\frac{dx}{x^2 + 5x}  \n",
    "$\n",
    "\n",
    "4. $\\displaystyle\n",
    "\\int dx\\,\\frac{(2x+1)}{(x+1)(x+2)}  \n",
    "$\n",
    "\n",
    "5. $\\displaystyle\n",
    "\\int dx\\,\\frac{x^2}{x + 7}  \n",
    "$\n",
    "\n",
    "6. $\\displaystyle\n",
    "\\int dx\\,x\\sqrt{3x+4}\n",
    "$\n",
    "\n",
    "7. $\\displaystyle\n",
    "\\int dx\\,\\frac{x}{\\sqrt{3x+4}}\n",
    "$"
   ]
  },
  {
   "cell_type": "markdown",
   "metadata": {},
   "source": [
    "## Model solution for Q3\n",
    "\n",
    "### part 1\n",
    "\n",
    "$\\displaystyle \\int \\frac{dx}{x^2 + 16} = \\frac{1}{4}\\arctan\n",
    "\\frac{x}{4} + C $\n"
   ]
  },
  {
   "cell_type": "code",
   "execution_count": null,
   "metadata": {},
   "outputs": [],
   "source": [
    "from sympy import *\n",
    "\n",
    "x = symbols('x')\n",
    "\n",
    "\n",
    "I = integrate(1/(x**2+16), x)\n",
    "print(I)"
   ]
  },
  {
   "cell_type": "markdown",
   "metadata": {},
   "source": [
    "### part 2\n",
    "\n",
    "$\\displaystyle \\int \\frac{dx}{x^2 - 16} =\n",
    "\\frac{1}{8}\\ln\\frac{x-4}{x+4} + C $"
   ]
  },
  {
   "cell_type": "code",
   "execution_count": null,
   "metadata": {},
   "outputs": [],
   "source": [
    "I = integrate(1/(x**2-16), x)\n",
    "print(I)\n",
    "\n"
   ]
  },
  {
   "cell_type": "markdown",
   "metadata": {},
   "source": [
    "### part 3\n",
    "\n",
    "$\\displaystyle \\int \\frac{dx}{x^2 + 5x} = \\frac{1}{5}\n",
    "\\ln\\frac{x}{x+5} +C $\n"
   ]
  },
  {
   "cell_type": "code",
   "execution_count": null,
   "metadata": {},
   "outputs": [],
   "source": [
    "I = integrate(1/(x**2+5*x), x)\n",
    "print(I)\n",
    "\n"
   ]
  },
  {
   "cell_type": "markdown",
   "metadata": {},
   "source": [
    "### part 4\n",
    "\n",
    "$\\displaystyle \\int dx\\,\\frac{(2x+1)}{(x+1)(x+2)} =\n",
    "3\\ln(x+2)-\\ln(x+1)+C $\n"
   ]
  },
  {
   "cell_type": "code",
   "execution_count": null,
   "metadata": {},
   "outputs": [],
   "source": [
    "I = integrate((2*x+1)/(x+1)/(x+2), x)\n",
    "print(I)\n",
    "\n"
   ]
  },
  {
   "cell_type": "markdown",
   "metadata": {},
   "source": [
    "### part 5\n",
    "\n",
    "$\\displaystyle \\int dx\\,\\frac{x^2}{x + 7} =\n",
    "49\\ln(x+7)+\\frac{x}{2}(x-14) + C $"
   ]
  },
  {
   "cell_type": "code",
   "execution_count": null,
   "metadata": {},
   "outputs": [],
   "source": [
    "I = integrate(x**2/(x+7), x)\n",
    "print(I)\n",
    "\n"
   ]
  },
  {
   "cell_type": "markdown",
   "metadata": {},
   "source": [
    "### part 6\n",
    "\n",
    "$\\displaystyle \\int dx\\,x\\sqrt{3x+4} =\n",
    "\\frac{2\\,\\left(3\\,x+4\\right)^{\\frac{5}{2}}}{45}-\\frac{8\\,\\left(\n",
    "3\\,x+4\\right)^{\\frac{3}{2}}}{27} + C $"
   ]
  },
  {
   "cell_type": "code",
   "execution_count": null,
   "metadata": {},
   "outputs": [],
   "source": [
    "I = integrate(x*sqrt(3*x+4), x)\n",
    "print(I)\n",
    "\n"
   ]
  },
  {
   "cell_type": "markdown",
   "metadata": {},
   "source": [
    "### part 7\n",
    "\n",
    "$\\displaystyle \\int dx\\,\\frac{x}{\\sqrt{3x+4}} =\n",
    "\\frac{2\\,\\left(3\\,x+4\\right)^{\\frac{3}{2}}}{27}-\\frac{8\\,\n",
    "\\sqrt{3\\,x+4}}{9} + C $"
   ]
  },
  {
   "cell_type": "code",
   "execution_count": null,
   "metadata": {},
   "outputs": [],
   "source": [
    "I = integrate(x/sqrt(3*x+4), x)\n",
    "print(I)"
   ]
  },
  {
   "cell_type": "markdown",
   "metadata": {},
   "source": []
  }
 ],
 "metadata": {
  "kernelspec": {
   "display_name": "Python 3",
   "language": "python",
   "name": "python3"
  },
  "language_info": {
   "codemirror_mode": {
    "name": "ipython",
    "version": 3
   },
   "file_extension": ".py",
   "mimetype": "text/x-python",
   "name": "python",
   "nbconvert_exporter": "python",
   "pygments_lexer": "ipython3",
   "version": "3.8.5"
  }
 },
 "nbformat": 4,
 "nbformat_minor": 4
}
