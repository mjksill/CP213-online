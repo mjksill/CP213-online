{
 "cells": [
  {
   "cell_type": "markdown",
   "metadata": {},
   "source": [
    "# CP213: Tutorial Notebook 6\n",
    "\n"
   ]
  },
  {
   "cell_type": "markdown",
   "metadata": {},
   "source": [
    "## Question 1\n",
    "\n",
    "When an object slides on a surface, it encounters a resistive force\n",
    "called friction.  This force has a magnitude of $\\mu N$, where $\\mu$\n",
    "is the coefficient of kinetic friction and $N$ is the magnitude of the\n",
    "normal force that the object applies to the surface.  An object of\n",
    "mass $60\\,{\\rm kg}$ starts from rest at the top of a $\\theta=45^\\circ$\n",
    "inclined plane.  Assume that $\\mu=0.05$.  A force due to air resistance is $-\\lambda v$ (proportional to\n",
    "velocity), where $\\lambda=3\\,{\\rm N\\, s\\, m}^{-1}$.  Recall that the\n",
    "acceleration due to gravity is $g=9.81\\,{\\rm m\\,s^{-2}}$.\n",
    "\n",
    "1. Sketch the forces acting on the object moving on the inclined plane.\n",
    "2. Find the equation of motion for the velocity of the object at\n",
    "  time $t$, and solve.  Assume that it starts with a velocity of $v_0$\n",
    "  at time $t=0$.\n",
    "3. Find the displacement of the object at time $t$, and the time at\n",
    "  which it reaches the bottom of the slope, if the slope is\n",
    "  $10\\,{\\rm m}$ long.  Assume that its initial velocity is $v_0=0$.\n",
    "\n",
    "\n",
    "\n",
    "\n"
   ]
  },
  {
   "cell_type": "code",
   "execution_count": null,
   "metadata": {},
   "outputs": [],
   "source": []
  },
  {
   "cell_type": "markdown",
   "metadata": {},
   "source": [
    "## Question 2\n",
    "\n",
    "This question tries to analyze and understand the processes that occur when a meteorite falls through the earth's atmostphere (see [TOP 5 METEORITE FALLS](https://www.youtube.com/watch?v=olgJuoxr2Lo)).\n",
    "\n",
    "A spherical meteorite of radius $R=5\\,{\\rm m}$ enters the Earth's\n",
    "atmosphere at an initial velocity of $v_0=20\\,{\\rm km\\,s}^{-1}$.  It is\n",
    "accelerated towards the ground by gravity $g=9.81\\,{\\rm m\\,s}^{-1}$\n",
    "but is decelerated by air friction, which is given by\n",
    "\\begin{align*}\n",
    "  F_d = C_d A \\frac{1}{2} \\rho v^2\n",
    "\\end{align*}\n",
    "where $C_d=0.90$ is the drag coefficient, $A$ is the cross-sectional\n",
    "area of meteor (i.e.\\ $\\pi R^2$), $\\rho=1.2\\,{\\rm kg\\,m}^{-3}$ is the\n",
    "density of the surrounding atmosphere, and $v$ is its speed.\n",
    "\n",
    "Assume that the meteorite is made of solid iron (which has density\n",
    "$7874\\,{\\rm kg\\,m}^{-3}$ and heat capacity\n",
    "$0.45\\,{\\rm J\\,g^{-1}\\,K}^{-1}$).\n",
    "\n",
    "1. What is the terminal velocity of the meteor?\n",
    "\n",
    "2. Develop an expression that describes how the velocity of the\n",
    "  meteorite changes with time.  Over what order of magnitude does it take the meteorite to nearly reach its terminal velocity?  Sketch this on a graph.\n",
    "\n",
    "3. Develop an expression for how the temperature of the meteor\n",
    "  changes with time, assuming that it has reached terminal velocity.\n",
    "  What is the steady state temperature of the meteorite?  How long does it take to reach $1810\\,{\\rm K}$, the melting point of iron?\n",
    "\n",
    "  Note that the meteor gains heats due to the drag of the atmosphere,\n",
    "  and it cools due to radiation, according to the Stefan-Boltzmann law:\n",
    "  \\begin{align*}\n",
    "    \\dot{Q} = S \\sigma T^4\n",
    "  \\end{align*}\n",
    "  where $S$ is the surface area of the meteorite,\n",
    "  $\\sigma=5.670374419\\times10^{-8}\\,{\\rm W\\,m^{-2}\\,K^{-1}}$ is the\n",
    "  Stefan-Boltzmann constant, and $T$ is the absolute temperature of\n",
    "  the meteorite.\n",
    "\n"
   ]
  },
  {
   "cell_type": "code",
   "execution_count": null,
   "metadata": {},
   "outputs": [],
   "source": []
  },
  {
   "cell_type": "markdown",
   "metadata": {},
   "source": [
    "## Question 3\n",
    "\n",
    "Solve the following differential equations:\n",
    "1. $ \\displaystyle\n",
    "  (1-x^2) \\frac{dy}{dx} - xy = 3\n",
    "$\n",
    "where $y(0)=1$.  Plot a comparison between your analytical solution and a numerical solution.\n",
    "  \n",
    "2. $ \\displaystyle\n",
    "  x\\frac{dy}{dx} + 2y = x^2\n",
    "$\n",
    "  where $y(1)=0$.  Plot a comparison between your analytical solution and a numerical solution.\n",
    "  \n",
    "3. $ \\displaystyle\n",
    "  x \\frac{dy}{dx} = \\sin x - 2y   \n",
    "$\n",
    "  where $y(\\pi/2)=0$.  Plot a comparison between your analytical solution and a numerical solution.\n",
    "  \n",
    "4. $ \\displaystyle\n",
    "  x(x+1)\\frac{dy}{dx} + y =    2\n",
    "$\n",
    "  where $y\\to1$ as $x\\to\\infty$.\n",
    "\n"
   ]
  },
  {
   "cell_type": "code",
   "execution_count": null,
   "metadata": {},
   "outputs": [],
   "source": []
  }
 ],
 "metadata": {
  "kernelspec": {
   "display_name": "Python 3",
   "language": "python",
   "name": "python3"
  },
  "language_info": {
   "codemirror_mode": {
    "name": "ipython",
    "version": 3
   },
   "file_extension": ".py",
   "mimetype": "text/x-python",
   "name": "python",
   "nbconvert_exporter": "python",
   "pygments_lexer": "ipython3",
   "version": "3.8.5"
  }
 },
 "nbformat": 4,
 "nbformat_minor": 4
}
