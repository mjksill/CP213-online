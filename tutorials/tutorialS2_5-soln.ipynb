{
 "cells": [
  {
   "cell_type": "markdown",
   "metadata": {},
   "source": [
    "# CP213: Tutorial Notebook S2 Week 5"
   ]
  },
  {
   "cell_type": "markdown",
   "metadata": {},
   "source": [
    "## Question 1\n",
    "\n",
    "Consider a laminate  bounded by $x^2+y^2=1\\,\\mathrm{m}^2$ with density function $\\rho(x,y) = \\sqrt{x^2+y^2}$, in units of $\\mathrm{g\\,m^{-2}}$.\n",
    "1. Determine the mass of the laminate\n",
    "2. Determine the moment of inertia about the origin.\n",
    "\n"
   ]
  },
  {
   "cell_type": "markdown",
   "metadata": {},
   "source": [
    "## Model solutions for Q1\n",
    "\n",
    "For both parts of this question consider the region of the laminate which is given by the unit circle, hence we can sketch the region of integration:"
   ]
  },
  {
   "cell_type": "code",
   "execution_count": null,
   "metadata": {},
   "outputs": [],
   "source": [
    "#%matplotlib notebook\n",
    "\n",
    "import numpy as np\n",
    "from matplotlib.patches import Circle\n",
    "#from matplotlib.collections import PatchCollection\n",
    "import matplotlib.pyplot as plt\n",
    "\n",
    "fig, ax = plt.subplots()\n",
    "\n",
    "x1 = 0\n",
    "y1 = 0\n",
    "r = 1\n",
    "circle = Circle((x1, y1), r, edgecolor='blue', facecolor='gray', fill=True)\n",
    "ax.add_artist(circle)\n",
    "#circle.set_facecolor('black')\n",
    "#patches = [circle]\n",
    "#p = PatchCollection(patches, alpha=1.0)\n",
    "#ax.add_collection(p)\n",
    "\n",
    "\n",
    "plt.xlim([-2, 2])\n",
    "plt.ylim([-2, 2])\n",
    "\n",
    "plt.xlabel(r'$x$')\n",
    "plt.ylabel(r'$y$')\n",
    "\n",
    "\n",
    "\n",
    "ax.set_aspect('equal')\n",
    "\n",
    "plt.show()"
   ]
  },
  {
   "cell_type": "markdown",
   "metadata": {},
   "source": [
    "### Part 1\n",
    "\n",
    "To obtain the mass of the laminate we must use the expression\n",
    "\\begin{align*}\n",
    "    M &=\\iint\\limits_{R} \\,\\rho(x,y)\\,dA\n",
    "\\end{align*}\n",
    "In polar form and then evaluating gives:\n",
    "\\begin{align*}\n",
    "    M &= \\int_0^{2\\pi} \\int_0^1\\, \\rho(r,\\theta)r\\,dr\\,d\\theta\\\\\n",
    "    &= \\int_0^{2\\pi} \\int_0^1\\, r^2\\,dr\\,d\\theta\\\\\n",
    "    &= \\int_0^{2\\pi} \\Bigg[\\, \\frac{r^3}{3} \\Bigg]_0^1\\,d\\theta\\\\\n",
    "    &= \\int_0^{2\\pi} \\frac{1}{3} \\,d\\theta\\\\\n",
    "    &= \\Bigg[\\frac{1}{3}\\theta \\Bigg]_0^{2\\pi}\\\\\n",
    "    &= \\frac{2\\pi}{3}\\approx 2.094 \\,\\mathrm{g}\n",
    "\\end{align*}"
   ]
  },
  {
   "cell_type": "markdown",
   "metadata": {},
   "source": [
    "### Part 2\n",
    "\n",
    "To obtain the moment of inertia about the origin, we are actually considering rotation around the z-axis (which sits on the origin and points 'outwards' perpendicular to both $x$ and $y$). The moment of inertia about the z-axis is given by:\n",
    "\\begin{align*}\n",
    "    I_z &=\\iint\\limits_{R} \\,(x^2+y^2)\\rho(x,y)\\,dA\n",
    "\\end{align*}\n",
    "Substituting with polar coordinates and evaluating:\n",
    "\\begin{align*}\n",
    "    I_z &=\\iint\\limits_{R} \\,(x^2+y^2)\\rho(x,y)\\,dA\n",
    "    \\\\\n",
    "    I_z &= \\int_0^{2\\pi} \\int_0^1\\, \\left(r^2\\cos^2{\\theta}+r^2\\sin^2{\\theta}\\right)r\\,r\\,dr\\,d\\theta\\\\\n",
    "    I_z &= \\int_0^{2\\pi} \\int_0^1\\, r^4\\,dr\\,d\\theta\\\\\n",
    "    I_z &= \\int_0^{2\\pi} \\,\\Bigg[\\frac{r^5}{5} \\Bigg]_0^1\\,d\\theta\\\\\n",
    "    I_z &= \\int_0^{2\\pi} \\,\\frac{1}{5}\\,d\\theta\\\\\n",
    "    I_z &= \\Bigg[ \\,\\frac{1}{5}\\theta\\Bigg]_0^{2\\pi}\\\\\n",
    "    I_z &= \\frac{2\\pi}{5}\\approx 1.257\\,\\mathrm{g\\,m^2}\n",
    "\\end{align*}"
   ]
  },
  {
   "cell_type": "markdown",
   "metadata": {},
   "source": [
    "## Question 2\n",
    "\n",
    "For the remaining questions, please refer to the formula sheet  which can be found under the learning materials on the class site for the Taylor series.\n",
    "\n",
    "Differentiate the Maclaurin series of $\\sin{x}$ and show that the result is equivalent to the Maclaurin series for $\\cos{x}$."
   ]
  },
  {
   "cell_type": "markdown",
   "metadata": {},
   "source": [
    "## Model solutions for Q2\n",
    "\n",
    "\\begin{align*}\n",
    "    \\sin{(x)} &\\approx x - \\frac{{{x^3}}}{{3!}} + \\frac{{{x^5}}}{{5!}} - \\frac{{{x^7}}}{{7!}} + \\cdots\n",
    "    \\\\\n",
    "    \\frac{d}{dx} \\left(\\sin{(x)}\\right) &\\approx 1 - \\frac{{{x^2}}}{{2!}} + \\frac{{{x^4}}}{{4!}} - \\frac{{{x^6}}}{{6!}}  + \\cdots\n",
    "    \\\\\n",
    "    &\\approx \\cos{(x)}\n",
    "\\end{align*}\n",
    "\n"
   ]
  },
  {
   "cell_type": "code",
   "execution_count": 13,
   "metadata": {},
   "outputs": [
    {
     "name": "stdout",
     "output_type": "stream",
     "text": [
      "Taylor series:\n",
      "\n",
      "Taylor series of sin: x - x**3/6 + x**5/120 - x**7/5040 + x**9/362880 - x**11/39916800 + x**13/6227020800 - x**15/1307674368000 + x**17/355687428096000 - x**19/121645100408832000 + O(x**20)\n",
      "\n",
      "Taylor series of cos: 1 - x**2/2 + x**4/24 - x**6/720 + x**8/40320 - x**10/3628800 + x**12/479001600 - x**14/87178291200 + x**16/20922789888000 - x**18/6402373705728000 + O(x**20)\n",
      "\n",
      "derivatives:\n",
      "\n",
      "derivative of Taylor series of sin: 1 - x**2/2 + x**4/24 - x**6/720 + x**8/40320 - x**10/3628800 + x**12/479001600 - x**14/87178291200 + x**16/20922789888000 - x**18/6402373705728000 + O(x**19)\n",
      "\n",
      "derivative of Taylor series of cos: -x + x**3/6 - x**5/120 + x**7/5040 - x**9/362880 + x**11/39916800 - x**13/6227020800 + x**15/1307674368000 - x**17/355687428096000 + O(x**19)\n"
     ]
    }
   ],
   "source": [
    "import sympy as sp\n",
    "x = sp.symbols('x')\n",
    "\n",
    "x0 = 0\n",
    "order = 20\n",
    "\n",
    "# Let's get the Taylor series of sin\n",
    "taylor_sin = sp.series(sp.sin(x), x, x0, order)\n",
    "taylor_cos = sp.series(sp.cos(x), x, x0, order)\n",
    "\n",
    "print('Taylor series:\\n')\n",
    "print(f'Taylor series of sin: {taylor_sin}')\n",
    "print()\n",
    "print(f'Taylor series of cos: {taylor_cos}')\n",
    "\n",
    "# Let's get the derivatives of the Taylor series expansions\n",
    "dtaylor_sin = sp.diff(taylor_sin, x)\n",
    "dtaylor_cos = sp.diff(taylor_cos, x)\n",
    "\n",
    "print()\n",
    "print('derivatives:\\n')\n",
    "print(f'derivative of Taylor series of sin: {dtaylor_sin}')\n",
    "print()\n",
    "print(f'derivative of Taylor series of cos: {dtaylor_cos}')"
   ]
  },
  {
   "cell_type": "markdown",
   "metadata": {},
   "source": [
    "## Question 3\n",
    "\n",
    "\n",
    "A useful application of Taylor series is that we can determine the limit a function approaches as x tends to a particular point. \n",
    "\\begin{align*}\n",
    "    \\lim_{x\\to 0} \\frac{e^x - 1 - x}{x^2}\n",
    "\\end{align*}\n",
    "As a starting point attempt try evaluating the expression with a calculator at values close to $x=0$ (you may be surprised by the result). Then, using appropriate Taylor series substitutions determine evaluate the above expression.\n",
    "\n"
   ]
  },
  {
   "cell_type": "markdown",
   "metadata": {},
   "source": [
    "## Model solutions for Q3\n",
    "\n",
    "Using the Maclaurin series expansion of $e^x$\n",
    "\\begin{align*}\n",
    "    e^x \\approx 1 + x + \\frac{{{x^2}}}{{2!}} + \\frac{{{x^3}}}{{3!}} + \\frac{{{x^4}}}{{4!}}  +  ...\n",
    "\\end{align*}\n",
    "We obtain\n",
    "\\begin{align*}\n",
    "    \\frac{e^x - 1 - x}{x^2} &= \\frac{\\left(1 + x + \\frac{{{x^2}}}{{2!}} + \\frac{{{x^3}}}{{3!}} + \\frac{{{x^4}}}{{4!}} \\ + \\ ...\\right) - 1 -x}{x^2}\n",
    "    \\\\\n",
    "    &= \\frac{\\left( \\frac{{{x^2}}}{{2!}} + \\frac{{{x^3}}}{{3!}} + \\frac{{{x^4}}}{{4!}} \\ + \\ ...\\right)}{x^2}\n",
    "    \\\\\n",
    "    &= \\frac{{{1}}}{{2!}} + \\frac{{{x}}}{{3!}} + \\frac{{{x^2}}}{{4!}} \\ + \\ ...\n",
    "\\end{align*}\n",
    "Therefore:\n",
    "    \\begin{align*}\n",
    "    \\lim_{x\\to 0} \\frac{e^x - 1 - x}{x^2} &\\rightarrow \\frac{1}{2}\n",
    "\\end{align*}\n"
   ]
  },
  {
   "cell_type": "code",
   "execution_count": 19,
   "metadata": {},
   "outputs": [
    {
     "name": "stdout",
     "output_type": "stream",
     "text": [
      "limit = 1/2\n"
     ]
    }
   ],
   "source": [
    "import sympy as sp\n",
    "\n",
    "x = sp.symbols('x')\n",
    "\n",
    "lim = sp.limit((sp.exp(x)-1-x)/x**2, x, 0)\n",
    "print(f'limit = {lim}')"
   ]
  },
  {
   "cell_type": "markdown",
   "metadata": {},
   "source": [
    "## Question 4\n",
    "\n",
    "Find an approximate value for\n",
    "\\begin{align*}\n",
    "    \\int_0^1 \\cos({x^2})\\, dx\n",
    "\\end{align*}\n",
    "giving your answer to three decimal points by finding the first three non-zero terms of the Maclaurin series for $\\cos({x^2})$. Using the fourth non-zero Maclaurin series term, explain why the error in using this estimate is less than 0.001."
   ]
  },
  {
   "cell_type": "markdown",
   "metadata": {},
   "source": [
    "## Model solutions for Q4\n",
    "\n",
    "The Maclaurin series for $\\cos{x}$ is given by\n",
    "\\begin{align*}\n",
    "    \\cos{x} &=1 - \\frac{{{x^2}}}{{2!}} + \\frac{{{x^4}}}{{4!}} - ...\n",
    "\\end{align*}\n",
    "Hence, the maclaurin series for $\\cos{x^2}$ is given by\n",
    "\\begin{align*}\n",
    "    \\cos{x^2} &=1 - \\frac{{({x^2})^2}}{{2!}} + \\frac{{({x^4})^2}}{{4!}} - ...\n",
    "    \\\\\n",
    "    &= 1 - \\frac{{{x^4}}}{{2!}} + \\frac{{{x^8}}}{{4!}} - ...\n",
    "\\end{align*}\n",
    "\n",
    "Substituting the above expression to evaluate our integral gives gives\n",
    "\\begin{align*}\n",
    "    \\int_0^1 \\cos{x^2} &=\\int_0^1 1 - \\frac{{{x^4}}}{{2!}} + \\frac{{{x^8}}}{{4!}} - ...\\,dx\n",
    "    \\\\\n",
    "    &=\\Bigg[ x - \\frac{{{x^5}}}{{5\\times 2!}} + \\frac{{{x^9}}}{{9\\times 4!}} - ...\\Bigg]_0^1\n",
    "    \\\\\n",
    "    &= 1 - \\frac{{{1}}}{{10}} + \\frac{{{1}}}{{216}} = 0.905\n",
    "    \\\\\n",
    "\\end{align*}\n",
    "The fourth non-zero term, would be given by\n",
    "\\begin{align*}\n",
    "    \\frac{1}{13\\times6!} &=\\frac{1}{9360},\n",
    "\\end{align*}\n",
    "which is less than 0.001.\n"
   ]
  },
  {
   "cell_type": "code",
   "execution_count": 9,
   "metadata": {},
   "outputs": [
    {
     "name": "stdout",
     "output_type": "stream",
     "text": [
      "cos(x^2) = 1 - x**4/2 + x**8/24 + O(x**10)\n",
      "x**9/216 - x**5/10 + x\n",
      "integral = 977/1080\n"
     ]
    }
   ],
   "source": [
    "import sympy as sp\n",
    "\n",
    "x = sp.symbols('x')\n",
    "\n",
    "series = sp.series(sp.cos(x**2), x, 0, 10)\n",
    "print(f'cos(x^2) = {series}')\n",
    "\n",
    "print(sp.integrate(series.removeO(), x))\n",
    "\n",
    "I = sp.integrate(series.removeO(), (x, 0, 1))\n",
    "print(f'integral = {I}')"
   ]
  },
  {
   "cell_type": "markdown",
   "metadata": {},
   "source": [
    "## Bonus Python question\n",
    "\n",
    "Try to follow this excellent resource for [Taylor Series in Python](https://pythonforundergradengineers.com/creating-taylor-series-functions-with-python.html) by Peter Kazarinoff. Copy the code blocks 14 and 18, which relate to $\\cos{x}$, into the notebook and try to adapt the code for $\\sin{x}$.\n",
    "\n",
    "NB. It may be helpful to note that summation form of the taylor expansion for $\\sin{x}$ is given by:\n",
    "\\begin{align*}\n",
    "    \\sin \\left( x \\right) \\approx \\sum\\limits_{n = 0}^\\infty  {{{\\left( { - 1} \\right)}^n}\\frac{{{x^{2n+1}}}}{{\\left( {2n+1} \\right)!}}}\n",
    "\\end{align*}"
   ]
  },
  {
   "cell_type": "markdown",
   "metadata": {},
   "source": [
    "## Model solutions for bonus question"
   ]
  },
  {
   "cell_type": "code",
   "execution_count": null,
   "metadata": {
    "id": "jniZERThOkpz"
   },
   "outputs": [],
   "source": [
    "import math\n",
    "\n",
    "def func_sin(x, n):\n",
    "    sin_approx = 0\n",
    "    for i in range(n):\n",
    "        coef = (-1)**(i)\n",
    "        num = x**(2*i+1)\n",
    "        denom = math.factorial(2*i+1)\n",
    "        sin_approx += ( coef ) * ( (num)/(denom) )\n",
    "    \n",
    "    return sin_approx"
   ]
  },
  {
   "cell_type": "code",
   "execution_count": null,
   "metadata": {
    "colab": {
     "base_uri": "https://localhost:8080/",
     "height": 269
    },
    "id": "1xxr8RIQOm96",
    "outputId": "667ef484-5691-4f4f-b8b5-fc0b5777afd4"
   },
   "outputs": [],
   "source": [
    "import math\n",
    "import numpy as np\n",
    "import matplotlib.pyplot as plt\n",
    "# if using a Jupyter notebook, include:\n",
    "%matplotlib inline\n",
    "\n",
    "angles = np.arange(-2*np.pi,2*np.pi,0.1)\n",
    "p_sin = np.sin(angles)\n",
    "\n",
    "fig, ax = plt.subplots()\n",
    "ax.plot(angles,p_sin)\n",
    "\n",
    "# add lines for between 1 and 6 terms in the Taylor Series\n",
    "for i in range(1,6):\n",
    "    t_sin = [func_sin(angle,i) for angle in angles]\n",
    "    ax.plot(angles,t_sin)\n",
    "\n",
    "ax.set_ylim([-7,4])\n",
    "\n",
    "# set up legend\n",
    "legend_lst = ['sin() function']\n",
    "for i in range(1,6):\n",
    "    legend_lst.append(f'Taylor Series - {i} terms')\n",
    "ax.legend(legend_lst, loc=3)\n",
    "\n",
    "plt.show()"
   ]
  },
  {
   "cell_type": "code",
   "execution_count": null,
   "metadata": {},
   "outputs": [],
   "source": []
  }
 ],
 "metadata": {
  "colab": {
   "name": "tutorialS2_5_Q5-soln.ipynb",
   "provenance": []
  },
  "kernelspec": {
   "display_name": "Python 3",
   "language": "python",
   "name": "python3"
  },
  "language_info": {
   "codemirror_mode": {
    "name": "ipython",
    "version": 3
   },
   "file_extension": ".py",
   "mimetype": "text/x-python",
   "name": "python",
   "nbconvert_exporter": "python",
   "pygments_lexer": "ipython3",
   "version": "3.9.1"
  }
 },
 "nbformat": 4,
 "nbformat_minor": 1
}
