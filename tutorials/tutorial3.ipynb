{
 "cells": [
  {
   "cell_type": "markdown",
   "metadata": {},
   "source": [
    "# CP213: Tutorial Notebook Week 3"
   ]
  },
  {
   "cell_type": "markdown",
   "metadata": {},
   "source": [
    "## Question 1\n",
    "\n",
    "The amount of work $dW$ that is extracted by an engine from a given\n",
    "amount of heat $dQ$ fed to it is\n",
    "\\begin{align*}\n",
    "dW = \\eta\\, dQ  \n",
    "\\end{align*}\n",
    "where $\\eta$ is the engine efficiency.  The maximum theoretical\n",
    "efficiency of an engine is given by the Carnot efficiency\n",
    "\\begin{align*}\n",
    "  \\eta_C = 1 - \\frac{T_C}{T_H}  \n",
    "\\end{align*}\n",
    "where $T_H$ is the temperature at which the heat is absorbed by the\n",
    "engine, and $T_C$ is the temperature at which the heat is rejected.\n",
    "\n",
    "1. Determine the maximum amount of work that can be extracted from\n",
    "  a $250\\,{\\rm mL}$ cup of hot water initially at $60^\\circ{\\rm C}$,\n",
    "  if the surrounding environment is at a fixed temperature of\n",
    "  $20^\\circ{\\rm C}$.  Note that the density of water is approximately\n",
    "  $1\\,{\\rm g\\,mL}^{-1}$, and its heat capacity is approximately\n",
    "  $4.2\\,{\\rm J\\,g^{-1}\\,K^{-1}}$.\n",
    "\n",
    "2. Determine the maximum amount of work that can be extracted from\n",
    "  a $250\\,{\\rm g}$ block of ice initially at $0^\\circ{\\rm C}$, if the\n",
    "  surrounding environment is at a fixed temperature of\n",
    "  $20^\\circ{\\rm C}$.  Note that the heat capacity is approximately\n",
    "  $2.1\\,{\\rm J\\,g^{-1}\\,K}^{-1}$, and the heat of fusion of water is\n",
    "  $334\\,{\\rm J\\,g}^{-1}$.\n",
    "\n",
    "\n",
    "\n"
   ]
  },
  {
   "cell_type": "code",
   "execution_count": null,
   "metadata": {},
   "outputs": [],
   "source": []
  },
  {
   "cell_type": "code",
   "execution_count": null,
   "metadata": {},
   "outputs": [],
   "source": []
  },
  {
   "cell_type": "markdown",
   "metadata": {},
   "source": [
    "## Question 2\n",
    "\n",
    "The heat flux $q$ (heat flow per unit surface area) from the surface\n",
    "of a body can be described by Newton's law of cooling\n",
    "\\begin{align*}\n",
    "  q &= h(T-T_\\infty)\n",
    ",  \n",
    "\\end{align*}\n",
    "where $T$ is the temperature of the body, $T_\\infty$ is the\n",
    "surrounding temperature, and $h$ is the heat transfer coefficient.\n",
    "\n",
    "\n",
    "1. Determine how the temperature of a $250\\,{\\rm mL}$ cup of water\n",
    "  initially at $60^\\circ{\\rm C}$ decreases with time if the\n",
    "  surrounding environment is at a fixed temperature of\n",
    "  $20^\\circ{\\rm C}$.  Assume that the heat transfer coefficient\n",
    "  $h=2\\,{\\rm W\\,m^{-2}\\,K^{-1}}$ and the area for heat transfer\n",
    "  $A=50\\,{\\rm cm}^2$.  Note that the density of water is approximately\n",
    "  $1\\,{\\rm g\\,mL}^{-1}$, and its heat capacity is approximately\n",
    "  $4.2\\,{\\rm J\\,g^{-1}\\,K^{-1}}$.\n",
    "  \n",
    "2. If a Carnot engine is used to extract work from the hot cup of\n",
    "  water, determine how the power output of the engine varies with\n",
    "  time.  Assume that the values of $h$ and $A$ remain the same as\n",
    "  before.\n",
    "\n"
   ]
  },
  {
   "cell_type": "code",
   "execution_count": null,
   "metadata": {},
   "outputs": [],
   "source": []
  },
  {
   "cell_type": "markdown",
   "metadata": {},
   "source": [
    "## Question 3\n",
    "\n",
    "Evaluate the following integrals analytically (possibly with help from an integral table) and using sympy:\n",
    "\n",
    "1. $\\displaystyle\n",
    "\\int \\frac{dx}{x^2 + 16}  \n",
    "$\n",
    "\n",
    "2. $\\displaystyle\n",
    "\\int \\frac{dx}{x^2 - 16}  \n",
    "$\n",
    "\n",
    "3. $\\displaystyle\n",
    "\\int \\frac{dx}{x^2 + 5x}  \n",
    "$\n",
    "\n",
    "4. $\\displaystyle\n",
    "\\int dx\\,\\frac{(2x+1)}{(x+1)(x+2)}  \n",
    "$\n",
    "\n",
    "5. $\\displaystyle\n",
    "\\int dx\\,\\frac{x^2}{x + 7}  \n",
    "$\n",
    "\n",
    "6. $\\displaystyle\n",
    "\\int dx\\,x\\sqrt{3x+4}\n",
    "$\n",
    "\n",
    "7. $\\displaystyle\n",
    "\\int dx\\,\\frac{x}{\\sqrt{3x+4}}\n",
    "$"
   ]
  },
  {
   "cell_type": "code",
   "execution_count": null,
   "metadata": {},
   "outputs": [],
   "source": []
  },
  {
   "cell_type": "code",
   "execution_count": null,
   "metadata": {},
   "outputs": [],
   "source": []
  },
  {
   "cell_type": "markdown",
   "metadata": {},
   "source": [
    "## Question 4\n",
    "\n",
    "A brine solution (i.e. a mixture of salt and water) with a salt\n",
    "concentration of $0.1\\,{\\rm kg\\,L}^{-1}$ begins to flow at a constant\n",
    "rate of $6\\,{\\rm L\\,min}^{-1}$ into a large tank that initially holds\n",
    "$1000\\,{\\rm L}$ of pure water.  The solution inside the tank is kept\n",
    "well stirred and flows out of the tank at a rate of $6\\,{\\rm\n",
    "L\\,min}^{-1}$.  Determine the variation of the concentration of salt\n",
    "in the tank with time.  This should be done numerically using Python, and the solution should be compared to the analytical solution.\n",
    "\n"
   ]
  },
  {
   "cell_type": "code",
   "execution_count": null,
   "metadata": {},
   "outputs": [],
   "source": []
  },
  {
   "cell_type": "markdown",
   "metadata": {},
   "source": []
  }
 ],
 "metadata": {
  "kernelspec": {
   "display_name": "Python 3",
   "language": "python",
   "name": "python3"
  },
  "language_info": {
   "codemirror_mode": {
    "name": "ipython",
    "version": 3
   },
   "file_extension": ".py",
   "mimetype": "text/x-python",
   "name": "python",
   "nbconvert_exporter": "python",
   "pygments_lexer": "ipython3",
   "version": "3.8.5"
  }
 },
 "nbformat": 4,
 "nbformat_minor": 4
}
