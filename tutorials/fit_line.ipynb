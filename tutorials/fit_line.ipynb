{
 "cells": [
  {
   "cell_type": "markdown",
   "metadata": {},
   "source": [
    "# Linear regression\n",
    "\n",
    "Often we have a set of experimental data that we want to fit a line through.\n"
   ]
  },
  {
   "cell_type": "markdown",
   "metadata": {},
   "source": [
    "First let's define our model:\n",
    "\\begin{align*}\n",
    "f(x; a, b) &= a x + b\n",
    "\\end{align*}"
   ]
  },
  {
   "cell_type": "code",
   "execution_count": 3,
   "metadata": {},
   "outputs": [],
   "source": [
    "def f(x, a, b):\n",
    "    \n",
    "    y = a*x + b\n",
    "    \n",
    "    return y"
   ]
  },
  {
   "cell_type": "markdown",
   "metadata": {},
   "source": [
    "Now let's generate some \"experimental\" data with some measurement error.  We will assume that the true value of the slope $a=1$ and the intercept $b=1$.  Due to various factors, the values that we measure will deviate from the \"actual\" value.  We will simulate this by assuming that the errors are given by a Gaussian distribution.  Measurements of $x$ will be distributed around the exact value with a Gaussian distribution with standard deviation $\\sigma_x$, and measurements of $y$ will be distributed according to a Gaussian distribution with standard deviation $\\sigma_y$."
   ]
  },
  {
   "cell_type": "code",
   "execution_count": 4,
   "metadata": {},
   "outputs": [
    {
     "data": {
      "image/png": "[encoded data removed]",
      "text/plain": [
       "<Figure size 432x288 with 1 Axes>"
      ]
     },
     "metadata": {
      "needs_background": "light"
     },
     "output_type": "display_data"
    }
   ],
   "source": [
    "import numpy as np\n",
    "from numpy.random import normal\n",
    "\n",
    "\n",
    "def get_measurement():\n",
    "    a = 1.0\n",
    "    b = 1.0\n",
    "    x_exact = np.arange(-5.0, 5.0, 0.1)\n",
    "    y_exact = [f(x, a, b) for x in x_exact]\n",
    "    N = len(x_exact)  # this is the number of measurements\n",
    "\n",
    "    sig_x = 0.1\n",
    "    sig_y = 0.1\n",
    "\n",
    "    x_meas = [x + normal(0.0, sig_x) for x in x_exact]\n",
    "    y_meas = [y + normal(0.0, sig_y) for y in y_exact]\n",
    "    \n",
    "    return x_meas, y_meas\n",
    "\n",
    "\n",
    "import pylab as plt\n",
    "\n",
    "x_meas, y_meas = get_measurement()\n",
    "plt.plot(x_meas, y_meas, 'o')\n",
    "\n",
    "plt.xlabel(r'$x$')\n",
    "plt.ylabel(r'$y$')\n",
    "plt.show()\n",
    "\n"
   ]
  },
  {
   "cell_type": "markdown",
   "metadata": {},
   "source": [
    "Now let's write a function that performs a linear fit of data.\n",
    "\n",
    "We take our objective function to be\n",
    "\\begin{equation*}\n",
    "F(a,b,\\dots) = \\sum_k\\left[y_k - f(x_k; a, b, \\dots)\\right]^2\n",
    "\\end{equation*}\n",
    "\n",
    "To find the best fit line, we minimize the objective function with respect to the slope $a$ and intercept $b$ of the line\n",
    "\\begin{align*}\n",
    "\\frac{\\partial F}{\\partial a} &= -2 \\sum_k [y_k-(ax_k+b)] x_k = 0\n",
    "\\\\\n",
    "\\frac{\\partial F}{\\partial b} &= -2 \\sum_k [y_k-(ax_k+b)] = 0\n",
    "\\end{align*}\n",
    "This can be rewritten as\n",
    "\\begin{align*}\n",
    "a S_{xx} + b S_x &= S_{xy} \n",
    "\\\\\n",
    "a S_x + b &= S_y \n",
    "\\end{align*}\n",
    "where\n",
    "\\begin{align*}\n",
    "S_{x} &= \\frac{1}{N} \\sum_{k=1}^N x_k,\n",
    "\\quad\n",
    "S_{y} = \\frac{1}{N} \\sum_{k=1}^N y_k\n",
    "\\\\\n",
    "S_{xx} &= \\frac{1}{N} \\sum_{k=1}^N x_k^2,\n",
    "\\quad\n",
    "S_{xy} = \\frac{1}{N} \\sum_{k=1}^N x_ky_k\n",
    "\\end{align*}\n",
    "\n",
    "\n",
    "Finally, we arrive at\n",
    "\\begin{align*}\n",
    "a &= \\frac{S_{xy}-S_xS_y}{S_{xx}-S_x^2}\n",
    "\\\\\n",
    "b &= \\frac{S_{xx}S_y-S_xS_{xy}}{S_{xx}-S_x^2}\n",
    "\\end{align*}\n"
   ]
  },
  {
   "cell_type": "code",
   "execution_count": 6,
   "metadata": {},
   "outputs": [
    {
     "data": {
      "image/png": "[encoded data removed]",
      "text/plain": [
       "<Figure size 432x288 with 1 Axes>"
      ]
     },
     "metadata": {
      "needs_background": "light"
     },
     "output_type": "display_data"
    }
   ],
   "source": [
    "def get_fit(x_data, y_data):\n",
    "\n",
    "    N = float(len(x_data))\n",
    "    Sx = 0.0\n",
    "    Sy = 0.0\n",
    "    Sxx = 0.0\n",
    "    Syy = 0.0\n",
    "    Sxy = 0.0\n",
    "    for x, y in zip(x_data, y_data):\n",
    "        Sx += x\n",
    "        Sy += y\n",
    "        Sxx += x*x\n",
    "        Syy += y*y\n",
    "        Sxy += x*y\n",
    "    Sx /= N\n",
    "    Sy /= N\n",
    "    Sxx /= N\n",
    "    Syy /= N\n",
    "    Sxy /= N\n",
    "        \n",
    "    a = (Sxy-Sx*Sy)/(Sxx-Sx*Sx)\n",
    "    b = (Sxx*Sy-Sx*Sxy)/(Sxx-Sx*Sx)\n",
    "    \n",
    "    return a, b\n",
    "\n",
    "a, b = get_fit(x_meas, y_meas)\n",
    "x_fit = np.arange(-5.0, 5.0, 0.01)\n",
    "y_fit = [f(x, a, b) for x in x_fit]\n",
    "\n",
    "plt.plot(x_meas, y_meas, 'o')\n",
    "plt.plot(x_fit, y_fit)\n",
    "plt.show()"
   ]
  },
  {
   "cell_type": "markdown",
   "metadata": {},
   "source": [
    "This was a fit for only one set of measurements.  What happens if we try to perform this experiment many, many times?"
   ]
  },
  {
   "cell_type": "code",
   "execution_count": 9,
   "metadata": {},
   "outputs": [
    {
     "data": {
      "image/png": "[encoded data removed]",
      "text/plain": [
       "<Figure size 432x288 with 1 Axes>"
      ]
     },
     "metadata": {
      "needs_background": "light"
     },
     "output_type": "display_data"
    }
   ],
   "source": [
    "N_exp = 1000\n",
    "\n",
    "a_data = []\n",
    "b_data = []\n",
    "for i in range(N_exp):\n",
    "    \n",
    "    x_meas, y_meas = get_measurement()\n",
    "    a, b = get_fit(x_meas, y_meas)\n",
    "    a_data.append(a)\n",
    "    b_data.append(b)\n",
    "    \n",
    "#count_a, bins_a, hist_a = plt.hist(a_data, histtype='step', label=r'$a$')\n",
    "#count_b, bins_b, hist_b = plt.hist(b_data, histtype='step', label=r'$b$')\n",
    "#plt.legend()\n",
    "\n",
    "plt.hist2d(a_data, b_data, density='True')\n",
    "\n",
    "plt.show()\n"
   ]
  },
  {
   "cell_type": "markdown",
   "metadata": {},
   "source": [
    "So we see that there is a distribution of the fit parameters $a$ and $b$.  This distribution represents the probability density that a particular set of values would be inferred from a particular measurement.  While their values are distributed around the \"actual\" value of $a=1$ and $b=1$, they will in general deviate from these values.  The width of this distribution characterizes the uncertainty in the estimate of the parameters."
   ]
  },
  {
   "cell_type": "markdown",
   "metadata": {},
   "source": [
    "## Issues to reflect upon\n",
    "\n",
    "- How are the widths in the distributions for the slope and the intercept related to the uncertainty (i.e. standard deviations) in the experimental data?\n",
    "- Is there a bias in the estimates for $a$ and $b$?\n",
    "- If different experimental data points have different uncertainties, what is the best way to modify the objective function to obtain the most \"narrow\" distribution for $a$ and $b$?"
   ]
  },
  {
   "cell_type": "code",
   "execution_count": null,
   "metadata": {},
   "outputs": [],
   "source": []
  }
 ],
 "metadata": {
  "kernelspec": {
   "display_name": "Python 3",
   "language": "python",
   "name": "python3"
  },
  "language_info": {
   "codemirror_mode": {
    "name": "ipython",
    "version": 3
   },
   "file_extension": ".py",
   "mimetype": "text/x-python",
   "name": "python",
   "nbconvert_exporter": "python",
   "pygments_lexer": "ipython3",
   "version": "3.8.4"
  }
 },
 "nbformat": 4,
 "nbformat_minor": 4
}
