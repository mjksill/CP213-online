{
 "cells": [
  {
   "cell_type": "markdown",
   "metadata": {},
   "source": [
    "# CP213: Tutorial Notebook S2 Week 4"
   ]
  },
  {
   "cell_type": "markdown",
   "metadata": {},
   "source": [
    "## Question 1\n",
    "\n",
    "In statistics we have observed probability density functions (pdfs) relating to one variable, $f_X(x)$. Joint pdfs of the type $f_{XY}(x,y)$ can be defined from which probabilities can be determined as so:\n",
    "\\begin{align*}\n",
    "P(a\\leq X\\leq b,c\\leq Y\\leq d)=\\int_a^b\\int_c^df_{XY}(x,y)dydx\n",
    "\\end{align*}\n",
    "Note that the range, $R_{XY}$, can be shown in the $x-y$ plane.\n",
    "\n",
    "Given the joint pdf:\n",
    "\\begin{equation}\n",
    "\\nonumber f_{XY}(x,y) = \\left\\{\n",
    "\\begin{array}{l l}\n",
    "ky^2+x &  \\quad 0 \\leq x \\leq 1,0 \\leq y \\leq 1  \\\\\n",
    "&  \\quad   \\\\\n",
    "0 &  \\quad \\text{otherwise}\n",
    "\\end{array} \\right.\n",
    "\\end{equation}\n",
    "\n",
    "1. Determine k\n",
    "\n",
    " **Hint.** Think about the properties of single variable pdfs and how these might apply to joint pdfs.\n",
    "\n",
    "2. Determine $P(0\\leq X\\leq\\frac{1}{2},0\\leq Y\\leq\\frac{1}{2})$\n",
    "\n",
    "3. Determine $P(Y\\leq\\frac{X}{2})$ and sketch the region of integration.\n",
    "\n",
    "4. Joint pdfs contain all the information about each individual variable across the range of possible values. Therefore we can define the \\textit{marginal pdf} for each variable, as so:\n",
    "\\begin{align*}\n",
    "f_X(x)&=\\int_{-\\infty}^{\\infty}f_{XY}(x,y)dy \n",
    "\\\\\n",
    "f_Y(y)&=\\int_{-\\infty}^{\\infty}f_{XY}(x,y)dx\n",
    "\\end{align*}\n",
    "Hence determine the marginal pdfs for the above joint pdf.\n",
    "\n",
    "5. What type of correlation exists between $X$ and $Y$?\n",
    "\n",
    " **Hint.**\n",
    "Remember that: \n",
    "\\begin{align*}\n",
    "COV(X,Y)=E(XY)-E(X)E(Y)\n",
    "\\end{align*}\n",
    "and that:\n",
    "\\begin{align*}\n",
    "E(g(X))=\\int_{-\\infty}^{\\infty}g(x)f(x)dx\n",
    "\\end{align*}\n"
   ]
  },
  {
   "cell_type": "markdown",
   "metadata": {},
   "source": [
    "## Model solution for Q1\n",
    "\n",
    "### Part 1\n",
    "\n",
    "Questions you should ask: what does the area under a single-variable pdf represent? (Probability) What is the maximum value for probability? (P=1) How does the relate to the properties of a pdf? (area under pdf = 1) How can we expand this idea to joint pdfs? (volume under joint pdf = 1)\n",
    "    \n",
    "When considering single variable pdfs, we know that the integral of the full pdf is equal to 1 (i.e. area under the function). This extends to joint pdfs, i.e. the double integral of the full pdf is equal to 1 (i.e. volume under the function). Therefore:\n",
    "\\begin{align*}\n",
    "    \\int_0^1 \\int_0^1 (ky^2 + x)\\, dydx &= 1\\\\\n",
    "    \\int_0^1 \\left(k\\frac{y^3}{3} + xy\\right) \\biggl|_{y=0}^{y=1} \\, dx &= 1\\\\\n",
    "    \\int_0^1 \\left(k\\frac{1}{3} + x\\right) \\, dx &= 1\\\\\n",
    "    \\left(k\\frac{1}{3}x+\\frac{x^2}{2}\\right) \\biggl|_0^1 &= 1\\\\\n",
    "    \\frac{1}{3}k + \\frac{1}{2} &= 1\\\\\n",
    "    k&=\\frac{3}{2}\n",
    "\\end{align*}\n",
    "\n"
   ]
  },
  {
   "cell_type": "markdown",
   "metadata": {},
   "source": [
    "### Part 2\n",
    "\n",
    "\\begin{align*}\n",
    "    P\\left(0\\leq X\\leq\\frac{1}{2},0\\leq Y\\leq\\frac{1}{2}\\right) &= \\int_0^\\frac{1}{2} \\int_0^\\frac{1}{2} \n",
    "    \\left(\\frac{3}{2}y^2 + x\\right)\\, dydx\\\\\n",
    "    &= \\int_0^\\frac{1}{2}\\left( \\frac{y^3}{2} + xy\\right) \\biggl|_{y=0}^{y=\\frac{1}{2}} \\, dx\\\\\n",
    "    &= \\int_0^\\frac{1}{2} \\left(\\frac{1}{16} + \\frac{x}{2}\\right) \\, dx \\\\\n",
    "    &= \\left(\\frac{1}{16}x+\\frac{x^2}{4}\\right) \\biggl|_0^\\frac{1}{2} \\\\\n",
    "    &= \\frac{1}{32} + \\frac{1}{16} \\\\\n",
    "    &=\\frac{3}{32}        \n",
    "\\end{align*}\n"
   ]
  },
  {
   "cell_type": "markdown",
   "metadata": {},
   "source": [
    "### Part 3\n",
    "\n",
    "\\begin{align*}\n",
    "    P\\left(Y\\leq\\frac{X}{2}\\right) &= \\int_0^\\frac{1}{2} \\int_0^\\frac{x}{2} \\left(\\frac{3}{2}y^2 + x\\right)\\, dydx\\\\\n",
    "    &= \\int_0^1 \\left(\\frac{y^3}{2} + xy\\right) \\biggl|_{y=0}^{y=\\frac{x}{2}} \\, dx\\\\\n",
    "    &= \\int_0^1 \\left(\\frac{x^3}{16} + \\frac{x^2}{2}\\right) \\, dx \\\\\n",
    "    &= \\left(\\frac{x^4}{64}+\\frac{x^3}{6}\\right) \\biggl|_0^1 \\\\\n",
    "    &= \\frac{1}{64} + \\frac{1}{6} \\\\\n",
    "    &=\\frac{35}{192}        \n",
    "\\end{align*}\n",
    "\n",
    "Sketch of region of integration:"
   ]
  },
  {
   "cell_type": "code",
   "execution_count": 10,
   "metadata": {},
   "outputs": [
    {
     "data": {
      "image/png": "[encoded data removed]",
      "text/plain": [
       "<Figure size 432x288 with 1 Axes>"
      ]
     },
     "metadata": {
      "needs_background": "light"
     },
     "output_type": "display_data"
    }
   ],
   "source": [
    "import numpy as np\n",
    "import pylab as plt\n",
    "\n",
    "\n",
    "x_data = np.arange(0, 1.01, 0.01)\n",
    "y_data = [x*0.5 for x in x_data]\n",
    "\n",
    "plt.plot(x_data, y_data, color='red')\n",
    "plt.fill_between(x_data, y_data, color='gray')\n",
    "\n",
    "plt.ylabel(r'$y$')\n",
    "plt.xlabel(r'$x$')\n",
    "plt.show()\n"
   ]
  },
  {
   "cell_type": "markdown",
   "metadata": {},
   "source": [
    "### Part 4\n",
    "\n",
    "\\begin{equation}\n",
    "\\nonumber f_{X}(x) = \\left\\{\n",
    "\\begin{array}{l l}\n",
    "\\frac{1}{2}+x &  \\quad 0 \\leq x \\leq 1\\\\\n",
    "&  \\quad   \\\\\n",
    "0 &  \\quad \\text{otherwise}\n",
    "\\end{array} \\right.\n",
    "\\end{equation}\n",
    "\\begin{equation}\n",
    "\\nonumber f_{Y}(y) = \\left\\{\n",
    "\\begin{array}{l l}\n",
    "\\frac{3}{2}y^2+\\frac{1}{2} &  \\quad 0 \\leq y \\leq 1\\\\\n",
    "&  \\quad   \\\\\n",
    "0 &  \\quad \\text{otherwise}\n",
    "\\end{array} \\right.\n",
    "\\end{equation}"
   ]
  },
  {
   "cell_type": "markdown",
   "metadata": {},
   "source": [
    "### Part 5\n",
    "\n",
    "We already know the marginal pdfs and so:\n",
    "\\begin{align*}\n",
    "    E(X)&=\\int_{0}^{1}x\\left(\\frac{1}{2} + x\\right) \\,dx \\\\\n",
    "    &=\\int_{0}^{1}\\left(\\frac{1}{2}x + x^2\\right) \\,dx \\\\\n",
    "    &=\\frac{7}{12}\n",
    "\\end{align*}\n",
    "\n",
    "A similar evaluation for $E(Y)$ gives:\n",
    "\\begin{align*}\n",
    "    E(Y)=\\frac{5}{8}\n",
    "\\end{align*}\n",
    "For $E(XY)$:\n",
    "\\begin{align*}\n",
    "    E(XY) &=\\int_0^1 \\int_0^1 xy\\left(\\frac{3}{2}y^2 + x\\right)\\, dydx\\\\\n",
    "    &= \\int_0^1 \\left(\\frac{3}{8}y^4x + \\frac{x^2y^2}{2}\\right)\\biggl|_{y=0}^{y=1}\\, dx\\\\\n",
    "    &= \\left(\\frac{3}{16}x^2 + \\frac{x^3}{6}\\right) \\biggl|_0^1\\\\\n",
    "    &= \\frac{17}{48}\n",
    "\\end{align*}\n",
    "Therefore:\n",
    "\\begin{align*}\n",
    "    COV(X,Y) &= \\frac{17}{48} - \\frac{7}{12}\\frac{5}{8} \\\\\n",
    "    &= -\\frac{1}{96}\n",
    "\\end{align*}\n",
    "Hence, $X$ and $Y$ are negatively correlated. "
   ]
  },
  {
   "cell_type": "code",
   "execution_count": null,
   "metadata": {},
   "outputs": [],
   "source": []
  },
  {
   "cell_type": "markdown",
   "metadata": {},
   "source": [
    "## Question 2\n",
    "\n",
    "Sketch the region of integration and evaluate the integral:\n",
    "\\begin{align*}\n",
    "    \\int_0^6 \\int_{x/3}^2\\,x\\left(y^3+1\\right)^{1/2}\\, dy\\,dx\\\n",
    "\\end{align*}\n",
    "**Hint.** If you are finding this integration difficult to evaluate, think about how you could reinterpret aspects to make it easier to evaluate.\n"
   ]
  },
  {
   "cell_type": "markdown",
   "metadata": {},
   "source": [
    "## Model solution for Q2\n",
    "\n",
    "First we plot the integration region: "
   ]
  },
  {
   "cell_type": "code",
   "execution_count": 13,
   "metadata": {},
   "outputs": [
    {
     "data": {
      "image/png": "[encoded data removed]",
      "text/plain": [
       "<Figure size 432x288 with 1 Axes>"
      ]
     },
     "metadata": {
      "needs_background": "light"
     },
     "output_type": "display_data"
    }
   ],
   "source": [
    "import numpy as np\n",
    "import pylab as plt\n",
    "\n",
    "\n",
    "x_data = np.arange(0, 6.01, 0.01)\n",
    "y_data = [x/3 for x in x_data]\n",
    "\n",
    "plt.plot(x_data, y_data, color='red')\n",
    "plt.fill_between(x_data, y_data, 2, color='gray')\n",
    "\n",
    "plt.ylabel(r'$y$')\n",
    "plt.xlabel(r'$x$')\n",
    "plt.text(3.5, 1, r'$x/3$', color='red')\n",
    "plt.show()"
   ]
  },
  {
   "cell_type": "markdown",
   "metadata": {},
   "source": [
    "  \n",
    "After consideration you may come to realise that trying to integrate without changing the order of integration makes this evaluation exceptionally difficult. Our job can be made easier if we reconsider our boundaries as:\n",
    "\\begin{align*}\n",
    "    0 &\\leq x\\leq 3y\\\\\n",
    "    0 &\\leq y \\leq 2\n",
    "\\end{align*}\n",
    "And changing the order of our integration to:\n",
    "\\begin{align*}\n",
    "    \\int_0^2\\int_0^{3y}\\, x \\left(y^3+1\\right)^{1/2}\\, dx\\,dy\\\\\n",
    "    =\\int_0^2\\int_{0}^{3y}\\, x \\left(y^3+1\\right)^{1/2} dx\\,dy\\\\\n",
    "    =\\int_0^2\\Bigl[\\,\\frac{1}{2}x^2\\left(y^3+1\\right)^{1/2}\\, \\Bigr]_0^{3y}\\,dy \\\\\n",
    "    =\\int_0^2 \\ \\frac{9}{2}y^2 \\left(y^3+1\\right)^{1/2}\\, dy\n",
    "\\end{align*}\n",
    "Now consider the substitution:\n",
    "\\begin{align*}\n",
    "    u =y^3 + 1\n",
    "\\end{align*}\n",
    "Then:\n",
    "\\begin{align*}\n",
    "    du = 3y^2 dy\\\\\n",
    "    y=0 \\rightarrow u=1\\\\\n",
    "    y=2 \\rightarrow u=9\n",
    "\\end{align*}\n",
    "Hence\n",
    "\\begin{align*}\n",
    "    \\int_0^2 \\ \\frac{9}{2}y^2 \\left(y^3+1\\right)^{1/2}\\, dy &=\n",
    "    \\frac{3}{2} \\int_1^9 \\ u^{1/2}\\, du\\\\\n",
    "    &= \\Bigl[\\,u^{3/2}\\Bigr]_1^9\\\\\n",
    "    &= \\left( \\sqrt{9^3}-1\\right)\\\\\n",
    "    &= 26\n",
    "\\end{align*}"
   ]
  },
  {
   "cell_type": "code",
   "execution_count": null,
   "metadata": {},
   "outputs": [],
   "source": []
  },
  {
   "cell_type": "markdown",
   "metadata": {},
   "source": [
    "## Question 3\n",
    "\n",
    "Evaluate the surface integral of the function $f(x,y)=1-x^2-y^2$ over the region bounded by two concentric circles, one being the unit circle and the other a circle with radius of length 2.\n",
    "\n",
    "**Hint.** Think about the shape of the region - this should give you an idea of what needs to be done to proceed with evaluating the integral.\n"
   ]
  },
  {
   "cell_type": "markdown",
   "metadata": {},
   "source": [
    "## Model solution for Q3\n",
    "\n",
    "First we plot the region of integration:"
   ]
  },
  {
   "cell_type": "code",
   "execution_count": 27,
   "metadata": {},
   "outputs": [
    {
     "data": {
      "image/png": "[encoded data removed]",
      "text/plain": [
       "<Figure size 432x288 with 1 Axes>"
      ]
     },
     "metadata": {
      "needs_background": "light"
     },
     "output_type": "display_data"
    }
   ],
   "source": [
    "import numpy as np\n",
    "import matplotlib.pyplot as plt\n",
    "\n",
    "\n",
    "n, radii = 50, [1, 2]\n",
    "theta = np.linspace(0, 2*np.pi, n, endpoint=True)\n",
    "xs = np.outer(radii, np.cos(theta))\n",
    "ys = np.outer(radii, np.sin(theta))\n",
    "\n",
    "# in order to have a closed area, the circles\n",
    "# should be traversed in opposite directions\n",
    "xs[1,:] = xs[1,::-1]\n",
    "ys[1,:] = ys[1,::-1]\n",
    "\n",
    "ax = plt.subplot(111, aspect='equal')\n",
    "ax.fill(np.ravel(xs), np.ravel(ys), color='gray', edgecolor='gray')\n",
    "#ax.fill(np.ravel(xs), np.ravel(ys), edgecolor='#348ABD')\n",
    "\n",
    "\n",
    "theta_data = np.arange(0.0, 2.0*np.pi+0.01, 0.01)\n",
    "\n",
    "r1 = 1\n",
    "x1_data = [r1*np.cos(theta) for theta in theta_data]\n",
    "y1_data = [r1*np.sin(theta) for theta in theta_data]\n",
    "\n",
    "r2 = 2\n",
    "x2_data = [r2*np.cos(theta) for theta in theta_data]\n",
    "y2_data = [r2*np.sin(theta) for theta in theta_data]\n",
    "\n",
    "plt.plot(x1_data, y1_data, color='blue')\n",
    "plt.plot(x2_data, y2_data, color='blue')\n",
    "\n",
    "plt.ylabel(r'$y$')\n",
    "plt.xlabel(r'$x$')\n",
    "plt.axis('equal')\n",
    "\n",
    "plt.show()"
   ]
  },
  {
   "cell_type": "markdown",
   "metadata": {},
   "source": [
    "Converting to polar coordinates means that:\n",
    "\\begin{align*}\n",
    "    x &= r\\cos{\\theta}\\\\\n",
    "    y &= r\\sin{\\theta}\\\\\n",
    "    dA &= r\\,dr\\,d\\theta\n",
    "\\end{align*}\n",
    "Our limits are then $1\\leq r \\leq 2$ and $0 \\leq \\theta \\leq 2\\pi$. Using these limits and our substitutions for polar form, gives our integral to evaluate:\n",
    "\\begin{align*}\n",
    "    \\int_0^{2\\pi}\\ \\int_1^2 \\left(1 - r^2\\cos^2{\\theta} - r^2\\sin^2{\\theta}\\right)r\\,dr\\,d\\theta\n",
    "\\end{align*}\n",
    "From trig identities, we know that $\\sin^2{\\theta}+\\cos^2{\\theta}=1$, therefore:\n",
    "\\begin{align*}\n",
    "    \\int_0^{2\\pi}\\ \\int_1^2 \\left(1 - r^2\\right)r\\,dr\\,d\\theta &= \\int_0^{2\\pi}\\ \\Bigl[  \\frac{r^2}{2}-\\frac{r^4}{4}\\Bigr]_1^2\\,d\\theta\\\\\n",
    "    &= \\int_0^{2\\pi}\\ -\\frac{9}{4}\\,d\\theta\\\\\n",
    "    &= \\Bigl[-\\frac{9}{4}\\theta\\Bigr]_0^{2\\pi}\\\\\n",
    "    &= -\\frac{9}{2}\\pi\n",
    "\\end{align*}"
   ]
  },
  {
   "cell_type": "code",
   "execution_count": null,
   "metadata": {},
   "outputs": [],
   "source": []
  }
 ],
 "metadata": {
  "kernelspec": {
   "display_name": "Python 3",
   "language": "python",
   "name": "python3"
  },
  "language_info": {
   "codemirror_mode": {
    "name": "ipython",
    "version": 3
   },
   "file_extension": ".py",
   "mimetype": "text/x-python",
   "name": "python",
   "nbconvert_exporter": "python",
   "pygments_lexer": "ipython3",
   "version": "3.9.1"
  }
 },
 "nbformat": 4,
 "nbformat_minor": 4
}
