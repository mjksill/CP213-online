{
 "cells": [
  {
   "cell_type": "markdown",
   "metadata": {},
   "source": [
    "# CP213: Tutorial Notebook 1\n",
    "\n"
   ]
  },
  {
   "cell_type": "markdown",
   "metadata": {},
   "source": [
    "## Question 1"
   ]
  },
  {
   "cell_type": "markdown",
   "metadata": {},
   "source": [
    "1. Find the exact value of the integral\n",
    "   \\begin{align*}\n",
    "   \\int_0^1 dx\\, x^3.\n",
    "   \\end{align*}\n",
    "\n",
    "2. Use the trapezium rule with four equal intervals to estimate the\n",
    "   value of the integral.  Determine the percentage error between the\n",
    "   exact value and the value estimated by the trapezium rule.\n",
    "\n",
    "3. Repeat part 2. using eight equal intervals.\n",
    "\n",
    "4. Make a plot of the percentage error between the exact value and the\n",
    "   value estimated by the trapezium rule and the number $N$ of equal\n",
    "   intervals used from $N=1$ to $100$."
   ]
  },
  {
   "cell_type": "code",
   "execution_count": null,
   "metadata": {},
   "outputs": [],
   "source": []
  },
  {
   "cell_type": "markdown",
   "metadata": {},
   "source": [
    "## Question 2"
   ]
  },
  {
   "cell_type": "markdown",
   "metadata": {},
   "source": [
    "A projectile initially located at the origin has an initial speed\n",
    "$v_0=10\\,{\\rm m\\,s}^{-1}$ directed at an angle of $\\theta=30^\\circ$\n",
    "from the horizontal.  It travels a gravitational field $g=9.81\\,{\\rm\n",
    "m\\,s}^{-2}$ which points in the negative $y$-direction.\n",
    "\n",
    "1. Write an equation for how the $x$- and $y$-coordinates of the\n",
    "   particle change depend on time $t$.\n",
    "\n",
    "2. When will the projectile strike the ground, which is located at\n",
    "   $y=0$?\n",
    "\n",
    "3. Plot the variation of the $x$- and $y$-coordinates of the\n",
    "   projectile with time, from $t=0$ until it hits the ground.\n",
    "\n",
    "4. Repeat parts 1-3 of the problem if the velocity of the projectile\n",
    "   is at an angle of $60^\\circ$ from the horizontal.  At what angle\n",
    "   will the projectile travel the furthest in the $x$-direction?\n"
   ]
  },
  {
   "cell_type": "code",
   "execution_count": null,
   "metadata": {},
   "outputs": [],
   "source": []
  },
  {
   "cell_type": "markdown",
   "metadata": {},
   "source": [
    "## Question 3"
   ]
  },
  {
   "cell_type": "markdown",
   "metadata": {},
   "source": [
    "Plot the data set given in the code block below:"
   ]
  },
  {
   "cell_type": "code",
   "execution_count": null,
   "metadata": {},
   "outputs": [],
   "source": [
    "x_dat = [1220, 1139, 1874, 1550, 1203, 1488, 2003, 1368, 1389, 1300, 1877, 1670, 1080, 1766, 1445, 1718, 1263, 1432, 1557, 1127]\n",
    "y_dat = [42, 46.5, 28.5, 37.5, 43.5, 36, 21, 36, 37.5, 40.5, 27, 33, 49.5, 30, 39, 31.5, 48, 21, 34.5, 61.5]\n"
   ]
  },
  {
   "cell_type": "markdown",
   "metadata": {},
   "source": [
    "The average value of $x$ and $y$, denoted by $\\bar{x}$ and $\\bar{y}$, respectively, are defined by\n",
    "\\begin{align*}\n",
    "\\bar{x} &= \\frac{1}{N}\\sum_{k=0}^{N-1} x_k\n",
    "\\\\\n",
    "\\bar{y} &= \\frac{1}{N}\\sum_{k=0}^{N-1} x_k\n",
    "\\end{align*}\n",
    "where $N$ is the number of data points.\n",
    "\n",
    "Compute $\\bar{x}$ and $\\bar{y}$ for the data set provided.\n"
   ]
  },
  {
   "cell_type": "code",
   "execution_count": null,
   "metadata": {},
   "outputs": [],
   "source": []
  },
  {
   "cell_type": "markdown",
   "metadata": {},
   "source": [
    "The variance of $x$ (denoted by $S_{xx}$), the variance of $y$\n",
    "(denoted by $S_{yy}$), and the covariance between $x$ and $y$ (denoted\n",
    "by $S_{xy}$) are defined as:\n",
    "\\begin{align*}\n",
    "S_{xx} &= \\frac{1}{N}\\sum_{k=0}^{N-1} (x_k-\\bar{x})^2\n",
    "\\\\\n",
    "S_{xy} &= \\frac{1}{N}\\sum_{k=0}^{N-1}(x_k-\\bar{x})(y_k-\\bar{y})\n",
    "\\\\\n",
    "S_{yy} &= \\frac{1}{N} \\sum_{k=0}^{N-1}(x_k-\\bar{x})(y_k-\\bar{y})\n",
    "\\end{align*}\n",
    "Compute $S_{xx}$, $S_{xy}$, and $S_{yy}$.\n"
   ]
  },
  {
   "cell_type": "code",
   "execution_count": null,
   "metadata": {},
   "outputs": [],
   "source": []
  },
  {
   "cell_type": "markdown",
   "metadata": {},
   "source": [
    "The general equation for the best fit line through a set of data is\n",
    "given by:\n",
    "\\begin{align*}\n",
    "y &= ax + b\n",
    "\\end{align*}\n",
    "where the slope $a$ and the intercept $b$ are given by\n",
    "\\begin{align*}\n",
    "a &= \\frac{S_{xy}}{S_{xx}}\n",
    "\\\\\n",
    "b &= \\bar{y} - a \\bar{x}\n",
    ".\n",
    "\\end{align*}\n",
    "We will derive these equation next semester in the module.\n",
    "\n",
    "Plot the equation of the best fit line along with the original data.\n"
   ]
  },
  {
   "cell_type": "code",
   "execution_count": null,
   "metadata": {},
   "outputs": [],
   "source": []
  },
  {
   "cell_type": "markdown",
   "metadata": {},
   "source": [
    "## Question 4"
   ]
  },
  {
   "cell_type": "markdown",
   "metadata": {},
   "source": [
    "Consider the gas-water shift reaction\n",
    "\\begin{align*}\n",
    "{\\rm \n",
    "CO(g) + H_2O(g) \\leftrightarrows CO_2(g) + H_2(g)\n",
    "}\n",
    "\\end{align*}\n",
    "\n",
    "| gas       | $M_w$        | $H_f$         | $G_f$         |\n",
    "| :--       | --:        | --:           | --:           |\n",
    "|           | g mol$^{-1}$ | kJ mol$^{-1}$ | kJ mol$^{-1}$ |\n",
    "| CO(g)     | $28.01$    | $ -110.5$     | $ -137.2$     |\n",
    "| CO$_2$(g) | $44.01$    | $ -393.3$     | $ -394.6$     |\n",
    "| H$_2$(g)  | $ 2.02$    | $    0.0$     | $    0.0$     |\n",
    "| H$_2$O(g) | $18.02$    | $ -241.8$     | $ -228.4$     |\n",
    "|           |            |               |               |\n",
    "\n",
    "\n",
    "The data in the table have been summarized in the dictionary `data`.  The stoichiometric coefficients (the stoichiometric coefficient for species $k$ is typically denoted by the symbol $\\nu_k$) of the reaction are held in the dictionary `nu`.  Note that product species have a positive stoichiometric coefficient, and reactant species have a negative stoichiometric coefficient."
   ]
  },
  {
   "cell_type": "code",
   "execution_count": null,
   "metadata": {},
   "outputs": [],
   "source": [
    "R = 8.314e-3  # ideal gas constant / kJ mol^{-1} K^{-1}\n",
    "T0 = 298.15   # reference temperature / K\n",
    "p0 = 1.0e5    # reference pressure / Pa\n",
    "\n",
    "\n",
    "# Data about the gases: \n",
    "#  Mw - molecular weight g/mol\n",
    "#  Hf - heat of formation \n",
    "#  Gf - Gibbs free energy \n",
    "data = {}\n",
    "data['CO']  = {'Mw':28.01, 'Hf':-110.5, 'Gf':-137.2 }\n",
    "data['CO2'] = {'Mw':44.01, 'Hf':-393.3, 'Gf':-394.6 }\n",
    "data['H2']  = {'Mw': 2.02, 'Hf':   0.0, 'Gf':   0.0 }\n",
    "data['H2O'] = {'Mw':18.02, 'Hf':-241.8, 'Gf':-228.4 }\n",
    "\n",
    "\n",
    "# stoichiometric coefficients\n",
    "nu = {} \n",
    "nu['CO']  = -1.0\n",
    "nu['CO2'] =  1.0 \n",
    "nu['H2']  =  1.0\n",
    "nu['H2O'] = -1.0"
   ]
  },
  {
   "cell_type": "markdown",
   "metadata": {},
   "source": [
    "## Part 1: Standard reaction enthalpy and Gibbs energy\n",
    "\n",
    "The standard enthalpy of reaction $\\Delta H_{\\rm rxn}$ is defined by\n",
    "\\begin{align*}\n",
    "\\Delta H_{\\rm rxn}\n",
    "&= \\sum_k \\nu_k H_{f,k}\n",
    "\\end{align*}\n",
    "where $H_{f,k}$ is the standard enthalpy of formation of species $k$.  The standard Gibbs energy of reaction $\\Delta G_{\\rm rxn}$ is given by\n",
    "\\begin{align*}\n",
    "\\Delta G_{\\rm rxn}\n",
    "&= \\sum_k \\nu_k G_{f,k}\n",
    "\\end{align*}\n",
    "where $G_{f,k}$ is the standard enthalpy of formation of species $k$.\n",
    "\n",
    "**Task:** Calculate the standard enthalpy of reaction and the standard Gibbs energy of reaction."
   ]
  },
  {
   "cell_type": "code",
   "execution_count": null,
   "metadata": {},
   "outputs": [],
   "source": [
    "Hrxn = 0.0 # Heat of reaction\n",
    "Grxn = 0.0 # Gibbs free energy of reaction\n",
    "for gas, coeff in nu.items():\n",
    "    # TODO sum up Hrxn and Grxn here <---------------------------------\n",
    "\n",
    "print(f'standard enthalpy of reaction: {Hrxn} kJ mol^{{-1}}')    \n",
    "print(f'standard Gibbs energy of reaction: {Grxn} kJ mol^{{-1}}')"
   ]
  },
  {
   "cell_type": "markdown",
   "metadata": {},
   "source": [
    "## Part 2: Conversion between mole numbers and mole fractions\n",
    "\n",
    "The mole fraction of species $k$, denoted by $x_k$, in a system is given by\n",
    "\\begin{align*}\n",
    "x_k = \\frac{N_k}{N}\n",
    "\\end{align*}\n",
    "where $N_k$ is the number of moles of species $k$, and $N=\\sum_j N_j$ is the total moles in the system.\n",
    "\n",
    "**Task:** From the dictionary with the mole numbers as an input, create a dictionary of mole fractions."
   ]
  },
  {
   "cell_type": "code",
   "execution_count": null,
   "metadata": {},
   "outputs": [],
   "source": [
    "# some test data - mole numbers of some gases\n",
    "mole = {}\n",
    "mole['CO']  = 1.0\n",
    "mole['CO2'] = 1.0 \n",
    "mole['H2']  = 1.0\n",
    "mole['H2O'] = 1.0\n",
    "\n",
    "\n",
    "total_moles = # ???\n",
    "\n",
    "x_dict = {}\n",
    "for name, N in mole.items():\n",
    "    \n",
    "    # TODO main body goes here <-----------------------------\n",
    "\n",
    "\n",
    "# output your answer\n",
    "for name, x in x_dict.items():\n",
    "    print(f'{name}: mole fraction = {x}')\n"
   ]
  },
  {
   "cell_type": "markdown",
   "metadata": {},
   "source": [
    "## Part 4: Heat capacity\n",
    "\n",
    "The heat capacity of the gases can be described by the equation\n",
    "\\begin{align*}\n",
    "\\frac{C_p}{R}\n",
    "&= a_0 + a_1 T + a_2 T^2 + a_3 T^3 + a_4 T^4\n",
    "\\end{align*}\n",
    "where $T$ is the absolute temperature in kelvin,\n",
    "$R=8.314$\\,J$^{-1}$\\,mol\\,K$^{-1}$ is the ideal gas constant, and the\n",
    "coefficients $a_k$ are given in the table below.\n",
    "\n",
    "\n",
    "| gas       | $a_0$   | $a_1\\times10^3$ | $a_2\\times10^5$ | $a_3\\times10^8$ | $a_4\\times10^{11}$ |\n",
    "| :--       | --:     | --:             | --:             | --:             | --:                |\n",
    "|           |         | K$^{-1}$        | K$^{-2}$        | K$^{-3}$        |  K$^{-4}$                   |\n",
    "| CO(g)     | $3.912$ | $ -3.913$| $1.182$  | $ -1.302$       | $  0.515$          |\n",
    "| CO$_2$(g) | $3.259$ | $  1.356$| $1.502$  | $ -2.374$       | $  1.056$          |\n",
    "| H$_2$(g)  | $2.883$ | $  3.681$| $-0.772$ | $  0.692$       | $ -0.213$          |\n",
    "| H$_2$O(g) | $4.395$ | $ -4.186$| $1.405$ | $ -1.564$       | $  0.632$          |\n",
    "\n",
    "\n",
    "The coefficients of the heat capacity have been added to the dictionary `data` (see below).  In what follows below, assume that the mixtures behave as an ideal gas.\n",
    "\n"
   ]
  },
  {
   "cell_type": "code",
   "execution_count": null,
   "metadata": {},
   "outputs": [],
   "source": [
    "data['CO'] ['Cp_coeff'] = [3.912, -3.913e-3,  1.182e-5, -1.302e-8,  0.515e-11]      \n",
    "data['CO2']['Cp_coeff'] = [3.259,  1.356e-3,  1.502e-5, -2.374e-8,  1.056e-11]      \n",
    "data['H2'] ['Cp_coeff'] = [2.883,  3.681e-3, -0.772e-5,  0.692e-8, -0.213e-11]      \n",
    "data['H2O']['Cp_coeff'] = [4.395, -4.186e-3,  1.405e-5, -1.564e-8,  0.632e-11]\n",
    "\n",
    "R = 8.314  # J mol^{-1} K^{-1}\n",
    "\n"
   ]
  },
  {
   "cell_type": "markdown",
   "metadata": {},
   "source": [
    "**Task:**\n",
    "Plot the molar heat capacity of the mixture and of each of the individual components as a function of temperature."
   ]
  },
  {
   "cell_type": "code",
   "execution_count": null,
   "metadata": {},
   "outputs": [],
   "source": [
    "moles = {'CO':1, 'CO2':2, 'H2':0, 'H2O':1}\n",
    "T_data = np.arange(200.0, 600.0, 10.0)\n",
    "\n",
    "# TODO <--- your work here\n",
    "\n",
    "plt.legend()\n",
    "plt.xlabel('temperature / K')\n",
    "plt.ylabel(r'molar heat capacity / J mol$^{-1}$ K$^{-1}$')\n",
    "plt.show()"
   ]
  },
  {
   "cell_type": "markdown",
   "metadata": {},
   "source": [
    "**Task:**\n",
    "Plot the heat capacity of reaction $\\Delta C_{p,{\\rm rxn}}(T)$ of the gas-water shift reaction as a function of temperature.\n",
    "\n",
    "Note that the heat capacity of reaction is defined as\n",
    "\\begin{align*}\n",
    "\\Delta C_{p,{\\rm rxn}}\n",
    "&= \\sum_k \\nu_k C_{p,k}(T)\n",
    "\\end{align*}\n",
    "where $T$ is the absolute temperature of the system, and $C_{p,k}(T)$ is the molar heat capacity of species $k$ at temperature $T$."
   ]
  },
  {
   "cell_type": "code",
   "execution_count": null,
   "metadata": {},
   "outputs": [],
   "source": [
    "T_data = np.arange(200.0, 600.0, 10.0)\n",
    "\n",
    "# TODO <--- your work here\n",
    "\n",
    "plt.xlabel('temperature / K')\n",
    "plt.ylabel(r'$\\Delta C_{p,{\\rm rxn}}$ / J mol$^{-1}$ K$^{-1}$')\n",
    "plt.show()"
   ]
  },
  {
   "cell_type": "code",
   "execution_count": null,
   "metadata": {},
   "outputs": [],
   "source": []
  }
 ],
 "metadata": {
  "kernelspec": {
   "display_name": "Python 3",
   "language": "python",
   "name": "python3"
  },
  "language_info": {
   "codemirror_mode": {
    "name": "ipython",
    "version": 3
   },
   "file_extension": ".py",
   "mimetype": "text/x-python",
   "name": "python",
   "nbconvert_exporter": "python",
   "pygments_lexer": "ipython3",
   "version": "3.9.6"
  }
 },
 "nbformat": 4,
 "nbformat_minor": 4
}
