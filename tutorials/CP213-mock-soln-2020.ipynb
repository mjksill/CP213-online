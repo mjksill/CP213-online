{
 "cells": [
  {
   "cell_type": "markdown",
   "metadata": {},
   "source": [
    "# Model solutions for mock class test\n",
    "\n"
   ]
  },
  {
   "cell_type": "markdown",
   "metadata": {},
   "source": [
    "## Q1\n",
    "\n",
    "A brine solution (a mixture of salt and water) begins to flow at a\n",
    "constant rate of $\\dot{V}_{\\rm brine}=6\\,{\\rm L\\,min}^{-1}$ into a\n",
    "cylindrical tank of diameter $D=1.5\\,{\\rm m}$ that initially holds\n",
    "$V_0=1000\\,{\\rm L}$ of pure water.  The solution inside the tank is\n",
    "kept well stirred and flows out of the tank with a velocity $v=K h$,\n",
    "where $K=0.05\\,{\\rm s^{-1}}$ and $h$ is the height of the liquid\n",
    "level, through an outlet of cross-sectional area $A_0=25\\,{\\rm cm}^2$.\n",
    "The concentration of salt in the brine entering the tank is\n",
    "$c_{\\rm brine}=0.1\\,{\\rm kg\\,L}^{-1}$.\n",
    "\n",
    "\n",
    "1. Derive a differential equation that governs the\n",
    "  height of the liquid level in the tank with time.  State associated\n",
    "  the initial condition.  What is the steady-state height of the\n",
    "  liquid level in the tank?\n",
    "2. Solve, either analytically or numerically, for the variation of\n",
    "  the height of the liquid level in the tank with time.\n",
    "3. Derive the differential equation that governs the variation of the\n",
    "  brine concentration in the tank with time.\n",
    "4. Determine, either analytically or numerically, the brine\n",
    "  concentration in the tank with time, and plot the concentration of\n",
    "  the brine in the tank from time $0$ to $24\\,{\\rm hrs}$.\n",
    "\n",
    "\n",
    "\n"
   ]
  },
  {
   "cell_type": "markdown",
   "metadata": {},
   "source": [
    "## Model solutions for Q1\n",
    "\n",
    "\n",
    "### Part 1:\n",
    "\n",
    "Performing a balance on the volume of liquid in the tank, we find\n",
    "\\begin{align*}\n",
    "A\\frac{dh}{dt} \n",
    "&= \\dot{V}_{\\rm in} - K A_0 h\n",
    "\\\\\n",
    "&= \\dot{V}_{\\rm in} \\left(1 - \\frac{K A_0 h}{\\dot{V}_{\\rm in}} \\right)\n",
    "\\end{align*}\n",
    "\n",
    "The tank initially holds $V_0=1000\\,{\\rm L}$ of liquid.  The corresponding height $h_0$ of the liquid in the tank is \n",
    "\\begin{align*}\n",
    "V_0 &= A h_0 = \\frac{\\pi D^2 h_0}{4}\n",
    "\\\\\n",
    "h_0 &= \\frac{4 V_0}{\\pi D^2}\n",
    "\\end{align*}\n",
    "where $A=\\pi D^2/4$ is the cross-sectional area of the tank."
   ]
  },
  {
   "cell_type": "code",
   "execution_count": 19,
   "metadata": {},
   "outputs": [
    {
     "name": "stdout",
     "output_type": "stream",
     "text": [
      "initial liquid height = 0.5658842421045168 m\n"
     ]
    }
   ],
   "source": [
    "import numpy as np\n",
    "\n",
    "D = 1.5      # tank diameter / m\n",
    "V0 = 1000.0  # initial liquid volume / L\n",
    "V0 /= 1000.0 # initial liquid volume / m^3\n",
    "\n",
    "\n",
    "A = np.pi * D**2 / 4.0\n",
    "h0 = V0 / A  # initial liquid height\n",
    "\n",
    "print(f'initial liquid height = {h0} m')\n",
    "\n",
    "\n",
    "\n"
   ]
  },
  {
   "cell_type": "markdown",
   "metadata": {},
   "source": [
    "\n",
    "\n",
    "When the system has achieved teady-state, its properties should not change with time.  This implies that the time derivative of the liquid level in the tank should be zero.  The height $h_\\infty$ at which this occurs is:\n",
    "\\begin{align*}\n",
    "1 - \\frac{K A_0 h_\\infty}{\\dot{V}_{\\rm in}} &= 0\n",
    "\\\\\n",
    "h_\\infty &= \\frac{\\dot{V}_{\\rm in}}{K A_0}\n",
    "\\end{align*}"
   ]
  },
  {
   "cell_type": "code",
   "execution_count": 20,
   "metadata": {},
   "outputs": [
    {
     "name": "stdout",
     "output_type": "stream",
     "text": [
      "steady state height = 0.8 m\n"
     ]
    }
   ],
   "source": [
    "K = 5.0e-2    # s^{-1}\n",
    "A0 = 25.0 * 1.0e-4  # outlet area / m^2\n",
    "dotVin = 6               # L min^{-1}\n",
    "dotVin *= 1.0e-3 / 60.0  # m^3 s^{-1}\n",
    "\n",
    "h_inf = dotVin / (K*A0)\n",
    "print(f'steady state height = {h_inf} m')\n",
    "\n",
    "\n",
    "\n"
   ]
  },
  {
   "cell_type": "markdown",
   "metadata": {},
   "source": [
    "1### Part 2:\n",
    "\n",
    "\\begin{align*}\n",
    "A\\frac{dh}{dt} \n",
    "&= \\dot{V}_{\\rm in} \\left(1 - \\frac{K A_0}{\\dot{V}_{\\rm in}} h\\right)\n",
    "\\\\\n",
    "\\frac{A}{\\dot{V}_{\\rm in} }\\frac{dh}{dt} \n",
    "&= 1 - \\frac{K A_0}{\\dot{V}_{\\rm in}} h\n",
    "\\\\\n",
    "\\frac{A h_\\infty}{\\dot{V}_{\\rm in} }\n",
    "\\frac{d}{dt} \\left(\\frac{h}{h_\\infty}\\right)\n",
    "&= 1 - \\frac{h}{h_\\infty} \n",
    "\\end{align*}\n",
    "\n",
    "\n",
    "This suggests that we introduce a time scale $\\tau=A h_\\infty/\\dot{V}_{\\rm in}$ and use the length scale $h_\\infty$.  Introducing dimensionless variables  $y=h/h_\\infty$ and $x=t/\\tau$, we find\n",
    "\\begin{align*}\n",
    "\\tau\n",
    "\\frac{d}{dt} \\left(\\frac{h}{h_\\infty}\\right)\n",
    "&= 1 - \\frac{h}{h_\\infty} \n",
    "\\\\\n",
    "\\frac{dy}{dx} &= 1 - y\n",
    "\\end{align*}\n",
    "This equation can be easily integrated to give\n",
    "\\begin{align*}\n",
    "\\frac{dy}{1-y} &= dx\n",
    "\\\\\n",
    "- \\ln |1-y| &= x + C\n",
    "\\end{align*}\n",
    "where $C$ is an integration constant.  Using the initial condition that $y(0)=h_0/h_\\infty$, we find\n",
    "\\begin{align*}\n",
    "- \\ln |1-h_0/h_\\infty| &= 0 + C\n",
    "\\\\\n",
    "C &= -\\ln|1-h_0/h_\\infty|\n",
    "\\end{align*}\n",
    "Substituting back into the solution, we find\n",
    "\\begin{align*}\n",
    "- \\ln |1-y| &= x - \\ln|1-h_0/h_\\infty|\n",
    "\\\\\n",
    "|1-y(x)| &= |1-h_0/h_\\infty| e^{-x} \n",
    "\\\\\n",
    "y(x) &= 1 - |1-h_0/h_\\infty| e^{-x} .\n",
    "\\end{align*}\n",
    "In terms of dimensional variables, this gives\n",
    "\\begin{align*}\n",
    "\\frac{h(t)}{h_\\infty} \n",
    "&= 1 - |1-h_0/h_\\infty| e^{-t/\\tau}\n",
    "\\\\\n",
    "h(t) &= h_\\infty - (h_\\infty - h_0) e^{-t/\\tau}\n",
    "\\end{align*}"
   ]
  },
  {
   "cell_type": "code",
   "execution_count": 21,
   "metadata": {},
   "outputs": [
    {
     "name": "stdout",
     "output_type": "stream",
     "text": [
      "tau = 14137.166941154068 s\n"
     ]
    }
   ],
   "source": [
    "tau = (A*h_inf) / dotVin\n",
    "print(f'tau = {tau} s')"
   ]
  },
  {
   "cell_type": "markdown",
   "metadata": {},
   "source": [
    "### Part 3:\n",
    "\n",
    "We define $V$ as the volume of liquid in the tank, and $c$ as the concentration of salt in the tank.  Performing a balance on the mass of salt in the tank, we find\n",
    "\\begin{align*}\n",
    "\\frac{d}{dt}(Vc) &= \\dot{V}_{\\rm in} c_{\\rm in}\n",
    "- A_0 K h(t) c(t)\n",
    "\\\\\n",
    "\\frac{dV}{dt}c + V\\frac{dc}{dt} &= \\dot{V}_{\\rm in} c_{\\rm in}\n",
    "- A_0 K h(t) c(t) \n",
    "\\\\\n",
    "V\\frac{dc}{dt} &= \\dot{V}_{\\rm in} c_{\\rm in}\n",
    "- A_0 K h(t) c(t) - \\frac{dV}{dt}c\n",
    "\\\\\n",
    "V\\frac{dc}{dt} &= \\dot{V}_{\\rm in} c_{\\rm in}\n",
    "- A_0 K h(t) c(t) - [\\dot{V}_{\\rm in} - A_0 K h(t)]c\n",
    "\\\\\n",
    "&= \\dot{V}_{\\rm in} c_{\\rm in}\n",
    "- \\dot{V}_{\\rm in} c\n",
    "\\\\\n",
    "A h(t) \\frac{dc}{dt} &= \\dot{V}_{\\rm in} [c_{\\rm in} - c]\n",
    "\\end{align*}\n"
   ]
  },
  {
   "cell_type": "markdown",
   "metadata": {},
   "source": [
    "### Part 4:\n",
    "\n",
    "Before we solve this differential equation, we first rewrite it in a\n",
    "more simplified form:\n",
    "\\begin{align*}\n",
    "\\frac{1}{c_{\\rm in} - c}\\frac{dc}{dt} \n",
    "&= \\frac{\\dot{V}_{\\rm in}}{V(t)} \n",
    "= \\frac{\\dot{V}_{\\rm in}}{A h(t)} \n",
    "\\\\\n",
    "\\frac{1}{1 - c/c_{\\rm in}}\\frac{d}{dt} \\left(\\frac{c}{c_{\\rm in}}\\right)\n",
    "&= \\frac{\\dot{V}_{\\rm in}}{A h_\\infty} \\frac{h_\\infty}{h(t)}\n",
    "= \\frac{1}{\\tau} \\frac{h_\\infty}{h(t)}\n",
    "\\end{align*}\n",
    "This strongly suggests that we introduce a dimensionless concentration\n",
    "$z(x)=c(t)/c_{\\rm in}$, where $x=t/\\tau$.  This then gives:\n",
    "\\begin{align*}\n",
    "\\frac{1}{1-z(x)} \\frac{dC}{dx} &= \\frac{1}{y(x)}\n",
    "\\end{align*}\n",
    "This equation can be directly integrated:\n",
    "\\begin{align*}\n",
    "\\frac{dz}{1-z} &= \\frac{dx}{y(x)} \n",
    "= \\frac{dx}{1-|1-y_0|e^{-x}}\n",
    "= \\frac{e^xdx}{e^x-|1-y_0|}\n",
    "\\\\\n",
    "- \\ln(1-z) &= \\ln (e^x-|1-y_0|) + C'\n",
    "\\end{align*}\n",
    "where $C'$ is an integration constant, which can be determined from\n",
    "the initial condition $z(0)=0$:\n",
    "\\begin{align*}\n",
    "- \\ln(1-0) &= \\ln (e^{0}-|1-y_0|) + C'\n",
    "\\\\\n",
    "C' &= - \\ln y_0\n",
    "\\end{align*}\n",
    "The final solution is:\n",
    "\\begin{align*}\n",
    "- \\ln(1-z) &= \\ln (e^x-|1-y_0|) - \\ln y_0\n",
    "\\\\\n",
    "1-z(x) &= \\frac{y_0}{e^x-|1-y_0|}\n",
    "\\\\\n",
    "z(x) &= 1- \\frac{y_0}{e^x-|1-y_0|}\n",
    "= \\frac{e^x-|1-y_0|-y_0}{e^x-|1-y_0|}\n",
    "\\\\\n",
    "&= \\frac{e^x-1}{e^x-|1-y_0|}\n",
    "\\\\\n",
    "&= \\frac{1-e^{-x}}{1-(1-y_0)e^{-x}}\n",
    "\\end{align*}\n",
    "In dimensional form, this is\n",
    "\\begin{align*}\n",
    "c(t) &= \\frac{c_{\\rm in}(1-e^{-t/\\tau})}{1-(1-h_0/h_\\infty)e^{-t/\\tau}}\n",
    "\\end{align*}\n"
   ]
  },
  {
   "cell_type": "code",
   "execution_count": 22,
   "metadata": {},
   "outputs": [
    {
     "data": {
      "image/png": "[encoded data removed]",
      "text/plain": [
       "<Figure size 432x288 with 1 Axes>"
      ]
     },
     "metadata": {
      "needs_background": "light"
     },
     "output_type": "display_data"
    }
   ],
   "source": [
    "import pylab as plt\n",
    "import numpy as np\n",
    "\n",
    "cin = 0.1      # inlet salt concentration / kg L^{-1}\n",
    "cin *= 1000.0  # inlet salt concentration / kg m^{-3}\n",
    "y0 = h0/h_inf\n",
    "\n",
    "dt = 1.0\n",
    "tmax = 24.0*3600.0\n",
    "t_data = np.arange(0.0, tmax, dt)\n",
    "x_data = [t/tau for t in t_data]\n",
    "z_data = [(1-np.exp(-x))/(1-(1-y0)*np.exp(-x)) for x in x_data]\n",
    "c_data = [z*cin for z in z_data]\n",
    "\n",
    "plt.plot(t_data, c_data)\n",
    "plt.xlabel(r'time / seconds')\n",
    "plt.ylabel(r'salt concentration / kg m$^{-3}$')\n",
    "plt.show()\n"
   ]
  },
  {
   "cell_type": "markdown",
   "metadata": {},
   "source": [
    "## Q2\n",
    "\n",
    "Determine the solutions to the following differential equations:\n",
    "1. $\\displaystyle\n",
    "  \\frac{dy}{dx} + 2xy = x\n",
    "  $\n",
    "2.   $\\displaystyle\n",
    "  \\frac{d^2y}{dx^2} - 4\\frac{dy}{dx} + 4y = x e^{2x}\n",
    "  $\n",
    "  where $y(0)=0$ and $y'(0)=0$.\n",
    " \n"
   ]
  },
  {
   "cell_type": "markdown",
   "metadata": {},
   "source": [
    "## Model solutions for Q2"
   ]
  },
  {
   "cell_type": "markdown",
   "metadata": {},
   "source": [
    "### Part 1\n",
    "\n",
    "\\begin{align*}\n",
    "\\frac{dy}{dx} + 2xy &= x\n",
    "\\\\\n",
    "\\frac{dy}{dx} &= x - 2xy = x(1-2y)\n",
    "\\\\\n",
    "\\frac{dy}{1-2y} &= x dx\n",
    "\\\\\n",
    "-\\frac{1}{2}\\ln|1-2y| &= \\frac{x^2}{2} + C\n",
    "\\\\\n",
    "\\ln|1-2y| &= -x^2 - 2C\n",
    "\\\\\n",
    "|1-2y| &= e^{-x^2 - 2C}\n",
    "\\end{align*}\n",
    "where $C$ is an integration constant.  \n",
    "\n",
    "If $y<1/2$:\n",
    "\\begin{align*}\n",
    "1-2y(x) &= e^{-x^2 - 2C}\n",
    "\\\\\n",
    "y(x) &= \\frac{1}{2}(1-e^{-x^2 - 2C})\n",
    ".\n",
    "\\end{align*}\n",
    "If $y>1/2$:\n",
    "\\begin{align*}\n",
    "2y(x)-1 &= e^{-x^2 - 2C}\n",
    "\\\\\n",
    "y(x) &= \\frac{1}{2}(1+e^{-x^2 - 2C})\n",
    ".\n",
    "\\end{align*}"
   ]
  },
  {
   "cell_type": "markdown",
   "metadata": {},
   "source": [
    "### Part 2\n",
    "\n",
    "This is a linear second order differential equation with constant coefficients.  The associated homogeneous equation is\n",
    "\\begin{align*}\n",
    "\\frac{d^2y}{dx^2} - 4\\frac{dy}{dx} + 4y &= 0\n",
    "\\end{align*}\n",
    "Its solutions will have the form $e^{\\lambda x}$, where $\\lambda$ is a solution of the quadratic equation\n",
    "\\begin{align*}\n",
    "\\lambda^2 - 4\\lambda + 4 &= 0\n",
    "\\\\\n",
    "(\\lambda - 2)^2 &= 0\n",
    "\\end{align*}\n",
    "which has a double root $\\lambda=2$.  Therefore, the two homogeneous solutions are:\n",
    "\\begin{align*}\n",
    "y_{h1}(x) &= e^{2x}\n",
    "\\\\\n",
    "y_{h2}(x) &= x e^{2x}\n",
    "\\end{align*}\n",
    "\n",
    "To find the particular solution, we first need\n",
    "\\begin{align*}\n",
    "W(x) &= y_{h1}'(x) y_{h2}(x) - y_{h1}(x) y_{h2}'(x)\n",
    "\\\\\n",
    "&= x e^{2x} 2 e^{2x} - [e^{2x} + 2xe^{2x}] e^{2x} \n",
    "\\\\\n",
    "&= - e^{4x}\n",
    ".\n",
    "\\end{align*}\n",
    "\n",
    "\\begin{align*}\n",
    "u_1'(x) &= f(x) \\frac{y_{h2}(x)}{W(x)}\n",
    "= xe^{2x} \\frac{xe^{2x}}{-e^{4x}} = -x^2\n",
    "\\\\\n",
    "u_1(x) &= -\\frac{x^3}{3}\n",
    "\\end{align*}\n",
    "and\n",
    "\\begin{align*}\n",
    "u_2'(x) &= - f(x) \\frac{y_{h1}(x)}{W(x)}\n",
    "= - xe^{2x} \\frac{e^{2x}}{-e^{4x}} = x\n",
    "\\\\\n",
    "u_2(x) &= \\frac{x^2}{2}\n",
    "\\end{align*}\n",
    "\n",
    "The particular solution is \n",
    "\\begin{align*}\n",
    "y_p(x) &= u_1(x) y_{h1}(x) + u_2(x) y_{h2}(x)\n",
    "\\\\\n",
    "&= -\\frac{x^3}{3} e^{2x} + \\frac{x^2}{2} x e^{2x}\n",
    "\\\\\n",
    "&= \\frac{x^3}{6} e^{2x}\n",
    "\\end{align*}\n",
    "The general solution is then:\n",
    "\\begin{align*}\n",
    "y(x) &= \\frac{x^3}{6} e^{2x}\n",
    "+ C_1 e^{2x} + C_2 x e^{2x}\n",
    "\\end{align*}\n",
    "\n",
    "To satisfy the initial conditions, we need to solve for the values of $C_1$ and $C_2$ that statisfy the two initial conditions $y(0)=0$ and $y'(0)=0$.  We note that actually, the particular solution automatically satisfies the initial conditions, so the final solution is:\n",
    "\\begin{align*}\n",
    "y(x) &= \\frac{x^3}{6} e^{2x}\n",
    "\\end{align*}"
   ]
  },
  {
   "cell_type": "code",
   "execution_count": null,
   "metadata": {},
   "outputs": [],
   "source": []
  }
 ],
 "metadata": {
  "kernelspec": {
   "display_name": "Python 3",
   "language": "python",
   "name": "python3"
  },
  "language_info": {
   "codemirror_mode": {
    "name": "ipython",
    "version": 3
   },
   "file_extension": ".py",
   "mimetype": "text/x-python",
   "name": "python",
   "nbconvert_exporter": "python",
   "pygments_lexer": "ipython3",
   "version": "3.9.0"
  }
 },
 "nbformat": 4,
 "nbformat_minor": 4
}
