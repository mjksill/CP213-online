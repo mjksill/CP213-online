{
 "cells": [
  {
   "cell_type": "markdown",
   "metadata": {},
   "source": [
    "# CP213: Tutorial Worksheet Week 1"
   ]
  },
  {
   "cell_type": "markdown",
   "metadata": {},
   "source": [
    "## Question 1\n",
    "\n"
   ]
  },
  {
   "cell_type": "markdown",
   "metadata": {},
   "source": [
    "## Question 2"
   ]
  },
  {
   "cell_type": "markdown",
   "metadata": {},
   "source": [
    "Use the trapezium rule with (a) four equal intervals and (b)\n",
    "  eight equal intervals to estimate the value of the integral:\n",
    "\\begin{align*}\n",
    "\\int_0^1 dx x^3.\n",
    "\n",
    "\\end{align*}\n",
    "Find the exact value of the integral, and determine the percentage\n",
    "error between the exact value and the value estimated in (a) and (b).\n"
   ]
  },
  {
   "cell_type": "code",
   "execution_count": 8,
   "metadata": {},
   "outputs": [
    {
     "data": {
      "image/png": "[encoded data removed]",
      "text/plain": [
       "<Figure size 432x288 with 1 Axes>"
      ]
     },
     "metadata": {
      "needs_background": "light"
     },
     "output_type": "display_data"
    }
   ],
   "source": [
    "from pylab import *\n",
    "from numpy import *\n",
    "\n",
    "def f(x):\n",
    "    return x**3\n",
    "\n",
    "a = 0.0\n",
    "b = 1.0\n",
    "N = 4.0\n",
    "dx = (b-a) / N\n",
    "\n",
    "x_data = [a, a+dx, a+2.0*dx, b]\n",
    "y_data = [f(x) for x in x_data]\n",
    "\n",
    "\n",
    "plot(x_data, y_data)\n",
    "\n",
    "x_data = arange(a, b, 0.01)\n",
    "y_data = [f(x) for x in x_data]\n",
    "plot(x_data, y_data)\n",
    "\n",
    "xlabel(r'$x$')\n",
    "ylabel(r'$f(x)$')\n",
    "\n",
    "show()\n"
   ]
  },
  {
   "cell_type": "markdown",
   "metadata": {},
   "source": [
    "## Question 3\n",
    "\n",
    "Fluid flows through a pipe with a circular cross-section of radius\n",
    "$R$.\n",
    "- Evaluate the volumetric flow rate $Q$ through the pipe if the\n",
    "  fluid velocity within it is $v=\\mbox{const}$.\n",
    "\n",
    "- Evaluate $Q$ for the case of laminar flow within the pipe, where the\n",
    "  velocity profile is given by\n",
    "\\begin{align*}\n",
    "v(r) &= \\frac{\\Delta p}{4\\mu L}(R^2-r^2)\n",
    "\\end{align*}\n",
    "where $v(r)$ is the velocity of the fluid at a distance $r$ from the\n",
    "center of the pipe, $\\Delta p$ is the pressure drop along the pipe,\n",
    "$L$ is the length of the pipe, and $\\mu$ is the dynamic viscosity of\n",
    "the fluid.  What is the mean velocity of the fluid in the pipe?\n",
    "\n",
    "- Sketch the velocity profile in the pipe for (a) and (b).\n",
    "\n"
   ]
  },
  {
   "cell_type": "markdown",
   "metadata": {},
   "source": [
    "## Question 4\n",
    "\n",
    "A Ferrari 360 Modena has a\n",
    "$\\dot{W}=410\\,{\\rm hp}$ engine and mass of $m=1450\\,{\\rm kg}$.  The\n",
    "force $F_e$ that propels the car forward is provided by the engine,\n",
    "and the magnitude of that force is directly related to the power it\n",
    "supplies.  Recall that when a force acts over a distance, it performs\n",
    "work.  That is, if a force ${\\bf F}$ acts over a small displacement\n",
    "$d{\\bf x}$, then the work performed $dW$ is\n",
    "\\begin{equation*}\n",
    "\\label{eq:work}\n",
    "dW = {\\bf F}\\cdot d{\\bf x}\n",
    ".\n",
    "\\end{equation*}\n",
    "Remember that power is the rate at which work is performed; that is,\n",
    "it is the work per unit time.  By dividing both sides of\n",
    "the above equation by the interval of time $dt$ over which the\n",
    "displacement occurred, we find:\n",
    "\\begin{equation*}\n",
    "\\frac{dW}{dt} = {\\bf F}\\cdot \\frac{d{\\bf x}}{dt}\n",
    ".\n",
    "\\end{equation*}\n",
    "Using the fact that displacement per unit time is just the velocity,\n",
    "we find:\n",
    "\\begin{equation*}\n",
    "\\label{eq:power}\n",
    "\\dot{W} = {\\bf F}\\cdot{\\bf v}\n",
    ".\n",
    "\\end{equation*}\n",
    "So, power (or the rate at which work is performed) is equal to the\n",
    "force times velocity.\n",
    "\n",
    "If the engine outputs a power $\\dot{W}$, then the force $F_e$ it\n",
    "supplies is:\n",
    "\\begin{equation*}\n",
    "F_e = \\frac{\\dot{W}}{v}\n",
    "\\end{equation*}\n",
    "where $v$ is the speed of the car.  \n",
    "\n",
    "\n",
    "At low speeds, one of the main sources of friction acting on a car is\n",
    "rolling friction, which acting in a direction opposing the motion of\n",
    "the car.  The magnitude of this friction $F_r$ is given by:\n",
    "\\begin{equation*}\n",
    "F_r = -\\mu_r m g\n",
    "\\end{equation*}\n",
    "where $\\mu_r$ is the coefficient of rolling friction.  The value of\n",
    "$\\mu_r$ depends on the surface the car is traveling over; for a car on\n",
    "asphalt, $\\mu_r\\approx0.03$.  \n",
    "\n",
    "At higher speeds, air resistance becomes increasingly important.  The\n",
    "drag force $F_d$ on a moving object due to air resistance is described\n",
    "by\n",
    "\\begin{align*}\n",
    "  F_d &= C_d A \\frac{1}{2}\\rho v^2\n",
    "\\end{align*}\n",
    "where $C_d$ is the drag coefficient (a dimensionless quantity\n",
    "dependent on the shape of the object), $A$ is a reference area\n",
    "(typically the projected area of the object), and $\\rho$ is the\n",
    "density of the fluid.  The body of the car has a constant drag\n",
    "coefficient $C_d = 0.34$, based on a frontal reference area of\n",
    "$A=2.03\\,{\\rm m}^2$.  Assume the density of air is\n",
    "$1.225\\,{\\rm kg\\,m}^{-3}$.\n",
    "\n",
    "\n",
    "\n",
    "- By considering the forces acting on the vehicle show that the\n",
    "top speed of the car can be expressed by:\n",
    "\\begin{align*}\n",
    "\\dot{W} &= \\left[\\mu m g + \\frac{1}{2} C_d A \\rho v^2\\right] v\n",
    "\\end{align*}\n",
    "and estimate the top speed.  This may require use of numerical method.\n",
    "Can you simplify the final equation? [$v=86\\,{\\rm m\\,s}^{-1}$]\n",
    "\n",
    "- How long will it take the car to increase the speed from $0$ to\n",
    "  $60$\\,mph?  Hint: Consider the net force acting on the car to set up\n",
    "  the equation:\n",
    "\\begin{align*}\n",
    "m \\frac{dv}{dt} &= - F_f - F_d + F_e,\n",
    "\\end{align*}\n",
    "then arrange it for and use the trapezoid rule to solve this\n",
    "problem. [$t=1.77\\,{\\rm s}$]\n",
    "\n",
    "\n",
    "Hints:\n",
    "- $1\\,{\\rm hp}=745.7\\,{\\rm W}$\n",
    "- $1\\,{\\rm m\\,s}^{-1}=2.24\\,{\\rm mph}$\n",
    "\n"
   ]
  },
  {
   "cell_type": "code",
   "execution_count": null,
   "metadata": {},
   "outputs": [],
   "source": []
  }
 ],
 "metadata": {
  "kernelspec": {
   "display_name": "Python 3",
   "language": "python",
   "name": "python3"
  },
  "language_info": {
   "codemirror_mode": {
    "name": "ipython",
    "version": 3
   },
   "file_extension": ".py",
   "mimetype": "text/x-python",
   "name": "python",
   "nbconvert_exporter": "python",
   "pygments_lexer": "ipython3",
   "version": "3.7.7"
  }
 },
 "nbformat": 4,
 "nbformat_minor": 2
}
