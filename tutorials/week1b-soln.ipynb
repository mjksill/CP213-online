{
 "cells": [
  {
   "cell_type": "markdown",
   "metadata": {},
   "source": [
    "# CP213: Tutorial Notebook Week 1\n",
    "\n"
   ]
  },
  {
   "cell_type": "markdown",
   "metadata": {},
   "source": [
    "## Question 1\n",
    "\n",
    "Consider the gas-water shift reaction\n",
    "\\begin{align*}\n",
    "{\\rm \n",
    "CO(g) + H_2O(g) \\leftrightarrows CO_2(g) + H_2(g)\n",
    "}\n",
    "\\end{align*}\n",
    "\n",
    "| gas       | $M_w$        | $H_f$         | $G_f$         |\n",
    "| :--       | --:        | --:           | --:           |\n",
    "|           | g mol$^{-1}$ | kJ mol$^{-1}$ | kJ mol$^{-1}$ |\n",
    "| CO(g)     | $28.01$    | $ -110.5$     | $ -137.2$     |\n",
    "| CO$_2$(g) | $44.01$    | $ -393.3$     | $ -394.6$     |\n",
    "| H$_2$(g)  | $ 2.02$    | $    0.0$     | $    0.0$     |\n",
    "| H$_2$O(g) | $18.02$    | $ -241.8$     | $ -228.4$     |\n",
    "|           |            |               |               |\n",
    "\n",
    "\n",
    "\n",
    "\n",
    "\n",
    "\n",
    "\n",
    "\n"
   ]
  },
  {
   "cell_type": "markdown",
   "metadata": {},
   "source": [
    "The data in the table have been summarized in the dictionary `data`.  The stoichiometric coefficients (the stoichiometric coefficient for species $k$ is typically denoted by the symbol $\\nu_k$) of the reaction are held in the dictionary `nu`.  Note that product species have a positive stoichiometric coefficient, and reactant species have a negative stoichiometric coefficient."
   ]
  },
  {
   "cell_type": "code",
   "execution_count": null,
   "metadata": {},
   "outputs": [],
   "source": [
    "R = 8.314e-3  # ideal gas constant / kJ mol^{-1} K^{-1}\n",
    "T0 = 298.15   # reference temperature / K\n",
    "p0 = 1.0e5    # reference pressure / Pa\n",
    "\n",
    "\n",
    "data = {}\n",
    "data['CO']  = {'Mw':28.01, 'Hf':-110.5, 'Gf':-137.2 }\n",
    "data['CO2'] = {'Mw':44.01, 'Hf':-393.3, 'Gf':-394.6 }\n",
    "data['H2']  = {'Mw': 2.02, 'Hf':   0.0, 'Gf':   0.0 }\n",
    "data['H2O'] = {'Mw':18.02, 'Hf':-241.8, 'Gf':-228.4 }\n",
    "\n",
    "nu = {}\n",
    "nu['CO']  = -1.0\n",
    "nu['CO2'] =  1.0 \n",
    "nu['H2']  =  1.0\n",
    "nu['H2O'] = -1.0"
   ]
  },
  {
   "cell_type": "markdown",
   "metadata": {},
   "source": [
    "### Part 1: Standard reaction enthalpy and Gibbs energy\n",
    "\n",
    "The standard enthalpy of reaction $\\Delta H_{\\rm rxn}$ is defined by\n",
    "\\begin{align*}\n",
    "\\Delta H_{\\rm rxn}\n",
    "&= \\sum_k \\nu_k H_{f,k}\n",
    "\\end{align*}\n",
    "where $H_{f,k}$ is the standard enthalpy of formation of species $k$.  The standard Gibbs energy of reaction $\\Delta G_{\\rm rxn}$ is given by\n",
    "\\begin{align*}\n",
    "\\Delta G_{\\rm rxn}\n",
    "&= \\sum_k \\nu_k G_{f,k}\n",
    "\\end{align*}\n",
    "where $G_{f,k}$ is the standard enthalpy of formation of species $k$.\n",
    "\n",
    "**Task:** Calculate the standard enthalpy of reaction and the standard Gibbs energy of reaction."
   ]
  },
  {
   "cell_type": "code",
   "execution_count": null,
   "metadata": {},
   "outputs": [],
   "source": [
    "Hrxn = 0.0\n",
    "Grxn = 0.0\n",
    "for gas, coeff in nu.items():\n",
    "    Hrxn += coeff*data[gas]['Hf']\n",
    "    Grxn += coeff*data[gas]['Gf']\n",
    "    \n",
    "print(f'standard enthalpy of reaction: {Hrxn} J mol^{{-1}}')    \n",
    "print(f'standard Gibbs energy of reaction: {Grxn} J mol^{{-1}}')"
   ]
  },
  {
   "cell_type": "markdown",
   "metadata": {},
   "source": [
    "### Part 2: Conversion between mole numbers and mole fractions\n",
    "\n",
    "The mole fraction of species $k$, denoted by $x_k$, in a system is given by\n",
    "\\begin{align*}\n",
    "x_k = \\frac{N_k}{N}\n",
    "\\end{align*}\n",
    "where $N_k$ is the number of moles of species $k$, and $N=\\sum_j N_j$ is the total moles in the system.\n",
    "\n",
    "**Task:** Create a function that will take a dictionary with the mole numbers as an input and return a dictionary of mole fractions."
   ]
  },
  {
   "cell_type": "code",
   "execution_count": null,
   "metadata": {},
   "outputs": [],
   "source": [
    "mole0 = {}\n",
    "mole0['CO']  = 1.0\n",
    "mole0['CO2'] = 1.0 \n",
    "mole0['H2']  = 1.0\n",
    "mole0['H2O'] = 1.0\n",
    "\n",
    "\n",
    "\n",
    "def get_x(mole):\n",
    "    N = sum(mole.values())\n",
    "    x_dict = {}\n",
    "    for name, xx in mole.items():\n",
    "        x_dict[name] = xx/N\n",
    "    return x_dict\n",
    "\n",
    "\n",
    "x_dict = get_x(mole0)\n",
    "for name, x in x_dict.items():\n",
    "    print(f'{name}: mole fraction = {x}')\n"
   ]
  },
  {
   "cell_type": "markdown",
   "metadata": {},
   "source": [
    "### Part 3: Extent of reaction\n",
    "\n",
    "The degree by which a reaction proceeds forward or backward is quantified by the extent of reaction $\\alpha$.  Consider a system initially has $N_k^{(0)}$ moles of species $k$. \n",
    "For a given value of the extent of reaction, the number of moles $N_k$ of species $k$ in the system is given by the relation\n",
    "\\begin{align*}\n",
    "N_k &= N_k^{(0)} + \\nu_k \\alpha .\n",
    "\\end{align*}\n",
    "and $\\nu_k$ is the stoichiometric coeffcient for species $k$ in the reaction.\n",
    "\n",
    "**Task:** Create a function that takes the reaction extent, a dictionary with the initial mole numbers, and a dictionary with the stoichiometric coefficients as input and returns a dictionary with the moles of each component in the system."
   ]
  },
  {
   "cell_type": "code",
   "execution_count": null,
   "metadata": {},
   "outputs": [],
   "source": [
    "def get_moles (alpha, mole0, nu):\n",
    "    \n",
    "    moles = {}\n",
    "    for molecule, coeff in nu.items():\n",
    "        moles[molecule] = mole0[molecule] + alpha*coeff\n",
    "    return moles\n",
    "\n",
    "alpha = 0.1\n",
    "mole = get_moles(alpha, mole0, nu)\n",
    "for name, N in mole.items():\n",
    "    print(f'{name}: moles = {N}')\n",
    "\n",
    "\n",
    "\n"
   ]
  },
  {
   "cell_type": "markdown",
   "metadata": {},
   "source": [
    "**Task:**\n",
    "Create a function that takes a dictionary with the initial moles of each species in the system and a dictionary with the stoichiometric coefficients as input and returns the minimum and maximum allowed values of the extent of reaction.\n"
   ]
  },
  {
   "cell_type": "markdown",
   "metadata": {},
   "source": [
    "Physically, the moles of each of the species in the system must remain non-negative.  The maximum value of the extent of reaction is dictated by the reactant species.\n",
    "\n",
    "\\begin{align*}\n",
    "N_k &= N_k^{(0)} + \\nu_k \\alpha\n",
    "\\\\\n",
    "\\alpha &= \\frac{N_k-N_k^{(0)}}{\\nu_k}\n",
    "\\end{align*}"
   ]
  },
  {
   "cell_type": "code",
   "execution_count": null,
   "metadata": {},
   "outputs": [],
   "source": [
    "def get_extent_bounds(mole0, nu):\n",
    "    min_list = []\n",
    "    max_list = []\n",
    "    for molecule, coeff in nu.items():\n",
    "        N0 = mole0[molecule]\n",
    "        if (coeff < 0.0):\n",
    "            max_list.append(-N0/coeff)\n",
    "        if (coeff > 0.0):\n",
    "            min_list.append(-N0/coeff)\n",
    "    alpha_max = min(max_list)\n",
    "    alpha_min = max(min_list) \n",
    "    \n",
    "    slop = 1.0e-6\n",
    "    alpha_max -= slop\n",
    "    alpha_min += slop\n",
    "\n",
    "    return alpha_min, alpha_max\n",
    "\n",
    "\n",
    "\n",
    "mole0 = {}\n",
    "mole0['CO']  = 1.0\n",
    "mole0['CO2'] = 1.0 \n",
    "mole0['H2']  = 0.5\n",
    "mole0['H2O'] = 0.5\n",
    "\n",
    "alpha_min, alpha_max = get_extent_bounds(mole0, nu)\n",
    "print(f'{alpha_min} < alpha < {alpha_max}')"
   ]
  },
  {
   "cell_type": "markdown",
   "metadata": {},
   "source": [
    "**Task:** Plot the mole fraction of each component as a function of the extent of reaction over its range of allowed values."
   ]
  },
  {
   "cell_type": "code",
   "execution_count": null,
   "metadata": {},
   "outputs": [],
   "source": [
    "import numpy as np\n",
    "import pylab as plt\n",
    "\n",
    "alpha_min, alpha_max = get_extent_bounds(mole0, nu)\n",
    "alpha_data = np.arange(alpha_min, alpha_max, 0.1)\n",
    "\n",
    "alpha = 0.5\n",
    "mole = get_moles(alpha, mole0, nu)\n",
    "x_dict = get_x(mole)\n",
    "print(x_dict)\n",
    "\n",
    "x_data = {name:[]  for name in mole0.keys()}\n",
    "for alpha in alpha_data:\n",
    "    mole = get_moles(alpha, mole0, nu)\n",
    "    x_dict = get_x(mole)\n",
    "    for name, x in x_dict.items():\n",
    "        x_data[name].append(x)\n",
    "    \n",
    "for name in x_data.keys():\n",
    "    plt.plot(alpha_data, x_data[name], label=name)\n",
    "#plt.plot(alpha_data, x_data['CO2'])\n",
    "#plt.plot(alpha_data, x_data['H2'])\n",
    "plt.ylabel('mole fraction')\n",
    "plt.xlabel(r'$\\alpha$ / mol')\n",
    "plt.legend()\n",
    "plt.show()"
   ]
  },
  {
   "cell_type": "raw",
   "metadata": {},
   "source": []
  },
  {
   "cell_type": "markdown",
   "metadata": {},
   "source": [
    "## Part 4: Heat capacity\n",
    "\n",
    "The heat capacity of the gases can be described by the equation\n",
    "\\begin{align*}\n",
    "\\frac{C_p}{R}\n",
    "&= a_0 + a_1 T + a_2 T^2 + a_3 T^3 + a_4 T^4\n",
    "\\end{align*}\n",
    "where $T$ is the absolute temperature in kelvin,\n",
    "$R=8.314$\\,J$^{-1}$\\,mol\\,K$^{-1}$ is the ideal gas constant, and the\n",
    "coefficients $a_k$ are given in the table below.\n",
    "\n",
    "\n",
    "| gas       | $a_0$   | $a_1\\times10^3$ | $a_2\\times10^5$ | $a_3\\times10^8$ | $a_4\\times10^{11}$ |\n",
    "| :--       | --:     | --:             | --:             | --:             | --:                |\n",
    "|           |         | K$^{-1}$        | K$^{-2}$        | K$^{-3}$        |  K$^{-4}$                   |\n",
    "| CO(g)     | $3.912$ | $ -3.913$| $1.182$  | $ -1.302$       | $  0.515$          |\n",
    "| CO$_2$(g) | $3.259$ | $  1.356$| $1.502$  | $ -2.374$       | $  1.056$          |\n",
    "| H$_2$(g)  | $2.883$ | $  3.681$| $-0.772$ | $  0.692$       | $ -0.213$          |\n",
    "| H$_2$O(g) | $4.395$ | $ -4.186$| $1.405$ | $ -1.564$       | $  0.632$          |\n",
    "\n",
    "\n",
    "The coefficients of the heat capacity have been added to the dictionary `data` (see below).  In what follows below, assume that the mixtures behave as an ideal gas.\n",
    "\n"
   ]
  },
  {
   "cell_type": "code",
   "execution_count": null,
   "metadata": {},
   "outputs": [],
   "source": [
    "data['CO'] ['Cp_coeff'] = [3.912, -3.913e-3,  1.182e-5, -1.302e-8,  0.515e-11]      \n",
    "data['CO2']['Cp_coeff'] = [3.259,  1.356e-3,  1.502e-5, -2.374e-8,  1.056e-11]      \n",
    "data['H2'] ['Cp_coeff'] = [2.883,  3.681e-3, -0.772e-5,  0.692e-8, -0.213e-11]      \n",
    "data['H2O']['Cp_coeff'] = [4.395, -4.186e-3,  1.405e-5, -1.564e-8,  0.632e-11]\n",
    "\n",
    "R = 8.314  # J mol^{-1} K^{-1}"
   ]
  },
  {
   "cell_type": "markdown",
   "metadata": {},
   "source": [
    "**Task:** Create a function that takes a temperature and a dictionary of the mole numbers of each species in the system as input and returns the heat capacity of the mixture.\n",
    "\n",
    "\n"
   ]
  },
  {
   "cell_type": "markdown",
   "metadata": {},
   "source": [
    "For an ideal gas, the total heat capacity of the mixture $C_p$ is given by the sum of the molar heat capacities of the individual components multiplied by their number of moles:\n",
    "\\begin{align*}\n",
    "C_{p}(T) &= \\sum_k N_k C_{p,k}(T)\n",
    "\\end{align*}\n",
    "where $T$ is the temperature, $N_k$ is the number of moles of species $k$ in the system, and $C_{p,k}(T)$ is the molar enthalpy of (pure) species $k$.\n",
    "\n",
    "\\begin{align*}\n",
    "C_{p}(T) \n",
    "&= \\sum_k N_k \\sum_{n=0} a_n T^n\n",
    "\\end{align*}"
   ]
  },
  {
   "cell_type": "code",
   "execution_count": null,
   "metadata": {},
   "outputs": [],
   "source": [
    "def get_Cp(T, moles):\n",
    "\n",
    "    Cp = 0.0\n",
    "    for k, Nk in moles.items():\n",
    "        Cpk = 0.0\n",
    "        for n, aa in enumerate(data[k]['Cp_coeff']):\n",
    "            Cpk += aa*T**n\n",
    "        Cp += Nk*Cpk\n",
    "    \n",
    "    return Cp\n",
    "\n",
    "\n",
    "moles = {'CO':1, 'CO2':2, 'H2':0.1, 'H2O':1}\n",
    "T = 900.0\n",
    "\n",
    "Cp = get_Cp(T, moles)\n",
    "\n",
    "print(f'heat capacity = {Cp} J K^{{-1}}')"
   ]
  },
  {
   "cell_type": "markdown",
   "metadata": {},
   "source": [
    "**Task:**\n",
    "Plot the molar heat capacity of the mixture and of each of the individual components as a function of temperature."
   ]
  },
  {
   "cell_type": "code",
   "execution_count": null,
   "metadata": {},
   "outputs": [],
   "source": [
    "moles = {'CO':1, 'CO2':2, 'H2':0, 'H2O':1}\n",
    "T_data = np.arange(200.0, 600.0, 10.0)\n",
    "\n",
    "x_dict = get_x(moles)\n",
    "Cp_data = [get_Cp(T, x_dict) for T in T_data]\n",
    "plt.plot(T_data, Cp_data, color='black', lw=5)\n",
    "\n",
    "\n",
    "species_list = ['CO', 'CO2', 'H2', 'H2O']\n",
    "mole0 = {name:0.0 for name in species_list}\n",
    "\n",
    "mole = mole0\n",
    "\n",
    "for name in species_list:\n",
    "    mole = {name:0.0 for name in species_list}\n",
    "    mole[name] = 1.0\n",
    "    print(mole)\n",
    "    Cp_data = [get_Cp(T, mole) for T in T_data]\n",
    "    plt.plot(T_data, Cp_data, label=name, ls='dashed')\n",
    "\n",
    "plt.legend()\n",
    "plt.xlabel('temperature / K')\n",
    "plt.ylabel(r'molar heat capacity / J mol$^{-1}$ K$^{-1}$')\n",
    "plt.show()"
   ]
  },
  {
   "cell_type": "markdown",
   "metadata": {},
   "source": [
    "**Task:**\n",
    "Plot the heat capacity of reaction $\\Delta C_{p,{\\rm rxn}}(T)$ of the gas-water shift reaction as a function of temperature.\n",
    "\n",
    "Note that the heat capacity of reaction is defined as\n",
    "\\begin{align*}\n",
    "\\Delta C_{p,{\\rm rxn}}\n",
    "&= \\sum_k \\nu_k C_{p,k}(T)\n",
    "\\end{align*}\n",
    "where $T$ is the absolute temperature of the system, and $C_{p,k}(T)$ is the molar heat capacity of species $k$ at temperature $T$."
   ]
  },
  {
   "cell_type": "code",
   "execution_count": null,
   "metadata": {},
   "outputs": [],
   "source": [
    "T_data = np.arange(200.0, 600.0, 10.0)\n",
    "\n",
    "Cp_data = [get_Cp(T, nu) for T in T_data]\n",
    "plt.plot(T_data, Cp_data, color='black', lw=2)\n",
    "\n",
    "plt.xlabel('temperature / K')\n",
    "plt.ylabel(r'$\\Delta C_{p,{\\rm rxn}}$ / J mol$^{-1}$ K$^{-1}$')\n",
    "plt.show()"
   ]
  },
  {
   "cell_type": "markdown",
   "metadata": {},
   "source": [
    "### Part 1: Enthalpy\n",
    "\n",
    "The enthalpy can be determined from the heat capacity:\n",
    "\\begin{align*}\n",
    "H(T) &= H_f + \\int_{T_f}^{T} dT' C_p(T')\n",
    "\\end{align*}\n",
    "\n",
    "**Task:** Using the empirical form of the heat capacity that was provided above, derive and expression for the"
   ]
  },
  {
   "cell_type": "markdown",
   "metadata": {},
   "source": [
    "The enthalpy can be determined from the heat capacity:\n",
    "\\begin{align*}\n",
    "H(T) &= H_f + \\int_{T_f}^{T} dT' C_p(T')\n",
    "\\\\\n",
    "&= \\sum_k N_k H_{f, k} + \\int_{T_f}^{T} dT' \\sum_k N_k C_{p,k}(T')\n",
    "\\\\\n",
    "&= \\sum_k N_k H_{f, k} +  \\sum_k N_k \\int_{T_f}^{T} dT' C_{p,k}(T')\n",
    "\\\\\n",
    "&= \\sum_k N_k H_{f, k} \n",
    "+ \\sum_k N_k \\int_{T_f}^{T} dT' \n",
    "  \\Bigg[\\sum_{n=0} a_n T'^n \\Bigg]\n",
    "\\\\\n",
    "&= \\sum_k N_k H_{f, k} \n",
    "+ \\sum_k N_k \\sum_{n=0} \\frac{a_n}{n+1}\n",
    "  \\Bigg[T'^{n+1}\\Bigg]_{T_f}^{T}\n",
    "\\\\\n",
    "&= \\sum_k N_k H_{f, k} \n",
    "+ \\sum_k N_k \\sum_{n=0} \\frac{a_n}{n+1}\n",
    "  \\Bigg[T^{n+1}-T_f^{n+1}\\Bigg]\n",
    "\\end{align*}\n"
   ]
  },
  {
   "cell_type": "code",
   "execution_count": null,
   "metadata": {},
   "outputs": [],
   "source": [
    "def get_enthalpy(alpha, mole0, nu):\n",
    "    for molecule, coeff in nu.items():\n",
    "        data[molecule]['Hf']"
   ]
  },
  {
   "cell_type": "code",
   "execution_count": null,
   "metadata": {},
   "outputs": [],
   "source": [
    "import sympy as sp\n",
    "\n",
    "a_list = [sp.symbols('a' + str(k)) for k in range(5)]\n",
    "print(a_list)"
   ]
  },
  {
   "cell_type": "code",
   "execution_count": null,
   "metadata": {},
   "outputs": [],
   "source": [
    "T = sp.symbols('T')\n",
    "Tf = sp.symbols('Tf')\n",
    "Cp = sp.symbols('Cp')\n",
    "Cp = 0\n",
    "for n, a in enumerate(a_list):\n",
    "    Cp += a*T**n\n",
    "    \n",
    "print(Cp)"
   ]
  },
  {
   "cell_type": "code",
   "execution_count": null,
   "metadata": {},
   "outputs": [],
   "source": [
    "T0 = 298.15\n",
    "\n",
    "Hk = sp.integrate(Cp, (T, Tf, T))\n",
    "print(Hk)"
   ]
  },
  {
   "cell_type": "code",
   "execution_count": null,
   "metadata": {},
   "outputs": [],
   "source": [
    "args = [T, Tf]\n",
    "for a in a_list:\n",
    "    args.append(a)\n",
    "\n",
    "print(args)\n",
    "get_Hk = sp.lambdify(args, Hk)"
   ]
  },
  {
   "cell_type": "code",
   "execution_count": null,
   "metadata": {},
   "outputs": [],
   "source": [
    "import numpy as np\n",
    "T_data = np.arange(100.0, 500.0)\n",
    "\n",
    "T = 200.0\n",
    "\n",
    "moles = {'CO':1, 'CO2':2, 'H2O':0.5, 'H2':0.9}\n",
    "\n",
    "def get_H(T):\n",
    "    H = 0.0\n",
    "    for k, properties in data.items():\n",
    "        a0, a1, a2, a3, a4 = properties['Cp_coeff']\n",
    "        #print(properties['Cp_coeff'])\n",
    "        Hk = get_Hk(T, T0, a0, a1, a2, a3, a4)\n",
    "        Nk = moles[k]\n",
    "        H += Nk*Hk\n",
    "    return H\n",
    "\n",
    "H_data = [get_H(T) for T in T_data]\n",
    "\n",
    "import pylab as plt\n",
    "\n",
    "plt.plot(T_data, H_data)\n",
    "plt.show()"
   ]
  },
  {
   "cell_type": "code",
   "execution_count": null,
   "metadata": {},
   "outputs": [],
   "source": []
  },
  {
   "cell_type": "markdown",
   "metadata": {},
   "source": [
    "### Part 2: Gibbs energy\n",
    "\n",
    "As you will learn later in thermodynamics, the enthalpy can be written in terms of the Gibbs energy through the Gibbs-Helmholtz equation:\n",
    "\\begin{align*}\n",
    "H = \\frac{\\partial(G/T)}{\\partial(1/T)}\n",
    "\\end{align*}\n",
    "By integrating this relation, we find that the Gibbs energy can be determined from the enthalpy:\n",
    "\\begin{align*}\n",
    "\\frac{G(T)}{RT}\n",
    "%&= \\frac{G_f}{RT_f}\n",
    "%+ \\int_{T_f}^{T} d\\frac{1}{RT'} H(T')\n",
    "%\\\\\n",
    "&= \\frac{G_f}{RT_f}\n",
    "- \\int_{T_f}^{T} dT'\\, \\frac{H(T')}{RT'^2} \n",
    "\\end{align*}\n",
    "where $T_f=298.15\\,{\\rm K}$.\n",
    "\n",
    "**Task:**\n",
    "Create a function that will return the logarithm of the equilibrium constant given a temperature."
   ]
  },
  {
   "cell_type": "code",
   "execution_count": null,
   "metadata": {},
   "outputs": [],
   "source": [
    "a_list = [sp.symbols('a' + str(k)) for k in range(5)]\n",
    "T, Tf = sp.symbols('T Tf')\n",
    "Hf, Gf = sp.symbols('Hf Gf')\n",
    "Cp = sp.symbols('Cp')\n",
    "Cp = 0\n",
    "for n, a in enumerate(a_list):\n",
    "    Cp += a*T**n\n",
    "I_H = Hf + sp.integrate(Cp, (T, Tf, T))\n",
    "I = Gf/(R*Tf) + sp.integrate(I_H/T**2, (T, Tf, T))\n",
    "\n",
    "\n",
    "print(I)"
   ]
  },
  {
   "cell_type": "code",
   "execution_count": null,
   "metadata": {},
   "outputs": [],
   "source": [
    "args = [T, Tf, Hf, Gf]\n",
    "for a in a_list:\n",
    "    args.append(a)\n",
    "get_Gk_RT = sp.lambdify(args, I)\n",
    "\n",
    "def get_GRT(T):\n",
    "    H = 0.0\n",
    "    for k, properties in data.items():\n",
    "        a0, a1, a2, a3, a4 = properties['Cp_coeff']\n",
    "        Hf = properties['Hf']\n",
    "        Gf = properties['Gf']\n",
    "        #print(properties['Cp_coeff'])\n",
    "        Hk = get_Gk_RT(T, T0, Hf, Gf, a0, a1, a2, a3, a4)\n",
    "        Nk = moles[k]\n",
    "        H += Nk*Hk\n",
    "    return H\n",
    "\n",
    "print(get_GRT(200.0))\n",
    "\n",
    "GRT_data = [get_GRT(T) for T in T_data]\n",
    "plt.plot(T_data, GRT_data)\n",
    "plt.show()"
   ]
  },
  {
   "cell_type": "markdown",
   "metadata": {},
   "source": [
    "### Part 3: Chemical reaction equilibrium\n",
    "\n",
    "The condition for equilibirum is\n",
    "\\begin{align*}\n",
    "\\Pi_k \\left(\\frac{p_k}{p_0}\\right)^{\\nu_k} \n",
    "&= K(T)\n",
    "\\end{align*}\n",
    "where $p_k$ is the partial pressure of species $k$, $p_0$ is a reference pressure, typically taken to be $1\\,{\\rm bar}$, and $K(T)$ is the equilibrium constant, given by $\\ln K(T) = -\\Delta G_{\\rm rxn}(T)/(RT)$.\n",
    "\n",
    "\\begin{align*}\n",
    "\\Pi_k \\left( x_k \\frac{p_k}{p_0}\\right)^{\\nu_k} \n",
    "&= K(T)\n",
    "\\end{align*}\n",
    "\n",
    "Taking the log of both sides of the equation, \n",
    "\\begin{align*}\n",
    "\\sum_k {\\nu_k}\\ln x_k\n",
    "+ \\nu\\ln\\left(\\frac{p}{p_0}\\right)\n",
    "&= \\ln K(T)\n",
    "\\end{align*}\n",
    "where $\\nu=\\sum_k \\nu_k$\n",
    "\n",
    "To solve the equation using Python, we need to put it in a form $f(x)=0$:\n",
    "\\begin{align*}\n",
    "\\sum_k {\\nu_k}\\ln x_k\n",
    "+ \\nu\\ln\\left(\\frac{p}{p_0}\\right)\n",
    "- \\ln K(T)\n",
    "&= 0\n",
    "\\end{align*}\n",
    "\n",
    "**Task:**\n",
    "Use the function `bisect` from scipy.optimize to solve for the conversion $\\alpha$, given the initial moles in the system.  This has the advantage of giving bounds to the value of the solution."
   ]
  },
  {
   "cell_type": "code",
   "execution_count": null,
   "metadata": {},
   "outputs": [],
   "source": [
    "import numpy as np\n",
    "\n",
    "def get_lnK0():\n",
    "    return -Grxn/(R*T0)"
   ]
  },
  {
   "cell_type": "code",
   "execution_count": null,
   "metadata": {},
   "outputs": [],
   "source": []
  },
  {
   "cell_type": "code",
   "execution_count": null,
   "metadata": {},
   "outputs": [],
   "source": [
    "#lnK = -Grxn/(R*Tf)\n",
    "lnK = get_lnK0()\n",
    "print(lnK)\n",
    "\n",
    "p = 1.0e5\n",
    "\n",
    "def residual(alpha, mole0, p, lnK):\n",
    "\n",
    "    mole = {gas: N0 + nu[gas]* alpha for gas, N0 in mole0.items()}\n",
    "    x_dict = get_x(mole)\n",
    "    nu_sum = sum(nu.values())\n",
    "    \n",
    "    ln_prod = 0.0\n",
    "    for gas, coeff in nu.items():\n",
    "        ln_prod += coeff*np.log(x_dict[gas])\n",
    "\n",
    "    return ln_prod - lnK + nu_sum*np.log(p/p0)\n",
    "\n",
    "#print(residual(0.99999, mole0, p0, lnK))\n",
    "\n",
    "import pylab as plt\n",
    "#alpha_data = np.arange(0.001, 1.0, 0.001)\n",
    "#y_data = [residual(alpha, mole0, p, lnK) for alpha in alpha_data]\n",
    "#plt.plot(alpha_data, y_data)\n",
    "#plt.show()\n",
    "\n",
    "\n",
    "from scipy.optimize import fsolve\n",
    "from scipy.optimize import bisect\n",
    "\n",
    "\n",
    "\n",
    "alpha_min, alpha_max = get_extent_bounds(mole0, nu)\n",
    "sol = bisect(residual, alpha_min, alpha_max, args=(mole0, p, lnK))\n",
    "print(sol)\n",
    "alpha = sol\n",
    "print(alpha)\n",
    "mole = {gas: N0 + nu[gas]* alpha for gas, N0 in mole0.items()}\n",
    "print(mole)"
   ]
  },
  {
   "cell_type": "code",
   "execution_count": null,
   "metadata": {},
   "outputs": [],
   "source": [
    "\n",
    "arxn = [0.0, 0.0, 0.0, 0.0, 0.0]\n",
    "for name, coeff in nu.items():\n",
    "    for k, a in enumerate(data[name]['Cp_coeff']):\n",
    "        arxn[k] += coeff*a\n",
    "print(arxn)\n"
   ]
  },
  {
   "cell_type": "code",
   "execution_count": null,
   "metadata": {},
   "outputs": [],
   "source": [
    "def get_lnK(T):\n",
    "    \n",
    "    x = T/T0\n",
    "    arg = 1.0/x - 1.0\n",
    "    lnK = Grxn/(R*T0) + Hrxn/(R*T0)*arg\n",
    "    lnK -= arxn[0] * (np.log(x)+arg)\n",
    "    lnK -= arxn[1]/2.0 * (x-1.0+arg)\n",
    "    lnK -= arxn[2]/3.0 * ((x**2-1.0)/2.0+arg)\n",
    "    lnK -= arxn[3]/4.0 * ((x**3-1.0)/3.0+arg)\n",
    "    lnK -= arxn[4]/5.0 * ((x**4-1.0)/4.0+arg)\n",
    "    \n",
    "    return -lnK\n",
    "\n",
    "lnK = get_lnK(298.15)\n",
    "print(lnK)"
   ]
  },
  {
   "cell_type": "markdown",
   "metadata": {},
   "source": [
    "## part 6\n",
    "\n",
    "**Task:**\n",
    "Plot the  reaction extent as a function of temperature"
   ]
  },
  {
   "cell_type": "code",
   "execution_count": null,
   "metadata": {},
   "outputs": [],
   "source": [
    "T_data = np.arange(300.0, 400.0, 10.0)\n",
    "\n",
    "from scipy.optimize import fsolve\n",
    "from scipy.optimize import bisect\n",
    "\n",
    "alpha_data = []\n",
    "for T in T_data:\n",
    "    lnK= get_lnK(T)\n",
    "    alpha_min, alpha_max = get_extent_bounds(mole0, nu)\n",
    "    sol = bisect(residual, alpha_min, alpha_max, args=(mole0,p,lnK))\n",
    "#    print(T,sol)\n",
    "    alpha = sol\n",
    "    alpha_data.append(alpha)\n",
    "    mole = {gas: N0 + nu[gas]* alpha for gas, N0 in mole0.items()}\n",
    "#    print(mole)\n",
    "\n",
    "plt.plot(T_data, alpha_data)\n",
    "\n",
    "plt.xlabel('temperature / K')\n",
    "plt.ylabel(r'$\\alpha$ / mol')\n",
    "plt.show()"
   ]
  },
  {
   "cell_type": "markdown",
   "metadata": {},
   "source": [
    "**Task:** Plot the variation of the mole fractions of the component as a function of temperature"
   ]
  },
  {
   "cell_type": "code",
   "execution_count": null,
   "metadata": {},
   "outputs": [],
   "source": [
    "T_data = np.arange(300.0, 500.0, 10.0)\n",
    "\n",
    "x_data = {name:[] for name in mole0.keys()}\n",
    "\n",
    "for T in T_data:\n",
    "    lnK= get_lnK(T)\n",
    "    alpha_min, alpha_max = get_extent_bounds(mole0, nu)\n",
    "    sol = bisect(residual, alpha_min, alpha_max, args=(mole0,p,lnK))\n",
    "    alpha = sol\n",
    "    mole = get_moles(alpha, mole0, nu)\n",
    "    x_dict = get_x(mole)\n",
    "    for name, x in x_dict.items():\n",
    "        x_data[name].append(x)\n",
    "#    print(T,alpha, x_dict)\n",
    "#    alpha = sol\n",
    "#    mole = {gas: N0 + nu[gas]* alpha for gas, N0 in mole0.items()}\n",
    "#    print(mole)\n",
    "\n",
    "for name in mole0.keys():\n",
    "    plt.plot(T_data, x_data[name], label=name)\n",
    "\n",
    "plt.xlabel('temperature / K')\n",
    "plt.ylabel('mole fraction')\n",
    "plt.legend()\n",
    "plt.show()"
   ]
  },
  {
   "cell_type": "code",
   "execution_count": null,
   "metadata": {},
   "outputs": [],
   "source": []
  },
  {
   "cell_type": "code",
   "execution_count": null,
   "metadata": {},
   "outputs": [],
   "source": []
  }
 ],
 "metadata": {
  "kernelspec": {
   "display_name": "Python 3",
   "language": "python",
   "name": "python3"
  },
  "language_info": {
   "codemirror_mode": {
    "name": "ipython",
    "version": 3
   },
   "file_extension": ".py",
   "mimetype": "text/x-python",
   "name": "python",
   "nbconvert_exporter": "python",
   "pygments_lexer": "ipython3",
   "version": "3.8.5"
  }
 },
 "nbformat": 4,
 "nbformat_minor": 4
}
