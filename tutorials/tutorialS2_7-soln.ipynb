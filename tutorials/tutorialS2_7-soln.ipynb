{
 "cells": [
  {
   "cell_type": "markdown",
   "metadata": {},
   "source": [
    "# CP213: Model Solutions for S2 Tutorial 7\n",
    "## Question 1\n",
    "Let $\\boldsymbol{A}=\\begin{pmatrix} 1 & 2 & 5\\\\4 & 6 & 9\\end{pmatrix}$, $\\boldsymbol{B}=\\begin{pmatrix} 2 & 5 & 6\\\\1 & 7 & 2\\\\9 & 6 & 1\\end{pmatrix}$, and $\\boldsymbol{C}=\\begin{pmatrix} 5 & 4 & 9\\\\7 & 4 & 0\\\\6 & 9 & 8\\end{pmatrix}$\n",
    "\n",
    "Compute the following:\n",
    "\n",
    "1. $\\boldsymbol{B} + \\boldsymbol{C}$\n",
    "2. $3\\boldsymbol{B} + 2\\boldsymbol{C}$\n",
    "3. $\\boldsymbol{A} + \\boldsymbol{B}$\n",
    "4. $\\boldsymbol{AB}$\n",
    "5. $\\boldsymbol{BA}$"
   ]
  },
  {
   "cell_type": "markdown",
   "metadata": {},
   "source": [
    "## Model Solutions for Q1\n",
    "\n",
    "### Part 1\n",
    "\n",
    "\\begin{align*}\n",
    "\\boldsymbol{B} + \\boldsymbol{C} &=\n",
    "\\begin{pmatrix} 2 & 5 & 6\\\\1 & 7 & 2\\\\9 & 6 & 1\\end{pmatrix}\n",
    "+\n",
    "\\begin{pmatrix} 5 & 4 & 9\\\\7 & 4 & 0\\\\6 & 9 & 8\\end{pmatrix}\\\\\n",
    "&= \\begin{pmatrix} 2+5 & 5+4 & 6+9\\\\ 1+7 & 7+4 & 2+0\\\\9+6 & 6+9 & 1+8\\end{pmatrix}\\\\\n",
    "&= \\begin{pmatrix} 7 & 9 & 15\\\\8 & 11 & 2\\\\15 & 15 & 9\\end{pmatrix}\n",
    "\\end{align*}\n",
    "\n",
    "### Part 2\n",
    "\n",
    "\\begin{align*}\n",
    "3\\boldsymbol{B} + 2\\boldsymbol{C} &=\n",
    "3\\begin{pmatrix} 2 & 5 & 6\\\\1 & 7 & 2\\\\9 & 6 & 1\\end{pmatrix}\n",
    "+\n",
    "2\\begin{pmatrix} 5 & 4 & 9\\\\7 & 4 & 0\\\\6 & 9 & 8\\end{pmatrix}\\\\\n",
    "&= \n",
    "\\begin{pmatrix} 6 & 15 & 18\\\\3 & 21 & 6\\\\27 & 18 & 3\\end{pmatrix}\n",
    "+\n",
    "\\begin{pmatrix} 10 & 8 & 18\\\\14 & 8 & 0\\\\12 & 18 & 16\\end{pmatrix}\\\\\n",
    "&= \n",
    "\\begin{pmatrix} 16 & 23 & 36\\\\17 & 29 & 6\\\\39 & 36 &19\\end{pmatrix}\n",
    "\\end{align*}\n",
    "\n",
    "### Part 3\n",
    "Since $\\boldsymbol{A}$ and $\\boldsymbol{B}$ are of unequal size it is not possible to add these.\n",
    "\n",
    "### Part 4\n",
    "\n",
    "\\begin{align*}\n",
    "\\boldsymbol{AB}\n",
    "&=\n",
    "\\begin{pmatrix} 1 & 2 & 5\\\\4 & 6 & 9\\end{pmatrix}\n",
    "\\begin{pmatrix} 2 & 5 & 6\\\\1 & 7 & 2\\\\9 & 6 & 1\\end{pmatrix}\\\\\n",
    "&= \n",
    "\\begin{pmatrix} \n",
    "1 \\times 2 + 2 \\times 1 + 5 \\times 9 \n",
    "&\n",
    "1 \\times 5 + 2 \\times 7 + 5 \\times 6\n",
    "&\n",
    "1 \\times 6 + 2 \\times 2 + 5 \\times 1\\\\\n",
    "4 \\times 2 + 6 \\times 1 + 9 \\times 9\n",
    "&\n",
    "4 \\times 5 + 6 \\times 7 + 9 \\times 6\n",
    "&\n",
    "4 \\times 6 + 6 \\times 2 + 1 \\times 9\n",
    "\\end{pmatrix}\\\\\n",
    "&= \n",
    "\\begin{pmatrix} \n",
    "49 & 49 & 15\\\\\n",
    "95 & 116 & 45\n",
    "\\end{pmatrix}\n",
    "\\end{align*}\n",
    "\n",
    "### Part 5\n",
    "Since number of columns of $\\boldsymbol{A} \\neq$ number of rows of $\\boldsymbol{B}$, it is not possible to multiply the two matrices."
   ]
  },
  {
   "cell_type": "code",
   "execution_count": 17,
   "metadata": {},
   "outputs": [
    {
     "name": "stdout",
     "output_type": "stream",
     "text": [
      "part 1\n",
      "[[ 7  9 15]\n",
      " [ 8 11  2]\n",
      " [15 15  9]]\n",
      "part 2\n",
      "[[16 23 36]\n",
      " [17 29  6]\n",
      " [39 36 19]]\n",
      "part 4\n",
      "[[ 49  49  15]\n",
      " [ 95 116  45]]\n"
     ]
    }
   ],
   "source": [
    "import numpy as np\n",
    "\n",
    "A = np.array([[1, 2, 5],\n",
    "              [4, 6, 9]])\n",
    "\n",
    "B = np.array([[2, 5, 6],\n",
    "              [1, 7, 2],\n",
    "              [9, 6, 1]])\n",
    "\n",
    "C = np.array([[5, 4, 9],\n",
    "              [7, 4, 0],\n",
    "              [6, 9, 8]])\n",
    "\n",
    "print(\"part 1\")\n",
    "print(B + C)\n",
    "print(\"part 2\")\n",
    "print(3*B + 2*C)\n",
    "#print(\"part 3\")\n",
    "#print(A + B)\n",
    "print(\"part 4\")\n",
    "print(A.dot(B))\n",
    "#print(\"part 5\")\n",
    "#print(B.dot(A))"
   ]
  },
  {
   "cell_type": "markdown",
   "metadata": {},
   "source": [
    "## Question 2\n",
    "Let $\\boldsymbol{H}= \\begin{pmatrix} 1 & 1 & 1.5 & 2 & 2\\\\2 & 4 & 5 & 4 & 2\\end{pmatrix}$ be the matrix representing the sequence of vertices PQRST of a figure represented on the x-y plane.\n",
    "\n",
    "1. Determine the shape of the figure represented by $\\boldsymbol{H}$. \n",
    "2. Let $\\boldsymbol{A} = \\begin{pmatrix} 0 & 1\\\\1 & 0\\end{pmatrix}$. Determine the image of the figure under the transformation represented by $\\boldsymbol{AH}$. Illustrate and describe what effect this transformation has.\n"
   ]
  },
  {
   "cell_type": "markdown",
   "metadata": {},
   "source": [
    "## Model Solutions for Question 2\n",
    "### Part 1"
   ]
  },
  {
   "cell_type": "code",
   "execution_count": 49,
   "metadata": {},
   "outputs": [
    {
     "data": {
      "image/png": "[encoded data removed]",
      "text/plain": [
       "<Figure size 432x288 with 1 Axes>"
      ]
     },
     "metadata": {
      "needs_background": "light"
     },
     "output_type": "display_data"
    }
   ],
   "source": [
    "import matplotlib.pyplot as plt\n",
    "\n",
    "#last coordinates (1,2) required to close shape\n",
    "\n",
    "x_coordinates = [1, 1, 1.5, 2, 2, 1]\n",
    "y_coordinates = [2, 4, 5, 4, 2, 2]\n",
    "\n",
    "fig = plt.figure()\n",
    "ax = fig.add_subplot(111)\n",
    "\n",
    "plt.xlim(0,6)\n",
    "plt.ylim(0, 6)\n",
    "plt.xlabel(\"x\")\n",
    "plt.ylabel(\"y\")\n",
    "\n",
    "plt.scatter(x_coordinates, y_coordinates)\n",
    "plt.plot(x_coordinates, y_coordinates)\n",
    "ax.set_aspect('equal', adjustable='box')\n",
    "\n",
    "plt.show()"
   ]
  },
  {
   "cell_type": "markdown",
   "metadata": {},
   "source": [
    "### Part 2\n",
    "\\begin{align*}\n",
    "\\boldsymbol{AH} &=\n",
    "\\begin{pmatrix}\n",
    "0 & 1\\\\\n",
    "1 & 0\n",
    "\\end{pmatrix}\n",
    "\\begin{pmatrix}\n",
    "1 & 1 & 1.5 & 2 & 2\\\\\n",
    "2 & 4 & 5 & 4 & 2\n",
    "\\end{pmatrix}\\\\\n",
    "&=\n",
    "\\begin{pmatrix} \n",
    "2 & 4 & 5 & 4 & 2\\\\\n",
    "1 & 1 & 1.5 & 2 & 2\n",
    "\\end{pmatrix}\n",
    "\\end{align*}"
   ]
  },
  {
   "cell_type": "code",
   "execution_count": 34,
   "metadata": {},
   "outputs": [
    {
     "name": "stdout",
     "output_type": "stream",
     "text": [
      "Part 2\n",
      "[[2.  4.  5.  4.  2.  2. ]\n",
      " [1.  1.  1.5 2.  2.  1. ]]\n"
     ]
    }
   ],
   "source": [
    "import numpy as np\n",
    "\n",
    "H = np.array([[1, 1, 1.5, 2, 2, 1],\n",
    "              [2, 4, 5, 4, 2, 2]])\n",
    "\n",
    "A = np.array([[0, 1],\n",
    "              [1, 0]])\n",
    "\n",
    "print(\"Part 2\")\n",
    "print(A.dot(H))"
   ]
  },
  {
   "cell_type": "code",
   "execution_count": 47,
   "metadata": {},
   "outputs": [
    {
     "data": {
      "image/png": "[encoded data removed]",
      "text/plain": [
       "<Figure size 432x288 with 1 Axes>"
      ]
     },
     "metadata": {
      "needs_background": "light"
     },
     "output_type": "display_data"
    }
   ],
   "source": [
    "import matplotlib.pyplot as plt\n",
    "\n",
    "#last coordinates (1,2) required to close shape\n",
    "\n",
    "x_coordinates = [2, 4, 5, 4, 2, 2]\n",
    "y_coordinates = [1, 1, 1.5, 2, 2, 1]\n",
    "\n",
    "fig = plt.figure()\n",
    "ax = fig.add_subplot(111)\n",
    "\n",
    "plt.xlim(0,6)\n",
    "plt.ylim(0,6)\n",
    "plt.xlabel(\"x\")\n",
    "plt.ylabel(\"y\")\n",
    "\n",
    "plt.scatter(x_coordinates, y_coordinates)\n",
    "plt.plot(x_coordinates, y_coordinates)\n",
    "\n",
    "ax.set_aspect('equal', adjustable='box')\n",
    "\n",
    "plt.show()"
   ]
  },
  {
   "cell_type": "markdown",
   "metadata": {},
   "source": [
    "The transformation of $\\boldsymbol{A}$ can be described as a reflection in $y=x$."
   ]
  },
  {
   "cell_type": "markdown",
   "metadata": {},
   "source": [
    "## Question 3\n",
    "Let $\\boldsymbol{A}$ represent the triangle with vertices $P(2,2)$, $Q(2,5)$ and $R(4,2)$.\n",
    "\n",
    "1. Write the matrix $\\boldsymbol{A}$\n",
    "2. Determine the image of the triangle under the transformation represented by the matrix multiplication $\\boldsymbol{BA}$, where $\\boldsymbol{B}=\\begin{pmatrix} 1 & 0\\\\ 0 & -1\\end{pmatrix}$. Hence, illustrate and describe what effect this transformation has.\n",
    "3. Determine the image of the triangle under the transformation represented by the matrix multiplication $\\boldsymbol{CA}$, where $\\boldsymbol{C}=\\begin{pmatrix}0&-1\\\\1&0\\end{pmatrix}$. Hence, illustrate and describe what effect this transformation has."
   ]
  },
  {
   "cell_type": "markdown",
   "metadata": {},
   "source": [
    "## Model Solutions for Question 3\n",
    "\n",
    "### Part 1\n",
    "\n",
    "$\\boldsymbol{A}=\n",
    "\\begin{pmatrix} \n",
    "2 & 2 & 5\\\\\n",
    "2 & 5 & 2\n",
    "\\end{pmatrix}\n",
    "$"
   ]
  },
  {
   "cell_type": "code",
   "execution_count": 56,
   "metadata": {},
   "outputs": [
    {
     "name": "stdout",
     "output_type": "stream",
     "text": [
      "Part 1\n",
      "[[2.  4.  5.  4.  2.  2. ]\n",
      " [1.  1.  1.5 2.  2.  1. ]]\n"
     ]
    },
    {
     "data": {
      "image/png": "[encoded data removed]",
      "text/plain": [
       "<Figure size 432x288 with 1 Axes>"
      ]
     },
     "metadata": {
      "needs_background": "light"
     },
     "output_type": "display_data"
    }
   ],
   "source": [
    "import matplotlib.pyplot as plt\n",
    "\n",
    "#last coordinates (2,2) required to close triangle\n",
    "\n",
    "x_coordinates = [2, 2, 5, 2]\n",
    "y_coordinates = [2, 5, 2, 2]\n",
    "\n",
    "fig = plt.figure()\n",
    "ax = fig.add_subplot(111)\n",
    "\n",
    "ax.spines['left'].set_position('zero')\n",
    "ax.spines['right'].set_color('none')\n",
    "ax.spines['bottom'].set_position('zero')\n",
    "ax.spines['top'].set_color('none')\n",
    "\n",
    "plt.xlim(-6,6)\n",
    "plt.ylim(-6,6)\n",
    "plt.xlabel(\"x\")\n",
    "plt.ylabel(\"y\")\n",
    "\n",
    "plt.scatter(x_coordinates, y_coordinates)\n",
    "plt.plot(x_coordinates, y_coordinates)\n",
    "\n",
    "ax.set_aspect('equal', adjustable='box')\n",
    "print(\"Part 1\")\n",
    "print(A.dot(H))\n",
    "plt.show()"
   ]
  },
  {
   "cell_type": "markdown",
   "metadata": {},
   "source": [
    "### Part 2\n",
    "\\begin{align*}\n",
    "\\boldsymbol{BA}&=\n",
    "\\begin{pmatrix}\n",
    "1 & 0\\\\\n",
    "0 & -1\n",
    "\\end{pmatrix}\n",
    "\\begin{pmatrix} \n",
    "2 & 2 & 5\\\\\n",
    "2 & 5 & 2\n",
    "\\end{pmatrix}\\\\\n",
    "&=\n",
    "\\begin{pmatrix} \n",
    "2 & 2 & 5\\\\\n",
    "-2 & -5 & -2\n",
    "\\end{pmatrix}\\\\\n",
    "\\end{align*}"
   ]
  },
  {
   "cell_type": "code",
   "execution_count": 57,
   "metadata": {},
   "outputs": [
    {
     "name": "stdout",
     "output_type": "stream",
     "text": [
      "Part 2\n",
      "[[ 2  2  5]\n",
      " [-2 -5 -2]]\n"
     ]
    },
    {
     "data": {
      "image/png": "[encoded data removed]",
      "text/plain": [
       "<Figure size 432x288 with 1 Axes>"
      ]
     },
     "metadata": {
      "needs_background": "light"
     },
     "output_type": "display_data"
    }
   ],
   "source": [
    "import matplotlib.pyplot as plt\n",
    "import numpy as np\n",
    "\n",
    "A = np.array([[2, 2, 5],\n",
    "              [2, 5, 2]])\n",
    "\n",
    "B = np.array([[1, 0],\n",
    "              [0, -1]])\n",
    "\n",
    "#last coordinates (2,2) required to close triangle\n",
    "\n",
    "x_coordinates = [2, 2, 5, 2]\n",
    "y_coordinates = [-2, -5, -2, -2]\n",
    "\n",
    "fig = plt.figure()\n",
    "ax = fig.add_subplot(111)\n",
    "\n",
    "ax.spines['left'].set_position('zero')\n",
    "ax.spines['right'].set_color('none')\n",
    "ax.spines['bottom'].set_position('zero')\n",
    "ax.spines['top'].set_color('none')\n",
    "\n",
    "plt.xlim(-6,6)\n",
    "plt.ylim(-6,6)\n",
    "plt.xlabel(\"x\")\n",
    "plt.ylabel(\"y\")\n",
    "\n",
    "plt.scatter(x_coordinates, y_coordinates)\n",
    "plt.plot(x_coordinates, y_coordinates)\n",
    "\n",
    "ax.set_aspect('equal', adjustable='box')\n",
    "\n",
    "print(\"Part 2\")\n",
    "print(B.dot(A))\n",
    "\n",
    "plt.show()"
   ]
  },
  {
   "cell_type": "markdown",
   "metadata": {},
   "source": [
    "The transformation of $\\boldsymbol{B}$ can be described as a reflection in the x-axis."
   ]
  },
  {
   "cell_type": "markdown",
   "metadata": {},
   "source": [
    "### Part 3\n",
    "\\begin{align*}\n",
    "\\boldsymbol{CA}&=\n",
    "\\begin{pmatrix}\n",
    "0 & -1\\\\\n",
    "1 & 0\n",
    "\\end{pmatrix}\n",
    "\\begin{pmatrix} \n",
    "2 & 2 & 5\\\\\n",
    "2 & 5 & 2\n",
    "\\end{pmatrix}\\\\\n",
    "&=\n",
    "\\begin{pmatrix} \n",
    "-2 & -5 & -2\\\\\n",
    "2 & 2 & 5\\\\\n",
    "\\end{pmatrix}\\\\\n",
    "\\end{align*}"
   ]
  },
  {
   "cell_type": "code",
   "execution_count": 59,
   "metadata": {},
   "outputs": [
    {
     "name": "stdout",
     "output_type": "stream",
     "text": [
      "Part 3\n",
      "[[-2 -5 -2]\n",
      " [ 2  2  5]]\n"
     ]
    },
    {
     "data": {
      "image/png": "[encoded data removed]",
      "text/plain": [
       "<Figure size 432x288 with 1 Axes>"
      ]
     },
     "metadata": {
      "needs_background": "light"
     },
     "output_type": "display_data"
    }
   ],
   "source": [
    "import matplotlib.pyplot as plt\n",
    "import numpy as np\n",
    "\n",
    "A = np.array([[2, 2, 5],\n",
    "              [2, 5, 2]])\n",
    "\n",
    "C = np.array([[0, -1],\n",
    "              [1, 0]])\n",
    "\n",
    "#last coordinates (2,2) required to close triangle\n",
    "\n",
    "x_coordinates = [-2, -5, -2, -2]\n",
    "y_coordinates = [2, 2, 5, 2]\n",
    "\n",
    "fig = plt.figure()\n",
    "ax = fig.add_subplot(111)\n",
    "\n",
    "ax.spines['left'].set_position('zero')\n",
    "ax.spines['right'].set_color('none')\n",
    "ax.spines['bottom'].set_position('zero')\n",
    "ax.spines['top'].set_color('none')\n",
    "\n",
    "plt.xlim(-6,6)\n",
    "plt.ylim(-6,6)\n",
    "plt.xlabel(\"x\")\n",
    "plt.ylabel(\"y\")\n",
    "\n",
    "plt.scatter(x_coordinates, y_coordinates)\n",
    "plt.plot(x_coordinates, y_coordinates)\n",
    "\n",
    "ax.set_aspect('equal', adjustable='box')\n",
    "\n",
    "print(\"Part 3\")\n",
    "print(C.dot(A))\n",
    "\n",
    "plt.show()"
   ]
  },
  {
   "cell_type": "markdown",
   "metadata": {},
   "source": [
    "The transformation of $\\boldsymbol{B}$ is described as an anti-clockwise rotation of $90^{\\circ}$. It is NOT a reflection in the y-axis - this can be shown if you mark where the points land after the transformation."
   ]
  },
  {
   "cell_type": "markdown",
   "metadata": {},
   "source": [
    "## Question 4\n",
    "Let $\\boldsymbol{A}=\\begin{pmatrix} 7 & 9 \\\\ 5 & 7 \\end{pmatrix}$.\n",
    "\n",
    "1. Find $\\boldsymbol{A}^{-1}$\n",
    "2. Check that $\\boldsymbol{A}^{-1}$ is the inverse matrix of $\\boldsymbol{A}$"
   ]
  },
  {
   "cell_type": "markdown",
   "metadata": {},
   "source": [
    "## Model Solutions for Question 4\n",
    "### Part 1\n",
    "The inverse of a 2-by-2 matrix $\\boldsymbol{M}=\\begin{pmatrix} a & b \\\\ c & d \\end{pmatrix}$ is given by:\n",
    "\\begin{align*}\n",
    "\\boldsymbol{M}^{-1}\n",
    "&=\n",
    "\\frac{1}{\\Delta}\\rm{adj}(\\boldsymbol{M})\n",
    "\\end{align*}\n",
    "\n",
    "Where $\\Delta = ad - bc$ is the determinant and $\\rm{adj}(\\boldsymbol{M})$ is the adjugate matrix of $\\boldsymbol{M}$ given by $\\begin{pmatrix} d & -b \\\\ -c & a \\end{pmatrix}$.\n",
    "\n",
    "Therefore the inverse for $\\boldsymbol{A}$ is given by\n",
    "\n",
    "\\begin{align*}\n",
    "\\Delta &= 7 \\times 7 - 9 \\times 5\\\\\n",
    "&= 4\n",
    "\\end{align*}\n",
    "\n",
    "\\begin{align*}\n",
    "\\boldsymbol{A}^{-1}\n",
    "&=\n",
    "\\frac{1}{4}\n",
    "\\begin{pmatrix} 7 & -9 \\\\ -5 & 7 \\end{pmatrix}\\\\\n",
    "&=\\begin{pmatrix} 1.75 & -2.25 \\\\ -1.25 & 1.75 \\end{pmatrix}\n",
    "\\end{align*}\n",
    "\n",
    "### Part 2\n",
    "The multiplication of a matrix by its inverse would give the identity matrix $\\boldsymbol{I}= \\begin{pmatrix} 1 & 0 \\\\ 0 & 1 \\end{pmatrix}$.\n",
    "\n",
    "\\begin{align*}\n",
    "\\boldsymbol{A}^{-1}\\boldsymbol{A}\n",
    "&=\n",
    "\\begin{pmatrix}\n",
    "1.75 & -2.25 \\\\ \n",
    "-1.25 & 1.75 \n",
    "\\end{pmatrix}\n",
    "\\begin{pmatrix} \n",
    "7 & 9 \\\\\n",
    "5 & 7 \n",
    "\\end{pmatrix}\\\\\n",
    "&=\n",
    "\\begin{pmatrix} \n",
    "1 & 0 \\\\\n",
    "0 & 1 \n",
    "\\end{pmatrix}\n",
    "\\end{align*}\n",
    "\n",
    "Therefore it is the inverse."
   ]
  },
  {
   "cell_type": "code",
   "execution_count": 69,
   "metadata": {},
   "outputs": [
    {
     "name": "stdout",
     "output_type": "stream",
     "text": [
      "[[7 9]\n",
      " [5 7]]\n",
      "[[ 1.75 -2.25]\n",
      " [-1.25  1.75]]\n",
      "[[ 1.00000000e+00 -2.22044605e-16]\n",
      " [ 2.22044605e-16  1.00000000e+00]]\n"
     ]
    }
   ],
   "source": [
    "import numpy as np \n",
    "\n",
    "x = np.array([[7,9],\n",
    "              [5,7]]) \n",
    "\n",
    "y = np.linalg.inv(x) \n",
    "\n",
    "print(x) \n",
    "print(y) \n",
    "print(np.dot(x,y))"
   ]
  },
  {
   "cell_type": "markdown",
   "metadata": {},
   "source": [
    "## Question 5\n",
    "Consider two continuously-stirred tanks filled with brine solutions connected with flows feeding into one another.\n",
    "\n",
    "<img src=\"tank-recycle.png\" width=\"300\">\n",
    "\n",
    "The first tank is charged with $40 \\ \\rm{L}$ water and $5\\ \\rm{kg}$ salt and the second with $20\\ \\rm{L}$ water and $4\\ \\rm{kg}$ salt. The flowrates into each of the tanks from the other are equivelant at $10\\ \\rm{L\\ min^{-1}}$. Let $x_1$ and $x_2$ be the concentrations of salt in tanks 1 and 2, respectively, at anytime $t$.  \n",
    "\n",
    "By performing differential balances on the tanks show that the resulting differential equations can be written in matrix form as\n",
    "\n",
    "\\begin{align*}\n",
    "\\frac{d}{dt}\\begin{pmatrix}x_1\\\\x_2\\end{pmatrix}= \n",
    "\\begin{pmatrix}a&b\\\\c&d\\end{pmatrix}\\begin{pmatrix}x_1\\\\x_2\\end{pmatrix}\n",
    "\\end{align*}\n",
    "\n",
    "What are the values of $a$, $b$, $c$ and $d$?\n",
    "\n",
    "Please note: you are not being asked to solve the differential equations, but we will look at how we can do that over the next few weeks. This is another application of linear algebra - solving systems of linear differential equations."
   ]
  },
  {
   "cell_type": "markdown",
   "metadata": {},
   "source": [
    "## Model Solutions for Question 5\n",
    "We may begin by considering the $40\\ \\rm{L}$ tank. Performing a mass balance on the salt on the tank we find:\n",
    "\n",
    "\\begin{align*}\n",
    "{\\rm rate~of~change~of~mass~of~salt} &= {\\rm input~rate~of~mass~of~salt} - {\\rm output~rate~of~mass~of~salt}\\\\\n",
    "\\frac{dx_1}{dt} &= -\\dot{Q}\\frac{x_1}{V_1} + \\dot{Q}\\frac{x_2}{V_2}\\\\\n",
    "\\frac{dx_1}{dt}&= -\\frac{10}{40}x_1 + \\frac{10}{20}x_2\\\\\n",
    "\\frac{dx_1}{dt}&= -\\frac{1}{4}x_1 + \\frac{1}{2}x_2\n",
    "\\end{align*}\n",
    "\n",
    "Similarly for the balance around the $20\\ \\rm{L}$ tank gives\n",
    "\\begin{align*}\n",
    "\\frac{dx_2}{dt} &= \\dot{Q}\\frac{x_1}{V_1} -\\dot{Q}\\frac{x_2}{V_2}\\\\\n",
    "\\frac{dx_1}{dt}&= \\frac{10}{40}x_1 - \\frac{10}{20}x_2\\\\\n",
    "\\frac{dx_1}{dt}&= \\frac{1}{4}x_1 -\\frac{1}{2}x_2\n",
    "\\end{align*}\n",
    "\n",
    "These can be presented as a system of differential equations:\n",
    "\\begin{align*}\n",
    "\\frac{d}{dt}\\begin{pmatrix}x_1\\\\x_2\\end{pmatrix}= \n",
    "\\begin{pmatrix}-0.25 & 0.5\\\\0.25&-0.5\\end{pmatrix}\\begin{pmatrix}x_1\\\\x_2\\end{pmatrix}\n",
    "\\end{align*}"
   ]
  }
 ],
 "metadata": {
  "kernelspec": {
   "display_name": "Python 3",
   "language": "python",
   "name": "python3"
  },
  "language_info": {
   "codemirror_mode": {
    "name": "ipython",
    "version": 3
   },
   "file_extension": ".py",
   "mimetype": "text/x-python",
   "name": "python",
   "nbconvert_exporter": "python",
   "pygments_lexer": "ipython3",
   "version": "3.8.5"
  }
 },
 "nbformat": 4,
 "nbformat_minor": 4
}
