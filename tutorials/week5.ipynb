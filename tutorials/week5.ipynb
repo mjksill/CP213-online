{
 "cells": [
  {
   "cell_type": "markdown",
   "metadata": {},
   "source": [
    "# CP213: Tutorial Notebook Week 5\n",
    "\n"
   ]
  },
  {
   "cell_type": "markdown",
   "metadata": {},
   "source": [
    "## Question 1\n",
    "\n",
    "A brine solution (a mixture of salt and water) begins to flow at a\n",
    "constant rate of $\\dot{V}_{\\rm brine}=6\\,{\\rm L\\,min}^{-1}$ into a\n",
    "large tank that initially holds $V_0=1000\\,{\\rm L}$ of pure water.\n",
    "The solution inside the tank is kept well stirred and flows out of the\n",
    "tank at a constant rate of $\\dot{V}_{\\rm out}=5\\,{\\rm L\\,min}^{-1}$.\n",
    "If the concentration of salt in the brine entering the tank is\n",
    "$c_{\\rm brine}=0.1\\,{\\rm kg\\,L}^{-1}$, determine the concentration of\n",
    "the salt in the tank as a function of time.\n"
   ]
  },
  {
   "cell_type": "code",
   "execution_count": null,
   "metadata": {},
   "outputs": [],
   "source": []
  },
  {
   "cell_type": "markdown",
   "metadata": {},
   "source": [
    "## Question 2\n",
    "\n",
    "The velocity of water exiting a tank through an outlet is given by\n",
    "$v=\\sqrt{2gh}$, where $h$ is the height of the liquid above the outlet\n",
    "and $g=9.81\\,{\\rm m\\,s^{-2}}$ is the acceleration due to gravity.\n",
    "\n",
    "1. Derive the above expression by equating energies (kinetic energy\n",
    "  gain and potential energy loss for water freely falling from the\n",
    "  height $h$);\n",
    "\n",
    "2. Using this expression show that the decreasing volume $V$ of\n",
    "  water in the tank can be written as:\n",
    "\\begin{align*}\n",
    "\\frac{dV}{dt}=-A_0\\sqrt{2gh}\n",
    "\\end{align*}\n",
    "where $A_0$ is the cross-sectional area of the outlet.  Alternatively,\n",
    "the rate at which water flows from the tank can be\n",
    "expressed:\n",
    "\\begin{align*}\n",
    "\\frac{dV}{dt}=A\\frac{dh}{dt}.  \n",
    "\\end{align*}\n",
    "where $A$ is the cross-sectional area of the tank.  Derive the\n",
    "differential equation that governs the variation of $h$ with time.\n",
    "\n",
    "3. Solve this equation to find $h(t)$ for a cylindrical tank of\n",
    "  diameter $1.5\\,{\\rm m}$, where the water is drained through a square\n",
    "  hole of side length $0.05\\,{\\rm m}$.  The initial water depth is\n",
    "  $1.6\\,{\\rm m}$ at $t = 0\\,{\\rm s}$;\n",
    "\n",
    "4. How long does the tank take to empty?  [Answer:\n",
    "  $6.73\\,{\\rm mins}$.]\n",
    "\n",
    "5. Plot the graph of $h$ against $t$.\n",
    "\n"
   ]
  },
  {
   "cell_type": "code",
   "execution_count": null,
   "metadata": {},
   "outputs": [],
   "source": []
  },
  {
   "cell_type": "markdown",
   "metadata": {},
   "source": [
    "## Question 3\n",
    "\n",
    "Solve the following differential equations:\n",
    "\n",
    "\n",
    "1.\n",
    "  $\\displaystyle\n",
    "    x^2(y+1)+y^2(x-1)\\frac{dy}{dx} = 0\n",
    "  $\n",
    "\n",
    "2.\n",
    "  $\\displaystyle\n",
    "    \\frac{dy}{dx} = \\frac{y}{1+y}\n",
    "  $\n",
    "  \n",
    "3.\n",
    "  $\\displaystyle\n",
    "    x\\tan y + (x^2+1)\\frac{dy}{dx} = 0\n",
    "  $\n",
    "\n",
    "4.\n",
    "  $\\displaystyle\n",
    "  xy^3\\frac{dy}{dx} = (1+x^2)(1+y^2)  \n",
    "  $\n",
    "  where $y(1)=1$.  Plot a comparison between your analytical solution and a numerical solution obtaned by the \"odeint\" function in scipy.integrate.\n",
    "  \n",
    "  "
   ]
  },
  {
   "cell_type": "code",
   "execution_count": null,
   "metadata": {},
   "outputs": [],
   "source": []
  }
 ],
 "metadata": {
  "kernelspec": {
   "display_name": "Python 3",
   "language": "python",
   "name": "python3"
  },
  "language_info": {
   "codemirror_mode": {
    "name": "ipython",
    "version": 3
   },
   "file_extension": ".py",
   "mimetype": "text/x-python",
   "name": "python",
   "nbconvert_exporter": "python",
   "pygments_lexer": "ipython3",
   "version": "3.8.5"
  }
 },
 "nbformat": 4,
 "nbformat_minor": 4
}
