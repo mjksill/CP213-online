{
 "cells": [
  {
   "cell_type": "markdown",
   "metadata": {},
   "source": [
    "# CP213: Tutorial Notebook S2 Week 2"
   ]
  },
  {
   "cell_type": "markdown",
   "metadata": {},
   "source": [
    "## Question 1\n",
    "\n",
    "Directional derivatives and gradients can be expanded to include more than 2 variables. If $f(x,y,z) = x\\sin{(yz)}$:\n",
    "\n",
    "1. Find $\\nabla{f}$.\n",
    "2. Find the directional derivative, $D_{\\hat{u}}f$ at the point $(1,3,0)$ in the direction of $\\vec{u} = \\hat{\\imath} + 2\\hat{\\jmath} - \\hat{k}$.\n"
   ]
  },
  {
   "cell_type": "code",
   "execution_count": null,
   "metadata": {},
   "outputs": [],
   "source": []
  },
  {
   "cell_type": "markdown",
   "metadata": {},
   "source": [
    "## Question 2\n",
    "\n",
    "Consider a mathematically-gifted and lazy housefly which is manoeuvring through your kitchen. It begins its journey at the point $P=(1,1,1)$ and wishes to move in the direction which will result in the  greatest \\emph{decrease} in temperature. If the temperature is given by:\n",
    "\\begin{align*}\n",
    "T(x,y,z) &= x^2 + 2y^2 +2z^2\n",
    "\\end{align*}\n",
    "\n",
    "1. In which direction should the housefly move in order that it achieves the greatest reduction in temperature with minimal change in position?\n",
    "2. What is the directional derivative at this point?"
   ]
  },
  {
   "cell_type": "code",
   "execution_count": null,
   "metadata": {},
   "outputs": [],
   "source": []
  },
  {
   "cell_type": "markdown",
   "metadata": {},
   "source": [
    "## Question 3\n",
    "\n",
    "Find and classify all the stationary points for:\n",
    "\\begin{align*}\n",
    "f(x,y) &= (x^2 + y^2)^2 - 2(x^2-y^2) + 1\n",
    "\\end{align*}"
   ]
  },
  {
   "cell_type": "code",
   "execution_count": null,
   "metadata": {},
   "outputs": [],
   "source": []
  },
  {
   "cell_type": "markdown",
   "metadata": {},
   "source": [
    "## Question 4\n",
    "\n",
    "From linear regression, the function to be minimised, is the sum square of residuals, given by:\n",
    "\\begin{align*}\n",
    "S(\\beta_0,\\beta_1) \n",
    "&= \\sum_{i=1}^n \\left( y_i - \\beta_0 - \\beta_1 x_i \\right)^2\n",
    "\\end{align*}\n",
    "Derive expressions for the least-square regression coefficients $\\beta_0$ and $\\beta_1$."
   ]
  },
  {
   "cell_type": "code",
   "execution_count": null,
   "metadata": {},
   "outputs": [],
   "source": []
  }
 ],
 "metadata": {
  "kernelspec": {
   "display_name": "Python 3",
   "language": "python",
   "name": "python3"
  },
  "language_info": {
   "codemirror_mode": {
    "name": "ipython",
    "version": 3
   },
   "file_extension": ".py",
   "mimetype": "text/x-python",
   "name": "python",
   "nbconvert_exporter": "python",
   "pygments_lexer": "ipython3",
   "version": "3.9.1"
  }
 },
 "nbformat": 4,
 "nbformat_minor": 4
}
