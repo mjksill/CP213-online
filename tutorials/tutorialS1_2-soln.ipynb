{
 "cells": [
  {
   "cell_type": "markdown",
   "metadata": {},
   "source": [
    "# CP213: Model Solutions for Tutorial Notebook 2"
   ]
  },
  {
   "cell_type": "markdown",
   "metadata": {},
   "source": [
    "## Question 1"
   ]
  },
  {
   "cell_type": "markdown",
   "metadata": {},
   "source": [
    "The pressure drop $\\Delta p$ of a fluid of density $\\rho$ and\n",
    "viscosity $\\mu$ flowing at an mean velocity $v$ through a pipe of\n",
    "diameter $D$ and length $L$ can be determined\n",
    "through an equation relating the Reynolds number Re, which is defined as\n",
    "\\begin{align*}\n",
    "{\\rm Re} &= \\frac{D\\rho v}{\\mu}\n",
    ",\n",
    "\\end{align*}\n",
    "and the friction factor $f$, which is defined as:\n",
    "\\begin{align*}\n",
    "f &= \\frac{\\Delta p}{2 \\rho v^2} \\frac{D}{L}\n",
    ".\n",
    "\\end{align*}\n",
    "\n",
    "For ${\\rm Re}>4000$, where the fluid flow is turbulent, the friction\n",
    "factor and Reynolds number are related by the von K\\'arm\\'an-Nikuradse\n",
    "equation\n",
    "\\begin{align*}\n",
    "\\frac{1}{\\sqrt{f}} &= 4.0 \\log_{10} ({\\rm Re}\\sqrt{f}) - 0.4\n",
    ".\n",
    "\\end{align*}\n",
    "\n",
    "\n",
    "\n",
    "1. What is the pressure drop for water (with density $1000\\,{\\rm\n",
    "   kg\\,m^{-3}}$ and viscosity $10^{-3}\\,{\\rm Pa\\,s}$) flowing with a\n",
    "   mean velocity of $3\\,{\\rm m\\,s^{-1}}$ across a $1\\,{\\rm m}$ length\n",
    "   of pipe with an inner diameter of $2\\,{\\rm cm}$?\n",
    "\n",
    "2. Plot the friction factor (on the $y$-axis) against the Reynolds\n",
    "   number (on the $x$-axis) from ${\\rm Re}=4000$ to $100000$.  Use a\n",
    "   log scale for both the $x$- and $y$-axes.\n",
    "   \n",
    "3. For the system described in part 1, plot the pressure drop as a\n",
    "   function of the mean velocity up to $5\\,{\\rm m\\,s}^{-1}$.  Make sure you only include values\n",
    "   of the velocity where ${\\rm Re}>4000$.\n"
   ]
  },
  {
   "cell_type": "markdown",
   "metadata": {},
   "source": [
    "## Model solutions for Q1"
   ]
  },
  {
   "cell_type": "markdown",
   "metadata": {},
   "source": [
    "### Part 1"
   ]
  },
  {
   "cell_type": "code",
   "execution_count": null,
   "metadata": {},
   "outputs": [],
   "source": [
    "import numpy as np\n",
    "from scipy.optimize import fsolve\n",
    "\n",
    "v = 3.0\n",
    "D = 2.0e-2\n",
    "L = 1.0\n",
    "mu = 1.0e-3\n",
    "rho = 1000.0\n",
    "Re = D*rho*v/mu\n",
    "\n",
    "def res(f):\n",
    "    return 1.0/np.sqrt(f) - 4.0*np.log10(Re* np.sqrt(f)) + 0.4\n",
    "\n",
    "f_sol = fsolve(res, 0.001)\n",
    "print(Re, f_sol)\n",
    "\n",
    "Dp = 2.0 * rho * v**2 * f_sol * L/D\n",
    "\n",
    "print(f'Pressure drop = {Dp} Pa')\n"
   ]
  },
  {
   "cell_type": "markdown",
   "metadata": {},
   "source": [
    "### Part 2\n",
    "\n"
   ]
  },
  {
   "cell_type": "code",
   "execution_count": null,
   "metadata": {},
   "outputs": [],
   "source": [
    "import numpy as np\n",
    "from scipy.optimize import fsolve\n",
    "import pylab as plt\n",
    "\n",
    "\n",
    "def res(f, Re):\n",
    "    return 1.0/np.sqrt(f) - 4.0*np.log10(Re* np.sqrt(f)) - 0.4\n",
    "\n",
    "\n",
    "def func(Re):\n",
    "    f_sol = fsolve(res, 0.001, args=(Re,))\n",
    "    return f_sol\n",
    "\n",
    "\n",
    "Re_data = np.arange(4000, 100000, 100)\n",
    "f_data = [func(Re) for Re in Re_data]\n",
    "\n",
    "plt.plot(Re_data, f_data)\n",
    "plt.xlabel('Reynolds number')\n",
    "plt.ylabel('friction factor')\n",
    "plt.show()"
   ]
  },
  {
   "cell_type": "markdown",
   "metadata": {},
   "source": [
    "### Part 3"
   ]
  },
  {
   "cell_type": "code",
   "execution_count": null,
   "metadata": {},
   "outputs": [],
   "source": [
    "import numpy as np\n",
    "from scipy.optimize import fsolve\n",
    "import pylab as plt\n",
    "\n",
    "\n",
    "def res(f, Re):\n",
    "    return 1.0/np.sqrt(f) - 4.0*np.log10(Re* np.sqrt(f)) - 0.4\n",
    "\n",
    "\n",
    "def func(Re):\n",
    "    f_sol = fsolve(res, 0.001, args=(Re,))\n",
    "    return f_sol\n",
    "\n",
    "v_max = 5.0\n",
    "D = 2.0e-2\n",
    "L = 1.0\n",
    "mu = 1.0e-3\n",
    "rho = 1000.0\n",
    "\n",
    "Re_min = 4000.0\n",
    "v_min = Re_min*mu / (D*rho)\n",
    "\n",
    "\n",
    "v_data = np.linspace(v_min, v_max, 1000)\n",
    "Re_data = [D*rho*v/mu for v in v_data]\n",
    "f_data = [func(Re) for Re in Re_data]\n",
    "Dp_data = [2.0 * rho * v**2 * f * L/D for v, f in zip(v_data, f_data)]\n",
    "\n",
    "plt.plot(v_data, Dp_data)\n",
    "plt.xlabel(r'velocity / m s$^{-1}$')\n",
    "plt.ylabel(r'pressure drop / Pa')\n",
    "plt.show()"
   ]
  },
  {
   "cell_type": "code",
   "execution_count": null,
   "metadata": {},
   "outputs": [],
   "source": []
  },
  {
   "cell_type": "markdown",
   "metadata": {},
   "source": [
    "## Question 2"
   ]
  },
  {
   "cell_type": "markdown",
   "metadata": {},
   "source": [
    "\n",
    "The ideal gas molar heat capacity can be represented by the Shomate\n",
    "equation, which is given by\n",
    "\\begin{align*}\n",
    "C_p(T)\n",
    "&= A + B t + C t^2 + D t^3 + E t^{-2}\n",
    "\\end{align*}\n",
    "where $t=T/1000$, $T$ is absolute temperature in kelvin, $C_p$ is\n",
    "molar heat capacity in ${\\rm J\\,mol^{-1}\\,K^{-1}}$, and $A$, $B$, $C$,\n",
    "$D$, and $E$ are constants.\n",
    "\n",
    "The parameters of the Shomate equation for nitrogen are given below\n",
    "(taken from the [NIST\n",
    "webbook](https://webbook.nist.gov/cgi/cbook.cgi?ID=C7727379&Type=JANAFG&Table=on#JANAFG)):\n",
    "\n",
    "\n",
    "| Temperature / K | $100.$ - $500.$ | $500.$ - $2000.$ | $2000.$ - $6000.$ |\n",
    "|:--- | ---:| ---:| ---:|\n",
    "| $A$             |   $ 28.98641$ |    $ 19.50583$ |     $ 35.51872$ |\n",
    "| $B$             |   $ 1.853978$ |    $ 19.88705$ |     $ 1.128728$ |\n",
    "| $C$             |   $-9.647459$ |    $-8.598535$ |     $-0.196103$ |\n",
    "| $D$             |   $ 16.63537$ |    $ 1.369784$ |     $ 0.014662$ |\n",
    "| $E$             |   $ 0.000117$ |    $ 0.527601$ |     $-4.553760$ |\n",
    "\n",
    "\n",
    "1. Create a function that takes the temperature as an argument and\n",
    "   returns the corresponding value of the ideal gas molar heat\n",
    "   capacity.  Plot the ideal gas molar heat capacity of nitrogen with\n",
    "   temperature from $100$ to $6000\\,{\\rm K}$.\n",
    "\n",
    "2. Using the relation:\n",
    "\\begin{align*}\n",
    "H(T) &= H(T_0) + \\int_{T_0}^T dT'\\,C_p(T'),\n",
    "\\end{align*}\n",
    "   where $H$ is the molar enthalpy, create a function that takes the\n",
    "   temperature as an argument and returns the corresponding value of\n",
    "   the ideal gas enthalpy.  Take the enthalpy at $T=298.15\\,{\\rm K}$\n",
    "   to be equal to zero.  Plot the ideal gas enthalpy of nitrogen with\n",
    "   temperature from $100$ to $6000\\,{\\rm K}$.\n",
    "   "
   ]
  },
  {
   "cell_type": "markdown",
   "metadata": {},
   "source": [
    "## Model solutions for Q2"
   ]
  },
  {
   "cell_type": "code",
   "execution_count": null,
   "metadata": {},
   "outputs": [],
   "source": []
  },
  {
   "cell_type": "markdown",
   "metadata": {},
   "source": [
    "## Question 3"
   ]
  },
  {
   "cell_type": "markdown",
   "metadata": {},
   "source": [
    "Evaluate the following integrals analytically (possibly with help from an integral table) and using sympy:\n",
    "\n",
    "1. $\\displaystyle\n",
    "\\int_a^b dx\\, \\varepsilon x    \n",
    "$\n",
    "\n",
    "2. $\\displaystyle\n",
    "\\int_z^b dx\\, (\\gamma-\\varepsilon x)\n",
    "$\n",
    "\n",
    "3. $\\displaystyle   \n",
    "\\int_a^b dx\\, \\frac{\\varepsilon}{x^2}\n",
    "$\n",
    "\n",
    "4. $\\displaystyle   \n",
    "\\int_a^b dx\\, \\frac{\\varepsilon+x}{x^2}\n",
    "$\n",
    "\n",
    "5. $\\displaystyle   \n",
    "\\int_a^b dx\\, \\frac{\\gamma-x}{(\\varepsilon-x)^2}\n",
    "$\n",
    "\n",
    "6. $\\displaystyle   \n",
    "\\int_1^4 dx\\, x\\, e^x \\qquad \\mbox{Hint: use integration by parts.}\n",
    "$\n",
    "\n",
    "7. $\\displaystyle   \n",
    "\\int_0^1 dx\\, 2^x \\qquad \\mbox{Hint: use substitution.}\n",
    "$ "
   ]
  },
  {
   "cell_type": "markdown",
   "metadata": {},
   "source": [
    "## Model solution for Q3"
   ]
  },
  {
   "cell_type": "markdown",
   "metadata": {},
   "source": [
    "### Part 1\n",
    "\n",
    "$\\displaystyle\n",
    "\\int_a^b dx \\varepsilon x\n",
    "= \\frac{\\varepsilon}{2}(b^2-a^2)\n",
    "$\n"
   ]
  },
  {
   "cell_type": "code",
   "execution_count": null,
   "metadata": {},
   "outputs": [],
   "source": [
    "from sympy import *\n",
    "from sympy.interactive import printing\n",
    "printing.init_printing(use_latex=True)\n",
    "\n",
    "\n",
    "x = symbols('x')\n",
    "a, b, z, gamma, epsilon = symbols('a b z \\gamma \\epsilon')\n"
   ]
  },
  {
   "cell_type": "code",
   "execution_count": null,
   "metadata": {},
   "outputs": [],
   "source": [
    "I = integrate(epsilon*x, (x, a, b))\n",
    "print(I)\n"
   ]
  },
  {
   "cell_type": "markdown",
   "metadata": {},
   "source": [
    "### Part 2\n",
    "\n",
    "$\\displaystyle\n",
    "\\int_a^b dx (\\gamma-\\varepsilon x)\n",
    "= \\gamma(b-a)-\\frac{\\varepsilon}{2}(b^2-a^2)\n",
    "$\n"
   ]
  },
  {
   "cell_type": "code",
   "execution_count": null,
   "metadata": {},
   "outputs": [],
   "source": [
    "I = integrate(gamma-epsilon*x, (x, z, b))\n",
    "print(I)"
   ]
  },
  {
   "cell_type": "markdown",
   "metadata": {},
   "source": [
    "### Part 3\n",
    "\n",
    "$\\displaystyle   \n",
    "\\int_a^b dx \\frac{\\varepsilon}{x^2}\n",
    "= - \\varepsilon(b^{-1}-a^{-1})\n",
    "$"
   ]
  },
  {
   "cell_type": "code",
   "execution_count": null,
   "metadata": {},
   "outputs": [],
   "source": [
    "I = integrate(epsilon/x**2, (x, a, b))\n",
    "print(I)"
   ]
  },
  {
   "cell_type": "markdown",
   "metadata": {},
   "source": [
    "### Part 4\n",
    "\n",
    "$\\displaystyle   \n",
    "\\int_a^b dx \\frac{\\varepsilon+x}{x^2}\n",
    "= - \\varepsilon(b^{-1}-a^{-1}) + \\ln\\frac{b}{a}\n",
    "$"
   ]
  },
  {
   "cell_type": "code",
   "execution_count": null,
   "metadata": {},
   "outputs": [],
   "source": [
    "I = integrate((epsilon+x)/x**2, (x, a, b))\n",
    "print(I)"
   ]
  },
  {
   "cell_type": "markdown",
   "metadata": {},
   "source": [
    "### Part 5\n",
    "\n",
    "\\begin{align*}\n",
    "\\int_a^b dx\\, \\frac{\\gamma-x}{(\\varepsilon-x)^2}\n",
    "&= \\int_a^b dx\\, \\frac{\\gamma-\\varepsilon+(\\varepsilon-x)}{(\\varepsilon-x)^2}\n",
    "\\\\\n",
    "&= \\int_a^b dx\\, \\frac{\\gamma-\\varepsilon}{(\\varepsilon-x)^2}\n",
    "+ \\int_a^b \\frac{dx}{\\varepsilon-x}\n",
    "\\\\\n",
    "&= \\Bigg[\\frac{\\gamma-\\varepsilon}{\\varepsilon-x}\n",
    "- \\ln(\\varepsilon-x)\n",
    "\\Bigg]_a^b\n",
    "\\\\\n",
    "&= (\\gamma-\\varepsilon)\n",
    "\\left[\\frac{1}{\\varepsilon-b}-\\frac{1}{\\varepsilon-a}\\right]\n",
    "- \\ln\\frac{\\varepsilon-b}{\\varepsilon-a}\n",
    "\\end{align*}"
   ]
  },
  {
   "cell_type": "code",
   "execution_count": null,
   "metadata": {},
   "outputs": [],
   "source": [
    "I = integrate((gamma-x)/(epsilon-x)**2, (x, a, b))\n",
    "print(I)"
   ]
  },
  {
   "cell_type": "markdown",
   "metadata": {},
   "source": [
    "### Part 6\n",
    "\n",
    "\\begin{align*}  \n",
    "\\int_1^4 dx\\, x e^x\n",
    "&= \\int_1^4 dx\\, \\left[\n",
    "  \\frac{d}{dx}(x e^x) - e^x\\right]\n",
    "\\\\  \n",
    "&= \\left. x e^x - e^x\\right]_1^4\n",
    "= (4e^4 - e^4) - (1e^1-e^1)\n",
    "\\\\\n",
    "&= 3 e^4\n",
    "\\end{align*}"
   ]
  },
  {
   "cell_type": "code",
   "execution_count": null,
   "metadata": {},
   "outputs": [],
   "source": [
    "I = integrate(x*exp(x), (x, 1, 4))\n",
    "print(I)"
   ]
  },
  {
   "cell_type": "markdown",
   "metadata": {},
   "source": [
    "### Part 7\n",
    "\n",
    "\\begin{align*}   \n",
    "\\int_0^1 dx\\, 2^x\n",
    "&= \\int_0^1 dx\\, e^{\\ln 2^x}\n",
    "= \\int_0^1 dx\\, e^{x\\ln 2}\n",
    "\\\\\n",
    "&= \\left.\\frac{e^{x\\ln 2}}{\\ln 2}\\right]_{0^1}\n",
    "= \\frac{1}{\\ln 2}(e^{\\ln 2}- 1)\n",
    "= \\frac{1}{\\ln 2} (2-1)\n",
    "\\\\\n",
    "&= \\frac{1}{\\ln 2}\n",
    "\\end{align*}"
   ]
  },
  {
   "cell_type": "code",
   "execution_count": null,
   "metadata": {},
   "outputs": [],
   "source": [
    "I = integrate(2**x, (x, 0, 1))\n",
    "print(I)"
   ]
  },
  {
   "cell_type": "markdown",
   "metadata": {},
   "source": [
    "## Question 4"
   ]
  },
  {
   "cell_type": "markdown",
   "metadata": {},
   "source": [
    "Consider the gas-water shift reaction\n",
    "\\begin{align*}\n",
    "{\\rm \n",
    "CO(g) + H_2O(g) \\leftrightarrows CO_2(g) + H_2(g)\n",
    "}\n",
    "\\end{align*}\n",
    "\n",
    "| gas       | $M_w$        | $H_f$         | $G_f$         |\n",
    "| :--       | --:        | --:           | --:           |\n",
    "|           | g mol$^{-1}$ | kJ mol$^{-1}$ | kJ mol$^{-1}$ |\n",
    "| CO(g)     | $28.01$    | $ -110.5$     | $ -137.2$     |\n",
    "| CO$_2$(g) | $44.01$    | $ -393.3$     | $ -394.6$     |\n",
    "| H$_2$(g)  | $ 2.02$    | $    0.0$     | $    0.0$     |\n",
    "| H$_2$O(g) | $18.02$    | $ -241.8$     | $ -228.4$     |\n",
    "|           |            |               |               |\n",
    "\n",
    "\n",
    "The heat capacity of the gases can be described by the equation\n",
    "\\begin{align*}\n",
    "\\frac{C_p}{R}\n",
    "&= a_0 + a_1 T + a_2 T^2 + a_3 T^3 + a_4 T^4\n",
    "\\end{align*}\n",
    "where $T$ is the absolute temperature in kelvin,\n",
    "$R=8.314$\\,J$^{-1}$\\,mol\\,K$^{-1}$ is the ideal gas constant, and the\n",
    "coefficients $a_k$ are given in the table below.\n",
    "\n",
    "\n",
    "| gas       | $a_0$   | $a_1\\times10^3$ | $a_2\\times10^5$ | $a_3\\times10^8$ | $a_4\\times10^{11}$ |\n",
    "| :--       | --:     | --:             | --:             | --:             | --:                |\n",
    "|           |         | K$^{-1}$        | K$^{-2}$        | K$^{-3}$        |  K$^{-4}$                   |\n",
    "| CO(g)     | $3.912$ | $ -3.913$| $1.182$  | $ -1.302$       | $  0.515$          |\n",
    "| CO$_2$(g) | $3.259$ | $  1.356$| $1.502$  | $ -2.374$       | $  1.056$          |\n",
    "| H$_2$(g)  | $2.883$ | $  3.681$| $-0.772$ | $  0.692$       | $ -0.213$          |\n",
    "| H$_2$O(g) | $4.395$ | $ -4.186$| $1.405$ | $ -1.564$       | $  0.632$          |\n",
    "\n",
    "\n",
    "The information in both tables have been summarized in the dictionary `data`.  The stoichiometric coefficients (the stoichiometric coefficient for species $k$ is typically denoted by the symbol $\\nu_k$) of the reaction are held in the dictionary `nu`.  Note that product species have a positive stoichiometric coefficient, and reactant species have a negative stoichiometric coefficient.\n",
    "\n",
    "In what follows below, assume that the mixtures behave as an ideal gas.\n",
    "\n"
   ]
  },
  {
   "cell_type": "code",
   "execution_count": null,
   "metadata": {},
   "outputs": [],
   "source": [
    "R = 8.314e-3  # ideal gas constant / kJ mol^{-1} K^{-1}\n",
    "T0 = 298.15   # reference temperature / K\n",
    "p0 = 1.0e5    # reference pressure / Pa\n",
    "\n",
    "\n",
    "data = {}\n",
    "data['CO']  = {'Mw':28.01, 'Hf':-110.5, 'Gf':-137.2 }\n",
    "data['CO2'] = {'Mw':44.01, 'Hf':-393.3, 'Gf':-394.6 }\n",
    "data['H2']  = {'Mw': 2.02, 'Hf':   0.0, 'Gf':   0.0 }\n",
    "data['H2O'] = {'Mw':18.02, 'Hf':-241.8, 'Gf':-228.4 }\n",
    "\n",
    "data['CO'] ['Cp_coeff'] = [3.912, -3.913e-3,  1.182e-5, -1.302e-8,  0.515e-11]      \n",
    "data['CO2']['Cp_coeff'] = [3.259,  1.356e-3,  1.502e-5, -2.374e-8,  1.056e-11]      \n",
    "data['H2'] ['Cp_coeff'] = [2.883,  3.681e-3, -0.772e-5,  0.692e-8, -0.213e-11]      \n",
    "data['H2O']['Cp_coeff'] = [4.395, -4.186e-3,  1.405e-5, -1.564e-8,  0.632e-11]\n",
    "\n",
    "nu = {}\n",
    "nu['CO']  = -1.0\n",
    "nu['CO2'] =  1.0 \n",
    "nu['H2']  =  1.0\n",
    "nu['H2O'] = -1.0\n",
    "\n"
   ]
  },
  {
   "cell_type": "markdown",
   "metadata": {},
   "source": [
    "### Part 1: Enthalpy\n",
    "\n",
    "The enthalpy can be determined from the heat capacity:\n",
    "\\begin{align*}\n",
    "H(T) &= H_f + \\int_{T_0}^{T} dT' C_p(T')\n",
    "\\end{align*}\n",
    "\n",
    "**Task:** Using the empirical form of the heat capacity that was provided above, create a function that takes the temperature and component mole numbers as input and returns the total enthalpy of the mixture."
   ]
  },
  {
   "cell_type": "code",
   "execution_count": null,
   "metadata": {},
   "outputs": [],
   "source": [
    "import numpy as np\n",
    "T_data = np.arange(100.0, 500.0)\n",
    "\n",
    "\n",
    "moles = {'CO':1, 'CO2':2, 'H2O':0.5, 'H2':0.9}\n",
    "\n",
    "\n",
    "def get_H(T, moles):\n",
    "    H = 0.0\n",
    "    # TODO <--- your work here\n",
    "    return H\n",
    "\n",
    "H_data = [get_H(T, moles) for T in T_data]\n",
    "\n",
    "\n",
    "import pylab as plt\n",
    "\n",
    "plt.plot(T_data, H_data)\n",
    "plt.ylabel(r'enthalpy / kJ')\n",
    "plt.xlabel(r'temperature / K')\n",
    "\n",
    "plt.show()"
   ]
  },
  {
   "cell_type": "code",
   "execution_count": null,
   "metadata": {},
   "outputs": [],
   "source": []
  },
  {
   "cell_type": "code",
   "execution_count": null,
   "metadata": {},
   "outputs": [],
   "source": []
  },
  {
   "cell_type": "markdown",
   "metadata": {},
   "source": [
    "### Part 2: Enthalpy of reaction\n",
    "\n",
    "The enthalpy of reaction is given by\n",
    "\\begin{align*}\n",
    "\\Delta H_{\\rm rxn}(T)\n",
    "&= \\sum_k \\nu_k H_{f,k}(T)\n",
    ".\n",
    "\\end{align*}\n",
    "\n",
    "\n",
    "**Task:** Plot the enthalpy of reaction for the gas-water shift reaction as a function of temperature."
   ]
  },
  {
   "cell_type": "code",
   "execution_count": null,
   "metadata": {},
   "outputs": [],
   "source": [
    "import numpy as np\n",
    "T_data = np.arange(100.0, 500.0)\n",
    "\n",
    "H_data =  # TODO <--- your work here\n",
    "\n",
    "import pylab as plt\n",
    "\n",
    "plt.plot(T_data, H_data)\n",
    "plt.ylabel(r'$\\Delta H_{\\rm rxn}$ / kJ mol$^{-1}$')\n",
    "plt.xlabel(r'temperature / K')\n",
    "\n",
    "plt.show()"
   ]
  },
  {
   "cell_type": "markdown",
   "metadata": {},
   "source": [
    "## Model solution for Q5"
   ]
  },
  {
   "cell_type": "markdown",
   "metadata": {},
   "source": [
    "### Part 1\n",
    "\n",
    "The enthalpy can be determined from the heat capacity:\n",
    "\\begin{align*}\n",
    "H(T) &= H_f + \\int_{T_f}^{T} dT' C_p(T')\n",
    "\\\\\n",
    "&= \\sum_k N_k H_{f, k} + \\int_{T_f}^{T} dT' \\sum_k N_k C_{p,k}(T')\n",
    "\\\\\n",
    "&= \\sum_k N_k H_{f, k} +  \\sum_k N_k \\int_{T_f}^{T} dT' C_{p,k}(T')\n",
    "\\\\\n",
    "&= \\sum_k N_k H_{f, k} \n",
    "+ \\sum_k N_k \\int_{T_f}^{T} dT' \n",
    "  \\Bigg[\\sum_{n=0} Ra_{n,k} T'^n \\Bigg]\n",
    "\\\\\n",
    "&= \\sum_k N_k H_{f, k} \n",
    "+ R\\sum_k N_k \\sum_{n=0} \\frac{a_{n,k}}{n+1}\n",
    "  \\Bigg[T'^{n+1}\\Bigg]_{T_f}^{T}\n",
    "\\\\\n",
    "&= \\sum_k N_k H_{f, k} \n",
    "+ R\\sum_k N_k \\sum_{n=0} \\frac{a_{n,k}}{n+1}\n",
    "  (T^{n+1}-T_f^{n+1})\n",
    "\\\\\n",
    "&= \\sum_k N_k \\Bigg[\n",
    "  H_{f, k} \n",
    "+ R\\sum_{n=0} \\frac{a_{n,k}}{n+1}\n",
    "  (T^{n+1}-T_f^{n+1})\\Bigg]\n",
    "\\end{align*}\n",
    "Note that we can write the enthalpy for an ideal gas mixture as the sum of the contributions from the individual components in the system."
   ]
  },
  {
   "cell_type": "code",
   "execution_count": null,
   "metadata": {},
   "outputs": [],
   "source": [
    "import numpy as np\n",
    "T_data = np.arange(100.0, 500.0)\n",
    "\n",
    "T = 200.0\n",
    "\n",
    "moles = {'CO':1, 'CO2':2, 'H2O':0.5, 'H2':0.9}\n",
    "\n",
    "def get_H(T, moles):\n",
    "    H = 0.0\n",
    "    for molecule, coeff in nu.items():\n",
    "        Nk = moles[molecule]\n",
    "        Hf = data[molecule]['Hf']  # H_f is in kJ mol^{-1}\n",
    "        a_list = data[molecule]['Cp_coeff']\n",
    "        Hk = Hf\n",
    "        for n in range(len(a_list)):\n",
    "            Hk += R*a_list[n]*(T**(n+1)-T0**(n+1))\n",
    "        H += Nk*Hk\n",
    "    return H\n",
    "\n",
    "H_data = [get_H(T, moles) for T in T_data]\n",
    "\n",
    "import pylab as plt\n",
    "\n",
    "plt.plot(T_data, H_data)\n",
    "plt.ylabel(r'enthalpy / kJ')\n",
    "plt.xlabel(r'temperature / K')\n",
    "\n",
    "plt.show()"
   ]
  },
  {
   "cell_type": "markdown",
   "metadata": {},
   "source": [
    "### Part 2"
   ]
  },
  {
   "cell_type": "code",
   "execution_count": null,
   "metadata": {},
   "outputs": [],
   "source": [
    "import numpy as np\n",
    "T_data = np.arange(100.0, 500.0)\n",
    "\n",
    "H_data = [get_H(T, nu) for T in T_data]\n",
    "\n",
    "import pylab as plt\n",
    "\n",
    "plt.plot(T_data, H_data)\n",
    "plt.ylabel(r'$\\Delta H_{\\rm rxn}$ / kJ mol$^{-1}$')\n",
    "plt.xlabel(r'temperature / K')\n",
    "\n",
    "plt.show()"
   ]
  },
  {
   "cell_type": "code",
   "execution_count": null,
   "metadata": {},
   "outputs": [],
   "source": []
  }
 ],
 "metadata": {
  "kernelspec": {
   "display_name": "Python 3",
   "language": "python",
   "name": "python3"
  },
  "language_info": {
   "codemirror_mode": {
    "name": "ipython",
    "version": 3
   },
   "file_extension": ".py",
   "mimetype": "text/x-python",
   "name": "python",
   "nbconvert_exporter": "python",
   "pygments_lexer": "ipython3",
   "version": "3.9.6"
  }
 },
 "nbformat": 4,
 "nbformat_minor": 4
}
