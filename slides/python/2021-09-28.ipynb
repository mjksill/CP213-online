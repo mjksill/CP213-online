{
 "cells": [
  {
   "cell_type": "markdown",
   "id": "403af782",
   "metadata": {},
   "source": [
    "# More features in Python\n",
    "\n",
    "- conditionals\n",
    "- functions\n",
    "- numerically solving algebraic equations\n",
    "- symbolic algebra"
   ]
  },
  {
   "cell_type": "markdown",
   "id": "fba0a167",
   "metadata": {},
   "source": [
    "## Conditionals"
   ]
  },
  {
   "cell_type": "code",
   "execution_count": 6,
   "id": "c831b1f3",
   "metadata": {},
   "outputs": [
    {
     "name": "stdout",
     "output_type": "stream",
     "text": [
      "True\n"
     ]
    }
   ],
   "source": [
    "y = 6\n",
    "\n",
    "x = 5 < y\n",
    "print(x)\n"
   ]
  },
  {
   "cell_type": "code",
   "execution_count": 18,
   "id": "a92377da",
   "metadata": {},
   "outputs": [
    {
     "name": "stdout",
     "output_type": "stream",
     "text": [
      "good bye\n",
      "after all\n"
     ]
    }
   ],
   "source": [
    "y = 2\n",
    "if (5 < y):\n",
    "    print('hello')\n",
    "elif (y < 1):\n",
    "    print('middle')\n",
    "else:\n",
    "    print('good bye')\n",
    "print('after all')"
   ]
  },
  {
   "cell_type": "code",
   "execution_count": 4,
   "id": "3533f10f",
   "metadata": {},
   "outputs": [
    {
     "data": {
      "image/png": "[encoded data removed]",
      "text/plain": [
       "<Figure size 432x288 with 1 Axes>"
      ]
     },
     "metadata": {
      "needs_background": "light"
     },
     "output_type": "display_data"
    }
   ],
   "source": [
    "import numpy as np\n",
    "\n",
    "t_list = np.arange(5, 200, 5)\n",
    "#t = 500.0 # temperature in celcius\n",
    "\n",
    "p_list = []\n",
    "for t in t_list:\n",
    "\n",
    "    if (t >= 1 and t < 100.0):\n",
    "        A = 8.07131\n",
    "        B = 1730.63\n",
    "        C = 233.426\n",
    "    elif (t >= 100 and t<374):\n",
    "        A = 8.14019\n",
    "        B = 1810.94\n",
    "        C = 244.485\n",
    "    else:\n",
    "        print('error: temperature out of range')\n",
    "\n",
    "\n",
    "    log_p = A - B/(t+C)\n",
    "    p = 10.0**log_p\n",
    "    p_list.append(p)\n",
    "    #print(t, p)\n",
    "\n",
    "    \n",
    "import pylab as plt\n",
    "plt.plot(t_list, p_list)\n",
    "plt.show()"
   ]
  },
  {
   "cell_type": "markdown",
   "id": "e8d951ed",
   "metadata": {},
   "source": [
    "## Functions"
   ]
  },
  {
   "cell_type": "code",
   "execution_count": 10,
   "id": "631e9f1a",
   "metadata": {},
   "outputs": [
    {
     "name": "stdout",
     "output_type": "stream",
     "text": [
      "hello\n",
      "25\n"
     ]
    }
   ],
   "source": [
    "def f(x):\n",
    "    print('hello')\n",
    "    return x**2\n",
    "\n",
    "w = 5\n",
    "y = f(w)\n",
    "print(y)"
   ]
  },
  {
   "cell_type": "code",
   "execution_count": 14,
   "id": "ffff2dc4",
   "metadata": {},
   "outputs": [
    {
     "name": "stdout",
     "output_type": "stream",
     "text": [
      "92.29988808037632\n"
     ]
    },
    {
     "data": {
      "image/png": "[encoded data removed]",
      "text/plain": [
       "<Figure size 432x288 with 1 Axes>"
      ]
     },
     "metadata": {
      "needs_background": "light"
     },
     "output_type": "display_data"
    }
   ],
   "source": [
    "def myfunction(t):\n",
    "    \n",
    "    if (t >= 1 and t < 100.0):\n",
    "        A = 8.07131\n",
    "        B = 1730.63\n",
    "        C = 233.426\n",
    "    elif (t >= 100 and t<374):\n",
    "        A = 8.14019\n",
    "        B = 1810.94\n",
    "        C = 244.485\n",
    "    else:\n",
    "        print('error: temperature out of range')\n",
    "\n",
    "\n",
    "    log_p = A - B/(t+C)\n",
    "    p = 10.0**log_p\n",
    "    \n",
    "    return p\n",
    "    \n",
    "w = myfunction(50)   \n",
    "print(w)\n",
    "\n",
    "\n",
    "t_list = np.arange(5, 200, 5)\n",
    "p_list = []\n",
    "for t in t_list:\n",
    "    w = myfunction(t)\n",
    "    p_list.append(w)\n",
    "    \n",
    "import pylab as plt\n",
    "plt.plot(t_list, p_list)\n",
    "plt.show()"
   ]
  },
  {
   "cell_type": "code",
   "execution_count": 21,
   "id": "70d9b00c",
   "metadata": {},
   "outputs": [
    {
     "name": "stdout",
     "output_type": "stream",
     "text": [
      "{'N2': 2212, 'O2': 672, 'CH4': 320}\n",
      "{'N2': 0.6903870162297129, 'O2': 0.20973782771535582, 'CH4': 0.09987515605493133}\n"
     ]
    }
   ],
   "source": [
    "\n",
    "\n",
    "def moles_to_mass(N, M):\n",
    "    mass_dict = {}\n",
    "    for mol, mole_number in N.items():\n",
    "        mass_dict[mol] = mole_number * M[mol]\n",
    "    return mass_dict\n",
    "\n",
    "def moles_to_massfraction(N, M):\n",
    "    mass_dict = {}\n",
    "    for mol, mole_number in N.items():\n",
    "        mass_dict[mol] = mole_number * M[mol]\n",
    "    total_mass = sum(mass_dict.values())\n",
    "    \n",
    "    w_dict = {}\n",
    "    for mol, mass in mass_dict.items():\n",
    "        w_dict[mol] = mass/total_mass\n",
    "    \n",
    "    return w_dict\n",
    "\n",
    "\n",
    "moles = {'N2':79, 'O2':21, 'CH4': 20}\n",
    "molecularweight = {'N2':28, 'O2':32, 'CH4':16}\n",
    "\n",
    "m_dict = moles_to_mass(moles, molecularweight)\n",
    "w_dict = moles_to_massfraction(moles, molecularweight)\n",
    "print(m_dict)\n",
    "print(w_dict)\n"
   ]
  },
  {
   "cell_type": "code",
   "execution_count": null,
   "id": "8492e6db",
   "metadata": {},
   "outputs": [],
   "source": []
  },
  {
   "cell_type": "code",
   "execution_count": null,
   "id": "1b37984d",
   "metadata": {},
   "outputs": [],
   "source": []
  },
  {
   "cell_type": "code",
   "execution_count": null,
   "id": "4e56d3f7",
   "metadata": {},
   "outputs": [],
   "source": []
  },
  {
   "cell_type": "markdown",
   "id": "1b15e879",
   "metadata": {},
   "source": [
    "## Numerically solving algebraic equations"
   ]
  },
  {
   "cell_type": "code",
   "execution_count": 25,
   "id": "c2cb8a09",
   "metadata": {},
   "outputs": [
    {
     "data": {
      "image/png": "[encoded data removed]",
      "text/plain": [
       "<Figure size 432x288 with 1 Axes>"
      ]
     },
     "metadata": {
      "needs_background": "light"
     },
     "output_type": "display_data"
    }
   ],
   "source": [
    "from scipy.optimize import fsolve\n",
    "import numpy as np\n",
    "\n",
    "#x = exp(-x)\n",
    "# x - exp(-x) = 0\n",
    "\n",
    "x_data = np.arange(-2, 2, 0.01)\n",
    "f_left = [x for x in x_data]\n",
    "f_right = [np.exp(-x) for x in x_data]\n",
    "f_data = [x-np.exp(-x) for x in x_data]\n",
    "\n",
    "#plt.plot(x_data, f_left)\n",
    "#plt.plot(x_data, f_right)\n",
    "plt.plot(x_data, f_data)\n",
    "plt.show()\n",
    "\n"
   ]
  },
  {
   "cell_type": "code",
   "execution_count": 32,
   "id": "6e0a2f63",
   "metadata": {},
   "outputs": [
    {
     "data": {
      "image/png": "[encoded data removed]",
      "text/plain": [
       "<Figure size 432x288 with 1 Axes>"
      ]
     },
     "metadata": {
      "needs_background": "light"
     },
     "output_type": "display_data"
    },
    {
     "name": "stdout",
     "output_type": "stream",
     "text": [
      "[4.79128785]\n",
      "[1.77635684e-14]\n"
     ]
    }
   ],
   "source": [
    "def f(x):\n",
    "    return x**2 - 5*x + 1\n",
    "\n",
    "\n",
    "x_data = np.arange(0, 10, 0.01)\n",
    "f_data = [f(x) for x in x_data]\n",
    "\n",
    "\n",
    "plt.plot(x_data, f_data)\n",
    "plt.show()\n",
    "\n",
    "\n",
    "x0 = 10\n",
    "solution = fsolve(f, x0)\n",
    "print(solution)\n",
    "\n",
    "print(f(solution))\n",
    "\n",
    "\n",
    "\n"
   ]
  },
  {
   "cell_type": "code",
   "execution_count": 34,
   "id": "19e95cfe",
   "metadata": {},
   "outputs": [
    {
     "name": "stdout",
     "output_type": "stream",
     "text": [
      "[-0.70710678 -0.70710678]\n"
     ]
    }
   ],
   "source": [
    "#x0^2 + x1^2 = 1\n",
    "#x0 = x1\n",
    "\n",
    "# x0^2 + x1^2 - 1 = 0\n",
    "# x0 - x1 = 0\n",
    "\n",
    "def f(x):\n",
    "    return [x[0]**2 + x[1]**2 - 1, x[0]-x[1] ]\n",
    "\n",
    "\n",
    "\n",
    "x_guess = [-1.0, -1.0]    \n",
    "solution = fsolve(f, x_guess)\n",
    "print(solution)"
   ]
  },
  {
   "cell_type": "markdown",
   "id": "da8c71fc",
   "metadata": {},
   "source": [
    "## Symbolic algebra"
   ]
  },
  {
   "cell_type": "code",
   "execution_count": 43,
   "id": "7331e1e9",
   "metadata": {},
   "outputs": [
    {
     "name": "stdout",
     "output_type": "stream",
     "text": [
      "Piecewise(((-a**2*x**2 - 2*a*x - 2)*exp(-a*x)/a**3, Ne(a**3, 0)), (x**3/3, True))\n",
      "Piecewise((-(-a**2*x**2 - 2*a*x - 2)*exp(-a*x)/a**2 + (-2*a**2*x - 2*a)*exp(-a*x)/a**3, Ne(a**3, 0)), (x**2, True))\n"
     ]
    }
   ],
   "source": [
    "import sympy as sp\n",
    "\n",
    "x = sp.symbols('x')\n",
    "a = sp.symbols('a')\n",
    "\n",
    "F = x**2 * sp.exp(-a*x)\n",
    "\n",
    "I = sp.integrate(F, x)\n",
    "print(I)\n",
    "\n",
    "f = sp.diff(I, x)\n",
    "print(f)\n",
    "\n"
   ]
  },
  {
   "cell_type": "code",
   "execution_count": 46,
   "id": "834a2000",
   "metadata": {},
   "outputs": [
    {
     "name": "stdout",
     "output_type": "stream",
     "text": [
      "-log(cos(x))\n"
     ]
    }
   ],
   "source": [
    "f = sp.tan(x)\n",
    "\n",
    "I = sp.integrate(f, x)\n",
    "print(I)"
   ]
  },
  {
   "cell_type": "code",
   "execution_count": null,
   "id": "349b832a",
   "metadata": {},
   "outputs": [],
   "source": []
  },
  {
   "cell_type": "code",
   "execution_count": null,
   "id": "296f2a9a",
   "metadata": {},
   "outputs": [],
   "source": []
  },
  {
   "cell_type": "code",
   "execution_count": null,
   "id": "46619dc0",
   "metadata": {},
   "outputs": [],
   "source": []
  }
 ],
 "metadata": {
  "kernelspec": {
   "display_name": "Python 3",
   "language": "python",
   "name": "python3"
  },
  "language_info": {
   "codemirror_mode": {
    "name": "ipython",
    "version": 3
   },
   "file_extension": ".py",
   "mimetype": "text/x-python",
   "name": "python",
   "nbconvert_exporter": "python",
   "pygments_lexer": "ipython3",
   "version": "3.9.6"
  }
 },
 "nbformat": 4,
 "nbformat_minor": 5
}
